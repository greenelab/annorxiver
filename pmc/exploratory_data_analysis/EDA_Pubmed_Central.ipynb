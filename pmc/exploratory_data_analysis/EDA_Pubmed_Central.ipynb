{
 "cells": [
  {
   "cell_type": "markdown",
   "metadata": {},
   "source": [
    "# Pubmed Central (PMC) Exploratory Data Analysis"
   ]
  },
  {
   "cell_type": "markdown",
   "metadata": {},
   "source": [
    "This notebook is designed to generate descriptive statistics for the PMC repository."
   ]
  },
  {
   "cell_type": "code",
   "execution_count": 1,
   "metadata": {
    "ExecuteTime": {
     "end_time": "2020-04-05T14:43:14.058129Z",
     "start_time": "2020-04-05T14:43:06.256132Z"
    }
   },
   "outputs": [],
   "source": [
    "import os\n",
    "from pathlib import Path \n",
    "from collections import Counter\n",
    "\n",
    "import pandas as pd\n",
    "import plotnine as p9\n",
    "import lxml.etree as ET\n",
    "import tqdm"
   ]
  },
  {
   "cell_type": "markdown",
   "metadata": {},
   "source": [
    "# Journal Statistics"
   ]
  },
  {
   "cell_type": "markdown",
   "metadata": {},
   "source": [
    "Gather a listing of journals contained in PMC."
   ]
  },
  {
   "cell_type": "code",
   "execution_count": 2,
   "metadata": {
    "ExecuteTime": {
     "end_time": "2020-02-05T21:07:30.895085Z",
     "start_time": "2020-02-05T21:07:25.303182Z"
    }
   },
   "outputs": [],
   "source": [
    "journals = Path(\"../journals\").rglob(\"*.nxml\")"
   ]
  },
  {
   "cell_type": "code",
   "execution_count": 3,
   "metadata": {
    "ExecuteTime": {
     "end_time": "2020-02-05T21:07:33.640725Z",
     "start_time": "2020-02-05T21:07:30.896395Z"
    }
   },
   "outputs": [],
   "source": [
    "journal_paper_count = Counter(map(lambda x: os.path.dirname(x).split(\"/\")[1], journals))\n",
    "journal_records = [{\n",
    "    'journal':item[0],\n",
    "    'article_count':item[1]\n",
    "    }\n",
    "    for item in journal_paper_count.items()\n",
    "]"
   ]
  },
  {
   "cell_type": "code",
   "execution_count": 4,
   "metadata": {
    "ExecuteTime": {
     "end_time": "2020-02-05T21:07:33.663491Z",
     "start_time": "2020-02-05T21:07:33.642025Z"
    }
   },
   "outputs": [
    {
     "data": {
      "text/html": [
       "<div>\n",
       "<style scoped>\n",
       "    .dataframe tbody tr th:only-of-type {\n",
       "        vertical-align: middle;\n",
       "    }\n",
       "\n",
       "    .dataframe tbody tr th {\n",
       "        vertical-align: top;\n",
       "    }\n",
       "\n",
       "    .dataframe thead th {\n",
       "        text-align: right;\n",
       "    }\n",
       "</style>\n",
       "<table border=\"1\" class=\"dataframe\">\n",
       "  <thead>\n",
       "    <tr style=\"text-align: right;\">\n",
       "      <th></th>\n",
       "      <th>journal</th>\n",
       "      <th>article_count</th>\n",
       "    </tr>\n",
       "  </thead>\n",
       "  <tbody>\n",
       "    <tr>\n",
       "      <td>0</td>\n",
       "      <td>20_Century_Br_Hist</td>\n",
       "      <td>2</td>\n",
       "    </tr>\n",
       "    <tr>\n",
       "      <td>1</td>\n",
       "      <td>3D_Print_Med</td>\n",
       "      <td>55</td>\n",
       "    </tr>\n",
       "    <tr>\n",
       "      <td>2</td>\n",
       "      <td>3_Biotech</td>\n",
       "      <td>640</td>\n",
       "    </tr>\n",
       "    <tr>\n",
       "      <td>3</td>\n",
       "      <td>AAPS_J</td>\n",
       "      <td>64</td>\n",
       "    </tr>\n",
       "    <tr>\n",
       "      <td>4</td>\n",
       "      <td>AAPS_Open</td>\n",
       "      <td>1</td>\n",
       "    </tr>\n",
       "  </tbody>\n",
       "</table>\n",
       "</div>"
      ],
      "text/plain": [
       "              journal  article_count\n",
       "0  20_Century_Br_Hist              2\n",
       "1        3D_Print_Med             55\n",
       "2           3_Biotech            640\n",
       "3              AAPS_J             64\n",
       "4           AAPS_Open              1"
      ]
     },
     "execution_count": 4,
     "metadata": {},
     "output_type": "execute_result"
    }
   ],
   "source": [
    "journal_df = (\n",
    "    pd.DataFrame\n",
    "    .from_records(journal_records)\n",
    "    .sort_values(\"journal\")\n",
    "    .reset_index(drop=True)\n",
    ")\n",
    "journal_df.head()"
   ]
  },
  {
   "cell_type": "markdown",
   "metadata": {},
   "source": [
    "## Map Journals to PMC articles"
   ]
  },
  {
   "cell_type": "code",
   "execution_count": 5,
   "metadata": {
    "ExecuteTime": {
     "end_time": "2020-02-06T01:56:52.239963Z",
     "start_time": "2020-02-05T21:07:33.664703Z"
    }
   },
   "outputs": [
    {
     "data": {
      "application/vnd.jupyter.widget-view+json": {
       "model_id": "d33fdf5c35864007b69e7c27a2c576a5",
       "version_major": 2,
       "version_minor": 0
      },
      "text/plain": [
       "HBox(children=(IntProgress(value=0, max=2719183), HTML(value='')))"
      ]
     },
     "metadata": {},
     "output_type": "display_data"
    },
    {
     "name": "stdout",
     "output_type": "stream",
     "text": [
      "\n"
     ]
    }
   ],
   "source": [
    "journal_type_records = []\n",
    "for file in tqdm.tqdm_notebook(journals):\n",
    "    journal = os.path.dirname(file).split(\"/\")[1]\n",
    "    tree = ET.parse(file)\n",
    "    root = tree.getroot()\n",
    "    journal_type_records.append({\n",
    "        'journal': journal,\n",
    "        'article_type': root.attrib['article-type'].strip(),\n",
    "        'pmcid':os.path.splitext(os.path.basename(file))[0]\n",
    "    })"
   ]
  },
  {
   "cell_type": "code",
   "execution_count": 6,
   "metadata": {
    "ExecuteTime": {
     "end_time": "2020-02-06T01:56:58.335246Z",
     "start_time": "2020-02-06T01:56:52.316834Z"
    }
   },
   "outputs": [
    {
     "data": {
      "text/html": [
       "<div>\n",
       "<style scoped>\n",
       "    .dataframe tbody tr th:only-of-type {\n",
       "        vertical-align: middle;\n",
       "    }\n",
       "\n",
       "    .dataframe tbody tr th {\n",
       "        vertical-align: top;\n",
       "    }\n",
       "\n",
       "    .dataframe thead th {\n",
       "        text-align: right;\n",
       "    }\n",
       "</style>\n",
       "<table border=\"1\" class=\"dataframe\">\n",
       "  <thead>\n",
       "    <tr style=\"text-align: right;\">\n",
       "      <th></th>\n",
       "      <th>journal</th>\n",
       "      <th>article_type</th>\n",
       "      <th>pmcid</th>\n",
       "    </tr>\n",
       "  </thead>\n",
       "  <tbody>\n",
       "    <tr>\n",
       "      <td>0</td>\n",
       "      <td>Environ_Health</td>\n",
       "      <td>research-article</td>\n",
       "      <td>PMC1552054</td>\n",
       "    </tr>\n",
       "    <tr>\n",
       "      <td>1</td>\n",
       "      <td>Environ_Health</td>\n",
       "      <td>research-article</td>\n",
       "      <td>PMC1226148</td>\n",
       "    </tr>\n",
       "    <tr>\n",
       "      <td>2</td>\n",
       "      <td>Environ_Health</td>\n",
       "      <td>correction</td>\n",
       "      <td>PMC6124016</td>\n",
       "    </tr>\n",
       "    <tr>\n",
       "      <td>3</td>\n",
       "      <td>Environ_Health</td>\n",
       "      <td>research-article</td>\n",
       "      <td>PMC5635510</td>\n",
       "    </tr>\n",
       "    <tr>\n",
       "      <td>4</td>\n",
       "      <td>Environ_Health</td>\n",
       "      <td>research-article</td>\n",
       "      <td>PMC3125232</td>\n",
       "    </tr>\n",
       "  </tbody>\n",
       "</table>\n",
       "</div>"
      ],
      "text/plain": [
       "          journal      article_type       pmcid\n",
       "0  Environ_Health  research-article  PMC1552054\n",
       "1  Environ_Health  research-article  PMC1226148\n",
       "2  Environ_Health        correction  PMC6124016\n",
       "3  Environ_Health  research-article  PMC5635510\n",
       "4  Environ_Health  research-article  PMC3125232"
      ]
     },
     "execution_count": 6,
     "metadata": {},
     "output_type": "execute_result"
    }
   ],
   "source": [
    "journal_paper_df = pd.DataFrame.from_records(journal_type_records)\n",
    "journal_paper_df.to_csv(\"output/pubmed_central_journal_paper_map.tsv.xz\", sep=\"\\t\", index=False, compression=\"xz\")\n",
    "journal_paper_df.head()"
   ]
  },
  {
   "cell_type": "code",
   "execution_count": 7,
   "metadata": {
    "ExecuteTime": {
     "end_time": "2020-02-06T01:56:58.517705Z",
     "start_time": "2020-02-06T01:56:58.336544Z"
    }
   },
   "outputs": [
    {
     "data": {
      "text/plain": [
       "(9393,)"
      ]
     },
     "execution_count": 7,
     "metadata": {},
     "output_type": "execute_result"
    }
   ],
   "source": [
    "journal_paper_df.journal.unique().shape"
   ]
  },
  {
   "cell_type": "markdown",
   "metadata": {},
   "source": [
    "# Types of Articles Contained in PMC"
   ]
  },
  {
   "cell_type": "code",
   "execution_count": 3,
   "metadata": {
    "ExecuteTime": {
     "end_time": "2020-04-05T14:44:01.873316Z",
     "start_time": "2020-04-05T14:43:41.077780Z"
    }
   },
   "outputs": [
    {
     "name": "stderr",
     "output_type": "stream",
     "text": [
      "/home/danich1/anaconda3/envs/annorxiver/lib/python3.7/site-packages/plotnine/ggplot.py:729: PlotnineWarning: Saving 6.4 x 4.8 in image.\n",
      "  from_inches(height, units), units), PlotnineWarning)\n",
      "/home/danich1/anaconda3/envs/annorxiver/lib/python3.7/site-packages/plotnine/ggplot.py:730: PlotnineWarning: Filename: output/figures/article_sections.png\n",
      "  warn('Filename: {}'.format(filename), PlotnineWarning)\n"
     ]
    },
    {
     "data": {
      "image/png": "[encoded data removed]",
      "text/plain": [
       "<Figure size 640x480 with 1 Axes>"
      ]
     },
     "metadata": {},
     "output_type": "display_data"
    },
    {
     "name": "stdout",
     "output_type": "stream",
     "text": [
      "<ggplot: (8794172979313)>\n"
     ]
    }
   ],
   "source": [
    "journal_article_type_list = journal_paper_df['article_type'].value_counts().index.tolist()[::-1]\n",
    "journal_article_type_list = journal_article_type_list[-15:]\n",
    "\n",
    "g = (\n",
    "    p9.ggplot(journal_paper_df.query(f\"article_type in {journal_article_type_list}\"))\n",
    "    + p9.aes(x=\"article_type\")\n",
    "    + p9.geom_bar(position=\"dodge\")\n",
    "    + p9.scale_x_discrete(limits=journal_article_type_list)\n",
    "    + p9.coord_flip()\n",
    "    + p9.theme_bw()\n",
    ")\n",
    "g.save(\"output/figures/article_type.png\", dpi=500)\n",
    "print(g)"
   ]
  }
 ],
 "metadata": {
  "kernelspec": {
   "display_name": "Python [conda env:annorxiver]",
   "language": "python",
   "name": "conda-env-annorxiver-py"
  },
  "language_info": {
   "codemirror_mode": {
    "name": "ipython",
    "version": 3
   },
   "file_extension": ".py",
   "mimetype": "text/x-python",
   "name": "python",
   "nbconvert_exporter": "python",
   "pygments_lexer": "ipython3",
   "version": "3.7.2"
  },
  "toc": {
   "base_numbering": 1,
   "nav_menu": {},
   "number_sections": true,
   "sideBar": true,
   "skip_h1_title": false,
   "title_cell": "Table of Contents",
   "title_sidebar": "Contents",
   "toc_cell": false,
   "toc_position": {},
   "toc_section_display": true,
   "toc_window_display": false
  },
  "varInspector": {
   "cols": {
    "lenName": 16,
    "lenType": 16,
    "lenVar": 40
   },
   "kernels_config": {
    "python": {
     "delete_cmd_postfix": "",
     "delete_cmd_prefix": "del ",
     "library": "var_list.py",
     "varRefreshCmd": "print(var_dic_list())"
    },
    "r": {
     "delete_cmd_postfix": ") ",
     "delete_cmd_prefix": "rm(",
     "library": "var_list.r",
     "varRefreshCmd": "cat(var_dic_list()) "
    }
   },
   "types_to_exclude": [
    "module",
    "function",
    "builtin_function_or_method",
    "instance",
    "_Feature"
   ],
   "window_display": false
  }
 },
 "nbformat": 4,
 "nbformat_minor": 2
}
