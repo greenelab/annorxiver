{
 "cells": [
  {
   "cell_type": "markdown",
   "metadata": {},
   "source": [
    "# Calculate Odds Ratios for each Square Bin"
   ]
  },
  {
   "cell_type": "code",
   "execution_count": 1,
   "metadata": {
    "ExecuteTime": {
     "end_time": "2021-04-21T23:00:35.242728Z",
     "start_time": "2021-04-21T23:00:33.798406Z"
    }
   },
   "outputs": [],
   "source": [
    "%load_ext autoreload\n",
    "%autoreload 2\n",
    "\n",
    "import csv\n",
    "from collections import Counter, defaultdict\n",
    "import json\n",
    "import lzma\n",
    "from multiprocessing import Process, Manager\n",
    "from pathlib import Path\n",
    "import pickle\n",
    "import re\n",
    "import sys\n",
    "from threading import Thread\n",
    "\n",
    "import numpy as np\n",
    "import pandas as pd\n",
    "from tqdm import tqdm_notebook\n",
    "\n",
    "from annorxiver_modules.corpora_comparison_helper import (\n",
    "    aggregate_word_counts,\n",
    "    get_term_statistics,\n",
    ")\n",
    "\n",
    "from annorxiver_modules.word_bin_helper import lemmatize_tokens, write_lemma_counts"
   ]
  },
  {
   "cell_type": "markdown",
   "metadata": {},
   "source": [
    "# Gather Paper Bins Dataframe"
   ]
  },
  {
   "cell_type": "code",
   "execution_count": 2,
   "metadata": {
    "ExecuteTime": {
     "end_time": "2021-04-21T23:00:36.541410Z",
     "start_time": "2021-04-21T23:00:35.244045Z"
    }
   },
   "outputs": [
    {
     "name": "stdout",
     "output_type": "stream",
     "text": [
      "(1809901, 5)\n"
     ]
    },
    {
     "data": {
      "text/html": [
       "<div>\n",
       "<style scoped>\n",
       "    .dataframe tbody tr th:only-of-type {\n",
       "        vertical-align: middle;\n",
       "    }\n",
       "\n",
       "    .dataframe tbody tr th {\n",
       "        vertical-align: top;\n",
       "    }\n",
       "\n",
       "    .dataframe thead th {\n",
       "        text-align: right;\n",
       "    }\n",
       "</style>\n",
       "<table border=\"1\" class=\"dataframe\">\n",
       "  <thead>\n",
       "    <tr style=\"text-align: right;\">\n",
       "      <th></th>\n",
       "      <th>dim1</th>\n",
       "      <th>dim2</th>\n",
       "      <th>journal</th>\n",
       "      <th>document</th>\n",
       "      <th>squarebin_id</th>\n",
       "    </tr>\n",
       "  </thead>\n",
       "  <tbody>\n",
       "    <tr>\n",
       "      <th>0</th>\n",
       "      <td>18.007381</td>\n",
       "      <td>-18.416918</td>\n",
       "      <td>Med_Hist_Suppl</td>\n",
       "      <td>PMC2557413</td>\n",
       "      <td>0</td>\n",
       "    </tr>\n",
       "    <tr>\n",
       "      <th>1</th>\n",
       "      <td>18.007381</td>\n",
       "      <td>-18.416918</td>\n",
       "      <td>Med_Hist_Suppl</td>\n",
       "      <td>PMC2530993</td>\n",
       "      <td>0</td>\n",
       "    </tr>\n",
       "    <tr>\n",
       "      <th>2</th>\n",
       "      <td>18.007381</td>\n",
       "      <td>-18.416918</td>\n",
       "      <td>Med_Hist_Suppl</td>\n",
       "      <td>PMC2557483</td>\n",
       "      <td>0</td>\n",
       "    </tr>\n",
       "    <tr>\n",
       "      <th>3</th>\n",
       "      <td>18.007381</td>\n",
       "      <td>-18.416918</td>\n",
       "      <td>Med_Hist_Suppl</td>\n",
       "      <td>PMC2642002</td>\n",
       "      <td>0</td>\n",
       "    </tr>\n",
       "    <tr>\n",
       "      <th>4</th>\n",
       "      <td>18.007381</td>\n",
       "      <td>-18.416918</td>\n",
       "      <td>Med_Hist_Suppl</td>\n",
       "      <td>PMC2530995</td>\n",
       "      <td>0</td>\n",
       "    </tr>\n",
       "  </tbody>\n",
       "</table>\n",
       "</div>"
      ],
      "text/plain": [
       "        dim1       dim2         journal    document  squarebin_id\n",
       "0  18.007381 -18.416918  Med_Hist_Suppl  PMC2557413             0\n",
       "1  18.007381 -18.416918  Med_Hist_Suppl  PMC2530993             0\n",
       "2  18.007381 -18.416918  Med_Hist_Suppl  PMC2557483             0\n",
       "3  18.007381 -18.416918  Med_Hist_Suppl  PMC2642002             0\n",
       "4  18.007381 -18.416918  Med_Hist_Suppl  PMC2530995             0"
      ]
     },
     "execution_count": 2,
     "metadata": {},
     "output_type": "execute_result"
    }
   ],
   "source": [
    "pmc_df = pd.read_csv(\"output/paper_dataset/paper_dataset_tsne_square.tsv\", sep=\"\\t\")\n",
    "print(pmc_df.shape)\n",
    "pmc_df.head()"
   ]
  },
  {
   "cell_type": "code",
   "execution_count": 3,
   "metadata": {
    "ExecuteTime": {
     "end_time": "2021-04-21T23:00:36.559762Z",
     "start_time": "2021-04-21T23:00:36.543995Z"
    }
   },
   "outputs": [],
   "source": [
    "word_count_folder = Path(\"../pmc_corpus/pmc_word_counts/\")"
   ]
  },
  {
   "cell_type": "code",
   "execution_count": 4,
   "metadata": {
    "ExecuteTime": {
     "end_time": "2021-04-21T23:00:36.577380Z",
     "start_time": "2021-04-21T23:00:36.560978Z"
    }
   },
   "outputs": [],
   "source": [
    "word_counter_file = \"output/app_plots/global_doc_word_counter.tsv.xz\"\n",
    "field_names = [\"document\", \"lemma\", \"count\"]\n",
    "n_jobs = 3\n",
    "QUEUE_SIZE = 75000  # Queue Size if too big then will need to make smaller\n",
    "doc_xpath = \"//abstract/sec/*|//abstract/p|//body/sec/*|//body/p\""
   ]
  },
  {
   "cell_type": "code",
   "execution_count": 5,
   "metadata": {
    "ExecuteTime": {
     "end_time": "2021-04-23T01:50:57.528315Z",
     "start_time": "2021-04-21T23:00:36.578621Z"
    },
    "scrolled": true
   },
   "outputs": [
    {
     "data": {
      "application/vnd.jupyter.widget-view+json": {
       "model_id": "ba50038de6d3472bbcb2b69808d93e75",
       "version_major": 2,
       "version_minor": 0
      },
      "text/plain": [
       "HBox(children=(IntProgress(value=1, bar_style='info', max=1), HTML(value='')))"
      ]
     },
     "metadata": {},
     "output_type": "display_data"
    },
    {
     "name": "stdout",
     "output_type": "stream",
     "text": [
      "\n"
     ]
    }
   ],
   "source": [
    "with Manager() as m:\n",
    "\n",
    "    # Set up the Queue\n",
    "    doc_path_queue = m.JoinableQueue(QUEUE_SIZE)\n",
    "    lemma_queue = m.JoinableQueue(QUEUE_SIZE)\n",
    "\n",
    "    # Start the document object feeder\n",
    "    t = Thread(\n",
    "        target=write_lemma_counts,\n",
    "        args=(word_counter_file, field_names, lemma_queue, n_jobs),\n",
    "    )\n",
    "    t.start()\n",
    "\n",
    "    running_jobs = []\n",
    "    # Start the jobs\n",
    "    for job in range(n_jobs):\n",
    "        p = Process(\n",
    "            target=lemmatize_tokens, args=(doc_xpath, doc_path_queue, lemma_queue)\n",
    "        )\n",
    "        running_jobs.append(p)\n",
    "        p.start()\n",
    "\n",
    "    for idx, row in tqdm_notebook(pmc_df.iterrows()):\n",
    "        doc_path = f\"../journals/{row['journal']}/{row['document']}.nxml\"\n",
    "        doc_path_queue.put(doc_path)\n",
    "\n",
    "    # Poison pill to end running jobs\n",
    "    for job in running_jobs:\n",
    "        doc_path_queue.put(None)\n",
    "\n",
    "    # Wait for jobs to finish\n",
    "    for job in running_jobs:\n",
    "        job.join()\n",
    "\n",
    "    # Wait until thread is done running\n",
    "    t.join()"
   ]
  },
  {
   "cell_type": "code",
   "execution_count": 14,
   "metadata": {
    "ExecuteTime": {
     "end_time": "2021-04-23T17:14:02.653191Z",
     "start_time": "2021-04-23T15:16:46.329352Z"
    }
   },
   "outputs": [
    {
     "data": {
      "application/vnd.jupyter.widget-view+json": {
       "model_id": "646a56eb88e44387a2d973ac9f2a468d",
       "version_major": 2,
       "version_minor": 0
      },
      "text/plain": [
       "HBox(children=(IntProgress(value=1, bar_style='info', max=1), HTML(value='')))"
      ]
     },
     "metadata": {},
     "output_type": "display_data"
    },
    {
     "name": "stdout",
     "output_type": "stream",
     "text": [
      "\n"
     ]
    }
   ],
   "source": [
    "with lzma.open(word_counter_file, \"rt\") as infile:\n",
    "    reader = csv.DictReader(infile, delimiter=\"\\t\")\n",
    "\n",
    "    background_bin_dictionaries = defaultdict(Counter)\n",
    "    word_bin_dictionaries = {\n",
    "        squarebin_id: defaultdict(Counter)\n",
    "        for squarebin_id in pmc_df.squarebin_id.unique()\n",
    "    }\n",
    "\n",
    "    document_mapper = dict(zip(pmc_df.document.tolist(), pmc_df.squarebin_id.tolist()))\n",
    "\n",
    "    for line in tqdm_notebook(reader):\n",
    "        squarebin_id = document_mapper[line[\"document\"]]\n",
    "        background_bin_dictionaries.update({line[\"lemma\"]: int(line[\"count\"])})\n",
    "        word_bin_dictionaries[squarebin_id].update({line[\"lemma\"]: int(line[\"count\"])})"
   ]
  },
  {
   "cell_type": "code",
   "execution_count": 15,
   "metadata": {
    "ExecuteTime": {
     "end_time": "2021-04-23T19:55:42.824108Z",
     "start_time": "2021-04-23T17:14:02.654492Z"
    }
   },
   "outputs": [
    {
     "data": {
      "application/vnd.jupyter.widget-view+json": {
       "model_id": "7027259a5d4c4f5885ff15043ab89af9",
       "version_major": 2,
       "version_minor": 0
      },
      "text/plain": [
       "HBox(children=(IntProgress(value=0, max=512), HTML(value='')))"
      ]
     },
     "metadata": {},
     "output_type": "display_data"
    },
    {
     "name": "stdout",
     "output_type": "stream",
     "text": [
      "\n"
     ]
    }
   ],
   "source": [
    "cutoff_score = 20\n",
    "background_sum = sum(background_bin_dictionaries.values())\n",
    "bin_ratios = {}\n",
    "\n",
    "for squarebin in tqdm_notebook(word_bin_dictionaries):\n",
    "\n",
    "    bin_dict = word_bin_dictionaries[squarebin]\n",
    "    bin_sum = sum(word_bin_dictionaries[squarebin].values())\n",
    "\n",
    "    # Try and filter out low count tokens to speed function up\n",
    "    filtered_bin_dict = {\n",
    "        lemma: bin_dict[lemma] for lemma in bin_dict if bin_dict[lemma] > cutoff_score\n",
    "    }\n",
    "\n",
    "    if len(filtered_bin_dict) > 0:\n",
    "        bin_dict = filtered_bin_dict\n",
    "\n",
    "    # Calculate odds ratio\n",
    "    bin_words = set(bin_dict.keys())\n",
    "    background_words = set(background_bin_dictionaries.keys())\n",
    "    words_to_compute = bin_words & background_words\n",
    "\n",
    "    word_odd_ratio_records = []\n",
    "    for idx, word in enumerate(words_to_compute):\n",
    "        top = float(bin_dict[word] * background_sum)\n",
    "        bottom = float(background_bin_dictionaries[word] * bin_sum)\n",
    "        word_odd_ratio_records.append(\n",
    "            {\"lemma\": word, \"odds_ratio\": np.log(top / bottom)}\n",
    "        )\n",
    "\n",
    "    sorted(word_odd_ratio_records, key=lambda x: x[\"odds_ratio\"], reverse=True)\n",
    "    bin_ratios[squarebin] = word_odd_ratio_records[0:20]"
   ]
  },
  {
   "cell_type": "markdown",
   "metadata": {},
   "source": [
    "# Insert Bin Word Associations in JSON File"
   ]
  },
  {
   "cell_type": "code",
   "execution_count": 16,
   "metadata": {
    "ExecuteTime": {
     "end_time": "2021-04-23T19:57:01.054327Z",
     "start_time": "2021-04-23T19:56:46.181552Z"
    }
   },
   "outputs": [
    {
     "data": {
      "text/html": [
       "<div>\n",
       "<style scoped>\n",
       "    .dataframe tbody tr th:only-of-type {\n",
       "        vertical-align: middle;\n",
       "    }\n",
       "\n",
       "    .dataframe tbody tr th {\n",
       "        vertical-align: top;\n",
       "    }\n",
       "\n",
       "    .dataframe thead th {\n",
       "        text-align: right;\n",
       "    }\n",
       "</style>\n",
       "<table border=\"1\" class=\"dataframe\">\n",
       "  <thead>\n",
       "    <tr style=\"text-align: right;\">\n",
       "      <th></th>\n",
       "      <th>x</th>\n",
       "      <th>y</th>\n",
       "      <th>xmin</th>\n",
       "      <th>xmax</th>\n",
       "      <th>ymin</th>\n",
       "      <th>ymax</th>\n",
       "      <th>count</th>\n",
       "      <th>bin_id</th>\n",
       "      <th>pc</th>\n",
       "      <th>journal</th>\n",
       "    </tr>\n",
       "  </thead>\n",
       "  <tbody>\n",
       "    <tr>\n",
       "      <th>0</th>\n",
       "      <td>18.275</td>\n",
       "      <td>-18.275</td>\n",
       "      <td>17.85</td>\n",
       "      <td>1.870000e+01</td>\n",
       "      <td>-18.70</td>\n",
       "      <td>-17.85</td>\n",
       "      <td>2044</td>\n",
       "      <td>0</td>\n",
       "      <td>[{'score': -0.399191306, 'pc': '03'}, {'score'...</td>\n",
       "      <td>{'Med_Hist_Suppl': 40, 'Yale_J_Biol_Med': 482,...</td>\n",
       "    </tr>\n",
       "    <tr>\n",
       "      <th>1</th>\n",
       "      <td>-7.225</td>\n",
       "      <td>-14.875</td>\n",
       "      <td>-7.65</td>\n",
       "      <td>-6.800000e+00</td>\n",
       "      <td>-15.30</td>\n",
       "      <td>-14.45</td>\n",
       "      <td>2</td>\n",
       "      <td>1</td>\n",
       "      <td>[{'score': -0.48889934160000004, 'pc': '04'}, ...</td>\n",
       "      <td>{'Comp_Funct_Genomics': 2}</td>\n",
       "    </tr>\n",
       "    <tr>\n",
       "      <th>2</th>\n",
       "      <td>-7.225</td>\n",
       "      <td>-13.175</td>\n",
       "      <td>-7.65</td>\n",
       "      <td>-6.800000e+00</td>\n",
       "      <td>-13.60</td>\n",
       "      <td>-12.75</td>\n",
       "      <td>1</td>\n",
       "      <td>2</td>\n",
       "      <td>[{'score': 0.3814907737, 'pc': '02'}, {'score'...</td>\n",
       "      <td>{'Comp_Funct_Genomics': 1}</td>\n",
       "    </tr>\n",
       "    <tr>\n",
       "      <th>3</th>\n",
       "      <td>-1.275</td>\n",
       "      <td>-13.175</td>\n",
       "      <td>-1.70</td>\n",
       "      <td>-8.499999e-01</td>\n",
       "      <td>-13.60</td>\n",
       "      <td>-12.75</td>\n",
       "      <td>1</td>\n",
       "      <td>3</td>\n",
       "      <td>[{'score': 0.5376298982000001, 'pc': '01'}, {'...</td>\n",
       "      <td>{'Comp_Funct_Genomics': 1}</td>\n",
       "    </tr>\n",
       "    <tr>\n",
       "      <th>4</th>\n",
       "      <td>-0.425</td>\n",
       "      <td>-12.325</td>\n",
       "      <td>-0.85</td>\n",
       "      <td>8.500000e-08</td>\n",
       "      <td>-12.75</td>\n",
       "      <td>-11.90</td>\n",
       "      <td>2</td>\n",
       "      <td>4</td>\n",
       "      <td>[{'score': 0.6109766762000001, 'pc': '01'}, {'...</td>\n",
       "      <td>{'Int_J_Biomed_Imaging': 1, 'Comput_Math_Metho...</td>\n",
       "    </tr>\n",
       "  </tbody>\n",
       "</table>\n",
       "</div>"
      ],
      "text/plain": [
       "        x       y   xmin          xmax   ymin   ymax  count  bin_id  \\\n",
       "0  18.275 -18.275  17.85  1.870000e+01 -18.70 -17.85   2044       0   \n",
       "1  -7.225 -14.875  -7.65 -6.800000e+00 -15.30 -14.45      2       1   \n",
       "2  -7.225 -13.175  -7.65 -6.800000e+00 -13.60 -12.75      1       2   \n",
       "3  -1.275 -13.175  -1.70 -8.499999e-01 -13.60 -12.75      1       3   \n",
       "4  -0.425 -12.325  -0.85  8.500000e-08 -12.75 -11.90      2       4   \n",
       "\n",
       "                                                  pc  \\\n",
       "0  [{'score': -0.399191306, 'pc': '03'}, {'score'...   \n",
       "1  [{'score': -0.48889934160000004, 'pc': '04'}, ...   \n",
       "2  [{'score': 0.3814907737, 'pc': '02'}, {'score'...   \n",
       "3  [{'score': 0.5376298982000001, 'pc': '01'}, {'...   \n",
       "4  [{'score': 0.6109766762000001, 'pc': '01'}, {'...   \n",
       "\n",
       "                                             journal  \n",
       "0  {'Med_Hist_Suppl': 40, 'Yale_J_Biol_Med': 482,...  \n",
       "1                         {'Comp_Funct_Genomics': 2}  \n",
       "2                         {'Comp_Funct_Genomics': 1}  \n",
       "3                         {'Comp_Funct_Genomics': 1}  \n",
       "4  {'Int_J_Biomed_Imaging': 1, 'Comput_Math_Metho...  "
      ]
     },
     "execution_count": 16,
     "metadata": {},
     "output_type": "execute_result"
    }
   ],
   "source": [
    "square_bin_plot_df = pd.read_json(\n",
    "    open(Path(\"output\") / Path(\"app_plots\") / Path(\"pmc_square_plot.json\"))\n",
    ")\n",
    "square_bin_plot_df.head()"
   ]
  },
  {
   "cell_type": "code",
   "execution_count": 17,
   "metadata": {
    "ExecuteTime": {
     "end_time": "2021-04-23T19:57:04.764237Z",
     "start_time": "2021-04-23T19:57:04.717610Z"
    }
   },
   "outputs": [
    {
     "data": {
      "text/html": [
       "<div>\n",
       "<style scoped>\n",
       "    .dataframe tbody tr th:only-of-type {\n",
       "        vertical-align: middle;\n",
       "    }\n",
       "\n",
       "    .dataframe tbody tr th {\n",
       "        vertical-align: top;\n",
       "    }\n",
       "\n",
       "    .dataframe thead th {\n",
       "        text-align: right;\n",
       "    }\n",
       "</style>\n",
       "<table border=\"1\" class=\"dataframe\">\n",
       "  <thead>\n",
       "    <tr style=\"text-align: right;\">\n",
       "      <th></th>\n",
       "      <th>bin_id</th>\n",
       "      <th>bin_odds</th>\n",
       "    </tr>\n",
       "  </thead>\n",
       "  <tbody>\n",
       "    <tr>\n",
       "      <th>0</th>\n",
       "      <td>0</td>\n",
       "      <td>[{'lemma': '  ', 'odds_ratio': 16.517769203672...</td>\n",
       "    </tr>\n",
       "    <tr>\n",
       "      <th>1</th>\n",
       "      <td>1</td>\n",
       "      <td>[{'lemma': 'question', 'odds_ratio': 13.217313...</td>\n",
       "    </tr>\n",
       "    <tr>\n",
       "      <th>2</th>\n",
       "      <td>2</td>\n",
       "      <td>[{'lemma': 'new', 'odds_ratio': 15.76399740129...</td>\n",
       "    </tr>\n",
       "    <tr>\n",
       "      <th>3</th>\n",
       "      <td>3</td>\n",
       "      <td>[{'lemma': 'include', 'odds_ratio': 12.4234246...</td>\n",
       "    </tr>\n",
       "    <tr>\n",
       "      <th>4</th>\n",
       "      <td>4</td>\n",
       "      <td>[{'lemma': 'predict', 'odds_ratio': 12.9987887...</td>\n",
       "    </tr>\n",
       "  </tbody>\n",
       "</table>\n",
       "</div>"
      ],
      "text/plain": [
       "   bin_id                                           bin_odds\n",
       "0       0  [{'lemma': '  ', 'odds_ratio': 16.517769203672...\n",
       "1       1  [{'lemma': 'question', 'odds_ratio': 13.217313...\n",
       "2       2  [{'lemma': 'new', 'odds_ratio': 15.76399740129...\n",
       "3       3  [{'lemma': 'include', 'odds_ratio': 12.4234246...\n",
       "4       4  [{'lemma': 'predict', 'odds_ratio': 12.9987887..."
      ]
     },
     "execution_count": 17,
     "metadata": {},
     "output_type": "execute_result"
    }
   ],
   "source": [
    "bin_odds_df = pd.DataFrame.from_records(\n",
    "    [{\"bin_id\": key, \"bin_odds\": bin_ratios[key]} for key in bin_ratios]\n",
    ")\n",
    "bin_odds_df.head()"
   ]
  },
  {
   "cell_type": "code",
   "execution_count": 18,
   "metadata": {
    "ExecuteTime": {
     "end_time": "2021-04-23T19:57:20.350188Z",
     "start_time": "2021-04-23T19:57:20.153613Z"
    }
   },
   "outputs": [],
   "source": [
    "(\n",
    "    square_bin_plot_df.merge(bin_odds_df, on=[\"bin_id\"]).to_json(\n",
    "        Path(\"output\") / Path(\"app_plots\") / Path(\"pmc_square_plot.json\"),\n",
    "        orient=\"records\",\n",
    "        lines=False,\n",
    "    )\n",
    ")"
   ]
  }
 ],
 "metadata": {
  "jupytext": {
   "formats": "ipynb,py"
  },
  "kernelspec": {
   "display_name": "Python [conda env:annorxiver]",
   "language": "python",
   "name": "conda-env-annorxiver-py"
  },
  "language_info": {
   "codemirror_mode": {
    "name": "ipython",
    "version": 3
   },
   "file_extension": ".py",
   "mimetype": "text/x-python",
   "name": "python",
   "nbconvert_exporter": "python",
   "pygments_lexer": "ipython3",
   "version": "3.7.2"
  },
  "toc": {
   "base_numbering": 1,
   "nav_menu": {},
   "number_sections": true,
   "sideBar": true,
   "skip_h1_title": false,
   "title_cell": "Table of Contents",
   "title_sidebar": "Contents",
   "toc_cell": false,
   "toc_position": {},
   "toc_section_display": true,
   "toc_window_display": false
  }
 },
 "nbformat": 4,
 "nbformat_minor": 2
}
