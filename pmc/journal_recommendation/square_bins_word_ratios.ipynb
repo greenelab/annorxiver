{
 "cells": [
  {
   "cell_type": "markdown",
   "metadata": {},
   "source": [
    "# Calculate Odds Ratios for each Square Bin"
   ]
  },
  {
   "cell_type": "code",
   "execution_count": 1,
   "metadata": {
    "ExecuteTime": {
     "end_time": "2020-09-22T14:29:14.108429Z",
     "start_time": "2020-09-22T14:29:03.303109Z"
    }
   },
   "outputs": [],
   "source": [
    "%load_ext autoreload\n",
    "%autoreload 2\n",
    "\n",
    "from collections import Counter\n",
    "import csv\n",
    "import json\n",
    "from pathlib import Path\n",
    "import pickle\n",
    "import re\n",
    "\n",
    "import numpy as np\n",
    "import pandas as pd\n",
    "import spacy\n",
    "from tqdm import tqdm_notebook\n",
    "\n",
    "from annorxiver_modules.corpora_comparison_helper import (\n",
    "    aggregate_word_counts,\n",
    "    get_term_statistics\n",
    ")"
   ]
  },
  {
   "cell_type": "markdown",
   "metadata": {},
   "source": [
    "# Gather Paper Bins Dataframe"
   ]
  },
  {
   "cell_type": "code",
   "execution_count": 2,
   "metadata": {
    "ExecuteTime": {
     "end_time": "2020-09-22T02:34:32.192844Z",
     "start_time": "2020-09-22T02:34:31.001485Z"
    }
   },
   "outputs": [
    {
     "data": {
      "text/html": [
       "<div>\n",
       "<style scoped>\n",
       "    .dataframe tbody tr th:only-of-type {\n",
       "        vertical-align: middle;\n",
       "    }\n",
       "\n",
       "    .dataframe tbody tr th {\n",
       "        vertical-align: top;\n",
       "    }\n",
       "\n",
       "    .dataframe thead th {\n",
       "        text-align: right;\n",
       "    }\n",
       "</style>\n",
       "<table border=\"1\" class=\"dataframe\">\n",
       "  <thead>\n",
       "    <tr style=\"text-align: right;\">\n",
       "      <th></th>\n",
       "      <th>dim1</th>\n",
       "      <th>dim2</th>\n",
       "      <th>journal</th>\n",
       "      <th>document</th>\n",
       "      <th>squarebin_id</th>\n",
       "    </tr>\n",
       "  </thead>\n",
       "  <tbody>\n",
       "    <tr>\n",
       "      <td>0</td>\n",
       "      <td>-18.124933</td>\n",
       "      <td>-24.866093</td>\n",
       "      <td>Cancer_Inform</td>\n",
       "      <td>PMC2675495</td>\n",
       "      <td>0</td>\n",
       "    </tr>\n",
       "    <tr>\n",
       "      <td>1</td>\n",
       "      <td>-14.685319</td>\n",
       "      <td>-25.280441</td>\n",
       "      <td>Proteomics</td>\n",
       "      <td>PMC4230411</td>\n",
       "      <td>1</td>\n",
       "    </tr>\n",
       "    <tr>\n",
       "      <td>2</td>\n",
       "      <td>-10.546060</td>\n",
       "      <td>-24.527090</td>\n",
       "      <td>Chemphyschem</td>\n",
       "      <td>PMC5129479</td>\n",
       "      <td>2</td>\n",
       "    </tr>\n",
       "    <tr>\n",
       "      <td>3</td>\n",
       "      <td>-10.546060</td>\n",
       "      <td>-24.527090</td>\n",
       "      <td>Chembiochem</td>\n",
       "      <td>PMC4736454</td>\n",
       "      <td>2</td>\n",
       "    </tr>\n",
       "    <tr>\n",
       "      <td>4</td>\n",
       "      <td>-10.546060</td>\n",
       "      <td>-24.527090</td>\n",
       "      <td>ChemistryOpen</td>\n",
       "      <td>PMC5715300</td>\n",
       "      <td>2</td>\n",
       "    </tr>\n",
       "  </tbody>\n",
       "</table>\n",
       "</div>"
      ],
      "text/plain": [
       "        dim1       dim2        journal    document  squarebin_id\n",
       "0 -18.124933 -24.866093  Cancer_Inform  PMC2675495             0\n",
       "1 -14.685319 -25.280441     Proteomics  PMC4230411             1\n",
       "2 -10.546060 -24.527090   Chemphyschem  PMC5129479             2\n",
       "3 -10.546060 -24.527090    Chembiochem  PMC4736454             2\n",
       "4 -10.546060 -24.527090  ChemistryOpen  PMC5715300             2"
      ]
     },
     "execution_count": 2,
     "metadata": {},
     "output_type": "execute_result"
    }
   ],
   "source": [
    "pmc_df = pd.read_csv(\n",
    "    \"output/paper_dataset/paper_dataset_tsne_square.tsv\",\n",
    "    sep=\"\\t\"\n",
    ")\n",
    "pmc_df.head()"
   ]
  },
  {
   "cell_type": "code",
   "execution_count": 3,
   "metadata": {
    "ExecuteTime": {
     "end_time": "2020-09-22T02:34:32.209395Z",
     "start_time": "2020-09-22T02:34:32.194343Z"
    }
   },
   "outputs": [],
   "source": [
    "word_count_folder = Path(\"../pmc_corpus/pmc_word_counts/\")"
   ]
  },
  {
   "cell_type": "code",
   "execution_count": 4,
   "metadata": {
    "ExecuteTime": {
     "end_time": "2020-09-22T02:34:32.228613Z",
     "start_time": "2020-09-22T02:34:32.210521Z"
    }
   },
   "outputs": [],
   "source": [
    "bin_group = pmc_df.groupby(\"squarebin_id\")"
   ]
  },
  {
   "cell_type": "code",
   "execution_count": 5,
   "metadata": {
    "ExecuteTime": {
     "end_time": "2020-09-22T02:34:32.698552Z",
     "start_time": "2020-09-22T02:34:32.229815Z"
    }
   },
   "outputs": [],
   "source": [
    "spacy_nlp = spacy.load('en_core_web_sm')\n",
    "stop_word_list = list(spacy_nlp.Defaults.stop_words)"
   ]
  },
  {
   "cell_type": "code",
   "execution_count": 6,
   "metadata": {
    "ExecuteTime": {
     "end_time": "2020-09-22T02:35:30.215980Z",
     "start_time": "2020-09-22T02:34:32.699750Z"
    },
    "scrolled": true
   },
   "outputs": [],
   "source": [
    "word_counter_path = \"output/app_plots/global_word_counter.pkl\"\n",
    "if Path(word_counter_path).exists():\n",
    "    global_word_counter = pickle.load(\n",
    "        open(word_counter_path, \"rb\")\n",
    "    )\n",
    "    \n",
    "else:\n",
    "    global_word_counter = Counter()\n",
    "    for name, group in tqdm_notebook(bin_group):\n",
    "        files = [\n",
    "            f\"{word_count_folder.resolve()}/{doc}.tsv\"\n",
    "            for doc in group.document.tolist()\n",
    "        ]\n",
    "\n",
    "        agg_word_count = aggregate_word_counts(files, disable_progressbar=True)\n",
    "\n",
    "        filtered_agg_word_count = {\n",
    "           term[0]:agg_word_count[term] \n",
    "            for term in agg_word_count \n",
    "            if term[1] != 'SPACE' and term[0] not in stop_word_list\n",
    "        }\n",
    "\n",
    "        global_word_counter.update(Counter(filtered_agg_word_count))\n",
    "\n",
    "    pickle.dump(\n",
    "        global_word_counter, \n",
    "        open(word_counter_path, \"wb\")\n",
    "    )"
   ]
  },
  {
   "cell_type": "code",
   "execution_count": 7,
   "metadata": {
    "ExecuteTime": {
     "end_time": "2020-09-22T07:18:58.594589Z",
     "start_time": "2020-09-22T02:35:30.217184Z"
    }
   },
   "outputs": [
    {
     "data": {
      "application/vnd.jupyter.widget-view+json": {
       "model_id": "42098f407db74ef8bf34c4bbbdcc4acb",
       "version_major": 2,
       "version_minor": 0
      },
      "text/plain": [
       "HBox(children=(IntProgress(value=0, max=1478), HTML(value='')))"
      ]
     },
     "metadata": {},
     "output_type": "display_data"
    },
    {
     "name": "stdout",
     "output_type": "stream",
     "text": [
      "\n"
     ]
    }
   ],
   "source": [
    "for bin_id, group in tqdm_notebook(bin_group):\n",
    "    files = [\n",
    "        f\"{word_count_folder.resolve()}/{doc}.tsv\"\n",
    "        for doc in group.document.tolist()\n",
    "    ]\n",
    "    \n",
    "    agg_word_count = aggregate_word_counts(files, disable_progressbar=True)\n",
    "    \n",
    "    filtered_agg_word_count = {\n",
    "       term[0]:agg_word_count[term] \n",
    "        for term in agg_word_count \n",
    "        if global_word_counter[term[0]] > 1000 and\n",
    "        term[0] not in stop_word_list and \n",
    "        term[1] != 'SPACE'\n",
    "    }\n",
    "    \n",
    "    bin_counter = Counter(filtered_agg_word_count)\n",
    "    remaining_words = (\n",
    "        Counter({\n",
    "            term:global_word_counter[term] \n",
    "            for term in filtered_agg_word_count\n",
    "        })  - bin_counter\n",
    "    )\n",
    "\n",
    "    bin_df = (\n",
    "        pd.DataFrame.from_dict(\n",
    "            dict(bin_counter),\n",
    "            orient=\"index\",\n",
    "            columns=[\"count\"]\n",
    "        )\n",
    "        .rename_axis(\"lemma\")\n",
    "        .reset_index()\n",
    "    )\n",
    "    \n",
    "    background_df = (\n",
    "        pd.DataFrame.from_dict(\n",
    "            {\n",
    "                key:remaining_words[key]\n",
    "                for key in bin_counter\n",
    "                if key in remaining_words\n",
    "            },\n",
    "            orient=\"index\",\n",
    "            columns=[\"count\"]\n",
    "        )\n",
    "        .rename_axis(\"lemma\")\n",
    "        .reset_index()\n",
    "    )\n",
    "    \n",
    "    # Calculate the odds ratio\n",
    "    word_odds_df = get_term_statistics(\n",
    "        bin_df,\n",
    "        background_df,\n",
    "        100, \n",
    "        psudeocount=1,\n",
    "        disable_progressbar=True\n",
    "    )\n",
    "    \n",
    "    file_name = (\n",
    "        '000'+str(bin_id) if bin_id < 10 else \n",
    "        '00'+str(bin_id) if bin_id < 100 else \n",
    "        '0'+str(bin_id) if bin_id < 1000 else \n",
    "        str(bin_id)\n",
    "    )\n",
    "    \n",
    "    (\n",
    "        word_odds_df\n",
    "        .sort_values(\"odds_ratio\", ascending=False)\n",
    "        .to_csv(\n",
    "            f\"output/word_odds/word_odds_bin_{file_name}.tsv\", \n",
    "            sep=\"\\t\", index=False\n",
    "        )\n",
    "    )"
   ]
  },
  {
   "cell_type": "markdown",
   "metadata": {},
   "source": [
    "# Insert Bin Word Associations in JSON File"
   ]
  },
  {
   "cell_type": "code",
   "execution_count": 8,
   "metadata": {
    "ExecuteTime": {
     "end_time": "2020-09-22T07:19:00.150360Z",
     "start_time": "2020-09-22T07:18:58.599504Z"
    }
   },
   "outputs": [
    {
     "data": {
      "text/html": [
       "<div>\n",
       "<style scoped>\n",
       "    .dataframe tbody tr th:only-of-type {\n",
       "        vertical-align: middle;\n",
       "    }\n",
       "\n",
       "    .dataframe tbody tr th {\n",
       "        vertical-align: top;\n",
       "    }\n",
       "\n",
       "    .dataframe thead th {\n",
       "        text-align: right;\n",
       "    }\n",
       "</style>\n",
       "<table border=\"1\" class=\"dataframe\">\n",
       "  <thead>\n",
       "    <tr style=\"text-align: right;\">\n",
       "      <th></th>\n",
       "      <th>x</th>\n",
       "      <th>y</th>\n",
       "      <th>xmin</th>\n",
       "      <th>xmax</th>\n",
       "      <th>ymin</th>\n",
       "      <th>ymax</th>\n",
       "      <th>count</th>\n",
       "      <th>bin_id</th>\n",
       "      <th>pc</th>\n",
       "      <th>journal</th>\n",
       "      <th>bin_odds</th>\n",
       "    </tr>\n",
       "  </thead>\n",
       "  <tbody>\n",
       "    <tr>\n",
       "      <td>0</td>\n",
       "      <td>-18.275</td>\n",
       "      <td>-25.075</td>\n",
       "      <td>-18.70</td>\n",
       "      <td>-17.85</td>\n",
       "      <td>-25.50</td>\n",
       "      <td>-24.65</td>\n",
       "      <td>1</td>\n",
       "      <td>0</td>\n",
       "      <td>[{'score': 0.3609571261, 'pc': '01'}, {'score'...</td>\n",
       "      <td>{'Cancer_Inform': 1}</td>\n",
       "      <td>[{'lemma': 'http://sciencecommons.org/', 'odds...</td>\n",
       "    </tr>\n",
       "    <tr>\n",
       "      <td>1</td>\n",
       "      <td>-14.875</td>\n",
       "      <td>-25.075</td>\n",
       "      <td>-15.30</td>\n",
       "      <td>-14.45</td>\n",
       "      <td>-25.50</td>\n",
       "      <td>-24.65</td>\n",
       "      <td>1</td>\n",
       "      <td>1</td>\n",
       "      <td>[{'score': 0.5555347419000001, 'pc': '01'}, {'...</td>\n",
       "      <td>{'Proteomics': 1}</td>\n",
       "      <td>[{'lemma': 'jmztab', 'odds_ratio': 583.9176470...</td>\n",
       "    </tr>\n",
       "    <tr>\n",
       "      <td>2</td>\n",
       "      <td>-10.625</td>\n",
       "      <td>-24.225</td>\n",
       "      <td>-11.05</td>\n",
       "      <td>-10.20</td>\n",
       "      <td>-24.65</td>\n",
       "      <td>-23.80</td>\n",
       "      <td>38</td>\n",
       "      <td>2</td>\n",
       "      <td>[{'score': 0.6018766422, 'pc': '01'}, {'score'...</td>\n",
       "      <td>{'Chemphyschem': 1, 'Chembiochem': 1, 'Chemist...</td>\n",
       "      <td>[{'lemma': 'typeset', 'odds_ratio': 2.69335495...</td>\n",
       "    </tr>\n",
       "    <tr>\n",
       "      <td>3</td>\n",
       "      <td>-15.725</td>\n",
       "      <td>-23.375</td>\n",
       "      <td>-16.15</td>\n",
       "      <td>-15.30</td>\n",
       "      <td>-23.80</td>\n",
       "      <td>-22.95</td>\n",
       "      <td>2</td>\n",
       "      <td>3</td>\n",
       "      <td>[{'score': 0.575093618, 'pc': '01'}, {'score':...</td>\n",
       "      <td>{'Glob_Chall': 1, 'Adv_Sci_(Weinh)': 1}</td>\n",
       "      <td>[{'lemma': 'data', 'odds_ratio': 3.4939331086}...</td>\n",
       "    </tr>\n",
       "    <tr>\n",
       "      <td>4</td>\n",
       "      <td>-14.875</td>\n",
       "      <td>-23.375</td>\n",
       "      <td>-15.30</td>\n",
       "      <td>-14.45</td>\n",
       "      <td>-23.80</td>\n",
       "      <td>-22.95</td>\n",
       "      <td>5</td>\n",
       "      <td>4</td>\n",
       "      <td>[{'score': 0.4791479219, 'pc': '01'}, {'score'...</td>\n",
       "      <td>{'Neth_Heart_J': 1, 'Genome_Biol': 2, 'J_Biol_...</td>\n",
       "      <td>[{'lemma': '0006-z', 'odds_ratio': 447.0092592...</td>\n",
       "    </tr>\n",
       "  </tbody>\n",
       "</table>\n",
       "</div>"
      ],
      "text/plain": [
       "        x       y   xmin   xmax   ymin   ymax  count  bin_id  \\\n",
       "0 -18.275 -25.075 -18.70 -17.85 -25.50 -24.65      1       0   \n",
       "1 -14.875 -25.075 -15.30 -14.45 -25.50 -24.65      1       1   \n",
       "2 -10.625 -24.225 -11.05 -10.20 -24.65 -23.80     38       2   \n",
       "3 -15.725 -23.375 -16.15 -15.30 -23.80 -22.95      2       3   \n",
       "4 -14.875 -23.375 -15.30 -14.45 -23.80 -22.95      5       4   \n",
       "\n",
       "                                                  pc  \\\n",
       "0  [{'score': 0.3609571261, 'pc': '01'}, {'score'...   \n",
       "1  [{'score': 0.5555347419000001, 'pc': '01'}, {'...   \n",
       "2  [{'score': 0.6018766422, 'pc': '01'}, {'score'...   \n",
       "3  [{'score': 0.575093618, 'pc': '01'}, {'score':...   \n",
       "4  [{'score': 0.4791479219, 'pc': '01'}, {'score'...   \n",
       "\n",
       "                                             journal  \\\n",
       "0                               {'Cancer_Inform': 1}   \n",
       "1                                  {'Proteomics': 1}   \n",
       "2  {'Chemphyschem': 1, 'Chembiochem': 1, 'Chemist...   \n",
       "3            {'Glob_Chall': 1, 'Adv_Sci_(Weinh)': 1}   \n",
       "4  {'Neth_Heart_J': 1, 'Genome_Biol': 2, 'J_Biol_...   \n",
       "\n",
       "                                            bin_odds  \n",
       "0  [{'lemma': 'http://sciencecommons.org/', 'odds...  \n",
       "1  [{'lemma': 'jmztab', 'odds_ratio': 583.9176470...  \n",
       "2  [{'lemma': 'typeset', 'odds_ratio': 2.69335495...  \n",
       "3  [{'lemma': 'data', 'odds_ratio': 3.4939331086}...  \n",
       "4  [{'lemma': '0006-z', 'odds_ratio': 447.0092592...  "
      ]
     },
     "execution_count": 8,
     "metadata": {},
     "output_type": "execute_result"
    }
   ],
   "source": [
    "square_bin_plot_df = pd.read_json(\n",
    "    open(\n",
    "        Path(\"output\")/\n",
    "        Path(\"app_plots\")/\n",
    "        Path(\"pmc_square_plot.json\")\n",
    "    )\n",
    ")\n",
    "square_bin_plot_df.head()"
   ]
  },
  {
   "cell_type": "code",
   "execution_count": 9,
   "metadata": {
    "ExecuteTime": {
     "end_time": "2020-09-22T12:34:47.131616Z",
     "start_time": "2020-09-22T12:34:42.684856Z"
    }
   },
   "outputs": [
    {
     "data": {
      "application/vnd.jupyter.widget-view+json": {
       "model_id": "b134d6b522e34809aeef667c1652628a",
       "version_major": 2,
       "version_minor": 0
      },
      "text/plain": [
       "HBox(children=(IntProgress(value=0, max=1478), HTML(value='')))"
      ]
     },
     "metadata": {},
     "output_type": "display_data"
    },
    {
     "name": "stdout",
     "output_type": "stream",
     "text": [
      "\n"
     ]
    }
   ],
   "source": [
    "lemma_bin_records = []\n",
    "for bin_id in tqdm_notebook(square_bin_plot_df.bin_id.tolist()):\n",
    "    \n",
    "    file_name = (\n",
    "        '000'+str(bin_id) if bin_id < 10 else \n",
    "        '00'+str(bin_id) if bin_id < 100 else \n",
    "        '0'+str(bin_id) if bin_id < 1000 else \n",
    "        str(bin_id)\n",
    "    )\n",
    "    \n",
    "    bin_assoc_df = pd.read_csv(\n",
    "        f\"output/word_odds/word_odds_bin_{file_name}.tsv\",\n",
    "        sep=\"\\t\"\n",
    "    )\n",
    "    \n",
    "    high_odds_words = (\n",
    "        bin_assoc_df\n",
    "        .sort_values(\"odds_ratio\", ascending=False)\n",
    "        .head(20)\n",
    "        [[\"lemma\", \"odds_ratio\"]]\n",
    "    )\n",
    "      \n",
    "    lemma_bin_records.append([\n",
    "        {\n",
    "            \"lemma\": pair[0],\n",
    "            \"odds_ratio\": pair[1]\n",
    "        }\n",
    "        for pair in zip(high_odds_words.lemma, high_odds_words.odds_ratio)\n",
    "    ])"
   ]
  },
  {
   "cell_type": "code",
   "execution_count": 10,
   "metadata": {
    "ExecuteTime": {
     "end_time": "2020-09-22T12:34:58.283413Z",
     "start_time": "2020-09-22T12:34:58.198535Z"
    }
   },
   "outputs": [],
   "source": [
    "(\n",
    "    square_bin_plot_df\n",
    "    .assign(bin_odds=lemma_bin_records)\n",
    "    .to_json(\n",
    "        Path(\"output\")/\n",
    "        Path(\"app_plots\")/\n",
    "        Path(\"pmc_square_plot.json\"),\n",
    "        orient = 'records',\n",
    "        lines = False\n",
    "    )\n",
    ")"
   ]
  }
 ],
 "metadata": {
  "kernelspec": {
   "display_name": "Python [conda env:annorxiver]",
   "language": "python",
   "name": "conda-env-annorxiver-py"
  },
  "language_info": {
   "codemirror_mode": {
    "name": "ipython",
    "version": 3
   },
   "file_extension": ".py",
   "mimetype": "text/x-python",
   "name": "python",
   "nbconvert_exporter": "python",
   "pygments_lexer": "ipython3",
   "version": "3.7.2"
  },
  "toc": {
   "base_numbering": 1,
   "nav_menu": {},
   "number_sections": true,
   "sideBar": true,
   "skip_h1_title": false,
   "title_cell": "Table of Contents",
   "title_sidebar": "Contents",
   "toc_cell": false,
   "toc_position": {},
   "toc_section_display": true,
   "toc_window_display": false
  }
 },
 "nbformat": 4,
 "nbformat_minor": 2
}
