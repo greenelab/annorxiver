{
 "cells": [
  {
   "cell_type": "markdown",
   "metadata": {},
   "source": [
    "# Get Word Frequency and Statistics on the New York Times Annotated Corpus"
   ]
  },
  {
   "cell_type": "code",
   "execution_count": 1,
   "metadata": {
    "ExecuteTime": {
     "end_time": "2020-08-11T14:49:38.940570Z",
     "start_time": "2020-08-11T14:49:38.274210Z"
    }
   },
   "outputs": [],
   "source": [
    "%load_ext autoreload\n",
    "%autoreload 2\n",
    "\n",
    "from collections import Counter\n",
    "import csv\n",
    "from pathlib import Path\n",
    "import pickle\n",
    "import string\n",
    "\n",
    "import pandas as pd\n",
    "import spacy\n",
    "from tqdm import tqdm\n",
    "\n",
    "import lxml.etree as ET\n",
    "from annorxiver_modules.document_helper import dump_article_text"
   ]
  },
  {
   "cell_type": "code",
   "execution_count": 2,
   "metadata": {
    "ExecuteTime": {
     "end_time": "2020-08-11T14:49:39.473181Z",
     "start_time": "2020-08-11T14:49:38.941842Z"
    }
   },
   "outputs": [],
   "source": [
    "lemma_model = spacy.load(\"en_core_web_sm\")\n",
    "lemma_model.max_length = 9000000 "
   ]
  },
  {
   "cell_type": "markdown",
   "metadata": {},
   "source": [
    "# Get the Listing of NYTAC documents"
   ]
  },
  {
   "cell_type": "code",
   "execution_count": 3,
   "metadata": {
    "ExecuteTime": {
     "end_time": "2020-08-11T14:49:49.295625Z",
     "start_time": "2020-08-11T14:49:39.474661Z"
    }
   },
   "outputs": [
    {
     "name": "stdout",
     "output_type": "stream",
     "text": [
      "1855658\n"
     ]
    }
   ],
   "source": [
    "document_gen = list(\n",
    "    Path(\"../nyt_corpus/extracted_data\")\n",
    "    .rglob(\"*.xml\")\n",
    ")\n",
    "print(len(document_gen))"
   ]
  },
  {
   "cell_type": "markdown",
   "metadata": {},
   "source": [
    "\n",
    "# Parse the Corpus"
   ]
  },
  {
   "cell_type": "code",
   "execution_count": 4,
   "metadata": {
    "ExecuteTime": {
     "end_time": "2020-08-12T21:54:06.858293Z",
     "start_time": "2020-08-11T14:49:49.297013Z"
    }
   },
   "outputs": [
    {
     "name": "stderr",
     "output_type": "stream",
     "text": [
      "100%|██████████| 1855658/1855658 [31:04:17<00:00, 16.59it/s]    \n"
     ]
    }
   ],
   "source": [
    "document_list = [\n",
    "    f\"{doc.stem}.xml\"\n",
    "    for doc in document_gen\n",
    "]\n",
    "\n",
    "sentence_length = get_word_stats(\n",
    "    document_list=document_list,\n",
    "    document_folder=\"../nyt_corpus/extracted_data\",\n",
    "    tag_path=\"//body/body.head/headline/hl1|//body/body.content/block/p\",\n",
    "    output_folder=\"output/\",\n",
    ")"
   ]
  },
  {
   "cell_type": "code",
   "execution_count": 5,
   "metadata": {
    "ExecuteTime": {
     "end_time": "2020-08-12T21:54:09.240949Z",
     "start_time": "2020-08-12T21:54:06.859607Z"
    }
   },
   "outputs": [],
   "source": [
    "pickle.dump(\n",
    "    sentence_length, \n",
    "    open(\"nytac_sentence_length.pkl\", \"wb\")\n",
    ")"
   ]
  }
 ],
 "metadata": {
  "kernelspec": {
   "display_name": "Python [conda env:annorxiver]",
   "language": "python",
   "name": "conda-env-annorxiver-py"
  },
  "language_info": {
   "codemirror_mode": {
    "name": "ipython",
    "version": 3
   },
   "file_extension": ".py",
   "mimetype": "text/x-python",
   "name": "python",
   "nbconvert_exporter": "python",
   "pygments_lexer": "ipython3",
   "version": "3.7.2"
  },
  "toc": {
   "base_numbering": 1,
   "nav_menu": {},
   "number_sections": true,
   "sideBar": true,
   "skip_h1_title": false,
   "title_cell": "Table of Contents",
   "title_sidebar": "Contents",
   "toc_cell": false,
   "toc_position": {},
   "toc_section_display": true,
   "toc_window_display": false
  }
 },
 "nbformat": 4,
 "nbformat_minor": 2
}
