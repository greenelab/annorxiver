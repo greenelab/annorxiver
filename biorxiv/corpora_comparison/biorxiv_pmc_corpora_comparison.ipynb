{
 "cells": [
  {
   "cell_type": "markdown",
   "metadata": {},
   "source": [
    "# Comparative Linguistic Analysis of bioRxiv and PMC"
   ]
  },
  {
   "cell_type": "code",
   "execution_count": 1,
   "metadata": {
    "ExecuteTime": {
     "end_time": "2020-05-19T19:13:05.425339Z",
     "start_time": "2020-05-19T19:13:04.856088Z"
    }
   },
   "outputs": [],
   "source": [
    "from collections import defaultdict, Counter\n",
    "import csv\n",
    "from pathlib import Path\n",
    "\n",
    "import numpy as np\n",
    "import pandas as pd\n",
    "import pickle\n",
    "import spacy\n",
    "from scipy.stats import chi2_contingency\n",
    "from tqdm import tqdm_notebook"
   ]
  },
  {
   "cell_type": "code",
   "execution_count": 2,
   "metadata": {
    "ExecuteTime": {
     "end_time": "2020-05-19T19:13:05.434235Z",
     "start_time": "2020-05-19T19:13:05.426703Z"
    }
   },
   "outputs": [],
   "source": [
    "def get_term_statistics(corpus_one, corpus_two, term, psudeocount=1, eps=1e-20):\n",
    "    \"\"\"\n",
    "    This function is designed to perform the folllowing calculations:\n",
    "        - chi square contingency test \n",
    "          - log pvalue + an epsilon (1e-20)\n",
    "        - log likelihood of contingency table\n",
    "        - log odds ratio\n",
    "        \n",
    "    keywords:\n",
    "        corpus_one - a Counter object with terms as keys and count as values\n",
    "        corpus_two - a Counter object with terms as keys and count as values\n",
    "        term - the word of interest\n",
    "    \"\"\"\n",
    "    observed_contingency_table = np.array([\n",
    "        [corpus_one[term], corpus_two[term]],\n",
    "        [sum(corpus_one.values()), sum(corpus_two.values())]\n",
    "    ])\n",
    "    \n",
    "    # Chi Squared Test\n",
    "    (chi_test_stat, p_val, dof, exp) = chi2_contingency(\n",
    "        observed_contingency_table, \n",
    "        correction=False\n",
    "    )\n",
    "    \n",
    "    # Log Likelihood\n",
    "    \n",
    "    ## add psudeocount to prevent log(0)\n",
    "    observed_contingency_table += psudeocount\n",
    "    \n",
    "    a, b, c, d = (\n",
    "        observed_contingency_table[0][0],\n",
    "        observed_contingency_table[0][1],\n",
    "        observed_contingency_table[1][0],\n",
    "        observed_contingency_table[1][1]\n",
    "    )\n",
    "    \n",
    "    # Obtained from (Kilgarriff, 2001) - Comparing Corpora\n",
    "    LL = lambda a,b,c,d: 2*(\n",
    "        a*np.log(a) + b*np.log(b) + c*np.log(c) + d*np.log(d)\n",
    "        - (a+b)*np.log(a+b) - (a+c)*np.log(a+c) - (b+d)*np.log(b+d)\n",
    "        - (c+d)*np.log(c+d) + (a+b+c+d)*np.log(a+b+c+d)\n",
    "    )\n",
    "    log_likelihood = LL(a,b,c,d)\n",
    "    \n",
    "    \n",
    "    # Log Odds\n",
    "    log_ratio = float((a*d)/(b*c))\n",
    "    \n",
    "    return {\n",
    "        \"chi_sq\": (\n",
    "            chi_test_stat, np.log(p_val+eps), dof,\n",
    "            (observed_contingency_table-psudeocount), exp\n",
    "        ),\n",
    "        \"log_likelihood\":log_likelihood,\n",
    "        \"odds_ratio\":log_ratio\n",
    "    }"
   ]
  },
  {
   "cell_type": "code",
   "execution_count": 3,
   "metadata": {
    "ExecuteTime": {
     "end_time": "2020-05-19T19:13:05.477030Z",
     "start_time": "2020-05-19T19:13:05.435850Z"
    }
   },
   "outputs": [],
   "source": [
    "def aggregate_word_counts(doc_iterator):\n",
    "    global_word_counter = Counter()\n",
    "    \n",
    "    for doc in tqdm_notebook(doc_iterator):\n",
    "        with open(doc, \"r\") as tsvfile:\n",
    "            reader = csv.DictReader(tsvfile, delimiter=\"\\t\")\n",
    "            global_word_counter.update({\n",
    "                row['lemma']:int(row['count'])\n",
    "                for row in reader\n",
    "            })\n",
    "\n",
    "    return global_word_counter"
   ]
  },
  {
   "cell_type": "code",
   "execution_count": 4,
   "metadata": {
    "ExecuteTime": {
     "end_time": "2020-05-19T19:13:05.549656Z",
     "start_time": "2020-05-19T19:13:05.478557Z"
    }
   },
   "outputs": [],
   "source": [
    "def remove_stop_words(corpus_one, corpus_two):\n",
    "    spacy_nlp = spacy.load('en_core_web_sm')\n",
    "    stop_word_list = list(spacy_nlp.Defaults.stop_words)\n",
    "    stop_word_list += ['  ', '\\t\\t\\t\\t', '\\u2009', ' ']\n",
    "    \n",
    "    for stopword in tqdm_notebook(stop_word_list):\n",
    "        if stopword in corpus_one:\n",
    "            del corpus_one[stopword]\n",
    "\n",
    "        if stopword in corpus_two:\n",
    "            del corpus_two[stopword]\n",
    "            \n",
    "    return corpus_one, corpus_two"
   ]
  },
  {
   "cell_type": "markdown",
   "metadata": {
    "ExecuteTime": {
     "end_time": "2020-05-13T20:36:16.924337Z",
     "start_time": "2020-05-13T20:35:57.563569Z"
    }
   },
   "source": [
    "# Full Text Comparison (Global)"
   ]
  },
  {
   "cell_type": "markdown",
   "metadata": {},
   "source": [
    "## Gather Word Frequencies"
   ]
  },
  {
   "cell_type": "code",
   "execution_count": 4,
   "metadata": {
    "ExecuteTime": {
     "end_time": "2020-05-18T13:35:53.337018Z",
     "start_time": "2020-05-18T13:21:49.882473Z"
    }
   },
   "outputs": [
    {
     "data": {
      "application/vnd.jupyter.widget-view+json": {
       "model_id": "e263e57044f54f258a38e32fdcd95fa4",
       "version_major": 2,
       "version_minor": 0
      },
      "text/plain": [
       "HBox(children=(IntProgress(value=0, max=71118), HTML(value='')))"
      ]
     },
     "metadata": {},
     "output_type": "display_data"
    },
    {
     "name": "stdout",
     "output_type": "stream",
     "text": [
      "\n"
     ]
    }
   ],
   "source": [
    "biorxiv_corpus_count = (\n",
    "    aggregate_word_counts(\n",
    "        list(Path(\"output/biorxiv_word_counts\").rglob(\"*tsv\"))\n",
    "    )\n",
    ")"
   ]
  },
  {
   "cell_type": "code",
   "execution_count": 5,
   "metadata": {
    "ExecuteTime": {
     "end_time": "2020-05-18T21:21:07.558012Z",
     "start_time": "2020-05-18T13:35:53.338399Z"
    }
   },
   "outputs": [
    {
     "data": {
      "application/vnd.jupyter.widget-view+json": {
       "model_id": "aed060ac281446698069e27363a9e0b3",
       "version_major": 2,
       "version_minor": 0
      },
      "text/plain": [
       "HBox(children=(IntProgress(value=0, max=1977647), HTML(value='')))"
      ]
     },
     "metadata": {},
     "output_type": "display_data"
    },
    {
     "name": "stdout",
     "output_type": "stream",
     "text": [
      "\n"
     ]
    }
   ],
   "source": [
    "pmc_corpus_count = (\n",
    "    aggregate_word_counts(\n",
    "        list(Path(\"output/pmc_word_counts\").rglob(\"*tsv\"))\n",
    "    )\n",
    ")"
   ]
  },
  {
   "cell_type": "code",
   "execution_count": 8,
   "metadata": {
    "ExecuteTime": {
     "end_time": "2020-05-18T21:42:51.095288Z",
     "start_time": "2020-05-18T21:42:50.774080Z"
    }
   },
   "outputs": [
    {
     "data": {
      "text/plain": [
       "[('the', 22645305),\n",
       " ('of', 14639481),\n",
       " ('be', 12811427),\n",
       " ('and', 11981224),\n",
       " ('in', 10135406),\n",
       " ('to', 8146337),\n",
       " ('a', 6603914),\n",
       " ('for', 4530456),\n",
       " ('with', 3974186),\n",
       " ('that', 3571258)]"
      ]
     },
     "execution_count": 8,
     "metadata": {},
     "output_type": "execute_result"
    }
   ],
   "source": [
    "biorxiv_corpus_count.most_common(10)"
   ]
  },
  {
   "cell_type": "code",
   "execution_count": 9,
   "metadata": {
    "ExecuteTime": {
     "end_time": "2020-05-18T21:43:01.035192Z",
     "start_time": "2020-05-18T21:42:51.096681Z"
    }
   },
   "outputs": [
    {
     "data": {
      "text/plain": [
       "[('the', 455469538),\n",
       " ('of', 305684946),\n",
       " ('be', 286477836),\n",
       " ('and', 258669662),\n",
       " ('in', 209068921),\n",
       " ('to', 154692995),\n",
       " ('a', 119114407),\n",
       " ('with', 87644270),\n",
       " ('for', 86185660),\n",
       " ('that', 61166926)]"
      ]
     },
     "execution_count": 9,
     "metadata": {},
     "output_type": "execute_result"
    }
   ],
   "source": [
    "pmc_corpus_count.most_common(10)"
   ]
  },
  {
   "cell_type": "code",
   "execution_count": 6,
   "metadata": {
    "ExecuteTime": {
     "end_time": "2020-05-18T21:35:17.612711Z",
     "start_time": "2020-05-18T21:34:27.575514Z"
    }
   },
   "outputs": [],
   "source": [
    "pickle.dump(biorxiv_corpus_count, open(\"output/biorxiv_total_count.pkl\", \"wb\"))\n",
    "pickle.dump(pmc_corpus_count, open(\"output/pmc_total_count.pkl\", \"wb\"))"
   ]
  },
  {
   "cell_type": "markdown",
   "metadata": {},
   "source": [
    "## Analysis without Stop Words"
   ]
  },
  {
   "cell_type": "code",
   "execution_count": 5,
   "metadata": {
    "ExecuteTime": {
     "end_time": "2020-05-19T19:14:14.193256Z",
     "start_time": "2020-05-19T19:13:12.192930Z"
    }
   },
   "outputs": [],
   "source": [
    "biorxiv_corpus_count = pickle.load(open(\"output/biorxiv_total_count.pkl\", \"rb\"))\n",
    "pmc_corpus_count = pickle.load(open(\"output/pmc_total_count.pkl\", \"rb\"))"
   ]
  },
  {
   "cell_type": "code",
   "execution_count": 6,
   "metadata": {
    "ExecuteTime": {
     "end_time": "2020-05-19T19:14:16.079185Z",
     "start_time": "2020-05-19T19:14:14.194416Z"
    }
   },
   "outputs": [
    {
     "data": {
      "application/vnd.jupyter.widget-view+json": {
       "model_id": "b21e823097f84b2bbd59e6b57f096324",
       "version_major": 2,
       "version_minor": 0
      },
      "text/plain": [
       "HBox(children=(IntProgress(value=0, max=330), HTML(value='')))"
      ]
     },
     "metadata": {},
     "output_type": "display_data"
    },
    {
     "name": "stdout",
     "output_type": "stream",
     "text": [
      "\n"
     ]
    }
   ],
   "source": [
    "biorxiv_corpus_count, pmc_corpus_count = remove_stop_words(\n",
    "    biorxiv_corpus_count,\n",
    "    pmc_corpus_count\n",
    ")"
   ]
  },
  {
   "cell_type": "code",
   "execution_count": 7,
   "metadata": {
    "ExecuteTime": {
     "end_time": "2020-05-19T19:14:16.346162Z",
     "start_time": "2020-05-19T19:14:16.080674Z"
    }
   },
   "outputs": [
    {
     "data": {
      "text/plain": [
       "[('cell', 2244256),\n",
       " ('use', 2206407),\n",
       " ('et', 1762805),\n",
       " ('al', 1754536),\n",
       " ('gene', 1347906),\n",
       " ('model', 1056802),\n",
       " ('fig', 1048216),\n",
       " ('figure', 987374),\n",
       " ('1', 946363),\n",
       " ('datum', 905227)]"
      ]
     },
     "execution_count": 7,
     "metadata": {},
     "output_type": "execute_result"
    }
   ],
   "source": [
    "top_ten_biorxiv = biorxiv_corpus_count.most_common(100)\n",
    "top_ten_biorxiv[0:10]"
   ]
  },
  {
   "cell_type": "code",
   "execution_count": 8,
   "metadata": {
    "ExecuteTime": {
     "end_time": "2020-05-19T19:14:25.280425Z",
     "start_time": "2020-05-19T19:14:16.347452Z"
    }
   },
   "outputs": [
    {
     "data": {
      "text/plain": [
       "[('use', 41761817),\n",
       " ('cell', 38244783),\n",
       " ('study', 30963261),\n",
       " ('patient', 22691935),\n",
       " ('1', 20819358),\n",
       " ('result', 18720685),\n",
       " ('et', 18125240),\n",
       " ('group', 17766474),\n",
       " ('al', 17456991),\n",
       " ('high', 17388204)]"
      ]
     },
     "execution_count": 8,
     "metadata": {},
     "output_type": "execute_result"
    }
   ],
   "source": [
    "top_ten_pmc = pmc_corpus_count.most_common(100)\n",
    "top_ten_pmc[0:10]"
   ]
  },
  {
   "cell_type": "code",
   "execution_count": 9,
   "metadata": {
    "ExecuteTime": {
     "end_time": "2020-05-19T19:14:43.179110Z",
     "start_time": "2020-05-19T19:14:25.281588Z"
    }
   },
   "outputs": [
    {
     "name": "stdout",
     "output_type": "stream",
     "text": [
      "Number of words in biorxiv but not in Pubmed Central:\n",
      "1096878\n"
     ]
    }
   ],
   "source": [
    "print(\"Number of words in biorxiv but not in Pubmed Central:\")\n",
    "biorxiv_difference = set(list(biorxiv_corpus_count.keys())) - set(list(pmc_corpus_count.keys()))\n",
    "print(len(biorxiv_difference))"
   ]
  },
  {
   "cell_type": "code",
   "execution_count": 10,
   "metadata": {
    "ExecuteTime": {
     "end_time": "2020-05-19T19:14:43.183186Z",
     "start_time": "2020-05-19T19:14:43.180074Z"
    }
   },
   "outputs": [
    {
     "data": {
      "text/plain": [
       "['f4,70=0.22',\n",
       " 'p(cac',\n",
       " '8821×',\n",
       " '5awl',\n",
       " 'n+2)(n+1)]/2',\n",
       " 'hbb2-la',\n",
       " 'cytichrome',\n",
       " 'https://tinyurl.com',\n",
       " 'ubccreert2/+:r26smom2/+',\n",
       " 'e1.2ca']"
      ]
     },
     "execution_count": 10,
     "metadata": {},
     "output_type": "execute_result"
    }
   ],
   "source": [
    "[\n",
    "    biorxiv_difference.pop()\n",
    "    for i in range(10)\n",
    "]"
   ]
  },
  {
   "cell_type": "code",
   "execution_count": 11,
   "metadata": {
    "ExecuteTime": {
     "end_time": "2020-05-19T19:15:06.244678Z",
     "start_time": "2020-05-19T19:14:43.184164Z"
    }
   },
   "outputs": [
    {
     "name": "stdout",
     "output_type": "stream",
     "text": [
      "Number of words in Pubmed Central but not in biorxiv:\n",
      "99591968\n"
     ]
    }
   ],
   "source": [
    "print(\"Number of words in Pubmed Central but not in biorxiv:\")\n",
    "pmc_difference = set(list(pmc_corpus_count.keys())) - set(list(biorxiv_corpus_count.keys()))\n",
    "print(len(pmc_difference))"
   ]
  },
  {
   "cell_type": "code",
   "execution_count": 12,
   "metadata": {
    "ExecuteTime": {
     "end_time": "2020-05-19T19:15:06.249490Z",
     "start_time": "2020-05-19T19:15:06.246496Z"
    }
   },
   "outputs": [
    {
     "data": {
      "text/plain": [
       "['matrix:(10)k=(kij)i',\n",
       " 'min(cr',\n",
       " 'd.fmultiple',\n",
       " '60.1)diabetes',\n",
       " 'smokingsalt',\n",
       " '470.2699.2-((4-fluorophenyl)amino)-2-oxoethyl(4r,4as,6ar,9s,11ar,11bs)-4,9,11b',\n",
       " 'product.**all',\n",
       " \"5'-gcaagcttagaaacgatagcc-3\",\n",
       " 'tosurgery',\n",
       " 'β2ftypyvqvkipgpgatyviwac']"
      ]
     },
     "execution_count": 12,
     "metadata": {},
     "output_type": "execute_result"
    }
   ],
   "source": [
    "[\n",
    "    pmc_difference.pop()\n",
    "    for i in range(10)\n",
    "]"
   ]
  },
  {
   "cell_type": "code",
   "execution_count": 13,
   "metadata": {
    "ExecuteTime": {
     "end_time": "2020-05-19T19:16:39.341748Z",
     "start_time": "2020-05-19T19:15:06.250994Z"
    }
   },
   "outputs": [
    {
     "data": {
      "application/vnd.jupyter.widget-view+json": {
       "model_id": "1b91c48651454dcb957866852ed1aec0",
       "version_major": 2,
       "version_minor": 0
      },
      "text/plain": [
       "HBox(children=(IntProgress(value=0, max=124), HTML(value='')))"
      ]
     },
     "metadata": {},
     "output_type": "display_data"
    },
    {
     "name": "stdout",
     "output_type": "stream",
     "text": [
      "\n"
     ]
    }
   ],
   "source": [
    "total_words = set(list(dict(top_ten_biorxiv).keys()) + list(dict(top_ten_pmc).keys()))\n",
    "data = []\n",
    "for word in tqdm_notebook(total_words):\n",
    "    \n",
    "    word_stat = get_term_statistics(\n",
    "        biorxiv_corpus_count,\n",
    "        pmc_corpus_count,\n",
    "        word\n",
    "    )\n",
    "    \n",
    "    data.append({\n",
    "        \"lemma\": word,\n",
    "        \"biorxiv_count\":biorxiv_corpus_count[word] if word in biorxiv_corpus_count else 0,\n",
    "        \"pmc_count\":pmc_corpus_count[word] if word in pmc_corpus_count else 0,\n",
    "        \"biorxiv_total\":word_stat['chi_sq'][3][1,0],\n",
    "        \"pmc_total\":word_stat['chi_sq'][3][1,1],\n",
    "        \"log_p\": word_stat['chi_sq'][1],\n",
    "        \"log_likelihood\": word_stat['log_likelihood'],\n",
    "        \"odds_ratio\": word_stat['odds_ratio']\n",
    "    })"
   ]
  },
  {
   "cell_type": "code",
   "execution_count": 14,
   "metadata": {
    "ExecuteTime": {
     "end_time": "2020-05-19T19:16:39.354799Z",
     "start_time": "2020-05-19T19:16:39.342842Z"
    }
   },
   "outputs": [
    {
     "data": {
      "text/html": [
       "<div>\n",
       "<style scoped>\n",
       "    .dataframe tbody tr th:only-of-type {\n",
       "        vertical-align: middle;\n",
       "    }\n",
       "\n",
       "    .dataframe tbody tr th {\n",
       "        vertical-align: top;\n",
       "    }\n",
       "\n",
       "    .dataframe thead th {\n",
       "        text-align: right;\n",
       "    }\n",
       "</style>\n",
       "<table border=\"1\" class=\"dataframe\">\n",
       "  <thead>\n",
       "    <tr style=\"text-align: right;\">\n",
       "      <th></th>\n",
       "      <th>lemma</th>\n",
       "      <th>biorxiv_count</th>\n",
       "      <th>pmc_count</th>\n",
       "      <th>biorxiv_total</th>\n",
       "      <th>pmc_total</th>\n",
       "      <th>log_p</th>\n",
       "      <th>log_likelihood</th>\n",
       "      <th>odds_ratio</th>\n",
       "    </tr>\n",
       "  </thead>\n",
       "  <tbody>\n",
       "    <tr>\n",
       "      <td>0</td>\n",
       "      <td>network</td>\n",
       "      <td>327163</td>\n",
       "      <td>2817271</td>\n",
       "      <td>262487093</td>\n",
       "      <td>5343153698</td>\n",
       "      <td>-46.051702</td>\n",
       "      <td>173460.809540</td>\n",
       "      <td>2.363886</td>\n",
       "    </tr>\n",
       "    <tr>\n",
       "      <td>1</td>\n",
       "      <td>mm</td>\n",
       "      <td>238892</td>\n",
       "      <td>5766104</td>\n",
       "      <td>262487093</td>\n",
       "      <td>5343153698</td>\n",
       "      <td>-46.051702</td>\n",
       "      <td>7011.558929</td>\n",
       "      <td>0.843355</td>\n",
       "    </tr>\n",
       "    <tr>\n",
       "      <td>2</td>\n",
       "      <td>provide</td>\n",
       "      <td>313503</td>\n",
       "      <td>5998002</td>\n",
       "      <td>262487093</td>\n",
       "      <td>5343153698</td>\n",
       "      <td>-46.051702</td>\n",
       "      <td>1122.893677</td>\n",
       "      <td>1.063962</td>\n",
       "    </tr>\n",
       "    <tr>\n",
       "      <td>3</td>\n",
       "      <td>time</td>\n",
       "      <td>741727</td>\n",
       "      <td>13700113</td>\n",
       "      <td>262487093</td>\n",
       "      <td>5343153698</td>\n",
       "      <td>-46.051702</td>\n",
       "      <td>6440.151367</td>\n",
       "      <td>1.102073</td>\n",
       "    </tr>\n",
       "    <tr>\n",
       "      <td>4</td>\n",
       "      <td>al</td>\n",
       "      <td>1754536</td>\n",
       "      <td>17456991</td>\n",
       "      <td>262487093</td>\n",
       "      <td>5343153698</td>\n",
       "      <td>-46.051702</td>\n",
       "      <td>671885.110535</td>\n",
       "      <td>2.045893</td>\n",
       "    </tr>\n",
       "  </tbody>\n",
       "</table>\n",
       "</div>"
      ],
      "text/plain": [
       "     lemma  biorxiv_count  pmc_count  biorxiv_total   pmc_total      log_p  \\\n",
       "0  network         327163    2817271      262487093  5343153698 -46.051702   \n",
       "1       mm         238892    5766104      262487093  5343153698 -46.051702   \n",
       "2  provide         313503    5998002      262487093  5343153698 -46.051702   \n",
       "3     time         741727   13700113      262487093  5343153698 -46.051702   \n",
       "4       al        1754536   17456991      262487093  5343153698 -46.051702   \n",
       "\n",
       "   log_likelihood  odds_ratio  \n",
       "0   173460.809540    2.363886  \n",
       "1     7011.558929    0.843355  \n",
       "2     1122.893677    1.063962  \n",
       "3     6440.151367    1.102073  \n",
       "4   671885.110535    2.045893  "
      ]
     },
     "execution_count": 14,
     "metadata": {},
     "output_type": "execute_result"
    }
   ],
   "source": [
    "total_word_stats_df = pd.DataFrame.from_records(data)\n",
    "total_word_stats_df.to_csv(\n",
    "    \"output/full_corpus_comparison_stats.tsv\", \n",
    "    sep=\"\\t\", index=False\n",
    ")\n",
    "total_word_stats_df.head()"
   ]
  },
  {
   "cell_type": "code",
   "execution_count": 15,
   "metadata": {
    "ExecuteTime": {
     "end_time": "2020-05-19T19:16:39.391756Z",
     "start_time": "2020-05-19T19:16:39.356054Z"
    }
   },
   "outputs": [
    {
     "data": {
      "text/html": [
       "<div>\n",
       "<style scoped>\n",
       "    .dataframe tbody tr th:only-of-type {\n",
       "        vertical-align: middle;\n",
       "    }\n",
       "\n",
       "    .dataframe tbody tr th {\n",
       "        vertical-align: top;\n",
       "    }\n",
       "\n",
       "    .dataframe thead th {\n",
       "        text-align: right;\n",
       "    }\n",
       "</style>\n",
       "<table border=\"1\" class=\"dataframe\">\n",
       "  <thead>\n",
       "    <tr style=\"text-align: right;\">\n",
       "      <th></th>\n",
       "      <th>lemma</th>\n",
       "      <th>biorxiv_count</th>\n",
       "      <th>pmc_count</th>\n",
       "      <th>biorxiv_total</th>\n",
       "      <th>pmc_total</th>\n",
       "      <th>log_p</th>\n",
       "      <th>log_likelihood</th>\n",
       "      <th>odds_ratio</th>\n",
       "    </tr>\n",
       "  </thead>\n",
       "  <tbody>\n",
       "    <tr>\n",
       "      <td>67</td>\n",
       "      <td>patient</td>\n",
       "      <td>213034</td>\n",
       "      <td>22691935</td>\n",
       "      <td>262487093</td>\n",
       "      <td>5343153698</td>\n",
       "      <td>-46.051702</td>\n",
       "      <td>1.060795e+06</td>\n",
       "      <td>0.191104</td>\n",
       "    </tr>\n",
       "    <tr>\n",
       "      <td>4</td>\n",
       "      <td>al</td>\n",
       "      <td>1754536</td>\n",
       "      <td>17456991</td>\n",
       "      <td>262487093</td>\n",
       "      <td>5343153698</td>\n",
       "      <td>-46.051702</td>\n",
       "      <td>6.718851e+05</td>\n",
       "      <td>2.045893</td>\n",
       "    </tr>\n",
       "    <tr>\n",
       "      <td>87</td>\n",
       "      <td>et</td>\n",
       "      <td>1762805</td>\n",
       "      <td>18125240</td>\n",
       "      <td>262487093</td>\n",
       "      <td>5343153698</td>\n",
       "      <td>-46.051702</td>\n",
       "      <td>6.209390e+05</td>\n",
       "      <td>1.979750</td>\n",
       "    </tr>\n",
       "    <tr>\n",
       "      <td>88</td>\n",
       "      <td>gene</td>\n",
       "      <td>1347906</td>\n",
       "      <td>14688675</td>\n",
       "      <td>262487093</td>\n",
       "      <td>5343153698</td>\n",
       "      <td>-46.051702</td>\n",
       "      <td>4.053052e+05</td>\n",
       "      <td>1.867957</td>\n",
       "    </tr>\n",
       "    <tr>\n",
       "      <td>105</td>\n",
       "      <td>±</td>\n",
       "      <td>146921</td>\n",
       "      <td>11016755</td>\n",
       "      <td>262487093</td>\n",
       "      <td>5343153698</td>\n",
       "      <td>-46.051702</td>\n",
       "      <td>3.912581e+05</td>\n",
       "      <td>0.271471</td>\n",
       "    </tr>\n",
       "    <tr>\n",
       "      <td>48</td>\n",
       "      <td>study</td>\n",
       "      <td>829495</td>\n",
       "      <td>30963261</td>\n",
       "      <td>262487093</td>\n",
       "      <td>5343153698</td>\n",
       "      <td>-46.051702</td>\n",
       "      <td>3.606828e+05</td>\n",
       "      <td>0.545327</td>\n",
       "    </tr>\n",
       "    <tr>\n",
       "      <td>62</td>\n",
       "      <td>health</td>\n",
       "      <td>53602</td>\n",
       "      <td>6392583</td>\n",
       "      <td>262487093</td>\n",
       "      <td>5343153698</td>\n",
       "      <td>-46.051702</td>\n",
       "      <td>3.208518e+05</td>\n",
       "      <td>0.170688</td>\n",
       "    </tr>\n",
       "    <tr>\n",
       "      <td>37</td>\n",
       "      <td>genome</td>\n",
       "      <td>397888</td>\n",
       "      <td>2713361</td>\n",
       "      <td>262487093</td>\n",
       "      <td>5343153698</td>\n",
       "      <td>-46.051702</td>\n",
       "      <td>3.169573e+05</td>\n",
       "      <td>2.984997</td>\n",
       "    </tr>\n",
       "    <tr>\n",
       "      <td>122</td>\n",
       "      <td>model</td>\n",
       "      <td>1056802</td>\n",
       "      <td>11568141</td>\n",
       "      <td>262487093</td>\n",
       "      <td>5343153698</td>\n",
       "      <td>-46.051702</td>\n",
       "      <td>3.139181e+05</td>\n",
       "      <td>1.859603</td>\n",
       "    </tr>\n",
       "    <tr>\n",
       "      <td>21</td>\n",
       "      <td>neuron</td>\n",
       "      <td>305653</td>\n",
       "      <td>1968004</td>\n",
       "      <td>262487093</td>\n",
       "      <td>5343153698</td>\n",
       "      <td>-46.051702</td>\n",
       "      <td>2.650666e+05</td>\n",
       "      <td>3.161503</td>\n",
       "    </tr>\n",
       "    <tr>\n",
       "      <td>118</td>\n",
       "      <td>group</td>\n",
       "      <td>442718</td>\n",
       "      <td>17766474</td>\n",
       "      <td>262487093</td>\n",
       "      <td>5343153698</td>\n",
       "      <td>-46.051702</td>\n",
       "      <td>2.484755e+05</td>\n",
       "      <td>0.507244</td>\n",
       "    </tr>\n",
       "    <tr>\n",
       "      <td>13</td>\n",
       "      <td>treatment</td>\n",
       "      <td>238340</td>\n",
       "      <td>10425186</td>\n",
       "      <td>262487093</td>\n",
       "      <td>5343153698</td>\n",
       "      <td>-46.051702</td>\n",
       "      <td>1.758087e+05</td>\n",
       "      <td>0.465377</td>\n",
       "    </tr>\n",
       "    <tr>\n",
       "      <td>86</td>\n",
       "      <td>year</td>\n",
       "      <td>118833</td>\n",
       "      <td>6734833</td>\n",
       "      <td>262487093</td>\n",
       "      <td>5343153698</td>\n",
       "      <td>-46.051702</td>\n",
       "      <td>1.740909e+05</td>\n",
       "      <td>0.359173</td>\n",
       "    </tr>\n",
       "    <tr>\n",
       "      <td>0</td>\n",
       "      <td>network</td>\n",
       "      <td>327163</td>\n",
       "      <td>2817271</td>\n",
       "      <td>262487093</td>\n",
       "      <td>5343153698</td>\n",
       "      <td>-46.051702</td>\n",
       "      <td>1.734608e+05</td>\n",
       "      <td>2.363886</td>\n",
       "    </tr>\n",
       "    <tr>\n",
       "      <td>18</td>\n",
       "      <td>fig</td>\n",
       "      <td>1048216</td>\n",
       "      <td>13623351</td>\n",
       "      <td>262487093</td>\n",
       "      <td>5343153698</td>\n",
       "      <td>-46.051702</td>\n",
       "      <td>1.722209e+05</td>\n",
       "      <td>1.566235</td>\n",
       "    </tr>\n",
       "    <tr>\n",
       "      <td>52</td>\n",
       "      <td>sequence</td>\n",
       "      <td>584316</td>\n",
       "      <td>6526973</td>\n",
       "      <td>262487093</td>\n",
       "      <td>5343153698</td>\n",
       "      <td>-46.051702</td>\n",
       "      <td>1.636894e+05</td>\n",
       "      <td>1.822327</td>\n",
       "    </tr>\n",
       "    <tr>\n",
       "      <td>26</td>\n",
       "      <td>risk</td>\n",
       "      <td>98853</td>\n",
       "      <td>5700168</td>\n",
       "      <td>262487093</td>\n",
       "      <td>5343153698</td>\n",
       "      <td>-46.051702</td>\n",
       "      <td>1.508185e+05</td>\n",
       "      <td>0.353017</td>\n",
       "    </tr>\n",
       "    <tr>\n",
       "      <td>32</td>\n",
       "      <td>set</td>\n",
       "      <td>419865</td>\n",
       "      <td>4703878</td>\n",
       "      <td>262487093</td>\n",
       "      <td>5343153698</td>\n",
       "      <td>-46.051702</td>\n",
       "      <td>1.166279e+05</td>\n",
       "      <td>1.816955</td>\n",
       "    </tr>\n",
       "    <tr>\n",
       "      <td>71</td>\n",
       "      <td>single</td>\n",
       "      <td>357273</td>\n",
       "      <td>3825621</td>\n",
       "      <td>262487093</td>\n",
       "      <td>5343153698</td>\n",
       "      <td>-46.051702</td>\n",
       "      <td>1.131987e+05</td>\n",
       "      <td>1.901030</td>\n",
       "    </tr>\n",
       "    <tr>\n",
       "      <td>82</td>\n",
       "      <td>region</td>\n",
       "      <td>487360</td>\n",
       "      <td>5805523</td>\n",
       "      <td>262487093</td>\n",
       "      <td>5343153698</td>\n",
       "      <td>-46.051702</td>\n",
       "      <td>1.111609e+05</td>\n",
       "      <td>1.708831</td>\n",
       "    </tr>\n",
       "  </tbody>\n",
       "</table>\n",
       "</div>"
      ],
      "text/plain": [
       "         lemma  biorxiv_count  pmc_count  biorxiv_total   pmc_total  \\\n",
       "67     patient         213034   22691935      262487093  5343153698   \n",
       "4           al        1754536   17456991      262487093  5343153698   \n",
       "87          et        1762805   18125240      262487093  5343153698   \n",
       "88        gene        1347906   14688675      262487093  5343153698   \n",
       "105          ±         146921   11016755      262487093  5343153698   \n",
       "48       study         829495   30963261      262487093  5343153698   \n",
       "62      health          53602    6392583      262487093  5343153698   \n",
       "37      genome         397888    2713361      262487093  5343153698   \n",
       "122      model        1056802   11568141      262487093  5343153698   \n",
       "21      neuron         305653    1968004      262487093  5343153698   \n",
       "118      group         442718   17766474      262487093  5343153698   \n",
       "13   treatment         238340   10425186      262487093  5343153698   \n",
       "86        year         118833    6734833      262487093  5343153698   \n",
       "0      network         327163    2817271      262487093  5343153698   \n",
       "18         fig        1048216   13623351      262487093  5343153698   \n",
       "52    sequence         584316    6526973      262487093  5343153698   \n",
       "26        risk          98853    5700168      262487093  5343153698   \n",
       "32         set         419865    4703878      262487093  5343153698   \n",
       "71      single         357273    3825621      262487093  5343153698   \n",
       "82      region         487360    5805523      262487093  5343153698   \n",
       "\n",
       "         log_p  log_likelihood  odds_ratio  \n",
       "67  -46.051702    1.060795e+06    0.191104  \n",
       "4   -46.051702    6.718851e+05    2.045893  \n",
       "87  -46.051702    6.209390e+05    1.979750  \n",
       "88  -46.051702    4.053052e+05    1.867957  \n",
       "105 -46.051702    3.912581e+05    0.271471  \n",
       "48  -46.051702    3.606828e+05    0.545327  \n",
       "62  -46.051702    3.208518e+05    0.170688  \n",
       "37  -46.051702    3.169573e+05    2.984997  \n",
       "122 -46.051702    3.139181e+05    1.859603  \n",
       "21  -46.051702    2.650666e+05    3.161503  \n",
       "118 -46.051702    2.484755e+05    0.507244  \n",
       "13  -46.051702    1.758087e+05    0.465377  \n",
       "86  -46.051702    1.740909e+05    0.359173  \n",
       "0   -46.051702    1.734608e+05    2.363886  \n",
       "18  -46.051702    1.722209e+05    1.566235  \n",
       "52  -46.051702    1.636894e+05    1.822327  \n",
       "26  -46.051702    1.508185e+05    0.353017  \n",
       "32  -46.051702    1.166279e+05    1.816955  \n",
       "71  -46.051702    1.131987e+05    1.901030  \n",
       "82  -46.051702    1.111609e+05    1.708831  "
      ]
     },
     "execution_count": 15,
     "metadata": {},
     "output_type": "execute_result"
    }
   ],
   "source": [
    "(\n",
    "    total_word_stats_df\n",
    "    .sort_values(\"log_likelihood\", ascending=False)\n",
    "    .head(20)\n",
    ")"
   ]
  },
  {
   "cell_type": "code",
   "execution_count": 16,
   "metadata": {
    "ExecuteTime": {
     "end_time": "2020-05-19T19:16:39.466956Z",
     "start_time": "2020-05-19T19:16:39.392725Z"
    }
   },
   "outputs": [
    {
     "data": {
      "text/html": [
       "<div>\n",
       "<style scoped>\n",
       "    .dataframe tbody tr th:only-of-type {\n",
       "        vertical-align: middle;\n",
       "    }\n",
       "\n",
       "    .dataframe tbody tr th {\n",
       "        vertical-align: top;\n",
       "    }\n",
       "\n",
       "    .dataframe thead th {\n",
       "        text-align: right;\n",
       "    }\n",
       "</style>\n",
       "<table border=\"1\" class=\"dataframe\">\n",
       "  <thead>\n",
       "    <tr style=\"text-align: right;\">\n",
       "      <th></th>\n",
       "      <th>lemma</th>\n",
       "      <th>biorxiv_count</th>\n",
       "      <th>pmc_count</th>\n",
       "      <th>biorxiv_total</th>\n",
       "      <th>pmc_total</th>\n",
       "      <th>log_p</th>\n",
       "      <th>log_likelihood</th>\n",
       "      <th>odds_ratio</th>\n",
       "    </tr>\n",
       "  </thead>\n",
       "  <tbody>\n",
       "    <tr>\n",
       "      <td>21</td>\n",
       "      <td>neuron</td>\n",
       "      <td>305653</td>\n",
       "      <td>1968004</td>\n",
       "      <td>262487093</td>\n",
       "      <td>5343153698</td>\n",
       "      <td>-46.051702</td>\n",
       "      <td>265066.560577</td>\n",
       "      <td>3.161503</td>\n",
       "    </tr>\n",
       "    <tr>\n",
       "      <td>37</td>\n",
       "      <td>genome</td>\n",
       "      <td>397888</td>\n",
       "      <td>2713361</td>\n",
       "      <td>262487093</td>\n",
       "      <td>5343153698</td>\n",
       "      <td>-46.051702</td>\n",
       "      <td>316957.302246</td>\n",
       "      <td>2.984997</td>\n",
       "    </tr>\n",
       "    <tr>\n",
       "      <td>0</td>\n",
       "      <td>network</td>\n",
       "      <td>327163</td>\n",
       "      <td>2817271</td>\n",
       "      <td>262487093</td>\n",
       "      <td>5343153698</td>\n",
       "      <td>-46.051702</td>\n",
       "      <td>173460.809540</td>\n",
       "      <td>2.363886</td>\n",
       "    </tr>\n",
       "    <tr>\n",
       "      <td>4</td>\n",
       "      <td>al</td>\n",
       "      <td>1754536</td>\n",
       "      <td>17456991</td>\n",
       "      <td>262487093</td>\n",
       "      <td>5343153698</td>\n",
       "      <td>-46.051702</td>\n",
       "      <td>671885.110535</td>\n",
       "      <td>2.045893</td>\n",
       "    </tr>\n",
       "    <tr>\n",
       "      <td>87</td>\n",
       "      <td>et</td>\n",
       "      <td>1762805</td>\n",
       "      <td>18125240</td>\n",
       "      <td>262487093</td>\n",
       "      <td>5343153698</td>\n",
       "      <td>-46.051702</td>\n",
       "      <td>620939.022369</td>\n",
       "      <td>1.979750</td>\n",
       "    </tr>\n",
       "    <tr>\n",
       "      <td>71</td>\n",
       "      <td>single</td>\n",
       "      <td>357273</td>\n",
       "      <td>3825621</td>\n",
       "      <td>262487093</td>\n",
       "      <td>5343153698</td>\n",
       "      <td>-46.051702</td>\n",
       "      <td>113198.720154</td>\n",
       "      <td>1.901030</td>\n",
       "    </tr>\n",
       "    <tr>\n",
       "      <td>88</td>\n",
       "      <td>gene</td>\n",
       "      <td>1347906</td>\n",
       "      <td>14688675</td>\n",
       "      <td>262487093</td>\n",
       "      <td>5343153698</td>\n",
       "      <td>-46.051702</td>\n",
       "      <td>405305.237457</td>\n",
       "      <td>1.867957</td>\n",
       "    </tr>\n",
       "    <tr>\n",
       "      <td>72</td>\n",
       "      <td>rna</td>\n",
       "      <td>305858</td>\n",
       "      <td>3333698</td>\n",
       "      <td>262487093</td>\n",
       "      <td>5343153698</td>\n",
       "      <td>-46.051702</td>\n",
       "      <td>92167.882568</td>\n",
       "      <td>1.867603</td>\n",
       "    </tr>\n",
       "    <tr>\n",
       "      <td>122</td>\n",
       "      <td>model</td>\n",
       "      <td>1056802</td>\n",
       "      <td>11568141</td>\n",
       "      <td>262487093</td>\n",
       "      <td>5343153698</td>\n",
       "      <td>-46.051702</td>\n",
       "      <td>313918.083496</td>\n",
       "      <td>1.859603</td>\n",
       "    </tr>\n",
       "    <tr>\n",
       "      <td>63</td>\n",
       "      <td>specie</td>\n",
       "      <td>384720</td>\n",
       "      <td>4254993</td>\n",
       "      <td>262487093</td>\n",
       "      <td>5343153698</td>\n",
       "      <td>-46.051702</td>\n",
       "      <td>111070.702393</td>\n",
       "      <td>1.840504</td>\n",
       "    </tr>\n",
       "    <tr>\n",
       "      <td>117</td>\n",
       "      <td>distribution</td>\n",
       "      <td>312085</td>\n",
       "      <td>3458199</td>\n",
       "      <td>262487093</td>\n",
       "      <td>5343153698</td>\n",
       "      <td>-46.051702</td>\n",
       "      <td>89613.817566</td>\n",
       "      <td>1.837020</td>\n",
       "    </tr>\n",
       "    <tr>\n",
       "      <td>52</td>\n",
       "      <td>sequence</td>\n",
       "      <td>584316</td>\n",
       "      <td>6526973</td>\n",
       "      <td>262487093</td>\n",
       "      <td>5343153698</td>\n",
       "      <td>-46.051702</td>\n",
       "      <td>163689.439270</td>\n",
       "      <td>1.822327</td>\n",
       "    </tr>\n",
       "    <tr>\n",
       "      <td>32</td>\n",
       "      <td>set</td>\n",
       "      <td>419865</td>\n",
       "      <td>4703878</td>\n",
       "      <td>262487093</td>\n",
       "      <td>5343153698</td>\n",
       "      <td>-46.051702</td>\n",
       "      <td>116627.886597</td>\n",
       "      <td>1.816955</td>\n",
       "    </tr>\n",
       "    <tr>\n",
       "      <td>51</td>\n",
       "      <td>state</td>\n",
       "      <td>307336</td>\n",
       "      <td>3632428</td>\n",
       "      <td>262487093</td>\n",
       "      <td>5343153698</td>\n",
       "      <td>-46.051702</td>\n",
       "      <td>72019.326019</td>\n",
       "      <td>1.722295</td>\n",
       "    </tr>\n",
       "    <tr>\n",
       "      <td>82</td>\n",
       "      <td>region</td>\n",
       "      <td>487360</td>\n",
       "      <td>5805523</td>\n",
       "      <td>262487093</td>\n",
       "      <td>5343153698</td>\n",
       "      <td>-46.051702</td>\n",
       "      <td>111160.945496</td>\n",
       "      <td>1.708831</td>\n",
       "    </tr>\n",
       "    <tr>\n",
       "      <td>110</td>\n",
       "      <td>population</td>\n",
       "      <td>499681</td>\n",
       "      <td>6142743</td>\n",
       "      <td>262487093</td>\n",
       "      <td>5343153698</td>\n",
       "      <td>-46.051702</td>\n",
       "      <td>102006.270935</td>\n",
       "      <td>1.655850</td>\n",
       "    </tr>\n",
       "    <tr>\n",
       "      <td>68</td>\n",
       "      <td>interaction</td>\n",
       "      <td>329791</td>\n",
       "      <td>4062590</td>\n",
       "      <td>262487093</td>\n",
       "      <td>5343153698</td>\n",
       "      <td>-46.051702</td>\n",
       "      <td>66852.486328</td>\n",
       "      <td>1.652444</td>\n",
       "    </tr>\n",
       "    <tr>\n",
       "      <td>49</td>\n",
       "      <td>estimate</td>\n",
       "      <td>313379</td>\n",
       "      <td>3898579</td>\n",
       "      <td>262487093</td>\n",
       "      <td>5343153698</td>\n",
       "      <td>-46.051702</td>\n",
       "      <td>61261.412292</td>\n",
       "      <td>1.636268</td>\n",
       "    </tr>\n",
       "    <tr>\n",
       "      <td>34</td>\n",
       "      <td>signal</td>\n",
       "      <td>351457</td>\n",
       "      <td>4520665</td>\n",
       "      <td>262487093</td>\n",
       "      <td>5343153698</td>\n",
       "      <td>-46.051702</td>\n",
       "      <td>60359.144775</td>\n",
       "      <td>1.582562</td>\n",
       "    </tr>\n",
       "    <tr>\n",
       "      <td>18</td>\n",
       "      <td>fig</td>\n",
       "      <td>1048216</td>\n",
       "      <td>13623351</td>\n",
       "      <td>262487093</td>\n",
       "      <td>5343153698</td>\n",
       "      <td>-46.051702</td>\n",
       "      <td>172220.926361</td>\n",
       "      <td>1.566235</td>\n",
       "    </tr>\n",
       "  </tbody>\n",
       "</table>\n",
       "</div>"
      ],
      "text/plain": [
       "            lemma  biorxiv_count  pmc_count  biorxiv_total   pmc_total  \\\n",
       "21         neuron         305653    1968004      262487093  5343153698   \n",
       "37         genome         397888    2713361      262487093  5343153698   \n",
       "0         network         327163    2817271      262487093  5343153698   \n",
       "4              al        1754536   17456991      262487093  5343153698   \n",
       "87             et        1762805   18125240      262487093  5343153698   \n",
       "71         single         357273    3825621      262487093  5343153698   \n",
       "88           gene        1347906   14688675      262487093  5343153698   \n",
       "72            rna         305858    3333698      262487093  5343153698   \n",
       "122         model        1056802   11568141      262487093  5343153698   \n",
       "63         specie         384720    4254993      262487093  5343153698   \n",
       "117  distribution         312085    3458199      262487093  5343153698   \n",
       "52       sequence         584316    6526973      262487093  5343153698   \n",
       "32            set         419865    4703878      262487093  5343153698   \n",
       "51          state         307336    3632428      262487093  5343153698   \n",
       "82         region         487360    5805523      262487093  5343153698   \n",
       "110    population         499681    6142743      262487093  5343153698   \n",
       "68    interaction         329791    4062590      262487093  5343153698   \n",
       "49       estimate         313379    3898579      262487093  5343153698   \n",
       "34         signal         351457    4520665      262487093  5343153698   \n",
       "18            fig        1048216   13623351      262487093  5343153698   \n",
       "\n",
       "         log_p  log_likelihood  odds_ratio  \n",
       "21  -46.051702   265066.560577    3.161503  \n",
       "37  -46.051702   316957.302246    2.984997  \n",
       "0   -46.051702   173460.809540    2.363886  \n",
       "4   -46.051702   671885.110535    2.045893  \n",
       "87  -46.051702   620939.022369    1.979750  \n",
       "71  -46.051702   113198.720154    1.901030  \n",
       "88  -46.051702   405305.237457    1.867957  \n",
       "72  -46.051702    92167.882568    1.867603  \n",
       "122 -46.051702   313918.083496    1.859603  \n",
       "63  -46.051702   111070.702393    1.840504  \n",
       "117 -46.051702    89613.817566    1.837020  \n",
       "52  -46.051702   163689.439270    1.822327  \n",
       "32  -46.051702   116627.886597    1.816955  \n",
       "51  -46.051702    72019.326019    1.722295  \n",
       "82  -46.051702   111160.945496    1.708831  \n",
       "110 -46.051702   102006.270935    1.655850  \n",
       "68  -46.051702    66852.486328    1.652444  \n",
       "49  -46.051702    61261.412292    1.636268  \n",
       "34  -46.051702    60359.144775    1.582562  \n",
       "18  -46.051702   172220.926361    1.566235  "
      ]
     },
     "execution_count": 16,
     "metadata": {},
     "output_type": "execute_result"
    }
   ],
   "source": [
    "(\n",
    "    total_word_stats_df\n",
    "    .sort_values(\"odds_ratio\", ascending=False)\n",
    "    .head(20)\n",
    ")"
   ]
  },
  {
   "cell_type": "markdown",
   "metadata": {},
   "source": [
    "# Preprint to Published View"
   ]
  },
  {
   "cell_type": "code",
   "execution_count": 17,
   "metadata": {
    "ExecuteTime": {
     "end_time": "2020-05-19T19:16:39.710810Z",
     "start_time": "2020-05-19T19:16:39.469254Z"
    }
   },
   "outputs": [
    {
     "data": {
      "text/html": [
       "<div>\n",
       "<style scoped>\n",
       "    .dataframe tbody tr th:only-of-type {\n",
       "        vertical-align: middle;\n",
       "    }\n",
       "\n",
       "    .dataframe tbody tr th {\n",
       "        vertical-align: top;\n",
       "    }\n",
       "\n",
       "    .dataframe thead th {\n",
       "        text-align: right;\n",
       "    }\n",
       "</style>\n",
       "<table border=\"1\" class=\"dataframe\">\n",
       "  <thead>\n",
       "    <tr style=\"text-align: right;\">\n",
       "      <th></th>\n",
       "      <th>author_type</th>\n",
       "      <th>heading</th>\n",
       "      <th>category</th>\n",
       "      <th>document</th>\n",
       "      <th>doi</th>\n",
       "      <th>published_doi</th>\n",
       "      <th>journal</th>\n",
       "      <th>pmcid</th>\n",
       "    </tr>\n",
       "  </thead>\n",
       "  <tbody>\n",
       "    <tr>\n",
       "      <td>17115</td>\n",
       "      <td>regular article</td>\n",
       "      <td>new results</td>\n",
       "      <td>animal behavior and cognition</td>\n",
       "      <td>852350_v1.xml</td>\n",
       "      <td>10.1101/852350</td>\n",
       "      <td>10.1371/journal.pone.0226774</td>\n",
       "      <td>PLOS ONE</td>\n",
       "      <td>PMC6961851</td>\n",
       "    </tr>\n",
       "    <tr>\n",
       "      <td>17116</td>\n",
       "      <td>regular article</td>\n",
       "      <td>new results</td>\n",
       "      <td>pathology</td>\n",
       "      <td>856542_v1.xml</td>\n",
       "      <td>10.1101/856542</td>\n",
       "      <td>10.1038/s41598-019-57046-x</td>\n",
       "      <td>Scientific Reports</td>\n",
       "      <td>PMC6969030</td>\n",
       "    </tr>\n",
       "    <tr>\n",
       "      <td>17117</td>\n",
       "      <td>regular article</td>\n",
       "      <td>new results</td>\n",
       "      <td>neuroscience</td>\n",
       "      <td>858100_v1.xml</td>\n",
       "      <td>10.1101/858100</td>\n",
       "      <td>10.3389/fnsyn.2019.00035</td>\n",
       "      <td>Frontiers in Synaptic Neuroscience</td>\n",
       "      <td>PMC6932971</td>\n",
       "    </tr>\n",
       "    <tr>\n",
       "      <td>17118</td>\n",
       "      <td>regular article</td>\n",
       "      <td>new results</td>\n",
       "      <td>genomics</td>\n",
       "      <td>862847_v1.xml</td>\n",
       "      <td>10.1101/862847</td>\n",
       "      <td>10.1186/s12864-019-6379-5</td>\n",
       "      <td>BMC Genomics</td>\n",
       "      <td>PMC6933653</td>\n",
       "    </tr>\n",
       "    <tr>\n",
       "      <td>17119</td>\n",
       "      <td>regular article</td>\n",
       "      <td>new results</td>\n",
       "      <td>bioinformatics</td>\n",
       "      <td>867903_v1.xml</td>\n",
       "      <td>10.1101/867903</td>\n",
       "      <td>10.1186/s13059-019-1915-9</td>\n",
       "      <td>Genome Biology</td>\n",
       "      <td>PMC6927177</td>\n",
       "    </tr>\n",
       "  </tbody>\n",
       "</table>\n",
       "</div>"
      ],
      "text/plain": [
       "           author_type      heading                       category  \\\n",
       "17115  regular article  new results  animal behavior and cognition   \n",
       "17116  regular article  new results                      pathology   \n",
       "17117  regular article  new results                   neuroscience   \n",
       "17118  regular article  new results                       genomics   \n",
       "17119  regular article  new results                 bioinformatics   \n",
       "\n",
       "            document             doi                 published_doi  \\\n",
       "17115  852350_v1.xml  10.1101/852350  10.1371/journal.pone.0226774   \n",
       "17116  856542_v1.xml  10.1101/856542    10.1038/s41598-019-57046-x   \n",
       "17117  858100_v1.xml  10.1101/858100      10.3389/fnsyn.2019.00035   \n",
       "17118  862847_v1.xml  10.1101/862847     10.1186/s12864-019-6379-5   \n",
       "17119  867903_v1.xml  10.1101/867903     10.1186/s13059-019-1915-9   \n",
       "\n",
       "                                  journal       pmcid  \n",
       "17115                            PLOS ONE  PMC6961851  \n",
       "17116                  Scientific Reports  PMC6969030  \n",
       "17117  Frontiers in Synaptic Neuroscience  PMC6932971  \n",
       "17118                        BMC Genomics  PMC6933653  \n",
       "17119                      Genome Biology  PMC6927177  "
      ]
     },
     "execution_count": 17,
     "metadata": {},
     "output_type": "execute_result"
    }
   ],
   "source": [
    "mapped_doi_df = (\n",
    "    pd.read_csv(\"../journal_tracker/output/mapped_published_doi.tsv\", sep=\"\\t\")\n",
    "    .query(\"published_doi.notnull()\")\n",
    "    .query(\"pmcid.notnull()\")\n",
    "    .groupby(\"doi\")\n",
    "    .agg({\n",
    "        \"author_type\":\"first\",\n",
    "        \"heading\":\"first\",\n",
    "        \"category\":\"first\",\n",
    "        \"document\":\"last\",\n",
    "        \"doi\":\"last\",\n",
    "        \"published_doi\":\"last\",\n",
    "        \"journal\":\"last\",\n",
    "        \"pmcid\":\"last\"\n",
    "    })\n",
    "    .reset_index(drop=True)\n",
    ")\n",
    "mapped_doi_df.tail()"
   ]
  },
  {
   "cell_type": "code",
   "execution_count": 18,
   "metadata": {
    "ExecuteTime": {
     "end_time": "2020-05-19T19:16:39.748866Z",
     "start_time": "2020-05-19T19:16:39.712056Z"
    }
   },
   "outputs": [
    {
     "data": {
      "application/vnd.jupyter.widget-view+json": {
       "model_id": "f7ab31dfbfd546a9b12423f8af4dcc2e",
       "version_major": 2,
       "version_minor": 0
      },
      "text/plain": [
       "HBox(children=(IntProgress(value=0, max=1), HTML(value='')))"
      ]
     },
     "metadata": {},
     "output_type": "display_data"
    },
    {
     "name": "stdout",
     "output_type": "stream",
     "text": [
      "\n"
     ]
    }
   ],
   "source": [
    "preprint_count = aggregate_word_counts(\n",
    "    [Path(\"output/biorxiv_word_counts/862847_v1.tsv\")]\n",
    ")"
   ]
  },
  {
   "cell_type": "code",
   "execution_count": 19,
   "metadata": {
    "ExecuteTime": {
     "end_time": "2020-05-19T19:16:39.852021Z",
     "start_time": "2020-05-19T19:16:39.749826Z"
    }
   },
   "outputs": [
    {
     "data": {
      "application/vnd.jupyter.widget-view+json": {
       "model_id": "31ae4952e8c144b289842f15ff92b127",
       "version_major": 2,
       "version_minor": 0
      },
      "text/plain": [
       "HBox(children=(IntProgress(value=0, max=1), HTML(value='')))"
      ]
     },
     "metadata": {},
     "output_type": "display_data"
    },
    {
     "name": "stdout",
     "output_type": "stream",
     "text": [
      "\n"
     ]
    }
   ],
   "source": [
    "published_count = aggregate_word_counts(\n",
    "    [Path(\"output/pmc_word_counts/PMC6933653.tsv\")]\n",
    ")"
   ]
  },
  {
   "cell_type": "code",
   "execution_count": 20,
   "metadata": {
    "ExecuteTime": {
     "end_time": "2020-05-19T19:16:47.751702Z",
     "start_time": "2020-05-19T19:16:39.853481Z"
    }
   },
   "outputs": [
    {
     "data": {
      "application/vnd.jupyter.widget-view+json": {
       "model_id": "f917ac90498d4415ab8c8bb4369b135a",
       "version_major": 2,
       "version_minor": 0
      },
      "text/plain": [
       "HBox(children=(IntProgress(value=0, max=330), HTML(value='')))"
      ]
     },
     "metadata": {},
     "output_type": "display_data"
    },
    {
     "name": "stdout",
     "output_type": "stream",
     "text": [
      "\n"
     ]
    }
   ],
   "source": [
    "preprint_count, published_count = remove_stop_words(\n",
    "    preprint_count,\n",
    "    published_count\n",
    ")"
   ]
  },
  {
   "cell_type": "code",
   "execution_count": 21,
   "metadata": {
    "ExecuteTime": {
     "end_time": "2020-05-19T19:16:47.756337Z",
     "start_time": "2020-05-19T19:16:47.752975Z"
    }
   },
   "outputs": [
    {
     "data": {
      "text/plain": [
       "[('gene', 118),\n",
       " ('cell', 117),\n",
       " ('ctcf', 96),\n",
       " ('expression', 59),\n",
       " ('variation', 55),\n",
       " ('cellular', 32),\n",
       " ('knockdown', 31),\n",
       " ('kd', 29),\n",
       " ('level', 24),\n",
       " ('use', 24)]"
      ]
     },
     "execution_count": 21,
     "metadata": {},
     "output_type": "execute_result"
    }
   ],
   "source": [
    "top_ten_preprint = preprint_count.most_common(100)\n",
    "top_ten_preprint[0:10]"
   ]
  },
  {
   "cell_type": "code",
   "execution_count": 22,
   "metadata": {
    "ExecuteTime": {
     "end_time": "2020-05-19T19:16:47.779296Z",
     "start_time": "2020-05-19T19:16:47.757265Z"
    }
   },
   "outputs": [
    {
     "data": {
      "text/plain": [
       "[('cell', 144),\n",
       " ('gene', 138),\n",
       " ('ctcf', 116),\n",
       " ('expression', 71),\n",
       " ('variation', 59),\n",
       " ('cellular', 37),\n",
       " ('kd', 37),\n",
       " ('knockdown', 35),\n",
       " ('wt', 30),\n",
       " ('single', 27)]"
      ]
     },
     "execution_count": 22,
     "metadata": {},
     "output_type": "execute_result"
    }
   ],
   "source": [
    "top_ten_published = published_count.most_common(100)\n",
    "top_ten_published[0:10]"
   ]
  },
  {
   "cell_type": "code",
   "execution_count": 23,
   "metadata": {
    "ExecuteTime": {
     "end_time": "2020-05-19T19:16:47.793290Z",
     "start_time": "2020-05-19T19:16:47.782858Z"
    }
   },
   "outputs": [
    {
     "name": "stdout",
     "output_type": "stream",
     "text": [
      "Number of words in preprint but not in published version:\n",
      "44\n"
     ]
    }
   ],
   "source": [
    "print(\"Number of words in preprint but not in published version:\")\n",
    "preprint_difference = set(list(preprint_count.keys())) - set(list(published_count.keys()))\n",
    "print(len(preprint_difference))"
   ]
  },
  {
   "cell_type": "code",
   "execution_count": 24,
   "metadata": {
    "ExecuteTime": {
     "end_time": "2020-05-19T19:16:47.876706Z",
     "start_time": "2020-05-19T19:16:47.794217Z"
    }
   },
   "outputs": [
    {
     "data": {
      "text/plain": [
       "['likely',\n",
       " '0.05',\n",
       " '13–16',\n",
       " 'r2=0.87',\n",
       " '1,490',\n",
       " '2c',\n",
       " '40µg',\n",
       " '0.16×10−6',\n",
       " '729',\n",
       " 'r2=0.86']"
      ]
     },
     "execution_count": 24,
     "metadata": {},
     "output_type": "execute_result"
    }
   ],
   "source": [
    "[\n",
    "    preprint_difference.pop()\n",
    "    for i in range(10)\n",
    "]"
   ]
  },
  {
   "cell_type": "code",
   "execution_count": 25,
   "metadata": {
    "ExecuteTime": {
     "end_time": "2020-05-19T19:16:47.943866Z",
     "start_time": "2020-05-19T19:16:47.880452Z"
    }
   },
   "outputs": [
    {
     "name": "stdout",
     "output_type": "stream",
     "text": [
      "Number of words in published version but not in preprint:\n",
      "109\n"
     ]
    }
   ],
   "source": [
    "print(\"Number of words in published version but not in preprint:\")\n",
    "published_difference = set(list(published_count.keys())) - set(list(preprint_count.keys()))\n",
    "print(len(published_difference))"
   ]
  },
  {
   "cell_type": "code",
   "execution_count": 26,
   "metadata": {
    "ExecuteTime": {
     "end_time": "2020-05-19T19:16:48.003305Z",
     "start_time": "2020-05-19T19:16:47.945371Z"
    }
   },
   "outputs": [
    {
     "data": {
      "text/plain": [
       "['shrnaknockdown',\n",
       " '\\\\setlength{\\\\oddsidemargin}{-69pt',\n",
       " 'systemin',\n",
       " 'unclear',\n",
       " 'c{v}_{kd}-c{v}_{wt',\n",
       " '0.8',\n",
       " 'sd',\n",
       " '\\\\usepackage{upgreek',\n",
       " 'comparison',\n",
       " 'cultureel4']"
      ]
     },
     "execution_count": 26,
     "metadata": {},
     "output_type": "execute_result"
    }
   ],
   "source": [
    "[\n",
    "    published_difference.pop()\n",
    "    for i in range(10)\n",
    "]"
   ]
  },
  {
   "cell_type": "code",
   "execution_count": 27,
   "metadata": {
    "ExecuteTime": {
     "end_time": "2020-05-19T19:16:48.124981Z",
     "start_time": "2020-05-19T19:16:48.013408Z"
    }
   },
   "outputs": [
    {
     "data": {
      "application/vnd.jupyter.widget-view+json": {
       "model_id": "b06c00b6b1724b578c2146f51ceaac08",
       "version_major": 2,
       "version_minor": 0
      },
      "text/plain": [
       "HBox(children=(IntProgress(value=0, max=116), HTML(value='')))"
      ]
     },
     "metadata": {},
     "output_type": "display_data"
    },
    {
     "name": "stdout",
     "output_type": "stream",
     "text": [
      "\n"
     ]
    }
   ],
   "source": [
    "total_words = set(list(dict(top_ten_preprint).keys()) + list(dict(top_ten_published).keys()))\n",
    "data = []\n",
    "for word in tqdm_notebook(total_words):\n",
    "    \n",
    "    word_stat = get_term_statistics(\n",
    "        preprint_count,\n",
    "        published_count,\n",
    "        word\n",
    "    )\n",
    "    \n",
    "    data.append({\n",
    "        \"lemma\": word,\n",
    "        \"preprint_count\":preprint_count[word] if word in preprint_count else 0,\n",
    "        \"published_count\":published_count[word] if word in published_count else 0,\n",
    "        \"preprint_total\":word_stat['chi_sq'][3][1,0],\n",
    "        \"published_total\":word_stat['chi_sq'][3][1,1],\n",
    "        \"log_p\": word_stat['chi_sq'][1],\n",
    "        \"log_likelihood\": word_stat['log_likelihood'],\n",
    "        \"odds_ratio\": word_stat['odds_ratio']\n",
    "    })"
   ]
  },
  {
   "cell_type": "code",
   "execution_count": 28,
   "metadata": {
    "ExecuteTime": {
     "end_time": "2020-05-19T19:16:48.137566Z",
     "start_time": "2020-05-19T19:16:48.126733Z"
    }
   },
   "outputs": [
    {
     "data": {
      "text/html": [
       "<div>\n",
       "<style scoped>\n",
       "    .dataframe tbody tr th:only-of-type {\n",
       "        vertical-align: middle;\n",
       "    }\n",
       "\n",
       "    .dataframe tbody tr th {\n",
       "        vertical-align: top;\n",
       "    }\n",
       "\n",
       "    .dataframe thead th {\n",
       "        text-align: right;\n",
       "    }\n",
       "</style>\n",
       "<table border=\"1\" class=\"dataframe\">\n",
       "  <thead>\n",
       "    <tr style=\"text-align: right;\">\n",
       "      <th></th>\n",
       "      <th>lemma</th>\n",
       "      <th>preprint_count</th>\n",
       "      <th>published_count</th>\n",
       "      <th>preprint_total</th>\n",
       "      <th>published_total</th>\n",
       "      <th>log_p</th>\n",
       "      <th>log_likelihood</th>\n",
       "      <th>odds_ratio</th>\n",
       "    </tr>\n",
       "  </thead>\n",
       "  <tbody>\n",
       "    <tr>\n",
       "      <td>0</td>\n",
       "      <td>landscape</td>\n",
       "      <td>5</td>\n",
       "      <td>7</td>\n",
       "      <td>2190</td>\n",
       "      <td>2670</td>\n",
       "      <td>-0.206573</td>\n",
       "      <td>0.027547</td>\n",
       "      <td>0.914309</td>\n",
       "    </tr>\n",
       "    <tr>\n",
       "      <td>1</td>\n",
       "      <td>zinc</td>\n",
       "      <td>12</td>\n",
       "      <td>13</td>\n",
       "      <td>2190</td>\n",
       "      <td>2670</td>\n",
       "      <td>-0.263482</td>\n",
       "      <td>0.102826</td>\n",
       "      <td>1.132001</td>\n",
       "    </tr>\n",
       "    <tr>\n",
       "      <td>2</td>\n",
       "      <td>4</td>\n",
       "      <td>4</td>\n",
       "      <td>4</td>\n",
       "      <td>2190</td>\n",
       "      <td>2670</td>\n",
       "      <td>-0.249612</td>\n",
       "      <td>0.097742</td>\n",
       "      <td>1.219078</td>\n",
       "    </tr>\n",
       "    <tr>\n",
       "      <td>3</td>\n",
       "      <td>enrichment</td>\n",
       "      <td>5</td>\n",
       "      <td>6</td>\n",
       "      <td>2190</td>\n",
       "      <td>2670</td>\n",
       "      <td>-0.021087</td>\n",
       "      <td>0.006215</td>\n",
       "      <td>1.044924</td>\n",
       "    </tr>\n",
       "    <tr>\n",
       "      <td>4</td>\n",
       "      <td>western</td>\n",
       "      <td>6</td>\n",
       "      <td>6</td>\n",
       "      <td>2190</td>\n",
       "      <td>2670</td>\n",
       "      <td>-0.312917</td>\n",
       "      <td>0.136726</td>\n",
       "      <td>1.219078</td>\n",
       "    </tr>\n",
       "  </tbody>\n",
       "</table>\n",
       "</div>"
      ],
      "text/plain": [
       "        lemma  preprint_count  published_count  preprint_total  \\\n",
       "0   landscape               5                7            2190   \n",
       "1        zinc              12               13            2190   \n",
       "2           4               4                4            2190   \n",
       "3  enrichment               5                6            2190   \n",
       "4     western               6                6            2190   \n",
       "\n",
       "   published_total     log_p  log_likelihood  odds_ratio  \n",
       "0             2670 -0.206573        0.027547    0.914309  \n",
       "1             2670 -0.263482        0.102826    1.132001  \n",
       "2             2670 -0.249612        0.097742    1.219078  \n",
       "3             2670 -0.021087        0.006215    1.044924  \n",
       "4             2670 -0.312917        0.136726    1.219078  "
      ]
     },
     "execution_count": 28,
     "metadata": {},
     "output_type": "execute_result"
    }
   ],
   "source": [
    "published_comparison_stats_df = pd.DataFrame.from_records(data)\n",
    "published_comparison_stats_df.to_csv(\n",
    "    \"output/544536_v2_PMC6687187_comparison.tsv\", \n",
    "    sep=\"\\t\", index=False\n",
    ")\n",
    "published_comparison_stats_df.head()"
   ]
  },
  {
   "cell_type": "code",
   "execution_count": 29,
   "metadata": {
    "ExecuteTime": {
     "end_time": "2020-05-19T19:16:48.163123Z",
     "start_time": "2020-05-19T19:16:48.138591Z"
    }
   },
   "outputs": [
    {
     "data": {
      "text/html": [
       "<div>\n",
       "<style scoped>\n",
       "    .dataframe tbody tr th:only-of-type {\n",
       "        vertical-align: middle;\n",
       "    }\n",
       "\n",
       "    .dataframe tbody tr th {\n",
       "        vertical-align: top;\n",
       "    }\n",
       "\n",
       "    .dataframe thead th {\n",
       "        text-align: right;\n",
       "    }\n",
       "</style>\n",
       "<table border=\"1\" class=\"dataframe\">\n",
       "  <thead>\n",
       "    <tr style=\"text-align: right;\">\n",
       "      <th></th>\n",
       "      <th>lemma</th>\n",
       "      <th>preprint_count</th>\n",
       "      <th>published_count</th>\n",
       "      <th>preprint_total</th>\n",
       "      <th>published_total</th>\n",
       "      <th>log_p</th>\n",
       "      <th>log_likelihood</th>\n",
       "      <th>odds_ratio</th>\n",
       "    </tr>\n",
       "  </thead>\n",
       "  <tbody>\n",
       "    <tr>\n",
       "      <td>29</td>\n",
       "      <td>file</td>\n",
       "      <td>0</td>\n",
       "      <td>11</td>\n",
       "      <td>2190</td>\n",
       "      <td>2670</td>\n",
       "      <td>-5.917748</td>\n",
       "      <td>8.899627</td>\n",
       "      <td>0.101590</td>\n",
       "    </tr>\n",
       "    <tr>\n",
       "      <td>31</td>\n",
       "      <td>figure</td>\n",
       "      <td>0</td>\n",
       "      <td>11</td>\n",
       "      <td>2190</td>\n",
       "      <td>2670</td>\n",
       "      <td>-5.917748</td>\n",
       "      <td>8.899627</td>\n",
       "      <td>0.101590</td>\n",
       "    </tr>\n",
       "    <tr>\n",
       "      <td>84</td>\n",
       "      <td>additional</td>\n",
       "      <td>0</td>\n",
       "      <td>10</td>\n",
       "      <td>2190</td>\n",
       "      <td>2670</td>\n",
       "      <td>-5.468921</td>\n",
       "      <td>7.871950</td>\n",
       "      <td>0.110825</td>\n",
       "    </tr>\n",
       "    <tr>\n",
       "      <td>96</td>\n",
       "      <td>17</td>\n",
       "      <td>7</td>\n",
       "      <td>1</td>\n",
       "      <td>2190</td>\n",
       "      <td>2670</td>\n",
       "      <td>-4.138550</td>\n",
       "      <td>5.131290</td>\n",
       "      <td>4.876312</td>\n",
       "    </tr>\n",
       "    <tr>\n",
       "      <td>36</td>\n",
       "      <td>p</td>\n",
       "      <td>1</td>\n",
       "      <td>9</td>\n",
       "      <td>2190</td>\n",
       "      <td>2670</td>\n",
       "      <td>-3.650212</td>\n",
       "      <td>4.345213</td>\n",
       "      <td>0.243816</td>\n",
       "    </tr>\n",
       "    <tr>\n",
       "      <td>28</td>\n",
       "      <td>10−</td>\n",
       "      <td>0</td>\n",
       "      <td>6</td>\n",
       "      <td>2190</td>\n",
       "      <td>2670</td>\n",
       "      <td>-3.626721</td>\n",
       "      <td>3.946189</td>\n",
       "      <td>0.174154</td>\n",
       "    </tr>\n",
       "    <tr>\n",
       "      <td>17</td>\n",
       "      <td>fig</td>\n",
       "      <td>23</td>\n",
       "      <td>17</td>\n",
       "      <td>2190</td>\n",
       "      <td>2670</td>\n",
       "      <td>-2.159152</td>\n",
       "      <td>2.438819</td>\n",
       "      <td>1.625437</td>\n",
       "    </tr>\n",
       "    <tr>\n",
       "      <td>103</td>\n",
       "      <td>plot</td>\n",
       "      <td>1</td>\n",
       "      <td>6</td>\n",
       "      <td>2190</td>\n",
       "      <td>2670</td>\n",
       "      <td>-2.283293</td>\n",
       "      <td>2.036108</td>\n",
       "      <td>0.348308</td>\n",
       "    </tr>\n",
       "    <tr>\n",
       "      <td>114</td>\n",
       "      <td>1</td>\n",
       "      <td>12</td>\n",
       "      <td>24</td>\n",
       "      <td>2190</td>\n",
       "      <td>2670</td>\n",
       "      <td>-1.840554</td>\n",
       "      <td>1.836137</td>\n",
       "      <td>0.633921</td>\n",
       "    </tr>\n",
       "    <tr>\n",
       "      <td>67</td>\n",
       "      <td>18</td>\n",
       "      <td>2</td>\n",
       "      <td>7</td>\n",
       "      <td>2190</td>\n",
       "      <td>2670</td>\n",
       "      <td>-1.778814</td>\n",
       "      <td>1.472369</td>\n",
       "      <td>0.457154</td>\n",
       "    </tr>\n",
       "    <tr>\n",
       "      <td>18</td>\n",
       "      <td>difference</td>\n",
       "      <td>2</td>\n",
       "      <td>6</td>\n",
       "      <td>2190</td>\n",
       "      <td>2670</td>\n",
       "      <td>-1.368600</td>\n",
       "      <td>0.949341</td>\n",
       "      <td>0.522462</td>\n",
       "    </tr>\n",
       "    <tr>\n",
       "      <td>93</td>\n",
       "      <td>×</td>\n",
       "      <td>2</td>\n",
       "      <td>6</td>\n",
       "      <td>2190</td>\n",
       "      <td>2670</td>\n",
       "      <td>-1.368600</td>\n",
       "      <td>0.949341</td>\n",
       "      <td>0.522462</td>\n",
       "    </tr>\n",
       "    <tr>\n",
       "      <td>78</td>\n",
       "      <td>correlation</td>\n",
       "      <td>2</td>\n",
       "      <td>6</td>\n",
       "      <td>2190</td>\n",
       "      <td>2670</td>\n",
       "      <td>-1.368600</td>\n",
       "      <td>0.949341</td>\n",
       "      <td>0.522462</td>\n",
       "    </tr>\n",
       "    <tr>\n",
       "      <td>109</td>\n",
       "      <td>23</td>\n",
       "      <td>3</td>\n",
       "      <td>7</td>\n",
       "      <td>2190</td>\n",
       "      <td>2670</td>\n",
       "      <td>-1.082054</td>\n",
       "      <td>0.682703</td>\n",
       "      <td>0.609539</td>\n",
       "    </tr>\n",
       "    <tr>\n",
       "      <td>22</td>\n",
       "      <td>variation</td>\n",
       "      <td>55</td>\n",
       "      <td>59</td>\n",
       "      <td>2190</td>\n",
       "      <td>2670</td>\n",
       "      <td>-0.694126</td>\n",
       "      <td>0.470464</td>\n",
       "      <td>1.137806</td>\n",
       "    </tr>\n",
       "    <tr>\n",
       "      <td>25</td>\n",
       "      <td>2</td>\n",
       "      <td>9</td>\n",
       "      <td>15</td>\n",
       "      <td>2190</td>\n",
       "      <td>2670</td>\n",
       "      <td>-0.781699</td>\n",
       "      <td>0.460824</td>\n",
       "      <td>0.761924</td>\n",
       "    </tr>\n",
       "    <tr>\n",
       "      <td>45</td>\n",
       "      <td>control</td>\n",
       "      <td>9</td>\n",
       "      <td>8</td>\n",
       "      <td>2190</td>\n",
       "      <td>2670</td>\n",
       "      <td>-0.664468</td>\n",
       "      <td>0.435133</td>\n",
       "      <td>1.354531</td>\n",
       "    </tr>\n",
       "    <tr>\n",
       "      <td>68</td>\n",
       "      <td>test</td>\n",
       "      <td>8</td>\n",
       "      <td>7</td>\n",
       "      <td>2190</td>\n",
       "      <td>2670</td>\n",
       "      <td>-0.653296</td>\n",
       "      <td>0.421972</td>\n",
       "      <td>1.371463</td>\n",
       "    </tr>\n",
       "    <tr>\n",
       "      <td>65</td>\n",
       "      <td>different</td>\n",
       "      <td>6</td>\n",
       "      <td>5</td>\n",
       "      <td>2190</td>\n",
       "      <td>2670</td>\n",
       "      <td>-0.639113</td>\n",
       "      <td>0.401341</td>\n",
       "      <td>1.422258</td>\n",
       "    </tr>\n",
       "    <tr>\n",
       "      <td>77</td>\n",
       "      <td>category</td>\n",
       "      <td>6</td>\n",
       "      <td>5</td>\n",
       "      <td>2190</td>\n",
       "      <td>2670</td>\n",
       "      <td>-0.639113</td>\n",
       "      <td>0.401341</td>\n",
       "      <td>1.422258</td>\n",
       "    </tr>\n",
       "  </tbody>\n",
       "</table>\n",
       "</div>"
      ],
      "text/plain": [
       "           lemma  preprint_count  published_count  preprint_total  \\\n",
       "29          file               0               11            2190   \n",
       "31        figure               0               11            2190   \n",
       "84    additional               0               10            2190   \n",
       "96            17               7                1            2190   \n",
       "36             p               1                9            2190   \n",
       "28           10−               0                6            2190   \n",
       "17           fig              23               17            2190   \n",
       "103         plot               1                6            2190   \n",
       "114            1              12               24            2190   \n",
       "67            18               2                7            2190   \n",
       "18    difference               2                6            2190   \n",
       "93             ×               2                6            2190   \n",
       "78   correlation               2                6            2190   \n",
       "109           23               3                7            2190   \n",
       "22     variation              55               59            2190   \n",
       "25             2               9               15            2190   \n",
       "45       control               9                8            2190   \n",
       "68          test               8                7            2190   \n",
       "65     different               6                5            2190   \n",
       "77      category               6                5            2190   \n",
       "\n",
       "     published_total     log_p  log_likelihood  odds_ratio  \n",
       "29              2670 -5.917748        8.899627    0.101590  \n",
       "31              2670 -5.917748        8.899627    0.101590  \n",
       "84              2670 -5.468921        7.871950    0.110825  \n",
       "96              2670 -4.138550        5.131290    4.876312  \n",
       "36              2670 -3.650212        4.345213    0.243816  \n",
       "28              2670 -3.626721        3.946189    0.174154  \n",
       "17              2670 -2.159152        2.438819    1.625437  \n",
       "103             2670 -2.283293        2.036108    0.348308  \n",
       "114             2670 -1.840554        1.836137    0.633921  \n",
       "67              2670 -1.778814        1.472369    0.457154  \n",
       "18              2670 -1.368600        0.949341    0.522462  \n",
       "93              2670 -1.368600        0.949341    0.522462  \n",
       "78              2670 -1.368600        0.949341    0.522462  \n",
       "109             2670 -1.082054        0.682703    0.609539  \n",
       "22              2670 -0.694126        0.470464    1.137806  \n",
       "25              2670 -0.781699        0.460824    0.761924  \n",
       "45              2670 -0.664468        0.435133    1.354531  \n",
       "68              2670 -0.653296        0.421972    1.371463  \n",
       "65              2670 -0.639113        0.401341    1.422258  \n",
       "77              2670 -0.639113        0.401341    1.422258  "
      ]
     },
     "execution_count": 29,
     "metadata": {},
     "output_type": "execute_result"
    }
   ],
   "source": [
    "(\n",
    "    published_comparison_stats_df\n",
    "    .sort_values(\"log_likelihood\", ascending=False)\n",
    "    .head(20)\n",
    ")"
   ]
  },
  {
   "cell_type": "code",
   "execution_count": 30,
   "metadata": {
    "ExecuteTime": {
     "end_time": "2020-05-19T19:16:48.188499Z",
     "start_time": "2020-05-19T19:16:48.164266Z"
    }
   },
   "outputs": [
    {
     "data": {
      "text/html": [
       "<div>\n",
       "<style scoped>\n",
       "    .dataframe tbody tr th:only-of-type {\n",
       "        vertical-align: middle;\n",
       "    }\n",
       "\n",
       "    .dataframe tbody tr th {\n",
       "        vertical-align: top;\n",
       "    }\n",
       "\n",
       "    .dataframe thead th {\n",
       "        text-align: right;\n",
       "    }\n",
       "</style>\n",
       "<table border=\"1\" class=\"dataframe\">\n",
       "  <thead>\n",
       "    <tr style=\"text-align: right;\">\n",
       "      <th></th>\n",
       "      <th>lemma</th>\n",
       "      <th>preprint_count</th>\n",
       "      <th>published_count</th>\n",
       "      <th>preprint_total</th>\n",
       "      <th>published_total</th>\n",
       "      <th>log_p</th>\n",
       "      <th>log_likelihood</th>\n",
       "      <th>odds_ratio</th>\n",
       "    </tr>\n",
       "  </thead>\n",
       "  <tbody>\n",
       "    <tr>\n",
       "      <td>96</td>\n",
       "      <td>17</td>\n",
       "      <td>7</td>\n",
       "      <td>1</td>\n",
       "      <td>2190</td>\n",
       "      <td>2670</td>\n",
       "      <td>-4.138550</td>\n",
       "      <td>5.131290</td>\n",
       "      <td>4.876312</td>\n",
       "    </tr>\n",
       "    <tr>\n",
       "      <td>17</td>\n",
       "      <td>fig</td>\n",
       "      <td>23</td>\n",
       "      <td>17</td>\n",
       "      <td>2190</td>\n",
       "      <td>2670</td>\n",
       "      <td>-2.159152</td>\n",
       "      <td>2.438819</td>\n",
       "      <td>1.625437</td>\n",
       "    </tr>\n",
       "    <tr>\n",
       "      <td>38</td>\n",
       "      <td>quality</td>\n",
       "      <td>5</td>\n",
       "      <td>4</td>\n",
       "      <td>2190</td>\n",
       "      <td>2670</td>\n",
       "      <td>-0.639962</td>\n",
       "      <td>0.395966</td>\n",
       "      <td>1.462894</td>\n",
       "    </tr>\n",
       "    <tr>\n",
       "      <td>65</td>\n",
       "      <td>different</td>\n",
       "      <td>6</td>\n",
       "      <td>5</td>\n",
       "      <td>2190</td>\n",
       "      <td>2670</td>\n",
       "      <td>-0.639113</td>\n",
       "      <td>0.401341</td>\n",
       "      <td>1.422258</td>\n",
       "    </tr>\n",
       "    <tr>\n",
       "      <td>77</td>\n",
       "      <td>category</td>\n",
       "      <td>6</td>\n",
       "      <td>5</td>\n",
       "      <td>2190</td>\n",
       "      <td>2670</td>\n",
       "      <td>-0.639113</td>\n",
       "      <td>0.401341</td>\n",
       "      <td>1.422258</td>\n",
       "    </tr>\n",
       "    <tr>\n",
       "      <td>68</td>\n",
       "      <td>test</td>\n",
       "      <td>8</td>\n",
       "      <td>7</td>\n",
       "      <td>2190</td>\n",
       "      <td>2670</td>\n",
       "      <td>-0.653296</td>\n",
       "      <td>0.421972</td>\n",
       "      <td>1.371463</td>\n",
       "    </tr>\n",
       "    <tr>\n",
       "      <td>45</td>\n",
       "      <td>control</td>\n",
       "      <td>9</td>\n",
       "      <td>8</td>\n",
       "      <td>2190</td>\n",
       "      <td>2670</td>\n",
       "      <td>-0.664468</td>\n",
       "      <td>0.435133</td>\n",
       "      <td>1.354531</td>\n",
       "    </tr>\n",
       "    <tr>\n",
       "      <td>58</td>\n",
       "      <td>interaction</td>\n",
       "      <td>4</td>\n",
       "      <td>4</td>\n",
       "      <td>2190</td>\n",
       "      <td>2670</td>\n",
       "      <td>-0.249612</td>\n",
       "      <td>0.097742</td>\n",
       "      <td>1.219078</td>\n",
       "    </tr>\n",
       "    <tr>\n",
       "      <td>85</td>\n",
       "      <td>play</td>\n",
       "      <td>5</td>\n",
       "      <td>5</td>\n",
       "      <td>2190</td>\n",
       "      <td>2670</td>\n",
       "      <td>-0.282524</td>\n",
       "      <td>0.117242</td>\n",
       "      <td>1.219078</td>\n",
       "    </tr>\n",
       "    <tr>\n",
       "      <td>100</td>\n",
       "      <td>find</td>\n",
       "      <td>4</td>\n",
       "      <td>4</td>\n",
       "      <td>2190</td>\n",
       "      <td>2670</td>\n",
       "      <td>-0.249612</td>\n",
       "      <td>0.097742</td>\n",
       "      <td>1.219078</td>\n",
       "    </tr>\n",
       "    <tr>\n",
       "      <td>39</td>\n",
       "      <td>important</td>\n",
       "      <td>5</td>\n",
       "      <td>5</td>\n",
       "      <td>2190</td>\n",
       "      <td>2670</td>\n",
       "      <td>-0.282524</td>\n",
       "      <td>0.117242</td>\n",
       "      <td>1.219078</td>\n",
       "    </tr>\n",
       "    <tr>\n",
       "      <td>42</td>\n",
       "      <td>shctcf#2</td>\n",
       "      <td>6</td>\n",
       "      <td>6</td>\n",
       "      <td>2190</td>\n",
       "      <td>2670</td>\n",
       "      <td>-0.312917</td>\n",
       "      <td>0.136726</td>\n",
       "      <td>1.219078</td>\n",
       "    </tr>\n",
       "    <tr>\n",
       "      <td>43</td>\n",
       "      <td>filter</td>\n",
       "      <td>5</td>\n",
       "      <td>5</td>\n",
       "      <td>2190</td>\n",
       "      <td>2670</td>\n",
       "      <td>-0.282524</td>\n",
       "      <td>0.117242</td>\n",
       "      <td>1.219078</td>\n",
       "    </tr>\n",
       "    <tr>\n",
       "      <td>82</td>\n",
       "      <td>decrease</td>\n",
       "      <td>14</td>\n",
       "      <td>14</td>\n",
       "      <td>2190</td>\n",
       "      <td>2670</td>\n",
       "      <td>-0.509955</td>\n",
       "      <td>0.292021</td>\n",
       "      <td>1.219078</td>\n",
       "    </tr>\n",
       "    <tr>\n",
       "      <td>81</td>\n",
       "      <td>significant</td>\n",
       "      <td>6</td>\n",
       "      <td>6</td>\n",
       "      <td>2190</td>\n",
       "      <td>2670</td>\n",
       "      <td>-0.312917</td>\n",
       "      <td>0.136726</td>\n",
       "      <td>1.219078</td>\n",
       "    </tr>\n",
       "    <tr>\n",
       "      <td>46</td>\n",
       "      <td>sequence</td>\n",
       "      <td>5</td>\n",
       "      <td>5</td>\n",
       "      <td>2190</td>\n",
       "      <td>2670</td>\n",
       "      <td>-0.282524</td>\n",
       "      <td>0.117242</td>\n",
       "      <td>1.219078</td>\n",
       "    </tr>\n",
       "    <tr>\n",
       "      <td>48</td>\n",
       "      <td>enhancer</td>\n",
       "      <td>4</td>\n",
       "      <td>4</td>\n",
       "      <td>2190</td>\n",
       "      <td>2670</td>\n",
       "      <td>-0.249612</td>\n",
       "      <td>0.097742</td>\n",
       "      <td>1.219078</td>\n",
       "    </tr>\n",
       "    <tr>\n",
       "      <td>26</td>\n",
       "      <td>promoter</td>\n",
       "      <td>4</td>\n",
       "      <td>4</td>\n",
       "      <td>2190</td>\n",
       "      <td>2670</td>\n",
       "      <td>-0.249612</td>\n",
       "      <td>0.097742</td>\n",
       "      <td>1.219078</td>\n",
       "    </tr>\n",
       "    <tr>\n",
       "      <td>80</td>\n",
       "      <td>identify</td>\n",
       "      <td>8</td>\n",
       "      <td>8</td>\n",
       "      <td>2190</td>\n",
       "      <td>2670</td>\n",
       "      <td>-0.368378</td>\n",
       "      <td>0.175646</td>\n",
       "      <td>1.219078</td>\n",
       "    </tr>\n",
       "    <tr>\n",
       "      <td>79</td>\n",
       "      <td>potentially</td>\n",
       "      <td>6</td>\n",
       "      <td>6</td>\n",
       "      <td>2190</td>\n",
       "      <td>2670</td>\n",
       "      <td>-0.312917</td>\n",
       "      <td>0.136726</td>\n",
       "      <td>1.219078</td>\n",
       "    </tr>\n",
       "  </tbody>\n",
       "</table>\n",
       "</div>"
      ],
      "text/plain": [
       "           lemma  preprint_count  published_count  preprint_total  \\\n",
       "96            17               7                1            2190   \n",
       "17           fig              23               17            2190   \n",
       "38       quality               5                4            2190   \n",
       "65     different               6                5            2190   \n",
       "77      category               6                5            2190   \n",
       "68          test               8                7            2190   \n",
       "45       control               9                8            2190   \n",
       "58   interaction               4                4            2190   \n",
       "85          play               5                5            2190   \n",
       "100         find               4                4            2190   \n",
       "39     important               5                5            2190   \n",
       "42      shctcf#2               6                6            2190   \n",
       "43        filter               5                5            2190   \n",
       "82      decrease              14               14            2190   \n",
       "81   significant               6                6            2190   \n",
       "46      sequence               5                5            2190   \n",
       "48      enhancer               4                4            2190   \n",
       "26      promoter               4                4            2190   \n",
       "80      identify               8                8            2190   \n",
       "79   potentially               6                6            2190   \n",
       "\n",
       "     published_total     log_p  log_likelihood  odds_ratio  \n",
       "96              2670 -4.138550        5.131290    4.876312  \n",
       "17              2670 -2.159152        2.438819    1.625437  \n",
       "38              2670 -0.639962        0.395966    1.462894  \n",
       "65              2670 -0.639113        0.401341    1.422258  \n",
       "77              2670 -0.639113        0.401341    1.422258  \n",
       "68              2670 -0.653296        0.421972    1.371463  \n",
       "45              2670 -0.664468        0.435133    1.354531  \n",
       "58              2670 -0.249612        0.097742    1.219078  \n",
       "85              2670 -0.282524        0.117242    1.219078  \n",
       "100             2670 -0.249612        0.097742    1.219078  \n",
       "39              2670 -0.282524        0.117242    1.219078  \n",
       "42              2670 -0.312917        0.136726    1.219078  \n",
       "43              2670 -0.282524        0.117242    1.219078  \n",
       "82              2670 -0.509955        0.292021    1.219078  \n",
       "81              2670 -0.312917        0.136726    1.219078  \n",
       "46              2670 -0.282524        0.117242    1.219078  \n",
       "48              2670 -0.249612        0.097742    1.219078  \n",
       "26              2670 -0.249612        0.097742    1.219078  \n",
       "80              2670 -0.368378        0.175646    1.219078  \n",
       "79              2670 -0.312917        0.136726    1.219078  "
      ]
     },
     "execution_count": 30,
     "metadata": {},
     "output_type": "execute_result"
    }
   ],
   "source": [
    "(\n",
    "    published_comparison_stats_df\n",
    "    .sort_values(\"odds_ratio\", ascending=False)\n",
    "    .head(20)\n",
    ")"
   ]
  }
 ],
 "metadata": {
  "kernelspec": {
   "display_name": "Python [conda env:annorxiver]",
   "language": "python",
   "name": "conda-env-annorxiver-py"
  },
  "toc": {
   "base_numbering": 1,
   "nav_menu": {},
   "number_sections": true,
   "sideBar": true,
   "skip_h1_title": false,
   "title_cell": "Table of Contents",
   "title_sidebar": "Contents",
   "toc_cell": false,
   "toc_position": {},
   "toc_section_display": true,
   "toc_window_display": false
  },
  "varInspector": {
   "cols": {
    "lenName": 16,
    "lenType": 16,
    "lenVar": 40
   },
   "kernels_config": {
    "python": {
     "delete_cmd_postfix": "",
     "delete_cmd_prefix": "del ",
     "library": "var_list.py",
     "varRefreshCmd": "print(var_dic_list())"
    },
    "r": {
     "delete_cmd_postfix": ") ",
     "delete_cmd_prefix": "rm(",
     "library": "var_list.r",
     "varRefreshCmd": "cat(var_dic_list()) "
    }
   },
   "types_to_exclude": [
    "module",
    "function",
    "builtin_function_or_method",
    "instance",
    "_Feature"
   ],
   "window_display": false
  }
 },
 "nbformat": 4,
 "nbformat_minor": 2
}
