{
 "cells": [
  {
   "cell_type": "markdown",
   "metadata": {},
   "source": [
    "# Generate BioRxiv Document Embeddings"
   ]
  },
  {
   "cell_type": "markdown",
   "metadata": {},
   "source": [
    "This notebook is designed to generate document embeddings for every article in bioRxiv."
   ]
  },
  {
   "cell_type": "code",
   "execution_count": 1,
   "metadata": {
    "ExecuteTime": {
     "end_time": "2021-04-16T20:17:25.223919Z",
     "start_time": "2021-04-16T20:17:22.991788Z"
    }
   },
   "outputs": [],
   "source": [
    "from pathlib import Path\n",
    "import re\n",
    "import sys\n",
    "\n",
    "from gensim.models import Word2Vec\n",
    "import pandas as pd\n",
    "from sklearn.decomposition import PCA\n",
    "from sklearn.manifold import TSNE\n",
    "from tqdm import tqdm_notebook\n",
    "import umap\n",
    "\n",
    "from annorxiver_modules.document_helper import (\n",
    "    generate_doc_vector,\n",
    "    DocIterator,\n",
    "    dump_article_text,\n",
    ")"
   ]
  },
  {
   "cell_type": "code",
   "execution_count": 2,
   "metadata": {
    "ExecuteTime": {
     "end_time": "2021-04-16T20:17:25.344436Z",
     "start_time": "2021-04-16T20:17:25.225243Z"
    }
   },
   "outputs": [
    {
     "data": {
      "text/html": [
       "<div>\n",
       "<style scoped>\n",
       "    .dataframe tbody tr th:only-of-type {\n",
       "        vertical-align: middle;\n",
       "    }\n",
       "\n",
       "    .dataframe tbody tr th {\n",
       "        vertical-align: top;\n",
       "    }\n",
       "\n",
       "    .dataframe thead th {\n",
       "        text-align: right;\n",
       "    }\n",
       "</style>\n",
       "<table border=\"1\" class=\"dataframe\">\n",
       "  <thead>\n",
       "    <tr style=\"text-align: right;\">\n",
       "      <th></th>\n",
       "      <th>author_type</th>\n",
       "      <th>heading</th>\n",
       "      <th>category</th>\n",
       "      <th>document</th>\n",
       "      <th>doi</th>\n",
       "    </tr>\n",
       "  </thead>\n",
       "  <tbody>\n",
       "    <tr>\n",
       "      <th>0</th>\n",
       "      <td>regular article</td>\n",
       "      <td>new results</td>\n",
       "      <td>genetics</td>\n",
       "      <td>440735_v1.xml</td>\n",
       "      <td>10.1101/440735</td>\n",
       "    </tr>\n",
       "    <tr>\n",
       "      <th>1</th>\n",
       "      <td>regular article</td>\n",
       "      <td>new results</td>\n",
       "      <td>systems biology</td>\n",
       "      <td>775270_v1.xml</td>\n",
       "      <td>10.1101/775270</td>\n",
       "    </tr>\n",
       "    <tr>\n",
       "      <th>2</th>\n",
       "      <td>regular article</td>\n",
       "      <td>new results</td>\n",
       "      <td>genetics</td>\n",
       "      <td>242404_v1.xml</td>\n",
       "      <td>10.1101/242404</td>\n",
       "    </tr>\n",
       "    <tr>\n",
       "      <th>3</th>\n",
       "      <td>regular article</td>\n",
       "      <td>new results</td>\n",
       "      <td>neuroscience</td>\n",
       "      <td>872994_v1.xml</td>\n",
       "      <td>10.1101/2019.12.11.872994</td>\n",
       "    </tr>\n",
       "    <tr>\n",
       "      <th>4</th>\n",
       "      <td>regular article</td>\n",
       "      <td>new results</td>\n",
       "      <td>developmental biology</td>\n",
       "      <td>080853_v2.xml</td>\n",
       "      <td>10.1101/080853</td>\n",
       "    </tr>\n",
       "  </tbody>\n",
       "</table>\n",
       "</div>"
      ],
      "text/plain": [
       "       author_type      heading               category       document  \\\n",
       "0  regular article  new results               genetics  440735_v1.xml   \n",
       "1  regular article  new results        systems biology  775270_v1.xml   \n",
       "2  regular article  new results               genetics  242404_v1.xml   \n",
       "3  regular article  new results           neuroscience  872994_v1.xml   \n",
       "4  regular article  new results  developmental biology  080853_v2.xml   \n",
       "\n",
       "                         doi  \n",
       "0             10.1101/440735  \n",
       "1             10.1101/775270  \n",
       "2             10.1101/242404  \n",
       "3  10.1101/2019.12.11.872994  \n",
       "4             10.1101/080853  "
      ]
     },
     "execution_count": 2,
     "metadata": {},
     "output_type": "execute_result"
    }
   ],
   "source": [
    "journal_map_df = pd.read_csv(\n",
    "    \"../exploratory_data_analysis/output/biorxiv_article_metadata.tsv\", sep=\"\\t\"\n",
    ")\n",
    "journal_map_df.head()"
   ]
  },
  {
   "cell_type": "code",
   "execution_count": 3,
   "metadata": {
    "ExecuteTime": {
     "end_time": "2021-04-16T20:17:25.448145Z",
     "start_time": "2021-04-16T20:17:25.442135Z"
    }
   },
   "outputs": [],
   "source": [
    "biorxiv_xpath_str = (\n",
    "    \"//abstract/p|//abstract/title|//body/sec//p|//body/sec//title|//body/p\"\n",
    ")"
   ]
  },
  {
   "cell_type": "markdown",
   "metadata": {},
   "source": [
    "# Output Documents to File"
   ]
  },
  {
   "cell_type": "markdown",
   "metadata": {},
   "source": [
    "This section dumps all of biorxiv text into a single document in order to train the word2vec model. This is for ease of training the model."
   ]
  },
  {
   "cell_type": "code",
   "execution_count": 4,
   "metadata": {
    "ExecuteTime": {
     "end_time": "2021-04-16T20:17:28.403461Z",
     "start_time": "2021-04-16T20:17:28.306619Z"
    },
    "scrolled": false
   },
   "outputs": [],
   "source": [
    "# Only use the most current version of the documents\n",
    "latest_journal_version = journal_map_df.groupby(\"doi\").agg(\n",
    "    {\"document\": \"first\", \"doi\": \"last\"}\n",
    ")\n",
    "\n",
    "if not Path(\"output/word2vec_input/biorxiv_text.txt\").exists():\n",
    "    with open(\"output/word2vec_input/biorxiv_text.txt\", \"w\") as f:\n",
    "        for article in tqdm_notebook(latest_journal_version.document.tolist()):\n",
    "            document_text = dump_article_text(\n",
    "                file_path=f\"../biorxiv_articles/{article}\",\n",
    "                xpath_str=biorxiv_xpath_str,\n",
    "                remove_stop_words=True,\n",
    "            )\n",
    "\n",
    "            f.write(\"\\n\".join(document_text))\n",
    "            f.write(\"\\n\\n\")"
   ]
  },
  {
   "cell_type": "markdown",
   "metadata": {},
   "source": [
    "# Train Word2Vec"
   ]
  },
  {
   "cell_type": "markdown",
   "metadata": {},
   "source": [
    "This section trains the word2vec model (continuous bag of words [CBOW]). Since the number of dimensions can vary I decided to train multiple models: 150, 250, 300. Each model is saved into is own respective directory."
   ]
  },
  {
   "cell_type": "code",
   "execution_count": 5,
   "metadata": {
    "ExecuteTime": {
     "end_time": "2021-04-16T20:17:30.942221Z",
     "start_time": "2021-04-16T20:17:30.915508Z"
    }
   },
   "outputs": [],
   "source": [
    "word_embedding_sizes = [150, 250, 300]\n",
    "for size in word_embedding_sizes:\n",
    "\n",
    "    # Create save path\n",
    "    word_path = Path(f\"output/word2vec_models/{size}\")\n",
    "    word_path.mkdir(parents=True, exist_ok=True)\n",
    "\n",
    "    # If model exists don't run again\n",
    "    if Path(f\"{str(word_path.resolve())}/biorxiv_{size}.model\").exists():\n",
    "        continue\n",
    "\n",
    "    # Run Word2Vec\n",
    "    words = Word2Vec(\n",
    "        DocIterator(\"output/word2vec_input/biorxiv_text.txt\"),\n",
    "        size=size,\n",
    "        iter=20,\n",
    "        seed=100,\n",
    "    )\n",
    "\n",
    "    # Save the model for future use\n",
    "    words.save(f\"{str(word_path.resolve())}/biorxiv_{size}.model\")"
   ]
  },
  {
   "cell_type": "markdown",
   "metadata": {},
   "source": [
    "# Generate Document Embeddings"
   ]
  },
  {
   "cell_type": "markdown",
   "metadata": {},
   "source": [
    "After training the word2vec models, the next step is to generate a document embeddings. For this experiment each document embedding is generated via an average of all word vectors contained in the document. There are better approaches towards doing this, but this can serve as a simple baseline."
   ]
  },
  {
   "cell_type": "code",
   "execution_count": 6,
   "metadata": {
    "ExecuteTime": {
     "end_time": "2021-04-17T10:11:58.156184Z",
     "start_time": "2021-04-16T20:17:39.690196Z"
    }
   },
   "outputs": [
    {
     "data": {
      "application/vnd.jupyter.widget-view+json": {
       "model_id": "93e016dd6de147e6aaa2c290e0cfd413",
       "version_major": 2,
       "version_minor": 0
      },
      "text/plain": [
       "HBox(children=(IntProgress(value=0, max=98023), HTML(value='')))"
      ]
     },
     "metadata": {},
     "output_type": "display_data"
    },
    {
     "name": "stdout",
     "output_type": "stream",
     "text": [
      "\n"
     ]
    },
    {
     "data": {
      "application/vnd.jupyter.widget-view+json": {
       "model_id": "29468d66a6f24f508f7cf77c702f3ece",
       "version_major": 2,
       "version_minor": 0
      },
      "text/plain": [
       "HBox(children=(IntProgress(value=0, max=98023), HTML(value='')))"
      ]
     },
     "metadata": {},
     "output_type": "display_data"
    },
    {
     "name": "stdout",
     "output_type": "stream",
     "text": [
      "\n"
     ]
    },
    {
     "data": {
      "application/vnd.jupyter.widget-view+json": {
       "model_id": "d7b45415afe741a09776fdf96e512a10",
       "version_major": 2,
       "version_minor": 0
      },
      "text/plain": [
       "HBox(children=(IntProgress(value=0, max=98023), HTML(value='')))"
      ]
     },
     "metadata": {},
     "output_type": "display_data"
    },
    {
     "name": "stdout",
     "output_type": "stream",
     "text": [
      "\n"
     ]
    }
   ],
   "source": [
    "for word_model_path in Path().rglob(\"output/word2vec_models/*/*.model\"):\n",
    "    model_dim = word_model_path.parents[0].stem\n",
    "    word_model = Word2Vec.load(str(word_model_path.resolve()))\n",
    "\n",
    "    biorxiv_document_map = {\n",
    "        document: generate_doc_vector(\n",
    "            word_model,\n",
    "            document_path=f\"../biorxiv_articles/{document}\",\n",
    "            xpath=biorxiv_xpath_str,\n",
    "        )\n",
    "        for document in tqdm_notebook(journal_map_df.document.tolist())\n",
    "    }\n",
    "\n",
    "    biorxiv_vec_df = (\n",
    "        pd.DataFrame.from_dict(biorxiv_document_map, orient=\"index\")\n",
    "        .rename(columns={col: f\"feat_{col}\" for col in range(int(model_dim))})\n",
    "        .rename_axis(\"document\")\n",
    "        .reset_index()\n",
    "    )\n",
    "\n",
    "    biorxiv_vec_df.to_csv(\n",
    "        f\"output/word2vec_output/biorxiv_all_articles_{model_dim}.tsv.xz\",\n",
    "        sep=\"\\t\",\n",
    "        index=False,\n",
    "        compression=\"xz\",\n",
    "    )"
   ]
  },
  {
   "cell_type": "markdown",
   "metadata": {},
   "source": [
    "# UMAP the Documents"
   ]
  },
  {
   "cell_type": "markdown",
   "metadata": {},
   "source": [
    "After generating document embeddings, the next step is to visualize all the documents. In order to visualize the embeddings a low dimensional representation is needed. UMAP is an algorithm that can generate this representation, while grouping similar embeddings together."
   ]
  },
  {
   "cell_type": "code",
   "execution_count": null,
   "metadata": {
    "ExecuteTime": {
     "end_time": "2020-03-20T14:53:28.228763Z",
     "start_time": "2020-03-20T14:53:26.467Z"
    }
   },
   "outputs": [],
   "source": [
    "random_state = 100\n",
    "n_neighbors = journal_map_df.category.unique().shape[0]\n",
    "n_components = 2"
   ]
  },
  {
   "cell_type": "code",
   "execution_count": null,
   "metadata": {
    "ExecuteTime": {
     "end_time": "2020-03-20T14:53:28.229518Z",
     "start_time": "2020-03-20T14:53:26.469Z"
    }
   },
   "outputs": [],
   "source": [
    "for biorxiv_doc_vectors in Path().rglob(\n",
    "    \"output/word2vec_output/biorxiv_all_articles*.tsv.xz\"\n",
    "):\n",
    "    model_dim = int(re.search(r\"(\\d+)\", biorxiv_doc_vectors.stem).group(1))\n",
    "    biorxiv_articles_df = pd.read_csv(str(biorxiv_doc_vectors.resolve()), sep=\"\\t\")\n",
    "\n",
    "    reducer = umap.UMAP(\n",
    "        n_components=n_components, n_neighbors=n_neighbors, random_state=random_state\n",
    "    )\n",
    "\n",
    "    embedding = reducer.fit_transform(\n",
    "        biorxiv_articles_df[[f\"feat_{idx}\" for idx in range(model_dim)]].values\n",
    "    )\n",
    "\n",
    "    umapped_df = (\n",
    "        pd.DataFrame(embedding, columns=[\"umap1\", \"umap2\"])\n",
    "        .assign(document=biorxiv_articles_df.document.values.tolist())\n",
    "        .merge(journal_map_df[[\"category\", \"document\", \"doi\"]], on=\"document\")\n",
    "    )\n",
    "\n",
    "    umapped_df.to_csv(\n",
    "        f\"output/embedding_output/umap/biorxiv_umap_{model_dim}.tsv\",\n",
    "        sep=\"\\t\",\n",
    "        index=False,\n",
    "    )"
   ]
  },
  {
   "cell_type": "markdown",
   "metadata": {},
   "source": [
    "# TSNE the Documents"
   ]
  },
  {
   "cell_type": "markdown",
   "metadata": {},
   "source": [
    "After generating document embeddings, the next step is to visualize all the documents. In order to visualize the embeddings a low dimensional representation is needed. TSNE is an another algorithm (besides UMAP) that can generate this representation, while grouping similar embeddings together."
   ]
  },
  {
   "cell_type": "code",
   "execution_count": null,
   "metadata": {
    "ExecuteTime": {
     "end_time": "2020-03-20T14:53:28.230265Z",
     "start_time": "2020-03-20T14:53:26.495Z"
    }
   },
   "outputs": [],
   "source": [
    "n_components = 2\n",
    "random_state = 100"
   ]
  },
  {
   "cell_type": "code",
   "execution_count": null,
   "metadata": {
    "ExecuteTime": {
     "end_time": "2020-03-20T14:53:28.230933Z",
     "start_time": "2020-03-20T14:53:26.498Z"
    }
   },
   "outputs": [],
   "source": [
    "for biorxiv_doc_vectors in Path().rglob(\n",
    "    \"output/word2vec_output/biorxiv_all_articles*.tsv.xz\"\n",
    "):\n",
    "    model_dim = int(re.search(r\"(\\d+)\", biorxiv_doc_vectors.stem).group(1))\n",
    "    biorxiv_articles_df = pd.read_csv(str(biorxiv_doc_vectors.resolve()), sep=\"\\t\")\n",
    "\n",
    "    reducer = TSNE(n_components=n_components, random_state=random_state)\n",
    "\n",
    "    embedding = reducer.fit_transform(\n",
    "        biorxiv_articles_df[[f\"feat_{idx}\" for idx in range(model_dim)]].values\n",
    "    )\n",
    "\n",
    "    tsne_df = (\n",
    "        pd.DataFrame(embedding, columns=[\"tsne1\", \"tsne2\"])\n",
    "        .assign(document=biorxiv_articles_df.document.values.tolist())\n",
    "        .merge(journal_map_df[[\"category\", \"document\", \"doi\"]], on=\"document\")\n",
    "    )\n",
    "\n",
    "    tsne_df.to_csv(\n",
    "        f\"output/embedding_output/tsne/biorxiv_tsne_{model_dim}.tsv\",\n",
    "        sep=\"\\t\",\n",
    "        index=False,\n",
    "    )"
   ]
  },
  {
   "cell_type": "markdown",
   "metadata": {},
   "source": [
    "# PCA the Documents"
   ]
  },
  {
   "cell_type": "code",
   "execution_count": null,
   "metadata": {
    "ExecuteTime": {
     "end_time": "2020-03-23T17:40:16.384612Z",
     "start_time": "2020-03-23T17:40:16.382533Z"
    }
   },
   "outputs": [],
   "source": [
    "n_components = 2\n",
    "random_state = 100"
   ]
  },
  {
   "cell_type": "code",
   "execution_count": null,
   "metadata": {
    "ExecuteTime": {
     "end_time": "2020-03-23T17:41:04.679449Z",
     "start_time": "2020-03-23T17:40:17.869906Z"
    }
   },
   "outputs": [],
   "source": [
    "for biorxiv_doc_vectors in Path().rglob(\n",
    "    \"output/word2vec_output/biorxiv_all_articles*.tsv.xz\"\n",
    "):\n",
    "    model_dim = int(re.search(r\"(\\d+)\", biorxiv_doc_vectors.stem).group(1))\n",
    "    biorxiv_articles_df = pd.read_csv(str(biorxiv_doc_vectors.resolve()), sep=\"\\t\")\n",
    "\n",
    "    reducer = PCA(n_components=n_components, random_state=random_state)\n",
    "\n",
    "    embedding = reducer.fit_transform(\n",
    "        biorxiv_articles_df[[f\"feat_{idx}\" for idx in range(model_dim)]].values\n",
    "    )\n",
    "\n",
    "    pca_df = (\n",
    "        pd.DataFrame(embedding, columns=[\"pca1\", \"pca2\"])\n",
    "        .assign(document=biorxiv_articles_df.document.values.tolist())\n",
    "        .merge(journal_map_df[[\"category\", \"document\", \"doi\"]], on=\"document\")\n",
    "    )\n",
    "\n",
    "    pca_df.to_csv(\n",
    "        f\"output/embedding_output/pca/biorxiv_pca_{model_dim}.tsv\",\n",
    "        sep=\"\\t\",\n",
    "        index=False,\n",
    "    )"
   ]
  }
 ],
 "metadata": {
  "jupytext": {
   "formats": "ipynb,py"
  },
  "kernelspec": {
   "display_name": "Python [conda env:annorxiver]",
   "language": "python",
   "name": "conda-env-annorxiver-py"
  },
  "language_info": {
   "codemirror_mode": {
    "name": "ipython",
    "version": 3
   },
   "file_extension": ".py",
   "mimetype": "text/x-python",
   "name": "python",
   "nbconvert_exporter": "python",
   "pygments_lexer": "ipython3",
   "version": "3.7.2"
  },
  "toc": {
   "base_numbering": 1,
   "nav_menu": {},
   "number_sections": true,
   "sideBar": true,
   "skip_h1_title": false,
   "title_cell": "Table of Contents",
   "title_sidebar": "Contents",
   "toc_cell": false,
   "toc_position": {},
   "toc_section_display": true,
   "toc_window_display": false
  },
  "varInspector": {
   "cols": {
    "lenName": 16,
    "lenType": 16,
    "lenVar": 40
   },
   "kernels_config": {
    "python": {
     "delete_cmd_postfix": "",
     "delete_cmd_prefix": "del ",
     "library": "var_list.py",
     "varRefreshCmd": "print(var_dic_list())"
    },
    "r": {
     "delete_cmd_postfix": ") ",
     "delete_cmd_prefix": "rm(",
     "library": "var_list.r",
     "varRefreshCmd": "cat(var_dic_list()) "
    }
   },
   "types_to_exclude": [
    "module",
    "function",
    "builtin_function_or_method",
    "instance",
    "_Feature"
   ],
   "window_display": false
  }
 },
 "nbformat": 4,
 "nbformat_minor": 2
}
