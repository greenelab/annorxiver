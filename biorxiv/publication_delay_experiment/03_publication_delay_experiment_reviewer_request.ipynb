{
 "cells": [
  {
   "cell_type": "markdown",
   "metadata": {},
   "source": [
    "# Measure the Difference between Preprint-Published similarity and Published Articles"
   ]
  },
  {
   "cell_type": "markdown",
   "metadata": {},
   "source": [
    "This notebook is designed to answer the question how much do preprints change with each new version.\n",
    "Based on results within my manuscript a review wanted to know the answer to the above question.\n",
    "Also this notebook outputs an excel file that contains all preprint published pairs and their respective publication information.\n",
    "Allows people to manually inspect practical consequences (if any) for preprints that take longer to publish."
   ]
  },
  {
   "cell_type": "code",
   "execution_count": 1,
   "metadata": {
    "ExecuteTime": {
     "end_time": "2021-09-12T21:40:39.371646Z",
     "start_time": "2021-09-12T21:40:38.523119Z"
    }
   },
   "outputs": [],
   "source": [
    "from datetime import timedelta\n",
    "import numpy as np\n",
    "import pandas as pd\n",
    "import plotnine as p9\n",
    "from scipy.stats import linregress"
   ]
  },
  {
   "cell_type": "markdown",
   "metadata": {},
   "source": [
    "# Load the Document Distances"
   ]
  },
  {
   "cell_type": "code",
   "execution_count": 2,
   "metadata": {
    "ExecuteTime": {
     "end_time": "2021-09-12T21:40:39.473379Z",
     "start_time": "2021-09-12T21:40:39.375245Z"
    }
   },
   "outputs": [
    {
     "name": "stdout",
     "output_type": "stream",
     "text": [
      "(17527, 12)\n"
     ]
    },
    {
     "data": {
      "text/html": [
       "<div>\n",
       "<style scoped>\n",
       "    .dataframe tbody tr th:only-of-type {\n",
       "        vertical-align: middle;\n",
       "    }\n",
       "\n",
       "    .dataframe tbody tr th {\n",
       "        vertical-align: top;\n",
       "    }\n",
       "\n",
       "    .dataframe thead th {\n",
       "        text-align: right;\n",
       "    }\n",
       "</style>\n",
       "<table border=\"1\" class=\"dataframe\">\n",
       "  <thead>\n",
       "    <tr style=\"text-align: right;\">\n",
       "      <th></th>\n",
       "      <th>preprint_doi</th>\n",
       "      <th>document</th>\n",
       "      <th>category</th>\n",
       "      <th>version_count</th>\n",
       "      <th>published_doi</th>\n",
       "      <th>pmcid</th>\n",
       "      <th>pmcoa</th>\n",
       "      <th>journal</th>\n",
       "      <th>preprint_date</th>\n",
       "      <th>published_date</th>\n",
       "      <th>time_to_published</th>\n",
       "      <th>doc_distances</th>\n",
       "    </tr>\n",
       "  </thead>\n",
       "  <tbody>\n",
       "    <tr>\n",
       "      <th>0</th>\n",
       "      <td>10.1101/000026</td>\n",
       "      <td>000026_v1.xml</td>\n",
       "      <td>genetics</td>\n",
       "      <td>1</td>\n",
       "      <td>10.1371/journal.pgen.1004412</td>\n",
       "      <td>PMC4125079</td>\n",
       "      <td>True</td>\n",
       "      <td>PLoS_Genet</td>\n",
       "      <td>2013-11-07</td>\n",
       "      <td>2014-08-07</td>\n",
       "      <td>273 days</td>\n",
       "      <td>1.360377</td>\n",
       "    </tr>\n",
       "    <tr>\n",
       "      <th>1</th>\n",
       "      <td>10.1101/000067</td>\n",
       "      <td>000067_v1.xml</td>\n",
       "      <td>genomics</td>\n",
       "      <td>1</td>\n",
       "      <td>10.1038/nature12904</td>\n",
       "      <td>PMC4285441</td>\n",
       "      <td>True</td>\n",
       "      <td>Nature</td>\n",
       "      <td>2013-11-07</td>\n",
       "      <td>2014-02-27</td>\n",
       "      <td>112 days</td>\n",
       "      <td>0.470905</td>\n",
       "    </tr>\n",
       "    <tr>\n",
       "      <th>2</th>\n",
       "      <td>10.1101/000109</td>\n",
       "      <td>000109_v1.xml</td>\n",
       "      <td>evolutionary biology</td>\n",
       "      <td>1</td>\n",
       "      <td>10.1371/journal.pgen.1004410</td>\n",
       "      <td>PMC4072524</td>\n",
       "      <td>True</td>\n",
       "      <td>PLoS_Genet</td>\n",
       "      <td>2013-11-07</td>\n",
       "      <td>2014-06-26</td>\n",
       "      <td>231 days</td>\n",
       "      <td>0.533702</td>\n",
       "    </tr>\n",
       "    <tr>\n",
       "      <th>3</th>\n",
       "      <td>10.1101/000141</td>\n",
       "      <td>000141_v1.xml</td>\n",
       "      <td>cancer biology</td>\n",
       "      <td>1</td>\n",
       "      <td>10.1371/journal.pcbi.1003433</td>\n",
       "      <td>PMC3894166</td>\n",
       "      <td>True</td>\n",
       "      <td>PLoS_Comput_Biol</td>\n",
       "      <td>2013-11-07</td>\n",
       "      <td>2014-01-16</td>\n",
       "      <td>70 days</td>\n",
       "      <td>0.646077</td>\n",
       "    </tr>\n",
       "    <tr>\n",
       "      <th>4</th>\n",
       "      <td>10.1101/000158</td>\n",
       "      <td>000158_v1.xml</td>\n",
       "      <td>bioinformatics</td>\n",
       "      <td>1</td>\n",
       "      <td>10.1186/1471-2164-15-398</td>\n",
       "      <td>PMC4041996</td>\n",
       "      <td>True</td>\n",
       "      <td>BMC_Genomics</td>\n",
       "      <td>2013-11-11</td>\n",
       "      <td>2014-05-24</td>\n",
       "      <td>194 days</td>\n",
       "      <td>0.959715</td>\n",
       "    </tr>\n",
       "  </tbody>\n",
       "</table>\n",
       "</div>"
      ],
      "text/plain": [
       "     preprint_doi       document              category  version_count  \\\n",
       "0  10.1101/000026  000026_v1.xml              genetics              1   \n",
       "1  10.1101/000067  000067_v1.xml              genomics              1   \n",
       "2  10.1101/000109  000109_v1.xml  evolutionary biology              1   \n",
       "3  10.1101/000141  000141_v1.xml        cancer biology              1   \n",
       "4  10.1101/000158  000158_v1.xml        bioinformatics              1   \n",
       "\n",
       "                  published_doi       pmcid  pmcoa           journal  \\\n",
       "0  10.1371/journal.pgen.1004412  PMC4125079   True        PLoS_Genet   \n",
       "1           10.1038/nature12904  PMC4285441   True            Nature   \n",
       "2  10.1371/journal.pgen.1004410  PMC4072524   True        PLoS_Genet   \n",
       "3  10.1371/journal.pcbi.1003433  PMC3894166   True  PLoS_Comput_Biol   \n",
       "4      10.1186/1471-2164-15-398  PMC4041996   True      BMC_Genomics   \n",
       "\n",
       "  preprint_date published_date time_to_published  doc_distances  \n",
       "0    2013-11-07     2014-08-07          273 days       1.360377  \n",
       "1    2013-11-07     2014-02-27          112 days       0.470905  \n",
       "2    2013-11-07     2014-06-26          231 days       0.533702  \n",
       "3    2013-11-07     2014-01-16           70 days       0.646077  \n",
       "4    2013-11-11     2014-05-24          194 days       0.959715  "
      ]
     },
     "execution_count": 2,
     "metadata": {},
     "output_type": "execute_result"
    }
   ],
   "source": [
    "published_date_distances = pd.read_csv(\n",
    "    \"output/preprint_published_distances.tsv\", sep=\"\\t\"\n",
    ")\n",
    "for col in [\"preprint_date\", \"published_date\"]:\n",
    "    published_date_distances[col] = pd.to_datetime(published_date_distances[col])\n",
    "published_date_distances[\"time_to_published\"] = pd.to_timedelta(\n",
    "    published_date_distances[\"time_to_published\"]\n",
    ")\n",
    "print(published_date_distances.shape)\n",
    "published_date_distances.head()"
   ]
  },
  {
   "cell_type": "markdown",
   "metadata": {},
   "source": [
    "# Plot Version count against Doc Distances"
   ]
  },
  {
   "cell_type": "markdown",
   "metadata": {},
   "source": [
    "Reviewer wanted to see if there is an association between version count and document distances. (i.e. if preprints with more versions have more text changes)."
   ]
  },
  {
   "cell_type": "code",
   "execution_count": 3,
   "metadata": {
    "ExecuteTime": {
     "end_time": "2021-09-12T21:40:39.480599Z",
     "start_time": "2021-09-12T21:40:39.474859Z"
    }
   },
   "outputs": [
    {
     "name": "stdout",
     "output_type": "stream",
     "text": [
      "LinregressResult(slope=0.02783807660743146, intercept=0.8682559699704958, rvalue=0.036182858852563456, pvalue=nan, stderr=nan, intercept_stderr=nan)\n"
     ]
    },
    {
     "name": "stderr",
     "output_type": "stream",
     "text": [
      "/home/danich1/anaconda3/envs/annorxiver/lib/python3.7/site-packages/scipy/stats/_stats_mstats_common.py:174: RuntimeWarning: invalid value encountered in sqrt\n",
      "/home/danich1/anaconda3/envs/annorxiver/lib/python3.7/site-packages/scipy/stats/_stats_mstats_common.py:176: RuntimeWarning: invalid value encountered in sqrt\n"
     ]
    }
   ],
   "source": [
    "x = (published_date_distances[\"version_count\"].values.tolist(),)\n",
    "y = published_date_distances[\"doc_distances\"].values.tolist()\n",
    "\n",
    "results = linregress(x, y)\n",
    "print(results)"
   ]
  },
  {
   "cell_type": "code",
   "execution_count": 4,
   "metadata": {
    "ExecuteTime": {
     "end_time": "2021-09-12T21:40:45.168122Z",
     "start_time": "2021-09-12T21:40:39.481967Z"
    }
   },
   "outputs": [
    {
     "name": "stderr",
     "output_type": "stream",
     "text": [
      "/home/danich1/anaconda3/envs/annorxiver/lib/python3.7/site-packages/plotnine/ggplot.py:729: PlotnineWarning: Saving 6.4 x 4.8 in image.\n",
      "/home/danich1/anaconda3/envs/annorxiver/lib/python3.7/site-packages/plotnine/ggplot.py:730: PlotnineWarning: Filename: output/version_count_doc_distances.svg\n",
      "/home/danich1/anaconda3/envs/annorxiver/lib/python3.7/site-packages/plotnine/ggplot.py:729: PlotnineWarning: Saving 6.4 x 4.8 in image.\n",
      "/home/danich1/anaconda3/envs/annorxiver/lib/python3.7/site-packages/plotnine/ggplot.py:730: PlotnineWarning: Filename: output/version_count_doc_distances.png\n"
     ]
    },
    {
     "data": {
      "image/png": "[encoded data removed]",
      "text/plain": [
       "<Figure size 640x480 with 1 Axes>"
      ]
     },
     "metadata": {},
     "output_type": "display_data"
    },
    {
     "name": "stdout",
     "output_type": "stream",
     "text": [
      "<ggplot: (-9223363252510507881)>\n"
     ]
    }
   ],
   "source": [
    "published_date_distances[\"version_count\"] = pd.Categorical(\n",
    "    published_date_distances[\"version_count\"].tolist()\n",
    ")\n",
    "g = (\n",
    "    p9.ggplot(published_date_distances, p9.aes(x=\"version_count\", y=\"doc_distances\"))\n",
    "    + p9.geom_boxplot(fill=\"#b2df8a\")\n",
    "    + p9.geom_line(\n",
    "        data=pd.DataFrame(\n",
    "            dict(\n",
    "                version_count=np.arange(1, 13),\n",
    "                doc_distances=np.arange(1, 13) * 0.02669 + 0.8697,\n",
    "            )\n",
    "        ),\n",
    "        linetype=\"dashed\",\n",
    "        color=\"#1f78b4\",\n",
    "        size=1,\n",
    "    )\n",
    "    + p9.annotate(\n",
    "        \"text\",\n",
    "        label=f\"y={results.slope:0.4f}*X + {results.intercept:0.4f}\",\n",
    "        x=9,\n",
    "        y=7.5,\n",
    "        size=13,\n",
    "        color=\"#1f78b4\",\n",
    "    )\n",
    "    + p9.labs(\n",
    "        x=\"# of Preprint Versions\",\n",
    "        y=\"Euclidean Distance of Preprint-Published Versions\",\n",
    "    )\n",
    "    + p9.theme_seaborn(style=\"white\", context=\"notebook\")\n",
    ")\n",
    "g.save(\"output/version_count_doc_distances.svg\")\n",
    "g.save(\"output/version_count_doc_distances.png\", dpi=600)\n",
    "print(g)"
   ]
  },
  {
   "cell_type": "markdown",
   "metadata": {},
   "source": [
    "Overall, preprints change with each new version; however, based on the magnitude of the slope I'd argue that these changes are minor compared to substantial changes (~6 distance units)"
   ]
  },
  {
   "cell_type": "markdown",
   "metadata": {},
   "source": [
    "# Output published dates to Excel"
   ]
  },
  {
   "cell_type": "markdown",
   "metadata": {},
   "source": [
    "Reviewer asked if manually pursuing preprints that take longer to publish would produce any interesting results. Great question, but not enough time to go into that; however, providing a supplementary file for others to look into could provide an in depth answer."
   ]
  },
  {
   "cell_type": "code",
   "execution_count": 5,
   "metadata": {
    "ExecuteTime": {
     "end_time": "2021-09-12T21:40:45.196218Z",
     "start_time": "2021-09-12T21:40:45.169453Z"
    },
    "scrolled": false
   },
   "outputs": [
    {
     "data": {
      "text/html": [
       "<div>\n",
       "<style scoped>\n",
       "    .dataframe tbody tr th:only-of-type {\n",
       "        vertical-align: middle;\n",
       "    }\n",
       "\n",
       "    .dataframe tbody tr th {\n",
       "        vertical-align: top;\n",
       "    }\n",
       "\n",
       "    .dataframe thead th {\n",
       "        text-align: right;\n",
       "    }\n",
       "</style>\n",
       "<table border=\"1\" class=\"dataframe\">\n",
       "  <thead>\n",
       "    <tr style=\"text-align: right;\">\n",
       "      <th></th>\n",
       "      <th>preprint_doi</th>\n",
       "      <th>posted_date</th>\n",
       "      <th>pmcid</th>\n",
       "      <th>published_doi</th>\n",
       "      <th>journal</th>\n",
       "      <th>published_date</th>\n",
       "      <th>days_till_published</th>\n",
       "      <th>preprint_published_distance</th>\n",
       "      <th>version_count</th>\n",
       "    </tr>\n",
       "  </thead>\n",
       "  <tbody>\n",
       "    <tr>\n",
       "      <th>0</th>\n",
       "      <td>10.1101/000026</td>\n",
       "      <td>2013-11-07</td>\n",
       "      <td>PMC4125079</td>\n",
       "      <td>10.1371/journal.pgen.1004412</td>\n",
       "      <td>PLoS_Genet</td>\n",
       "      <td>2014-08-07</td>\n",
       "      <td>273 days</td>\n",
       "      <td>1.360377</td>\n",
       "      <td>1</td>\n",
       "    </tr>\n",
       "    <tr>\n",
       "      <th>1</th>\n",
       "      <td>10.1101/000067</td>\n",
       "      <td>2013-11-07</td>\n",
       "      <td>PMC4285441</td>\n",
       "      <td>10.1038/nature12904</td>\n",
       "      <td>Nature</td>\n",
       "      <td>2014-02-27</td>\n",
       "      <td>112 days</td>\n",
       "      <td>0.470905</td>\n",
       "      <td>1</td>\n",
       "    </tr>\n",
       "    <tr>\n",
       "      <th>2</th>\n",
       "      <td>10.1101/000109</td>\n",
       "      <td>2013-11-07</td>\n",
       "      <td>PMC4072524</td>\n",
       "      <td>10.1371/journal.pgen.1004410</td>\n",
       "      <td>PLoS_Genet</td>\n",
       "      <td>2014-06-26</td>\n",
       "      <td>231 days</td>\n",
       "      <td>0.533702</td>\n",
       "      <td>1</td>\n",
       "    </tr>\n",
       "    <tr>\n",
       "      <th>3</th>\n",
       "      <td>10.1101/000141</td>\n",
       "      <td>2013-11-07</td>\n",
       "      <td>PMC3894166</td>\n",
       "      <td>10.1371/journal.pcbi.1003433</td>\n",
       "      <td>PLoS_Comput_Biol</td>\n",
       "      <td>2014-01-16</td>\n",
       "      <td>70 days</td>\n",
       "      <td>0.646077</td>\n",
       "      <td>1</td>\n",
       "    </tr>\n",
       "    <tr>\n",
       "      <th>4</th>\n",
       "      <td>10.1101/000158</td>\n",
       "      <td>2013-11-11</td>\n",
       "      <td>PMC4041996</td>\n",
       "      <td>10.1186/1471-2164-15-398</td>\n",
       "      <td>BMC_Genomics</td>\n",
       "      <td>2014-05-24</td>\n",
       "      <td>194 days</td>\n",
       "      <td>0.959715</td>\n",
       "      <td>1</td>\n",
       "    </tr>\n",
       "    <tr>\n",
       "      <th>...</th>\n",
       "      <td>...</td>\n",
       "      <td>...</td>\n",
       "      <td>...</td>\n",
       "      <td>...</td>\n",
       "      <td>...</td>\n",
       "      <td>...</td>\n",
       "      <td>...</td>\n",
       "      <td>...</td>\n",
       "      <td>...</td>\n",
       "    </tr>\n",
       "    <tr>\n",
       "      <th>17522</th>\n",
       "      <td>10.1101/858100</td>\n",
       "      <td>2019-11-29</td>\n",
       "      <td>PMC6932971</td>\n",
       "      <td>10.3389/fnsyn.2019.00035</td>\n",
       "      <td>Front_Synaptic_Neurosci</td>\n",
       "      <td>2019-12-20</td>\n",
       "      <td>21 days</td>\n",
       "      <td>0.916104</td>\n",
       "      <td>2</td>\n",
       "    </tr>\n",
       "    <tr>\n",
       "      <th>17523</th>\n",
       "      <td>10.1101/862847</td>\n",
       "      <td>2019-12-03</td>\n",
       "      <td>PMC6933653</td>\n",
       "      <td>10.1186/s12864-019-6379-5</td>\n",
       "      <td>BMC_Genomics</td>\n",
       "      <td>2019-12-26</td>\n",
       "      <td>23 days</td>\n",
       "      <td>0.478213</td>\n",
       "      <td>1</td>\n",
       "    </tr>\n",
       "    <tr>\n",
       "      <th>17524</th>\n",
       "      <td>10.1101/867903</td>\n",
       "      <td>2019-12-06</td>\n",
       "      <td>PMC6927177</td>\n",
       "      <td>10.1186/s13059-019-1915-9</td>\n",
       "      <td>Genome_Biol</td>\n",
       "      <td>2019-12-23</td>\n",
       "      <td>17 days</td>\n",
       "      <td>0.580229</td>\n",
       "      <td>1</td>\n",
       "    </tr>\n",
       "    <tr>\n",
       "      <th>17525</th>\n",
       "      <td>10.1101/2019.12.13.875427</td>\n",
       "      <td>2019-12-13</td>\n",
       "      <td>PMC6934696</td>\n",
       "      <td>10.1038/s41598-019-56587-5</td>\n",
       "      <td>Sci_Rep</td>\n",
       "      <td>2019-12-27</td>\n",
       "      <td>14 days</td>\n",
       "      <td>2.415845</td>\n",
       "      <td>1</td>\n",
       "    </tr>\n",
       "    <tr>\n",
       "      <th>17526</th>\n",
       "      <td>10.1101/2019.12.21.885632</td>\n",
       "      <td>2019-12-21</td>\n",
       "      <td>PMC6976656</td>\n",
       "      <td>10.1038/s41598-020-58036-0</td>\n",
       "      <td>Sci_Rep</td>\n",
       "      <td>2020-01-22</td>\n",
       "      <td>32 days</td>\n",
       "      <td>0.346984</td>\n",
       "      <td>1</td>\n",
       "    </tr>\n",
       "  </tbody>\n",
       "</table>\n",
       "<p>17527 rows × 9 columns</p>\n",
       "</div>"
      ],
      "text/plain": [
       "                    preprint_doi posted_date       pmcid  \\\n",
       "0                 10.1101/000026  2013-11-07  PMC4125079   \n",
       "1                 10.1101/000067  2013-11-07  PMC4285441   \n",
       "2                 10.1101/000109  2013-11-07  PMC4072524   \n",
       "3                 10.1101/000141  2013-11-07  PMC3894166   \n",
       "4                 10.1101/000158  2013-11-11  PMC4041996   \n",
       "...                          ...         ...         ...   \n",
       "17522             10.1101/858100  2019-11-29  PMC6932971   \n",
       "17523             10.1101/862847  2019-12-03  PMC6933653   \n",
       "17524             10.1101/867903  2019-12-06  PMC6927177   \n",
       "17525  10.1101/2019.12.13.875427  2019-12-13  PMC6934696   \n",
       "17526  10.1101/2019.12.21.885632  2019-12-21  PMC6976656   \n",
       "\n",
       "                      published_doi                  journal published_date  \\\n",
       "0      10.1371/journal.pgen.1004412               PLoS_Genet     2014-08-07   \n",
       "1               10.1038/nature12904                   Nature     2014-02-27   \n",
       "2      10.1371/journal.pgen.1004410               PLoS_Genet     2014-06-26   \n",
       "3      10.1371/journal.pcbi.1003433         PLoS_Comput_Biol     2014-01-16   \n",
       "4          10.1186/1471-2164-15-398             BMC_Genomics     2014-05-24   \n",
       "...                             ...                      ...            ...   \n",
       "17522      10.3389/fnsyn.2019.00035  Front_Synaptic_Neurosci     2019-12-20   \n",
       "17523     10.1186/s12864-019-6379-5             BMC_Genomics     2019-12-26   \n",
       "17524     10.1186/s13059-019-1915-9              Genome_Biol     2019-12-23   \n",
       "17525    10.1038/s41598-019-56587-5                  Sci_Rep     2019-12-27   \n",
       "17526    10.1038/s41598-020-58036-0                  Sci_Rep     2020-01-22   \n",
       "\n",
       "      days_till_published  preprint_published_distance version_count  \n",
       "0                273 days                     1.360377             1  \n",
       "1                112 days                     0.470905             1  \n",
       "2                231 days                     0.533702             1  \n",
       "3                 70 days                     0.646077             1  \n",
       "4                194 days                     0.959715             1  \n",
       "...                   ...                          ...           ...  \n",
       "17522             21 days                     0.916104             2  \n",
       "17523             23 days                     0.478213             1  \n",
       "17524             17 days                     0.580229             1  \n",
       "17525             14 days                     2.415845             1  \n",
       "17526             32 days                     0.346984             1  \n",
       "\n",
       "[17527 rows x 9 columns]"
      ]
     },
     "execution_count": 5,
     "metadata": {},
     "output_type": "execute_result"
    }
   ],
   "source": [
    "excel_print_df = published_date_distances.drop(\n",
    "    [\"document\", \"category\", \"pmcoa\"], axis=1\n",
    ").rename(\n",
    "    index=str,\n",
    "    columns={\n",
    "        \"preprint_date\": \"posted_date\",\n",
    "        \"time_to_published\": \"days_till_published\",\n",
    "        \"doc_distances\": \"preprint_published_distance\",\n",
    "    },\n",
    ")[\n",
    "    [\n",
    "        \"preprint_doi\",\n",
    "        \"posted_date\",\n",
    "        \"pmcid\",\n",
    "        \"published_doi\",\n",
    "        \"journal\",\n",
    "        \"published_date\",\n",
    "        \"days_till_published\",\n",
    "        \"preprint_published_distance\",\n",
    "        \"version_count\",\n",
    "    ]\n",
    "]\n",
    "excel_print_df"
   ]
  },
  {
   "cell_type": "code",
   "execution_count": 6,
   "metadata": {
    "ExecuteTime": {
     "end_time": "2021-09-12T21:40:45.212430Z",
     "start_time": "2021-09-12T21:40:45.197479Z"
    }
   },
   "outputs": [
    {
     "name": "stderr",
     "output_type": "stream",
     "text": [
      "/home/danich1/anaconda3/envs/annorxiver/lib/python3.7/site-packages/ipykernel_launcher.py:2: SettingWithCopyWarning: \n",
      "A value is trying to be set on a copy of a slice from a DataFrame.\n",
      "Try using .loc[row_indexer,col_indexer] = value instead\n",
      "\n",
      "See the caveats in the documentation: https://pandas.pydata.org/pandas-docs/stable/user_guide/indexing.html#returning-a-view-versus-a-copy\n",
      "/home/danich1/anaconda3/envs/annorxiver/lib/python3.7/site-packages/ipykernel_launcher.py:3: SettingWithCopyWarning: \n",
      "A value is trying to be set on a copy of a slice from a DataFrame.\n",
      "Try using .loc[row_indexer,col_indexer] = value instead\n",
      "\n",
      "See the caveats in the documentation: https://pandas.pydata.org/pandas-docs/stable/user_guide/indexing.html#returning-a-view-versus-a-copy\n"
     ]
    }
   ],
   "source": [
    "excel_print_df = excel_print_df[excel_print_df[\"days_till_published\"] > pd.Timedelta(0)]\n",
    "excel_print_df[\"posted_date\"] = excel_print_df.posted_date.dt.date\n",
    "excel_print_df[\"published_date\"] = excel_print_df.published_date.dt.date"
   ]
  },
  {
   "cell_type": "code",
   "execution_count": 7,
   "metadata": {
    "ExecuteTime": {
     "end_time": "2021-09-12T21:40:48.140248Z",
     "start_time": "2021-09-12T21:40:45.213602Z"
    }
   },
   "outputs": [],
   "source": [
    "(\n",
    "    excel_print_df.sort_values(\"days_till_published\", ascending=False).to_excel(\n",
    "        \"output/published_preprints_information.xlsx\", engine=\"xlsxwriter\"\n",
    "    )\n",
    ")"
   ]
  }
 ],
 "metadata": {
  "jupytext": {
   "formats": "ipynb,py"
  },
  "kernelspec": {
   "display_name": "Python [conda env:annorxiver]",
   "language": "python",
   "name": "conda-env-annorxiver-py"
  },
  "language_info": {
   "codemirror_mode": {
    "name": "ipython",
    "version": 3
   },
   "file_extension": ".py",
   "mimetype": "text/x-python",
   "name": "python",
   "nbconvert_exporter": "python",
   "pygments_lexer": "ipython3",
   "version": "3.7.2"
  },
  "toc": {
   "base_numbering": 1,
   "nav_menu": {},
   "number_sections": true,
   "sideBar": true,
   "skip_h1_title": false,
   "title_cell": "Table of Contents",
   "title_sidebar": "Contents",
   "toc_cell": false,
   "toc_position": {},
   "toc_section_display": true,
   "toc_window_display": false
  }
 },
 "nbformat": 4,
 "nbformat_minor": 4
}
