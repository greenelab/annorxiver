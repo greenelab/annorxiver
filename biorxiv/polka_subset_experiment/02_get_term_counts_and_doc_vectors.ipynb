{
 "cells": [
  {
   "cell_type": "markdown",
   "metadata": {},
   "source": [
    "# Get Token Counts and Word Vectors"
   ]
  },
  {
   "cell_type": "markdown",
   "metadata": {},
   "source": [
    "This notebook is designed to calculate token frequencies for each token within processed preprints. Plus, this notebook generates document vector representations for preprints to be analyzed downstream of the pipeline."
   ]
  },
  {
   "cell_type": "code",
   "execution_count": 1,
   "metadata": {
    "ExecuteTime": {
     "end_time": "2021-04-21T17:02:26.069943Z",
     "start_time": "2021-04-21T17:02:23.180624Z"
    }
   },
   "outputs": [],
   "source": [
    "import csv\n",
    "from pathlib import Path\n",
    "\n",
    "from gensim.models import Word2Vec\n",
    "import pandas as pd\n",
    "from tqdm import tqdm_notebook\n",
    "\n",
    "from annorxiver_modules.corpora_comparison_helper import get_word_stats\n",
    "from annorxiver_modules.document_helper import generate_doc_vector"
   ]
  },
  {
   "cell_type": "markdown",
   "metadata": {},
   "source": [
    "# BioRxiv"
   ]
  },
  {
   "cell_type": "code",
   "execution_count": 2,
   "metadata": {
    "ExecuteTime": {
     "end_time": "2021-04-21T17:02:26.114463Z",
     "start_time": "2021-04-21T17:02:26.074465Z"
    }
   },
   "outputs": [
    {
     "data": {
      "text/html": [
       "<div>\n",
       "<style scoped>\n",
       "    .dataframe tbody tr th:only-of-type {\n",
       "        vertical-align: middle;\n",
       "    }\n",
       "\n",
       "    .dataframe tbody tr th {\n",
       "        vertical-align: top;\n",
       "    }\n",
       "\n",
       "    .dataframe thead th {\n",
       "        text-align: right;\n",
       "    }\n",
       "</style>\n",
       "<table border=\"1\" class=\"dataframe\">\n",
       "  <thead>\n",
       "    <tr style=\"text-align: right;\">\n",
       "      <th></th>\n",
       "      <th>biorxiv_doi</th>\n",
       "      <th>published_doi</th>\n",
       "      <th>PMID</th>\n",
       "      <th>PMCID</th>\n",
       "      <th>Version</th>\n",
       "      <th>MID</th>\n",
       "      <th>IsCurrent</th>\n",
       "      <th>IsLive</th>\n",
       "      <th>ReleaseDate</th>\n",
       "      <th>Msg</th>\n",
       "    </tr>\n",
       "  </thead>\n",
       "  <tbody>\n",
       "    <tr>\n",
       "      <th>0</th>\n",
       "      <td>10.1101/2019.12.18.881391</td>\n",
       "      <td>10.1128/JVI.00426-20</td>\n",
       "      <td>32295925.0</td>\n",
       "      <td>PMC7307142</td>\n",
       "      <td>NaN</td>\n",
       "      <td>NaN</td>\n",
       "      <td>NaN</td>\n",
       "      <td>1</td>\n",
       "      <td>NaN</td>\n",
       "      <td>NaN</td>\n",
       "    </tr>\n",
       "    <tr>\n",
       "      <th>1</th>\n",
       "      <td>10.1101/2019.12.19.882274</td>\n",
       "      <td>10.3389/fpls.2020.00355</td>\n",
       "      <td>32373138.0</td>\n",
       "      <td>PMC7176908</td>\n",
       "      <td>NaN</td>\n",
       "      <td>NaN</td>\n",
       "      <td>NaN</td>\n",
       "      <td>1</td>\n",
       "      <td>NaN</td>\n",
       "      <td>NaN</td>\n",
       "    </tr>\n",
       "    <tr>\n",
       "      <th>2</th>\n",
       "      <td>10.1101/2020.01.13.905190</td>\n",
       "      <td>10.1182/blood.2019002867</td>\n",
       "      <td>32128578.0</td>\n",
       "      <td>PMC7243144</td>\n",
       "      <td>NaN</td>\n",
       "      <td>NaN</td>\n",
       "      <td>NaN</td>\n",
       "      <td>1</td>\n",
       "      <td>NaN</td>\n",
       "      <td>NaN</td>\n",
       "    </tr>\n",
       "    <tr>\n",
       "      <th>3</th>\n",
       "      <td>10.1101/2020.01.21.914929</td>\n",
       "      <td>10.1128/AAC.00086-20</td>\n",
       "      <td>32284379.0</td>\n",
       "      <td>PMC7269492</td>\n",
       "      <td>NaN</td>\n",
       "      <td>NaN</td>\n",
       "      <td>NaN</td>\n",
       "      <td>1</td>\n",
       "      <td>NaN</td>\n",
       "      <td>NaN</td>\n",
       "    </tr>\n",
       "    <tr>\n",
       "      <th>4</th>\n",
       "      <td>10.1101/2020.01.22.914952</td>\n",
       "      <td>10.1038/s41586-020-2012-7</td>\n",
       "      <td>32015507.0</td>\n",
       "      <td>PMC7095418</td>\n",
       "      <td>NaN</td>\n",
       "      <td>NaN</td>\n",
       "      <td>NaN</td>\n",
       "      <td>1</td>\n",
       "      <td>NaN</td>\n",
       "      <td>NaN</td>\n",
       "    </tr>\n",
       "  </tbody>\n",
       "</table>\n",
       "</div>"
      ],
      "text/plain": [
       "                 biorxiv_doi              published_doi        PMID  \\\n",
       "0  10.1101/2019.12.18.881391       10.1128/JVI.00426-20  32295925.0   \n",
       "1  10.1101/2019.12.19.882274    10.3389/fpls.2020.00355  32373138.0   \n",
       "2  10.1101/2020.01.13.905190   10.1182/blood.2019002867  32128578.0   \n",
       "3  10.1101/2020.01.21.914929       10.1128/AAC.00086-20  32284379.0   \n",
       "4  10.1101/2020.01.22.914952  10.1038/s41586-020-2012-7  32015507.0   \n",
       "\n",
       "        PMCID  Version  MID  IsCurrent  IsLive ReleaseDate  Msg  \n",
       "0  PMC7307142      NaN  NaN        NaN       1         NaN  NaN  \n",
       "1  PMC7176908      NaN  NaN        NaN       1         NaN  NaN  \n",
       "2  PMC7243144      NaN  NaN        NaN       1         NaN  NaN  \n",
       "3  PMC7269492      NaN  NaN        NaN       1         NaN  NaN  \n",
       "4  PMC7095418      NaN  NaN        NaN       1         NaN  NaN  "
      ]
     },
     "execution_count": 2,
     "metadata": {},
     "output_type": "execute_result"
    }
   ],
   "source": [
    "mapped_documents_df = pd.read_csv(\"output/polka_et_al_pmc_mapped_subset.tsv\", sep=\"\\t\")\n",
    "mapped_documents_df.head()"
   ]
  },
  {
   "cell_type": "code",
   "execution_count": 3,
   "metadata": {
    "ExecuteTime": {
     "end_time": "2021-04-21T17:02:26.155951Z",
     "start_time": "2021-04-21T17:02:26.116035Z"
    }
   },
   "outputs": [],
   "source": [
    "biorxiv_documents = [\n",
    "    Path(x.name) for x in list(Path(\"output/biorxiv_xml_files\").rglob(\"*xml\"))\n",
    "]"
   ]
  },
  {
   "cell_type": "markdown",
   "metadata": {},
   "source": [
    "## BioRxiv -> Term counts"
   ]
  },
  {
   "cell_type": "code",
   "execution_count": 4,
   "metadata": {
    "ExecuteTime": {
     "end_time": "2021-04-21T17:03:11.246694Z",
     "start_time": "2021-04-21T17:02:26.157346Z"
    }
   },
   "outputs": [
    {
     "data": {
      "application/vnd.jupyter.widget-view+json": {
       "model_id": "ad31a257a6414ab7adf716cb3b013418",
       "version_major": 2,
       "version_minor": 0
      },
      "text/plain": [
       "HBox(children=(IntProgress(value=0, max=60), HTML(value='')))"
      ]
     },
     "metadata": {},
     "output_type": "display_data"
    },
    {
     "name": "stdout",
     "output_type": "stream",
     "text": [
      "\n"
     ]
    }
   ],
   "source": [
    "Path(\"output/biorxiv_word_counts\").mkdir(exist_ok=True)\n",
    "sentence_length = get_word_stats(\n",
    "    document_list=biorxiv_documents,\n",
    "    document_folder=\"output/biorxiv_xml_files\",\n",
    "    tag_path=\"//abstract/p|//abstract/title|//body/sec//p|//body/sec//title\",\n",
    "    output_folder=\"output/biorxiv_word_counts\",\n",
    ")"
   ]
  },
  {
   "cell_type": "markdown",
   "metadata": {},
   "source": [
    "## BioRxiv -> Doc Embeddings"
   ]
  },
  {
   "cell_type": "code",
   "execution_count": 5,
   "metadata": {
    "ExecuteTime": {
     "end_time": "2021-04-21T17:03:33.432023Z",
     "start_time": "2021-04-21T17:03:11.250249Z"
    }
   },
   "outputs": [],
   "source": [
    "biorxiv_xpath_str = \"//abstract/p|//abstract/title|//body/sec//p|//body/sec//title\"\n",
    "word_model = Word2Vec.load(\n",
    "    str(Path(\"../word_vector_experiment/output/word2vec_models/300/biorxiv_300.model\"))\n",
    ")"
   ]
  },
  {
   "cell_type": "code",
   "execution_count": 6,
   "metadata": {
    "ExecuteTime": {
     "end_time": "2021-04-21T17:03:43.674531Z",
     "start_time": "2021-04-21T17:03:33.433422Z"
    }
   },
   "outputs": [
    {
     "data": {
      "application/vnd.jupyter.widget-view+json": {
       "model_id": "3afd6fa476cd41bcabdc6f9ae968904f",
       "version_major": 2,
       "version_minor": 0
      },
      "text/plain": [
       "HBox(children=(IntProgress(value=0, max=60), HTML(value='')))"
      ]
     },
     "metadata": {},
     "output_type": "display_data"
    },
    {
     "name": "stdout",
     "output_type": "stream",
     "text": [
      "\n"
     ]
    }
   ],
   "source": [
    "biorxiv_document_map = {\n",
    "    document: generate_doc_vector(\n",
    "        word_model,\n",
    "        document_path=str(Path(\"output/biorxiv_xml_files\") / document),\n",
    "        xpath=biorxiv_xpath_str,\n",
    "    )\n",
    "    for document in tqdm_notebook(biorxiv_documents)\n",
    "}"
   ]
  },
  {
   "cell_type": "code",
   "execution_count": 7,
   "metadata": {
    "ExecuteTime": {
     "end_time": "2021-04-21T17:03:43.773550Z",
     "start_time": "2021-04-21T17:03:43.679171Z"
    }
   },
   "outputs": [
    {
     "data": {
      "text/html": [
       "<div>\n",
       "<style scoped>\n",
       "    .dataframe tbody tr th:only-of-type {\n",
       "        vertical-align: middle;\n",
       "    }\n",
       "\n",
       "    .dataframe tbody tr th {\n",
       "        vertical-align: top;\n",
       "    }\n",
       "\n",
       "    .dataframe thead th {\n",
       "        text-align: right;\n",
       "    }\n",
       "</style>\n",
       "<table border=\"1\" class=\"dataframe\">\n",
       "  <thead>\n",
       "    <tr style=\"text-align: right;\">\n",
       "      <th></th>\n",
       "      <th>0</th>\n",
       "      <th>1</th>\n",
       "      <th>2</th>\n",
       "      <th>3</th>\n",
       "      <th>4</th>\n",
       "    </tr>\n",
       "  </thead>\n",
       "  <tbody>\n",
       "    <tr>\n",
       "      <th>document</th>\n",
       "      <td>838870_v1.xml</td>\n",
       "      <td>2020.02.13.945485_v1.xml</td>\n",
       "      <td>2020.01.13.905190_v1.xml</td>\n",
       "      <td>865089_v1.xml</td>\n",
       "      <td>832675_v1.xml</td>\n",
       "    </tr>\n",
       "    <tr>\n",
       "      <th>feat_0</th>\n",
       "      <td>-0.236496</td>\n",
       "      <td>-0.20954</td>\n",
       "      <td>0.229247</td>\n",
       "      <td>0.259484</td>\n",
       "      <td>0.331504</td>\n",
       "    </tr>\n",
       "    <tr>\n",
       "      <th>feat_1</th>\n",
       "      <td>-0.15839</td>\n",
       "      <td>0.0621202</td>\n",
       "      <td>0.10372</td>\n",
       "      <td>0.187865</td>\n",
       "      <td>0.3973</td>\n",
       "    </tr>\n",
       "    <tr>\n",
       "      <th>feat_2</th>\n",
       "      <td>-0.137343</td>\n",
       "      <td>-0.0134206</td>\n",
       "      <td>-0.675217</td>\n",
       "      <td>-0.476495</td>\n",
       "      <td>-0.662221</td>\n",
       "    </tr>\n",
       "    <tr>\n",
       "      <th>feat_3</th>\n",
       "      <td>-0.00101136</td>\n",
       "      <td>-0.00027926</td>\n",
       "      <td>-0.279651</td>\n",
       "      <td>0.104272</td>\n",
       "      <td>-0.0822386</td>\n",
       "    </tr>\n",
       "    <tr>\n",
       "      <th>...</th>\n",
       "      <td>...</td>\n",
       "      <td>...</td>\n",
       "      <td>...</td>\n",
       "      <td>...</td>\n",
       "      <td>...</td>\n",
       "    </tr>\n",
       "    <tr>\n",
       "      <th>feat_295</th>\n",
       "      <td>-0.345592</td>\n",
       "      <td>-0.0448133</td>\n",
       "      <td>0.0678894</td>\n",
       "      <td>-0.00910428</td>\n",
       "      <td>-0.768766</td>\n",
       "    </tr>\n",
       "    <tr>\n",
       "      <th>feat_296</th>\n",
       "      <td>0.0396399</td>\n",
       "      <td>0.324615</td>\n",
       "      <td>0.266495</td>\n",
       "      <td>0.15263</td>\n",
       "      <td>0.229174</td>\n",
       "    </tr>\n",
       "    <tr>\n",
       "      <th>feat_297</th>\n",
       "      <td>0.73011</td>\n",
       "      <td>0.655335</td>\n",
       "      <td>0.434768</td>\n",
       "      <td>0.0261503</td>\n",
       "      <td>0.504789</td>\n",
       "    </tr>\n",
       "    <tr>\n",
       "      <th>feat_298</th>\n",
       "      <td>-0.348575</td>\n",
       "      <td>-0.402705</td>\n",
       "      <td>-0.672433</td>\n",
       "      <td>-0.4789</td>\n",
       "      <td>-0.708815</td>\n",
       "    </tr>\n",
       "    <tr>\n",
       "      <th>feat_299</th>\n",
       "      <td>0.372932</td>\n",
       "      <td>0.460434</td>\n",
       "      <td>0.628961</td>\n",
       "      <td>0.47307</td>\n",
       "      <td>0.0943244</td>\n",
       "    </tr>\n",
       "  </tbody>\n",
       "</table>\n",
       "<p>301 rows × 5 columns</p>\n",
       "</div>"
      ],
      "text/plain": [
       "                      0                         1                         2  \\\n",
       "document  838870_v1.xml  2020.02.13.945485_v1.xml  2020.01.13.905190_v1.xml   \n",
       "feat_0        -0.236496                  -0.20954                  0.229247   \n",
       "feat_1         -0.15839                 0.0621202                   0.10372   \n",
       "feat_2        -0.137343                -0.0134206                 -0.675217   \n",
       "feat_3      -0.00101136               -0.00027926                 -0.279651   \n",
       "...                 ...                       ...                       ...   \n",
       "feat_295      -0.345592                -0.0448133                 0.0678894   \n",
       "feat_296      0.0396399                  0.324615                  0.266495   \n",
       "feat_297        0.73011                  0.655335                  0.434768   \n",
       "feat_298      -0.348575                 -0.402705                 -0.672433   \n",
       "feat_299       0.372932                  0.460434                  0.628961   \n",
       "\n",
       "                      3              4  \n",
       "document  865089_v1.xml  832675_v1.xml  \n",
       "feat_0         0.259484       0.331504  \n",
       "feat_1         0.187865         0.3973  \n",
       "feat_2        -0.476495      -0.662221  \n",
       "feat_3         0.104272     -0.0822386  \n",
       "...                 ...            ...  \n",
       "feat_295    -0.00910428      -0.768766  \n",
       "feat_296        0.15263       0.229174  \n",
       "feat_297      0.0261503       0.504789  \n",
       "feat_298        -0.4789      -0.708815  \n",
       "feat_299        0.47307      0.0943244  \n",
       "\n",
       "[301 rows x 5 columns]"
      ]
     },
     "execution_count": 7,
     "metadata": {},
     "output_type": "execute_result"
    }
   ],
   "source": [
    "biorxiv_vec_df = (\n",
    "    pd.DataFrame.from_dict(biorxiv_document_map, orient=\"index\")\n",
    "    .rename(columns={col: f\"feat_{col}\" for col in range(int(300))})\n",
    "    .rename_axis(\"document\")\n",
    "    .reset_index()\n",
    ")\n",
    "\n",
    "biorxiv_vec_df.to_csv(\n",
    "    \"output/polka_et_al_biorxiv_embeddings.tsv\", sep=\"\\t\", index=False\n",
    ")\n",
    "\n",
    "biorxiv_vec_df.head().T"
   ]
  },
  {
   "cell_type": "markdown",
   "metadata": {},
   "source": [
    "# PMCOA"
   ]
  },
  {
   "cell_type": "code",
   "execution_count": 8,
   "metadata": {
    "ExecuteTime": {
     "end_time": "2021-04-21T17:03:44.105791Z",
     "start_time": "2021-04-21T17:03:43.778410Z"
    }
   },
   "outputs": [],
   "source": [
    "pmcoa_documents = [\n",
    "    Path(f\"{x.parent.stem}/{x.name}\")\n",
    "    for x in list(Path(\"output/pmcoa_xml_files\").rglob(\"*nxml\"))\n",
    "]"
   ]
  },
  {
   "cell_type": "markdown",
   "metadata": {},
   "source": [
    "## PMCOA -> Term counts"
   ]
  },
  {
   "cell_type": "code",
   "execution_count": 9,
   "metadata": {
    "ExecuteTime": {
     "end_time": "2021-04-21T17:04:16.309524Z",
     "start_time": "2021-04-21T17:03:44.107202Z"
    }
   },
   "outputs": [
    {
     "data": {
      "application/vnd.jupyter.widget-view+json": {
       "model_id": "955a2a5ffe564e92a0495bf8d116e662",
       "version_major": 2,
       "version_minor": 0
      },
      "text/plain": [
       "HBox(children=(IntProgress(value=0, max=39), HTML(value='')))"
      ]
     },
     "metadata": {},
     "output_type": "display_data"
    },
    {
     "name": "stdout",
     "output_type": "stream",
     "text": [
      "\n"
     ]
    }
   ],
   "source": [
    "Path(\"output/pmcoa_word_counts\").mkdir(exist_ok=True)\n",
    "sentence_length = get_word_stats(\n",
    "    document_list=pmcoa_documents,\n",
    "    document_folder=\"output/pmcoa_xml_files\",\n",
    "    tag_path=\"//abstract/sec/*|//abstract/p|//body/sec/*|//body/p\",\n",
    "    output_folder=\"output/pmcoa_word_counts\",\n",
    ")"
   ]
  },
  {
   "cell_type": "markdown",
   "metadata": {},
   "source": [
    "## PMCOA -> Doc Vectors"
   ]
  },
  {
   "cell_type": "code",
   "execution_count": 10,
   "metadata": {
    "ExecuteTime": {
     "end_time": "2021-04-21T17:04:23.272941Z",
     "start_time": "2021-04-21T17:04:16.311855Z"
    }
   },
   "outputs": [],
   "source": [
    "pmcoa_vec_map = {\n",
    "    document.stem: generate_doc_vector(\n",
    "        word_model,\n",
    "        str(Path(\"output/pmcoa_xml_files\") / Path(document)),\n",
    "        \"//abstract/sec/*|//abstract/p|//body/sec/*|//body/p\",\n",
    "    )\n",
    "    for document in pmcoa_documents\n",
    "}"
   ]
  },
  {
   "cell_type": "code",
   "execution_count": 11,
   "metadata": {
    "ExecuteTime": {
     "end_time": "2021-04-21T17:04:23.324544Z",
     "start_time": "2021-04-21T17:04:23.278570Z"
    }
   },
   "outputs": [
    {
     "data": {
      "text/html": [
       "<div>\n",
       "<style scoped>\n",
       "    .dataframe tbody tr th:only-of-type {\n",
       "        vertical-align: middle;\n",
       "    }\n",
       "\n",
       "    .dataframe tbody tr th {\n",
       "        vertical-align: top;\n",
       "    }\n",
       "\n",
       "    .dataframe thead th {\n",
       "        text-align: right;\n",
       "    }\n",
       "</style>\n",
       "<table border=\"1\" class=\"dataframe\">\n",
       "  <thead>\n",
       "    <tr style=\"text-align: right;\">\n",
       "      <th></th>\n",
       "      <th>0</th>\n",
       "      <th>1</th>\n",
       "      <th>2</th>\n",
       "      <th>3</th>\n",
       "      <th>4</th>\n",
       "    </tr>\n",
       "  </thead>\n",
       "  <tbody>\n",
       "    <tr>\n",
       "      <th>document</th>\n",
       "      <td>PMC7095418</td>\n",
       "      <td>PMC7054013</td>\n",
       "      <td>PMC7182430</td>\n",
       "      <td>PMC7176908</td>\n",
       "      <td>PMC6907167</td>\n",
       "    </tr>\n",
       "    <tr>\n",
       "      <th>feat_0</th>\n",
       "      <td>0.0248885</td>\n",
       "      <td>0.0235554</td>\n",
       "      <td>-0.0556303</td>\n",
       "      <td>0.117712</td>\n",
       "      <td>0.226095</td>\n",
       "    </tr>\n",
       "    <tr>\n",
       "      <th>feat_1</th>\n",
       "      <td>-0.0709754</td>\n",
       "      <td>0.215864</td>\n",
       "      <td>-0.159898</td>\n",
       "      <td>-0.00885073</td>\n",
       "      <td>0.16165</td>\n",
       "    </tr>\n",
       "    <tr>\n",
       "      <th>feat_2</th>\n",
       "      <td>-0.377182</td>\n",
       "      <td>-0.443536</td>\n",
       "      <td>-0.455295</td>\n",
       "      <td>-0.116698</td>\n",
       "      <td>-0.38245</td>\n",
       "    </tr>\n",
       "    <tr>\n",
       "      <th>feat_3</th>\n",
       "      <td>-0.102496</td>\n",
       "      <td>0.0476431</td>\n",
       "      <td>0.131003</td>\n",
       "      <td>0.319624</td>\n",
       "      <td>0.504041</td>\n",
       "    </tr>\n",
       "    <tr>\n",
       "      <th>...</th>\n",
       "      <td>...</td>\n",
       "      <td>...</td>\n",
       "      <td>...</td>\n",
       "      <td>...</td>\n",
       "      <td>...</td>\n",
       "    </tr>\n",
       "    <tr>\n",
       "      <th>feat_295</th>\n",
       "      <td>-0.146963</td>\n",
       "      <td>-0.11197</td>\n",
       "      <td>-0.262596</td>\n",
       "      <td>-0.389951</td>\n",
       "      <td>0.104617</td>\n",
       "    </tr>\n",
       "    <tr>\n",
       "      <th>feat_296</th>\n",
       "      <td>0.204912</td>\n",
       "      <td>0.282327</td>\n",
       "      <td>0.429216</td>\n",
       "      <td>-0.118042</td>\n",
       "      <td>0.139984</td>\n",
       "    </tr>\n",
       "    <tr>\n",
       "      <th>feat_297</th>\n",
       "      <td>0.419672</td>\n",
       "      <td>0.564426</td>\n",
       "      <td>0.556789</td>\n",
       "      <td>0.743982</td>\n",
       "      <td>0.281341</td>\n",
       "    </tr>\n",
       "    <tr>\n",
       "      <th>feat_298</th>\n",
       "      <td>-0.734921</td>\n",
       "      <td>-0.316237</td>\n",
       "      <td>-0.663488</td>\n",
       "      <td>-0.15828</td>\n",
       "      <td>-0.474767</td>\n",
       "    </tr>\n",
       "    <tr>\n",
       "      <th>feat_299</th>\n",
       "      <td>0.661554</td>\n",
       "      <td>0.30434</td>\n",
       "      <td>0.191001</td>\n",
       "      <td>0.31842</td>\n",
       "      <td>0.466702</td>\n",
       "    </tr>\n",
       "  </tbody>\n",
       "</table>\n",
       "<p>301 rows × 5 columns</p>\n",
       "</div>"
      ],
      "text/plain": [
       "                   0           1           2           3           4\n",
       "document  PMC7095418  PMC7054013  PMC7182430  PMC7176908  PMC6907167\n",
       "feat_0     0.0248885   0.0235554  -0.0556303    0.117712    0.226095\n",
       "feat_1    -0.0709754    0.215864   -0.159898 -0.00885073     0.16165\n",
       "feat_2     -0.377182   -0.443536   -0.455295   -0.116698    -0.38245\n",
       "feat_3     -0.102496   0.0476431    0.131003    0.319624    0.504041\n",
       "...              ...         ...         ...         ...         ...\n",
       "feat_295   -0.146963    -0.11197   -0.262596   -0.389951    0.104617\n",
       "feat_296    0.204912    0.282327    0.429216   -0.118042    0.139984\n",
       "feat_297    0.419672    0.564426    0.556789    0.743982    0.281341\n",
       "feat_298   -0.734921   -0.316237   -0.663488    -0.15828   -0.474767\n",
       "feat_299    0.661554     0.30434    0.191001     0.31842    0.466702\n",
       "\n",
       "[301 rows x 5 columns]"
      ]
     },
     "execution_count": 11,
     "metadata": {},
     "output_type": "execute_result"
    }
   ],
   "source": [
    "pmcoa_vec_df = (\n",
    "    pd.DataFrame.from_dict(pmcoa_vec_map, orient=\"index\")\n",
    "    .rename(columns={col: f\"feat_{col}\" for col in range(int(300))})\n",
    "    .rename_axis(\"document\")\n",
    "    .reset_index()\n",
    ")\n",
    "\n",
    "pmcoa_vec_df.to_csv(\"output/polka_et_al_pmcoa_embeddings.tsv\", sep=\"\\t\", index=False)\n",
    "\n",
    "pmcoa_vec_df.head().T"
   ]
  }
 ],
 "metadata": {
  "jupytext": {
   "formats": "ipynb,py"
  },
  "kernelspec": {
   "display_name": "Python [conda env:annorxiver]",
   "language": "python",
   "name": "conda-env-annorxiver-py"
  },
  "language_info": {
   "codemirror_mode": {
    "name": "ipython",
    "version": 3
   },
   "file_extension": ".py",
   "mimetype": "text/x-python",
   "name": "python",
   "nbconvert_exporter": "python",
   "pygments_lexer": "ipython3",
   "version": "3.7.2"
  },
  "toc": {
   "base_numbering": 1,
   "nav_menu": {},
   "number_sections": true,
   "sideBar": true,
   "skip_h1_title": false,
   "title_cell": "Table of Contents",
   "title_sidebar": "Contents",
   "toc_cell": false,
   "toc_position": {},
   "toc_section_display": true,
   "toc_window_display": false
  }
 },
 "nbformat": 4,
 "nbformat_minor": 2
}
