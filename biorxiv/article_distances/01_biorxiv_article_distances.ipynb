{
 "cells": [
  {
   "cell_type": "markdown",
   "metadata": {},
   "source": [
    "# Find published articles missing from bioRxiv"
   ]
  },
  {
   "cell_type": "code",
   "execution_count": 1,
   "metadata": {
    "ExecuteTime": {
     "end_time": "2021-04-21T02:48:43.707986Z",
     "start_time": "2021-04-21T02:48:42.804194Z"
    }
   },
   "outputs": [],
   "source": [
    "from pathlib import Path\n",
    "import pickle\n",
    "\n",
    "import numpy as np\n",
    "import pandas as pd\n",
    "import plotnine as p9\n",
    "from scipy.spatial.distance import cdist\n",
    "from sklearn.linear_model import LogisticRegressionCV\n",
    "import tqdm"
   ]
  },
  {
   "cell_type": "markdown",
   "metadata": {},
   "source": [
    "# Load Embeddings"
   ]
  },
  {
   "cell_type": "markdown",
   "metadata": {},
   "source": [
    "## bioRxiv"
   ]
  },
  {
   "cell_type": "code",
   "execution_count": 2,
   "metadata": {
    "ExecuteTime": {
     "end_time": "2021-04-21T02:48:44.028716Z",
     "start_time": "2021-04-21T02:48:43.709362Z"
    }
   },
   "outputs": [
    {
     "data": {
      "text/html": [
       "<div>\n",
       "<style scoped>\n",
       "    .dataframe tbody tr th:only-of-type {\n",
       "        vertical-align: middle;\n",
       "    }\n",
       "\n",
       "    .dataframe tbody tr th {\n",
       "        vertical-align: top;\n",
       "    }\n",
       "\n",
       "    .dataframe thead th {\n",
       "        text-align: right;\n",
       "    }\n",
       "</style>\n",
       "<table border=\"1\" class=\"dataframe\">\n",
       "  <thead>\n",
       "    <tr style=\"text-align: right;\">\n",
       "      <th></th>\n",
       "      <th>document</th>\n",
       "      <th>category</th>\n",
       "      <th>preprint_doi</th>\n",
       "      <th>published_doi</th>\n",
       "      <th>pmcid</th>\n",
       "      <th>pmcoa</th>\n",
       "    </tr>\n",
       "  </thead>\n",
       "  <tbody>\n",
       "    <tr>\n",
       "      <th>0</th>\n",
       "      <td>000026_v1.xml</td>\n",
       "      <td>genetics</td>\n",
       "      <td>10.1101/000026</td>\n",
       "      <td>10.1371/journal.pgen.1004412</td>\n",
       "      <td>PMC4125079</td>\n",
       "      <td>True</td>\n",
       "    </tr>\n",
       "    <tr>\n",
       "      <th>1</th>\n",
       "      <td>000042_v2.xml</td>\n",
       "      <td>genomics</td>\n",
       "      <td>10.1101/000042</td>\n",
       "      <td>10.1038/nrg3723</td>\n",
       "      <td>PMC4151119</td>\n",
       "      <td>False</td>\n",
       "    </tr>\n",
       "    <tr>\n",
       "      <th>2</th>\n",
       "      <td>000067_v1.xml</td>\n",
       "      <td>genomics</td>\n",
       "      <td>10.1101/000067</td>\n",
       "      <td>10.1038/nature12904</td>\n",
       "      <td>PMC4285441</td>\n",
       "      <td>True</td>\n",
       "    </tr>\n",
       "    <tr>\n",
       "      <th>3</th>\n",
       "      <td>000091_v1.xml</td>\n",
       "      <td>synthetic biology</td>\n",
       "      <td>10.1101/000091</td>\n",
       "      <td>NaN</td>\n",
       "      <td>NaN</td>\n",
       "      <td>False</td>\n",
       "    </tr>\n",
       "    <tr>\n",
       "      <th>4</th>\n",
       "      <td>000109_v1.xml</td>\n",
       "      <td>evolutionary biology</td>\n",
       "      <td>10.1101/000109</td>\n",
       "      <td>10.1371/journal.pgen.1004410</td>\n",
       "      <td>PMC4072524</td>\n",
       "      <td>True</td>\n",
       "    </tr>\n",
       "  </tbody>\n",
       "</table>\n",
       "</div>"
      ],
      "text/plain": [
       "        document              category    preprint_doi  \\\n",
       "0  000026_v1.xml              genetics  10.1101/000026   \n",
       "1  000042_v2.xml              genomics  10.1101/000042   \n",
       "2  000067_v1.xml              genomics  10.1101/000067   \n",
       "3  000091_v1.xml     synthetic biology  10.1101/000091   \n",
       "4  000109_v1.xml  evolutionary biology  10.1101/000109   \n",
       "\n",
       "                  published_doi       pmcid  pmcoa  \n",
       "0  10.1371/journal.pgen.1004412  PMC4125079   True  \n",
       "1               10.1038/nrg3723  PMC4151119  False  \n",
       "2           10.1038/nature12904  PMC4285441   True  \n",
       "3                           NaN         NaN  False  \n",
       "4  10.1371/journal.pgen.1004410  PMC4072524   True  "
      ]
     },
     "execution_count": 2,
     "metadata": {},
     "output_type": "execute_result"
    }
   ],
   "source": [
    "biorxiv_journal_df = (\n",
    "    pd.read_csv(\n",
    "        \"../journal_tracker/output/mapped_published_doi_before_update.tsv\", sep=\"\\t\"\n",
    "    )\n",
    "    .rename(index=str, columns={\"doi\": \"preprint_doi\"})\n",
    "    .groupby(\"preprint_doi\")\n",
    "    .agg(\n",
    "        {\n",
    "            \"document\": \"last\",\n",
    "            \"category\": \"first\",\n",
    "            \"preprint_doi\": \"last\",\n",
    "            \"published_doi\": \"first\",\n",
    "            \"pmcid\": \"first\",\n",
    "            \"pmcoa\": \"first\",\n",
    "        }\n",
    "    )\n",
    "    .reset_index(drop=True)\n",
    ")\n",
    "biorxiv_journal_df.head()"
   ]
  },
  {
   "cell_type": "code",
   "execution_count": 3,
   "metadata": {
    "ExecuteTime": {
     "end_time": "2021-04-21T02:49:02.267995Z",
     "start_time": "2021-04-21T02:48:44.030456Z"
    }
   },
   "outputs": [
    {
     "data": {
      "text/html": [
       "<div>\n",
       "<style scoped>\n",
       "    .dataframe tbody tr th:only-of-type {\n",
       "        vertical-align: middle;\n",
       "    }\n",
       "\n",
       "    .dataframe tbody tr th {\n",
       "        vertical-align: top;\n",
       "    }\n",
       "\n",
       "    .dataframe thead th {\n",
       "        text-align: right;\n",
       "    }\n",
       "</style>\n",
       "<table border=\"1\" class=\"dataframe\">\n",
       "  <thead>\n",
       "    <tr style=\"text-align: right;\">\n",
       "      <th></th>\n",
       "      <th>document</th>\n",
       "      <th>feat_0</th>\n",
       "      <th>feat_1</th>\n",
       "      <th>feat_2</th>\n",
       "      <th>feat_3</th>\n",
       "      <th>feat_4</th>\n",
       "      <th>feat_5</th>\n",
       "      <th>feat_6</th>\n",
       "      <th>feat_7</th>\n",
       "      <th>feat_8</th>\n",
       "      <th>...</th>\n",
       "      <th>feat_290</th>\n",
       "      <th>feat_291</th>\n",
       "      <th>feat_292</th>\n",
       "      <th>feat_293</th>\n",
       "      <th>feat_294</th>\n",
       "      <th>feat_295</th>\n",
       "      <th>feat_296</th>\n",
       "      <th>feat_297</th>\n",
       "      <th>feat_298</th>\n",
       "      <th>feat_299</th>\n",
       "    </tr>\n",
       "  </thead>\n",
       "  <tbody>\n",
       "    <tr>\n",
       "      <th>0</th>\n",
       "      <td>440735_v1.xml</td>\n",
       "      <td>0.063813</td>\n",
       "      <td>0.012187</td>\n",
       "      <td>-0.156229</td>\n",
       "      <td>-0.158987</td>\n",
       "      <td>0.165480</td>\n",
       "      <td>-0.346612</td>\n",
       "      <td>0.001741</td>\n",
       "      <td>-0.107139</td>\n",
       "      <td>0.684055</td>\n",
       "      <td>...</td>\n",
       "      <td>-0.140772</td>\n",
       "      <td>-0.143405</td>\n",
       "      <td>-0.081427</td>\n",
       "      <td>-0.248220</td>\n",
       "      <td>-0.771470</td>\n",
       "      <td>-0.235455</td>\n",
       "      <td>0.547801</td>\n",
       "      <td>0.859663</td>\n",
       "      <td>-0.063151</td>\n",
       "      <td>0.012667</td>\n",
       "    </tr>\n",
       "    <tr>\n",
       "      <th>1</th>\n",
       "      <td>775270_v1.xml</td>\n",
       "      <td>-0.201064</td>\n",
       "      <td>0.011870</td>\n",
       "      <td>-0.354809</td>\n",
       "      <td>-0.150633</td>\n",
       "      <td>0.095305</td>\n",
       "      <td>-0.507254</td>\n",
       "      <td>-0.339986</td>\n",
       "      <td>0.303313</td>\n",
       "      <td>0.944561</td>\n",
       "      <td>...</td>\n",
       "      <td>-0.115199</td>\n",
       "      <td>-0.259798</td>\n",
       "      <td>0.272955</td>\n",
       "      <td>-0.346138</td>\n",
       "      <td>-0.844158</td>\n",
       "      <td>-0.596267</td>\n",
       "      <td>0.121678</td>\n",
       "      <td>0.959160</td>\n",
       "      <td>-0.747369</td>\n",
       "      <td>-0.073314</td>\n",
       "    </tr>\n",
       "    <tr>\n",
       "      <th>2</th>\n",
       "      <td>242404_v1.xml</td>\n",
       "      <td>-0.204741</td>\n",
       "      <td>-0.107589</td>\n",
       "      <td>-0.062853</td>\n",
       "      <td>0.140793</td>\n",
       "      <td>0.066307</td>\n",
       "      <td>-0.463290</td>\n",
       "      <td>-0.106492</td>\n",
       "      <td>-0.040269</td>\n",
       "      <td>0.557687</td>\n",
       "      <td>...</td>\n",
       "      <td>-0.229839</td>\n",
       "      <td>-0.325765</td>\n",
       "      <td>-0.064586</td>\n",
       "      <td>-0.300529</td>\n",
       "      <td>-0.707948</td>\n",
       "      <td>-0.479390</td>\n",
       "      <td>0.381809</td>\n",
       "      <td>0.968333</td>\n",
       "      <td>-0.402499</td>\n",
       "      <td>-0.109250</td>\n",
       "    </tr>\n",
       "    <tr>\n",
       "      <th>3</th>\n",
       "      <td>872994_v1.xml</td>\n",
       "      <td>-0.256990</td>\n",
       "      <td>-0.055972</td>\n",
       "      <td>-0.300816</td>\n",
       "      <td>0.495731</td>\n",
       "      <td>0.290070</td>\n",
       "      <td>-0.310817</td>\n",
       "      <td>-0.481578</td>\n",
       "      <td>-0.161373</td>\n",
       "      <td>0.483896</td>\n",
       "      <td>...</td>\n",
       "      <td>0.148916</td>\n",
       "      <td>-0.217426</td>\n",
       "      <td>0.195183</td>\n",
       "      <td>-0.069086</td>\n",
       "      <td>-0.545689</td>\n",
       "      <td>-0.517949</td>\n",
       "      <td>0.265230</td>\n",
       "      <td>0.645038</td>\n",
       "      <td>-0.843499</td>\n",
       "      <td>-0.142928</td>\n",
       "    </tr>\n",
       "    <tr>\n",
       "      <th>4</th>\n",
       "      <td>080853_v2.xml</td>\n",
       "      <td>0.167641</td>\n",
       "      <td>0.046808</td>\n",
       "      <td>-0.709753</td>\n",
       "      <td>0.232242</td>\n",
       "      <td>-0.139213</td>\n",
       "      <td>-0.319284</td>\n",
       "      <td>-0.314807</td>\n",
       "      <td>0.310180</td>\n",
       "      <td>0.317704</td>\n",
       "      <td>...</td>\n",
       "      <td>0.540693</td>\n",
       "      <td>0.264286</td>\n",
       "      <td>0.256323</td>\n",
       "      <td>0.137184</td>\n",
       "      <td>-0.754344</td>\n",
       "      <td>-0.145583</td>\n",
       "      <td>0.032544</td>\n",
       "      <td>0.507430</td>\n",
       "      <td>-0.374320</td>\n",
       "      <td>0.473060</td>\n",
       "    </tr>\n",
       "  </tbody>\n",
       "</table>\n",
       "<p>5 rows × 301 columns</p>\n",
       "</div>"
      ],
      "text/plain": [
       "        document    feat_0    feat_1    feat_2    feat_3    feat_4    feat_5  \\\n",
       "0  440735_v1.xml  0.063813  0.012187 -0.156229 -0.158987  0.165480 -0.346612   \n",
       "1  775270_v1.xml -0.201064  0.011870 -0.354809 -0.150633  0.095305 -0.507254   \n",
       "2  242404_v1.xml -0.204741 -0.107589 -0.062853  0.140793  0.066307 -0.463290   \n",
       "3  872994_v1.xml -0.256990 -0.055972 -0.300816  0.495731  0.290070 -0.310817   \n",
       "4  080853_v2.xml  0.167641  0.046808 -0.709753  0.232242 -0.139213 -0.319284   \n",
       "\n",
       "     feat_6    feat_7    feat_8  ...  feat_290  feat_291  feat_292  feat_293  \\\n",
       "0  0.001741 -0.107139  0.684055  ... -0.140772 -0.143405 -0.081427 -0.248220   \n",
       "1 -0.339986  0.303313  0.944561  ... -0.115199 -0.259798  0.272955 -0.346138   \n",
       "2 -0.106492 -0.040269  0.557687  ... -0.229839 -0.325765 -0.064586 -0.300529   \n",
       "3 -0.481578 -0.161373  0.483896  ...  0.148916 -0.217426  0.195183 -0.069086   \n",
       "4 -0.314807  0.310180  0.317704  ...  0.540693  0.264286  0.256323  0.137184   \n",
       "\n",
       "   feat_294  feat_295  feat_296  feat_297  feat_298  feat_299  \n",
       "0 -0.771470 -0.235455  0.547801  0.859663 -0.063151  0.012667  \n",
       "1 -0.844158 -0.596267  0.121678  0.959160 -0.747369 -0.073314  \n",
       "2 -0.707948 -0.479390  0.381809  0.968333 -0.402499 -0.109250  \n",
       "3 -0.545689 -0.517949  0.265230  0.645038 -0.843499 -0.142928  \n",
       "4 -0.754344 -0.145583  0.032544  0.507430 -0.374320  0.473060  \n",
       "\n",
       "[5 rows x 301 columns]"
      ]
     },
     "execution_count": 3,
     "metadata": {},
     "output_type": "execute_result"
    }
   ],
   "source": [
    "biorxiv_embed_df = pd.read_csv(\n",
    "    Path(\"../word_vector_experiment/output/\")\n",
    "    / \"word2vec_output/\"\n",
    "    / \"biorxiv_all_articles_300_fixed.tsv.xz\",\n",
    "    sep=\"\\t\",\n",
    ")\n",
    "biorxiv_embed_df = biorxiv_embed_df.dropna()\n",
    "biorxiv_embed_df.head()"
   ]
  },
  {
   "cell_type": "code",
   "execution_count": 4,
   "metadata": {
    "ExecuteTime": {
     "end_time": "2021-04-21T02:49:02.502346Z",
     "start_time": "2021-04-21T02:49:02.269387Z"
    }
   },
   "outputs": [
    {
     "data": {
      "text/html": [
       "<div>\n",
       "<style scoped>\n",
       "    .dataframe tbody tr th:only-of-type {\n",
       "        vertical-align: middle;\n",
       "    }\n",
       "\n",
       "    .dataframe tbody tr th {\n",
       "        vertical-align: top;\n",
       "    }\n",
       "\n",
       "    .dataframe thead th {\n",
       "        text-align: right;\n",
       "    }\n",
       "</style>\n",
       "<table border=\"1\" class=\"dataframe\">\n",
       "  <thead>\n",
       "    <tr style=\"text-align: right;\">\n",
       "      <th></th>\n",
       "      <th>document</th>\n",
       "      <th>published_doi</th>\n",
       "      <th>pmcid</th>\n",
       "      <th>pmcoa</th>\n",
       "      <th>feat_0</th>\n",
       "      <th>feat_1</th>\n",
       "      <th>feat_2</th>\n",
       "      <th>feat_3</th>\n",
       "      <th>feat_4</th>\n",
       "      <th>feat_5</th>\n",
       "      <th>...</th>\n",
       "      <th>feat_290</th>\n",
       "      <th>feat_291</th>\n",
       "      <th>feat_292</th>\n",
       "      <th>feat_293</th>\n",
       "      <th>feat_294</th>\n",
       "      <th>feat_295</th>\n",
       "      <th>feat_296</th>\n",
       "      <th>feat_297</th>\n",
       "      <th>feat_298</th>\n",
       "      <th>feat_299</th>\n",
       "    </tr>\n",
       "  </thead>\n",
       "  <tbody>\n",
       "    <tr>\n",
       "      <th>0</th>\n",
       "      <td>000026_v1.xml</td>\n",
       "      <td>10.1371/journal.pgen.1004412</td>\n",
       "      <td>PMC4125079</td>\n",
       "      <td>True</td>\n",
       "      <td>-0.044238</td>\n",
       "      <td>0.042773</td>\n",
       "      <td>-0.131834</td>\n",
       "      <td>-0.002672</td>\n",
       "      <td>0.135241</td>\n",
       "      <td>-0.302512</td>\n",
       "      <td>...</td>\n",
       "      <td>0.066490</td>\n",
       "      <td>-0.173164</td>\n",
       "      <td>-0.102007</td>\n",
       "      <td>-0.046054</td>\n",
       "      <td>-0.858827</td>\n",
       "      <td>-0.619672</td>\n",
       "      <td>0.374192</td>\n",
       "      <td>1.072033</td>\n",
       "      <td>-0.142945</td>\n",
       "      <td>-0.054528</td>\n",
       "    </tr>\n",
       "    <tr>\n",
       "      <th>1</th>\n",
       "      <td>000042_v2.xml</td>\n",
       "      <td>10.1038/nrg3723</td>\n",
       "      <td>PMC4151119</td>\n",
       "      <td>False</td>\n",
       "      <td>-0.323756</td>\n",
       "      <td>-0.230348</td>\n",
       "      <td>-0.118710</td>\n",
       "      <td>-0.179675</td>\n",
       "      <td>0.084552</td>\n",
       "      <td>-0.471139</td>\n",
       "      <td>...</td>\n",
       "      <td>-0.009326</td>\n",
       "      <td>0.055672</td>\n",
       "      <td>0.014222</td>\n",
       "      <td>-0.165799</td>\n",
       "      <td>-0.595123</td>\n",
       "      <td>-0.318799</td>\n",
       "      <td>0.480354</td>\n",
       "      <td>0.750458</td>\n",
       "      <td>-0.338961</td>\n",
       "      <td>0.010047</td>\n",
       "    </tr>\n",
       "    <tr>\n",
       "      <th>2</th>\n",
       "      <td>000067_v1.xml</td>\n",
       "      <td>10.1038/nature12904</td>\n",
       "      <td>PMC4285441</td>\n",
       "      <td>True</td>\n",
       "      <td>0.025268</td>\n",
       "      <td>0.164317</td>\n",
       "      <td>-0.095816</td>\n",
       "      <td>-0.145657</td>\n",
       "      <td>-0.006043</td>\n",
       "      <td>-0.322385</td>\n",
       "      <td>...</td>\n",
       "      <td>0.170596</td>\n",
       "      <td>-0.111823</td>\n",
       "      <td>0.074954</td>\n",
       "      <td>-0.173614</td>\n",
       "      <td>-0.747070</td>\n",
       "      <td>-0.613020</td>\n",
       "      <td>0.269025</td>\n",
       "      <td>0.582739</td>\n",
       "      <td>-0.374461</td>\n",
       "      <td>0.418433</td>\n",
       "    </tr>\n",
       "    <tr>\n",
       "      <th>3</th>\n",
       "      <td>000091_v1.xml</td>\n",
       "      <td>NaN</td>\n",
       "      <td>NaN</td>\n",
       "      <td>False</td>\n",
       "      <td>-0.132056</td>\n",
       "      <td>0.118364</td>\n",
       "      <td>-0.273165</td>\n",
       "      <td>0.298218</td>\n",
       "      <td>0.292788</td>\n",
       "      <td>-0.637130</td>\n",
       "      <td>...</td>\n",
       "      <td>0.300299</td>\n",
       "      <td>-0.441953</td>\n",
       "      <td>0.544878</td>\n",
       "      <td>-0.001271</td>\n",
       "      <td>-0.353551</td>\n",
       "      <td>-0.701067</td>\n",
       "      <td>0.296414</td>\n",
       "      <td>0.717840</td>\n",
       "      <td>-0.679277</td>\n",
       "      <td>0.032921</td>\n",
       "    </tr>\n",
       "    <tr>\n",
       "      <th>4</th>\n",
       "      <td>000109_v1.xml</td>\n",
       "      <td>10.1371/journal.pgen.1004410</td>\n",
       "      <td>PMC4072524</td>\n",
       "      <td>True</td>\n",
       "      <td>-0.104861</td>\n",
       "      <td>0.045978</td>\n",
       "      <td>-0.130486</td>\n",
       "      <td>0.098894</td>\n",
       "      <td>0.034303</td>\n",
       "      <td>-0.032209</td>\n",
       "      <td>...</td>\n",
       "      <td>0.171565</td>\n",
       "      <td>-0.131917</td>\n",
       "      <td>0.152926</td>\n",
       "      <td>-0.212052</td>\n",
       "      <td>-0.744034</td>\n",
       "      <td>-0.514488</td>\n",
       "      <td>0.123406</td>\n",
       "      <td>0.911272</td>\n",
       "      <td>-0.278870</td>\n",
       "      <td>0.342552</td>\n",
       "    </tr>\n",
       "  </tbody>\n",
       "</table>\n",
       "<p>5 rows × 304 columns</p>\n",
       "</div>"
      ],
      "text/plain": [
       "        document                 published_doi       pmcid  pmcoa    feat_0  \\\n",
       "0  000026_v1.xml  10.1371/journal.pgen.1004412  PMC4125079   True -0.044238   \n",
       "1  000042_v2.xml               10.1038/nrg3723  PMC4151119  False -0.323756   \n",
       "2  000067_v1.xml           10.1038/nature12904  PMC4285441   True  0.025268   \n",
       "3  000091_v1.xml                           NaN         NaN  False -0.132056   \n",
       "4  000109_v1.xml  10.1371/journal.pgen.1004410  PMC4072524   True -0.104861   \n",
       "\n",
       "     feat_1    feat_2    feat_3    feat_4    feat_5  ...  feat_290  feat_291  \\\n",
       "0  0.042773 -0.131834 -0.002672  0.135241 -0.302512  ...  0.066490 -0.173164   \n",
       "1 -0.230348 -0.118710 -0.179675  0.084552 -0.471139  ... -0.009326  0.055672   \n",
       "2  0.164317 -0.095816 -0.145657 -0.006043 -0.322385  ...  0.170596 -0.111823   \n",
       "3  0.118364 -0.273165  0.298218  0.292788 -0.637130  ...  0.300299 -0.441953   \n",
       "4  0.045978 -0.130486  0.098894  0.034303 -0.032209  ...  0.171565 -0.131917   \n",
       "\n",
       "   feat_292  feat_293  feat_294  feat_295  feat_296  feat_297  feat_298  \\\n",
       "0 -0.102007 -0.046054 -0.858827 -0.619672  0.374192  1.072033 -0.142945   \n",
       "1  0.014222 -0.165799 -0.595123 -0.318799  0.480354  0.750458 -0.338961   \n",
       "2  0.074954 -0.173614 -0.747070 -0.613020  0.269025  0.582739 -0.374461   \n",
       "3  0.544878 -0.001271 -0.353551 -0.701067  0.296414  0.717840 -0.679277   \n",
       "4  0.152926 -0.212052 -0.744034 -0.514488  0.123406  0.911272 -0.278870   \n",
       "\n",
       "   feat_299  \n",
       "0 -0.054528  \n",
       "1  0.010047  \n",
       "2  0.418433  \n",
       "3  0.032921  \n",
       "4  0.342552  \n",
       "\n",
       "[5 rows x 304 columns]"
      ]
     },
     "execution_count": 4,
     "metadata": {},
     "output_type": "execute_result"
    }
   ],
   "source": [
    "biorxiv_journal_mapped_df = biorxiv_journal_df[\n",
    "    [\"document\", \"published_doi\", \"pmcid\", \"pmcoa\"]\n",
    "].merge(biorxiv_embed_df, on=\"document\")\n",
    "biorxiv_journal_mapped_df.head()"
   ]
  },
  {
   "cell_type": "markdown",
   "metadata": {},
   "source": [
    "## Pubmed Central"
   ]
  },
  {
   "cell_type": "code",
   "execution_count": 5,
   "metadata": {
    "ExecuteTime": {
     "end_time": "2021-04-21T02:49:06.892351Z",
     "start_time": "2021-04-21T02:49:02.503635Z"
    }
   },
   "outputs": [
    {
     "data": {
      "text/html": [
       "<div>\n",
       "<style scoped>\n",
       "    .dataframe tbody tr th:only-of-type {\n",
       "        vertical-align: middle;\n",
       "    }\n",
       "\n",
       "    .dataframe tbody tr th {\n",
       "        vertical-align: top;\n",
       "    }\n",
       "\n",
       "    .dataframe thead th {\n",
       "        text-align: right;\n",
       "    }\n",
       "</style>\n",
       "<table border=\"1\" class=\"dataframe\">\n",
       "  <thead>\n",
       "    <tr style=\"text-align: right;\">\n",
       "      <th></th>\n",
       "      <th>journal</th>\n",
       "      <th>article_type</th>\n",
       "      <th>doi</th>\n",
       "      <th>pmcid</th>\n",
       "    </tr>\n",
       "  </thead>\n",
       "  <tbody>\n",
       "    <tr>\n",
       "      <th>0</th>\n",
       "      <td>Environ_Health</td>\n",
       "      <td>research-article</td>\n",
       "      <td>10.1186/1476-069X-5-22</td>\n",
       "      <td>PMC1552054</td>\n",
       "    </tr>\n",
       "    <tr>\n",
       "      <th>1</th>\n",
       "      <td>Environ_Health</td>\n",
       "      <td>research-article</td>\n",
       "      <td>10.1186/1476-069X-4-12</td>\n",
       "      <td>PMC1226148</td>\n",
       "    </tr>\n",
       "    <tr>\n",
       "      <th>3</th>\n",
       "      <td>Environ_Health</td>\n",
       "      <td>research-article</td>\n",
       "      <td>10.1186/s12940-017-0316-3</td>\n",
       "      <td>PMC5635510</td>\n",
       "    </tr>\n",
       "    <tr>\n",
       "      <th>4</th>\n",
       "      <td>Environ_Health</td>\n",
       "      <td>research-article</td>\n",
       "      <td>10.1186/1476-069X-10-46</td>\n",
       "      <td>PMC3125232</td>\n",
       "    </tr>\n",
       "    <tr>\n",
       "      <th>5</th>\n",
       "      <td>Environ_Health</td>\n",
       "      <td>research-article</td>\n",
       "      <td>10.1186/1476-069X-11-91</td>\n",
       "      <td>PMC3533997</td>\n",
       "    </tr>\n",
       "  </tbody>\n",
       "</table>\n",
       "</div>"
      ],
      "text/plain": [
       "          journal      article_type                        doi       pmcid\n",
       "0  Environ_Health  research-article     10.1186/1476-069X-5-22  PMC1552054\n",
       "1  Environ_Health  research-article     10.1186/1476-069X-4-12  PMC1226148\n",
       "3  Environ_Health  research-article  10.1186/s12940-017-0316-3  PMC5635510\n",
       "4  Environ_Health  research-article    10.1186/1476-069X-10-46  PMC3125232\n",
       "5  Environ_Health  research-article    10.1186/1476-069X-11-91  PMC3533997"
      ]
     },
     "execution_count": 5,
     "metadata": {},
     "output_type": "execute_result"
    }
   ],
   "source": [
    "pmc_articles_df = pd.read_csv(\n",
    "    Path(\"../../pmc/exploratory_data_analysis/\")\n",
    "    / \"output/pubmed_central_journal_paper_map.tsv.xz\",\n",
    "    sep=\"\\t\",\n",
    ").query(\"article_type=='research-article'\")\n",
    "pmc_articles_df.head()"
   ]
  },
  {
   "cell_type": "code",
   "execution_count": 6,
   "metadata": {
    "ExecuteTime": {
     "end_time": "2021-04-21T02:52:58.600692Z",
     "start_time": "2021-04-21T02:49:06.893690Z"
    }
   },
   "outputs": [
    {
     "data": {
      "text/html": [
       "<div>\n",
       "<style scoped>\n",
       "    .dataframe tbody tr th:only-of-type {\n",
       "        vertical-align: middle;\n",
       "    }\n",
       "\n",
       "    .dataframe tbody tr th {\n",
       "        vertical-align: top;\n",
       "    }\n",
       "\n",
       "    .dataframe thead th {\n",
       "        text-align: right;\n",
       "    }\n",
       "</style>\n",
       "<table border=\"1\" class=\"dataframe\">\n",
       "  <thead>\n",
       "    <tr style=\"text-align: right;\">\n",
       "      <th></th>\n",
       "      <th>journal</th>\n",
       "      <th>document</th>\n",
       "      <th>feat_0</th>\n",
       "      <th>feat_1</th>\n",
       "      <th>feat_2</th>\n",
       "      <th>feat_3</th>\n",
       "      <th>feat_4</th>\n",
       "      <th>feat_5</th>\n",
       "      <th>feat_6</th>\n",
       "      <th>feat_7</th>\n",
       "      <th>...</th>\n",
       "      <th>feat_290</th>\n",
       "      <th>feat_291</th>\n",
       "      <th>feat_292</th>\n",
       "      <th>feat_293</th>\n",
       "      <th>feat_294</th>\n",
       "      <th>feat_295</th>\n",
       "      <th>feat_296</th>\n",
       "      <th>feat_297</th>\n",
       "      <th>feat_298</th>\n",
       "      <th>feat_299</th>\n",
       "    </tr>\n",
       "  </thead>\n",
       "  <tbody>\n",
       "    <tr>\n",
       "      <th>0</th>\n",
       "      <td>Environ_Health</td>\n",
       "      <td>PMC1552054</td>\n",
       "      <td>-0.168362</td>\n",
       "      <td>0.044431</td>\n",
       "      <td>-0.068592</td>\n",
       "      <td>-0.025250</td>\n",
       "      <td>-0.638518</td>\n",
       "      <td>-0.302347</td>\n",
       "      <td>0.303967</td>\n",
       "      <td>-0.122796</td>\n",
       "      <td>...</td>\n",
       "      <td>0.012046</td>\n",
       "      <td>-0.156143</td>\n",
       "      <td>0.010454</td>\n",
       "      <td>-0.615891</td>\n",
       "      <td>-0.952055</td>\n",
       "      <td>-0.504918</td>\n",
       "      <td>0.113741</td>\n",
       "      <td>0.763464</td>\n",
       "      <td>-0.789372</td>\n",
       "      <td>0.009379</td>\n",
       "    </tr>\n",
       "    <tr>\n",
       "      <th>1</th>\n",
       "      <td>Environ_Health</td>\n",
       "      <td>PMC1226148</td>\n",
       "      <td>-0.239919</td>\n",
       "      <td>-0.060203</td>\n",
       "      <td>-0.133328</td>\n",
       "      <td>0.360897</td>\n",
       "      <td>-0.517385</td>\n",
       "      <td>-0.249687</td>\n",
       "      <td>0.056513</td>\n",
       "      <td>0.052408</td>\n",
       "      <td>...</td>\n",
       "      <td>0.321736</td>\n",
       "      <td>-0.251242</td>\n",
       "      <td>0.261475</td>\n",
       "      <td>-0.577342</td>\n",
       "      <td>-0.544784</td>\n",
       "      <td>-0.484138</td>\n",
       "      <td>0.065360</td>\n",
       "      <td>0.530282</td>\n",
       "      <td>-0.828810</td>\n",
       "      <td>-0.012625</td>\n",
       "    </tr>\n",
       "    <tr>\n",
       "      <th>2</th>\n",
       "      <td>Environ_Health</td>\n",
       "      <td>PMC5635510</td>\n",
       "      <td>0.048672</td>\n",
       "      <td>0.170688</td>\n",
       "      <td>-0.070395</td>\n",
       "      <td>0.236424</td>\n",
       "      <td>-0.039087</td>\n",
       "      <td>-0.381143</td>\n",
       "      <td>0.051673</td>\n",
       "      <td>-0.148415</td>\n",
       "      <td>...</td>\n",
       "      <td>0.097997</td>\n",
       "      <td>-0.170264</td>\n",
       "      <td>0.064343</td>\n",
       "      <td>-0.447883</td>\n",
       "      <td>-0.758610</td>\n",
       "      <td>-0.459414</td>\n",
       "      <td>0.433691</td>\n",
       "      <td>0.676709</td>\n",
       "      <td>-0.573157</td>\n",
       "      <td>-0.104958</td>\n",
       "    </tr>\n",
       "    <tr>\n",
       "      <th>3</th>\n",
       "      <td>Environ_Health</td>\n",
       "      <td>PMC3533997</td>\n",
       "      <td>-0.064178</td>\n",
       "      <td>0.173903</td>\n",
       "      <td>-0.051677</td>\n",
       "      <td>0.159768</td>\n",
       "      <td>-0.305409</td>\n",
       "      <td>-0.493326</td>\n",
       "      <td>0.267089</td>\n",
       "      <td>-0.005127</td>\n",
       "      <td>...</td>\n",
       "      <td>-0.075961</td>\n",
       "      <td>-0.404060</td>\n",
       "      <td>-0.012403</td>\n",
       "      <td>-0.567062</td>\n",
       "      <td>-1.054321</td>\n",
       "      <td>-0.372887</td>\n",
       "      <td>0.075409</td>\n",
       "      <td>0.681162</td>\n",
       "      <td>-0.849728</td>\n",
       "      <td>-0.233986</td>\n",
       "    </tr>\n",
       "    <tr>\n",
       "      <th>4</th>\n",
       "      <td>Environ_Health</td>\n",
       "      <td>PMC3125232</td>\n",
       "      <td>-0.186567</td>\n",
       "      <td>0.081031</td>\n",
       "      <td>-0.073595</td>\n",
       "      <td>-0.137754</td>\n",
       "      <td>0.068354</td>\n",
       "      <td>-0.406180</td>\n",
       "      <td>-0.219826</td>\n",
       "      <td>-0.108129</td>\n",
       "      <td>...</td>\n",
       "      <td>-0.090546</td>\n",
       "      <td>-0.173788</td>\n",
       "      <td>0.071811</td>\n",
       "      <td>-0.444737</td>\n",
       "      <td>-0.949252</td>\n",
       "      <td>-0.587158</td>\n",
       "      <td>0.341312</td>\n",
       "      <td>0.888989</td>\n",
       "      <td>-0.476960</td>\n",
       "      <td>-0.284114</td>\n",
       "    </tr>\n",
       "  </tbody>\n",
       "</table>\n",
       "<p>5 rows × 302 columns</p>\n",
       "</div>"
      ],
      "text/plain": [
       "          journal    document    feat_0    feat_1    feat_2    feat_3  \\\n",
       "0  Environ_Health  PMC1552054 -0.168362  0.044431 -0.068592 -0.025250   \n",
       "1  Environ_Health  PMC1226148 -0.239919 -0.060203 -0.133328  0.360897   \n",
       "2  Environ_Health  PMC5635510  0.048672  0.170688 -0.070395  0.236424   \n",
       "3  Environ_Health  PMC3533997 -0.064178  0.173903 -0.051677  0.159768   \n",
       "4  Environ_Health  PMC3125232 -0.186567  0.081031 -0.073595 -0.137754   \n",
       "\n",
       "     feat_4    feat_5    feat_6    feat_7  ...  feat_290  feat_291  feat_292  \\\n",
       "0 -0.638518 -0.302347  0.303967 -0.122796  ...  0.012046 -0.156143  0.010454   \n",
       "1 -0.517385 -0.249687  0.056513  0.052408  ...  0.321736 -0.251242  0.261475   \n",
       "2 -0.039087 -0.381143  0.051673 -0.148415  ...  0.097997 -0.170264  0.064343   \n",
       "3 -0.305409 -0.493326  0.267089 -0.005127  ... -0.075961 -0.404060 -0.012403   \n",
       "4  0.068354 -0.406180 -0.219826 -0.108129  ... -0.090546 -0.173788  0.071811   \n",
       "\n",
       "   feat_293  feat_294  feat_295  feat_296  feat_297  feat_298  feat_299  \n",
       "0 -0.615891 -0.952055 -0.504918  0.113741  0.763464 -0.789372  0.009379  \n",
       "1 -0.577342 -0.544784 -0.484138  0.065360  0.530282 -0.828810 -0.012625  \n",
       "2 -0.447883 -0.758610 -0.459414  0.433691  0.676709 -0.573157 -0.104958  \n",
       "3 -0.567062 -1.054321 -0.372887  0.075409  0.681162 -0.849728 -0.233986  \n",
       "4 -0.444737 -0.949252 -0.587158  0.341312  0.888989 -0.476960 -0.284114  \n",
       "\n",
       "[5 rows x 302 columns]"
      ]
     },
     "execution_count": 6,
     "metadata": {},
     "output_type": "execute_result"
    }
   ],
   "source": [
    "pmc_embed_df = pd.read_csv(\n",
    "    Path(\"../../pmc/word_vector_experiment/output\")\n",
    "    / Path(\"pmc_document_vectors_300_replace.tsv.xz\"),\n",
    "    sep=\"\\t\",\n",
    ")\n",
    "pmc_embed_df.head()"
   ]
  },
  {
   "cell_type": "code",
   "execution_count": 7,
   "metadata": {
    "ExecuteTime": {
     "end_time": "2021-04-21T02:53:02.354601Z",
     "start_time": "2021-04-21T02:52:58.602156Z"
    }
   },
   "outputs": [
    {
     "data": {
      "text/html": [
       "<div>\n",
       "<style scoped>\n",
       "    .dataframe tbody tr th:only-of-type {\n",
       "        vertical-align: middle;\n",
       "    }\n",
       "\n",
       "    .dataframe tbody tr th {\n",
       "        vertical-align: top;\n",
       "    }\n",
       "\n",
       "    .dataframe thead th {\n",
       "        text-align: right;\n",
       "    }\n",
       "</style>\n",
       "<table border=\"1\" class=\"dataframe\">\n",
       "  <thead>\n",
       "    <tr style=\"text-align: right;\">\n",
       "      <th></th>\n",
       "      <th>doi</th>\n",
       "      <th>journal</th>\n",
       "      <th>document</th>\n",
       "      <th>feat_0</th>\n",
       "      <th>feat_1</th>\n",
       "      <th>feat_2</th>\n",
       "      <th>feat_3</th>\n",
       "      <th>feat_4</th>\n",
       "      <th>feat_5</th>\n",
       "      <th>feat_6</th>\n",
       "      <th>...</th>\n",
       "      <th>feat_290</th>\n",
       "      <th>feat_291</th>\n",
       "      <th>feat_292</th>\n",
       "      <th>feat_293</th>\n",
       "      <th>feat_294</th>\n",
       "      <th>feat_295</th>\n",
       "      <th>feat_296</th>\n",
       "      <th>feat_297</th>\n",
       "      <th>feat_298</th>\n",
       "      <th>feat_299</th>\n",
       "    </tr>\n",
       "  </thead>\n",
       "  <tbody>\n",
       "    <tr>\n",
       "      <th>0</th>\n",
       "      <td>10.1186/1476-069X-5-22</td>\n",
       "      <td>Environ_Health</td>\n",
       "      <td>PMC1552054</td>\n",
       "      <td>-0.168362</td>\n",
       "      <td>0.044431</td>\n",
       "      <td>-0.068592</td>\n",
       "      <td>-0.025250</td>\n",
       "      <td>-0.638518</td>\n",
       "      <td>-0.302347</td>\n",
       "      <td>0.303967</td>\n",
       "      <td>...</td>\n",
       "      <td>0.012046</td>\n",
       "      <td>-0.156143</td>\n",
       "      <td>0.010454</td>\n",
       "      <td>-0.615891</td>\n",
       "      <td>-0.952055</td>\n",
       "      <td>-0.504918</td>\n",
       "      <td>0.113741</td>\n",
       "      <td>0.763464</td>\n",
       "      <td>-0.789372</td>\n",
       "      <td>0.009379</td>\n",
       "    </tr>\n",
       "    <tr>\n",
       "      <th>1</th>\n",
       "      <td>10.1186/1476-069X-4-12</td>\n",
       "      <td>Environ_Health</td>\n",
       "      <td>PMC1226148</td>\n",
       "      <td>-0.239919</td>\n",
       "      <td>-0.060203</td>\n",
       "      <td>-0.133328</td>\n",
       "      <td>0.360897</td>\n",
       "      <td>-0.517385</td>\n",
       "      <td>-0.249687</td>\n",
       "      <td>0.056513</td>\n",
       "      <td>...</td>\n",
       "      <td>0.321736</td>\n",
       "      <td>-0.251242</td>\n",
       "      <td>0.261475</td>\n",
       "      <td>-0.577342</td>\n",
       "      <td>-0.544784</td>\n",
       "      <td>-0.484138</td>\n",
       "      <td>0.065360</td>\n",
       "      <td>0.530282</td>\n",
       "      <td>-0.828810</td>\n",
       "      <td>-0.012625</td>\n",
       "    </tr>\n",
       "    <tr>\n",
       "      <th>2</th>\n",
       "      <td>10.1186/s12940-017-0316-3</td>\n",
       "      <td>Environ_Health</td>\n",
       "      <td>PMC5635510</td>\n",
       "      <td>0.048672</td>\n",
       "      <td>0.170688</td>\n",
       "      <td>-0.070395</td>\n",
       "      <td>0.236424</td>\n",
       "      <td>-0.039087</td>\n",
       "      <td>-0.381143</td>\n",
       "      <td>0.051673</td>\n",
       "      <td>...</td>\n",
       "      <td>0.097997</td>\n",
       "      <td>-0.170264</td>\n",
       "      <td>0.064343</td>\n",
       "      <td>-0.447883</td>\n",
       "      <td>-0.758610</td>\n",
       "      <td>-0.459414</td>\n",
       "      <td>0.433691</td>\n",
       "      <td>0.676709</td>\n",
       "      <td>-0.573157</td>\n",
       "      <td>-0.104958</td>\n",
       "    </tr>\n",
       "    <tr>\n",
       "      <th>3</th>\n",
       "      <td>10.1186/1476-069X-10-46</td>\n",
       "      <td>Environ_Health</td>\n",
       "      <td>PMC3125232</td>\n",
       "      <td>-0.186567</td>\n",
       "      <td>0.081031</td>\n",
       "      <td>-0.073595</td>\n",
       "      <td>-0.137754</td>\n",
       "      <td>0.068354</td>\n",
       "      <td>-0.406180</td>\n",
       "      <td>-0.219826</td>\n",
       "      <td>...</td>\n",
       "      <td>-0.090546</td>\n",
       "      <td>-0.173788</td>\n",
       "      <td>0.071811</td>\n",
       "      <td>-0.444737</td>\n",
       "      <td>-0.949252</td>\n",
       "      <td>-0.587158</td>\n",
       "      <td>0.341312</td>\n",
       "      <td>0.888989</td>\n",
       "      <td>-0.476960</td>\n",
       "      <td>-0.284114</td>\n",
       "    </tr>\n",
       "    <tr>\n",
       "      <th>4</th>\n",
       "      <td>10.1186/1476-069X-11-91</td>\n",
       "      <td>Environ_Health</td>\n",
       "      <td>PMC3533997</td>\n",
       "      <td>-0.064178</td>\n",
       "      <td>0.173903</td>\n",
       "      <td>-0.051677</td>\n",
       "      <td>0.159768</td>\n",
       "      <td>-0.305409</td>\n",
       "      <td>-0.493326</td>\n",
       "      <td>0.267089</td>\n",
       "      <td>...</td>\n",
       "      <td>-0.075961</td>\n",
       "      <td>-0.404060</td>\n",
       "      <td>-0.012403</td>\n",
       "      <td>-0.567062</td>\n",
       "      <td>-1.054321</td>\n",
       "      <td>-0.372887</td>\n",
       "      <td>0.075409</td>\n",
       "      <td>0.681162</td>\n",
       "      <td>-0.849728</td>\n",
       "      <td>-0.233986</td>\n",
       "    </tr>\n",
       "  </tbody>\n",
       "</table>\n",
       "<p>5 rows × 303 columns</p>\n",
       "</div>"
      ],
      "text/plain": [
       "                         doi         journal    document    feat_0    feat_1  \\\n",
       "0     10.1186/1476-069X-5-22  Environ_Health  PMC1552054 -0.168362  0.044431   \n",
       "1     10.1186/1476-069X-4-12  Environ_Health  PMC1226148 -0.239919 -0.060203   \n",
       "2  10.1186/s12940-017-0316-3  Environ_Health  PMC5635510  0.048672  0.170688   \n",
       "3    10.1186/1476-069X-10-46  Environ_Health  PMC3125232 -0.186567  0.081031   \n",
       "4    10.1186/1476-069X-11-91  Environ_Health  PMC3533997 -0.064178  0.173903   \n",
       "\n",
       "     feat_2    feat_3    feat_4    feat_5    feat_6  ...  feat_290  feat_291  \\\n",
       "0 -0.068592 -0.025250 -0.638518 -0.302347  0.303967  ...  0.012046 -0.156143   \n",
       "1 -0.133328  0.360897 -0.517385 -0.249687  0.056513  ...  0.321736 -0.251242   \n",
       "2 -0.070395  0.236424 -0.039087 -0.381143  0.051673  ...  0.097997 -0.170264   \n",
       "3 -0.073595 -0.137754  0.068354 -0.406180 -0.219826  ... -0.090546 -0.173788   \n",
       "4 -0.051677  0.159768 -0.305409 -0.493326  0.267089  ... -0.075961 -0.404060   \n",
       "\n",
       "   feat_292  feat_293  feat_294  feat_295  feat_296  feat_297  feat_298  \\\n",
       "0  0.010454 -0.615891 -0.952055 -0.504918  0.113741  0.763464 -0.789372   \n",
       "1  0.261475 -0.577342 -0.544784 -0.484138  0.065360  0.530282 -0.828810   \n",
       "2  0.064343 -0.447883 -0.758610 -0.459414  0.433691  0.676709 -0.573157   \n",
       "3  0.071811 -0.444737 -0.949252 -0.587158  0.341312  0.888989 -0.476960   \n",
       "4 -0.012403 -0.567062 -1.054321 -0.372887  0.075409  0.681162 -0.849728   \n",
       "\n",
       "   feat_299  \n",
       "0  0.009379  \n",
       "1 -0.012625  \n",
       "2 -0.104958  \n",
       "3 -0.284114  \n",
       "4 -0.233986  \n",
       "\n",
       "[5 rows x 303 columns]"
      ]
     },
     "execution_count": 7,
     "metadata": {},
     "output_type": "execute_result"
    }
   ],
   "source": [
    "pmc_journal_mapped_df = (\n",
    "    pmc_articles_df[[\"doi\", \"pmcid\"]]\n",
    "    .merge(pmc_embed_df, left_on=\"pmcid\", right_on=\"document\")\n",
    "    .drop(\"pmcid\", axis=1)\n",
    ")\n",
    "pmc_journal_mapped_df.head()"
   ]
  },
  {
   "cell_type": "markdown",
   "metadata": {
    "ExecuteTime": {
     "end_time": "2020-06-23T17:33:37.573651Z",
     "start_time": "2020-06-23T17:33:37.571730Z"
    }
   },
   "source": [
    "# Calculate Distances"
   ]
  },
  {
   "cell_type": "markdown",
   "metadata": {},
   "source": [
    "## biorxiv -> published versions"
   ]
  },
  {
   "cell_type": "code",
   "execution_count": 8,
   "metadata": {
    "ExecuteTime": {
     "end_time": "2021-04-21T02:53:02.469594Z",
     "start_time": "2021-04-21T02:53:02.356566Z"
    }
   },
   "outputs": [
    {
     "data": {
      "text/html": [
       "<div>\n",
       "<style scoped>\n",
       "    .dataframe tbody tr th:only-of-type {\n",
       "        vertical-align: middle;\n",
       "    }\n",
       "\n",
       "    .dataframe tbody tr th {\n",
       "        vertical-align: top;\n",
       "    }\n",
       "\n",
       "    .dataframe thead th {\n",
       "        text-align: right;\n",
       "    }\n",
       "</style>\n",
       "<table border=\"1\" class=\"dataframe\">\n",
       "  <thead>\n",
       "    <tr style=\"text-align: right;\">\n",
       "      <th></th>\n",
       "      <th>document</th>\n",
       "      <th>published_doi</th>\n",
       "      <th>pmcoa</th>\n",
       "      <th>feat_0</th>\n",
       "      <th>feat_1</th>\n",
       "      <th>feat_2</th>\n",
       "      <th>feat_3</th>\n",
       "      <th>feat_4</th>\n",
       "      <th>feat_5</th>\n",
       "      <th>feat_6</th>\n",
       "      <th>...</th>\n",
       "      <th>feat_290</th>\n",
       "      <th>feat_291</th>\n",
       "      <th>feat_292</th>\n",
       "      <th>feat_293</th>\n",
       "      <th>feat_294</th>\n",
       "      <th>feat_295</th>\n",
       "      <th>feat_296</th>\n",
       "      <th>feat_297</th>\n",
       "      <th>feat_298</th>\n",
       "      <th>feat_299</th>\n",
       "    </tr>\n",
       "    <tr>\n",
       "      <th>pmcid</th>\n",
       "      <th></th>\n",
       "      <th></th>\n",
       "      <th></th>\n",
       "      <th></th>\n",
       "      <th></th>\n",
       "      <th></th>\n",
       "      <th></th>\n",
       "      <th></th>\n",
       "      <th></th>\n",
       "      <th></th>\n",
       "      <th></th>\n",
       "      <th></th>\n",
       "      <th></th>\n",
       "      <th></th>\n",
       "      <th></th>\n",
       "      <th></th>\n",
       "      <th></th>\n",
       "      <th></th>\n",
       "      <th></th>\n",
       "      <th></th>\n",
       "      <th></th>\n",
       "    </tr>\n",
       "  </thead>\n",
       "  <tbody>\n",
       "    <tr>\n",
       "      <th>PMC3585962</th>\n",
       "      <td>000380_v1.xml</td>\n",
       "      <td>10.1016/j.biochi.2012.05.024</td>\n",
       "      <td>True</td>\n",
       "      <td>0.220752</td>\n",
       "      <td>0.263798</td>\n",
       "      <td>-0.577314</td>\n",
       "      <td>-0.246077</td>\n",
       "      <td>-0.035208</td>\n",
       "      <td>-0.420691</td>\n",
       "      <td>-0.527212</td>\n",
       "      <td>...</td>\n",
       "      <td>0.456167</td>\n",
       "      <td>-0.052181</td>\n",
       "      <td>0.367257</td>\n",
       "      <td>-0.403755</td>\n",
       "      <td>-0.673320</td>\n",
       "      <td>-0.708710</td>\n",
       "      <td>0.154297</td>\n",
       "      <td>0.430808</td>\n",
       "      <td>-0.677084</td>\n",
       "      <td>-0.073885</td>\n",
       "    </tr>\n",
       "    <tr>\n",
       "      <th>PMC3866385</th>\n",
       "      <td>000968_v1.xml</td>\n",
       "      <td>10.3389/fnhum.2013.00880</td>\n",
       "      <td>True</td>\n",
       "      <td>0.151951</td>\n",
       "      <td>0.312198</td>\n",
       "      <td>-0.193882</td>\n",
       "      <td>0.644660</td>\n",
       "      <td>0.080149</td>\n",
       "      <td>-0.282529</td>\n",
       "      <td>-0.304450</td>\n",
       "      <td>...</td>\n",
       "      <td>-0.015843</td>\n",
       "      <td>-0.172556</td>\n",
       "      <td>0.227691</td>\n",
       "      <td>0.095561</td>\n",
       "      <td>-0.819467</td>\n",
       "      <td>-0.087444</td>\n",
       "      <td>0.647902</td>\n",
       "      <td>0.644702</td>\n",
       "      <td>-0.467535</td>\n",
       "      <td>0.015701</td>\n",
       "    </tr>\n",
       "    <tr>\n",
       "      <th>PMC3893193</th>\n",
       "      <td>001297_v2.xml</td>\n",
       "      <td>10.1371/journal.pone.0085203</td>\n",
       "      <td>True</td>\n",
       "      <td>0.047553</td>\n",
       "      <td>-0.217550</td>\n",
       "      <td>-0.281974</td>\n",
       "      <td>0.605726</td>\n",
       "      <td>0.095775</td>\n",
       "      <td>-0.371498</td>\n",
       "      <td>-0.383721</td>\n",
       "      <td>...</td>\n",
       "      <td>0.069279</td>\n",
       "      <td>0.036545</td>\n",
       "      <td>0.550598</td>\n",
       "      <td>0.045969</td>\n",
       "      <td>-0.463814</td>\n",
       "      <td>-0.542604</td>\n",
       "      <td>0.282290</td>\n",
       "      <td>0.839154</td>\n",
       "      <td>-0.713836</td>\n",
       "      <td>-0.040004</td>\n",
       "    </tr>\n",
       "    <tr>\n",
       "      <th>PMC3894166</th>\n",
       "      <td>000141_v1.xml</td>\n",
       "      <td>10.1371/journal.pcbi.1003433</td>\n",
       "      <td>True</td>\n",
       "      <td>-0.205589</td>\n",
       "      <td>0.097464</td>\n",
       "      <td>-0.675844</td>\n",
       "      <td>0.092262</td>\n",
       "      <td>0.040508</td>\n",
       "      <td>-0.438993</td>\n",
       "      <td>-0.379772</td>\n",
       "      <td>...</td>\n",
       "      <td>0.480143</td>\n",
       "      <td>0.124392</td>\n",
       "      <td>0.293421</td>\n",
       "      <td>-0.014381</td>\n",
       "      <td>-0.683414</td>\n",
       "      <td>-0.626689</td>\n",
       "      <td>0.131946</td>\n",
       "      <td>0.754510</td>\n",
       "      <td>-0.273637</td>\n",
       "      <td>0.053442</td>\n",
       "    </tr>\n",
       "    <tr>\n",
       "      <th>PMC3906208</th>\n",
       "      <td>000315_v1.xml</td>\n",
       "      <td>10.1371/journal.pone.0087782</td>\n",
       "      <td>True</td>\n",
       "      <td>0.180890</td>\n",
       "      <td>0.230198</td>\n",
       "      <td>-0.078342</td>\n",
       "      <td>-0.147791</td>\n",
       "      <td>-0.305849</td>\n",
       "      <td>-0.282869</td>\n",
       "      <td>0.126895</td>\n",
       "      <td>...</td>\n",
       "      <td>0.333562</td>\n",
       "      <td>0.368843</td>\n",
       "      <td>-0.323412</td>\n",
       "      <td>0.054554</td>\n",
       "      <td>-0.786800</td>\n",
       "      <td>0.007266</td>\n",
       "      <td>0.623237</td>\n",
       "      <td>0.582372</td>\n",
       "      <td>-0.121047</td>\n",
       "      <td>0.118612</td>\n",
       "    </tr>\n",
       "  </tbody>\n",
       "</table>\n",
       "<p>5 rows × 303 columns</p>\n",
       "</div>"
      ],
      "text/plain": [
       "                 document                 published_doi  pmcoa    feat_0  \\\n",
       "pmcid                                                                      \n",
       "PMC3585962  000380_v1.xml  10.1016/j.biochi.2012.05.024   True  0.220752   \n",
       "PMC3866385  000968_v1.xml      10.3389/fnhum.2013.00880   True  0.151951   \n",
       "PMC3893193  001297_v2.xml  10.1371/journal.pone.0085203   True  0.047553   \n",
       "PMC3894166  000141_v1.xml  10.1371/journal.pcbi.1003433   True -0.205589   \n",
       "PMC3906208  000315_v1.xml  10.1371/journal.pone.0087782   True  0.180890   \n",
       "\n",
       "              feat_1    feat_2    feat_3    feat_4    feat_5    feat_6  ...  \\\n",
       "pmcid                                                                   ...   \n",
       "PMC3585962  0.263798 -0.577314 -0.246077 -0.035208 -0.420691 -0.527212  ...   \n",
       "PMC3866385  0.312198 -0.193882  0.644660  0.080149 -0.282529 -0.304450  ...   \n",
       "PMC3893193 -0.217550 -0.281974  0.605726  0.095775 -0.371498 -0.383721  ...   \n",
       "PMC3894166  0.097464 -0.675844  0.092262  0.040508 -0.438993 -0.379772  ...   \n",
       "PMC3906208  0.230198 -0.078342 -0.147791 -0.305849 -0.282869  0.126895  ...   \n",
       "\n",
       "            feat_290  feat_291  feat_292  feat_293  feat_294  feat_295  \\\n",
       "pmcid                                                                    \n",
       "PMC3585962  0.456167 -0.052181  0.367257 -0.403755 -0.673320 -0.708710   \n",
       "PMC3866385 -0.015843 -0.172556  0.227691  0.095561 -0.819467 -0.087444   \n",
       "PMC3893193  0.069279  0.036545  0.550598  0.045969 -0.463814 -0.542604   \n",
       "PMC3894166  0.480143  0.124392  0.293421 -0.014381 -0.683414 -0.626689   \n",
       "PMC3906208  0.333562  0.368843 -0.323412  0.054554 -0.786800  0.007266   \n",
       "\n",
       "            feat_296  feat_297  feat_298  feat_299  \n",
       "pmcid                                               \n",
       "PMC3585962  0.154297  0.430808 -0.677084 -0.073885  \n",
       "PMC3866385  0.647902  0.644702 -0.467535  0.015701  \n",
       "PMC3893193  0.282290  0.839154 -0.713836 -0.040004  \n",
       "PMC3894166  0.131946  0.754510 -0.273637  0.053442  \n",
       "PMC3906208  0.623237  0.582372 -0.121047  0.118612  \n",
       "\n",
       "[5 rows x 303 columns]"
      ]
     },
     "execution_count": 8,
     "metadata": {},
     "output_type": "execute_result"
    }
   ],
   "source": [
    "biorxiv_published = (\n",
    "    biorxiv_journal_mapped_df.query(\"pmcid.notnull()\")\n",
    "    .query(\"pmcoa == True\")\n",
    "    .sort_values(\"pmcid\", ascending=True)\n",
    "    .drop_duplicates(\"pmcid\")\n",
    "    .set_index(\"pmcid\")\n",
    ")\n",
    "biorxiv_published.head()"
   ]
  },
  {
   "cell_type": "code",
   "execution_count": 9,
   "metadata": {
    "ExecuteTime": {
     "end_time": "2021-04-21T02:53:03.319167Z",
     "start_time": "2021-04-21T02:53:02.471227Z"
    }
   },
   "outputs": [
    {
     "data": {
      "text/html": [
       "<div>\n",
       "<style scoped>\n",
       "    .dataframe tbody tr th:only-of-type {\n",
       "        vertical-align: middle;\n",
       "    }\n",
       "\n",
       "    .dataframe tbody tr th {\n",
       "        vertical-align: top;\n",
       "    }\n",
       "\n",
       "    .dataframe thead th {\n",
       "        text-align: right;\n",
       "    }\n",
       "</style>\n",
       "<table border=\"1\" class=\"dataframe\">\n",
       "  <thead>\n",
       "    <tr style=\"text-align: right;\">\n",
       "      <th></th>\n",
       "      <th>doi</th>\n",
       "      <th>journal</th>\n",
       "      <th>feat_0</th>\n",
       "      <th>feat_1</th>\n",
       "      <th>feat_2</th>\n",
       "      <th>feat_3</th>\n",
       "      <th>feat_4</th>\n",
       "      <th>feat_5</th>\n",
       "      <th>feat_6</th>\n",
       "      <th>feat_7</th>\n",
       "      <th>...</th>\n",
       "      <th>feat_290</th>\n",
       "      <th>feat_291</th>\n",
       "      <th>feat_292</th>\n",
       "      <th>feat_293</th>\n",
       "      <th>feat_294</th>\n",
       "      <th>feat_295</th>\n",
       "      <th>feat_296</th>\n",
       "      <th>feat_297</th>\n",
       "      <th>feat_298</th>\n",
       "      <th>feat_299</th>\n",
       "    </tr>\n",
       "    <tr>\n",
       "      <th>document</th>\n",
       "      <th></th>\n",
       "      <th></th>\n",
       "      <th></th>\n",
       "      <th></th>\n",
       "      <th></th>\n",
       "      <th></th>\n",
       "      <th></th>\n",
       "      <th></th>\n",
       "      <th></th>\n",
       "      <th></th>\n",
       "      <th></th>\n",
       "      <th></th>\n",
       "      <th></th>\n",
       "      <th></th>\n",
       "      <th></th>\n",
       "      <th></th>\n",
       "      <th></th>\n",
       "      <th></th>\n",
       "      <th></th>\n",
       "      <th></th>\n",
       "      <th></th>\n",
       "    </tr>\n",
       "  </thead>\n",
       "  <tbody>\n",
       "    <tr>\n",
       "      <th>PMC3585962</th>\n",
       "      <td>10.1016/j.biochi.2012.05.024</td>\n",
       "      <td>Biochimie</td>\n",
       "      <td>0.220156</td>\n",
       "      <td>0.284728</td>\n",
       "      <td>-0.581323</td>\n",
       "      <td>-0.315159</td>\n",
       "      <td>0.008347</td>\n",
       "      <td>-0.420825</td>\n",
       "      <td>-0.521352</td>\n",
       "      <td>0.069432</td>\n",
       "      <td>...</td>\n",
       "      <td>0.487716</td>\n",
       "      <td>-0.037816</td>\n",
       "      <td>0.342601</td>\n",
       "      <td>-0.379607</td>\n",
       "      <td>-0.725068</td>\n",
       "      <td>-0.697136</td>\n",
       "      <td>0.237096</td>\n",
       "      <td>0.455677</td>\n",
       "      <td>-0.640347</td>\n",
       "      <td>-0.126101</td>\n",
       "    </tr>\n",
       "    <tr>\n",
       "      <th>PMC3866385</th>\n",
       "      <td>10.3389/fnhum.2013.00880</td>\n",
       "      <td>Front_Hum_Neurosci</td>\n",
       "      <td>0.161030</td>\n",
       "      <td>0.306958</td>\n",
       "      <td>-0.196593</td>\n",
       "      <td>0.647551</td>\n",
       "      <td>0.073000</td>\n",
       "      <td>-0.300168</td>\n",
       "      <td>-0.305422</td>\n",
       "      <td>-0.555379</td>\n",
       "      <td>...</td>\n",
       "      <td>-0.030222</td>\n",
       "      <td>-0.176580</td>\n",
       "      <td>0.246142</td>\n",
       "      <td>0.103570</td>\n",
       "      <td>-0.813839</td>\n",
       "      <td>-0.068543</td>\n",
       "      <td>0.636505</td>\n",
       "      <td>0.643648</td>\n",
       "      <td>-0.465060</td>\n",
       "      <td>0.032802</td>\n",
       "    </tr>\n",
       "    <tr>\n",
       "      <th>PMC3893193</th>\n",
       "      <td>10.1371/journal.pone.0085203</td>\n",
       "      <td>PLoS_One</td>\n",
       "      <td>0.058200</td>\n",
       "      <td>-0.225367</td>\n",
       "      <td>-0.240519</td>\n",
       "      <td>0.571543</td>\n",
       "      <td>0.070398</td>\n",
       "      <td>-0.363880</td>\n",
       "      <td>-0.382983</td>\n",
       "      <td>-0.101755</td>\n",
       "      <td>...</td>\n",
       "      <td>0.052293</td>\n",
       "      <td>0.058206</td>\n",
       "      <td>0.538863</td>\n",
       "      <td>0.029956</td>\n",
       "      <td>-0.498946</td>\n",
       "      <td>-0.518483</td>\n",
       "      <td>0.302252</td>\n",
       "      <td>0.854689</td>\n",
       "      <td>-0.695230</td>\n",
       "      <td>-0.024849</td>\n",
       "    </tr>\n",
       "    <tr>\n",
       "      <th>PMC3894166</th>\n",
       "      <td>10.1371/journal.pcbi.1003433</td>\n",
       "      <td>PLoS_Comput_Biol</td>\n",
       "      <td>-0.236055</td>\n",
       "      <td>0.063280</td>\n",
       "      <td>-0.656233</td>\n",
       "      <td>0.057372</td>\n",
       "      <td>0.012260</td>\n",
       "      <td>-0.446150</td>\n",
       "      <td>-0.379104</td>\n",
       "      <td>0.377741</td>\n",
       "      <td>...</td>\n",
       "      <td>0.486227</td>\n",
       "      <td>0.140960</td>\n",
       "      <td>0.279597</td>\n",
       "      <td>0.048827</td>\n",
       "      <td>-0.684606</td>\n",
       "      <td>-0.582842</td>\n",
       "      <td>0.125215</td>\n",
       "      <td>0.774958</td>\n",
       "      <td>-0.218518</td>\n",
       "      <td>0.014177</td>\n",
       "    </tr>\n",
       "    <tr>\n",
       "      <th>PMC3906208</th>\n",
       "      <td>10.1371/journal.pone.0087782</td>\n",
       "      <td>PLoS_One</td>\n",
       "      <td>0.228022</td>\n",
       "      <td>0.247925</td>\n",
       "      <td>-0.112387</td>\n",
       "      <td>-0.113850</td>\n",
       "      <td>-0.276683</td>\n",
       "      <td>-0.306004</td>\n",
       "      <td>0.112382</td>\n",
       "      <td>0.264172</td>\n",
       "      <td>...</td>\n",
       "      <td>0.342549</td>\n",
       "      <td>0.356622</td>\n",
       "      <td>-0.296086</td>\n",
       "      <td>0.022951</td>\n",
       "      <td>-0.735118</td>\n",
       "      <td>-0.027911</td>\n",
       "      <td>0.610006</td>\n",
       "      <td>0.606699</td>\n",
       "      <td>-0.155839</td>\n",
       "      <td>0.127950</td>\n",
       "    </tr>\n",
       "  </tbody>\n",
       "</table>\n",
       "<p>5 rows × 302 columns</p>\n",
       "</div>"
      ],
      "text/plain": [
       "                                     doi             journal    feat_0  \\\n",
       "document                                                                 \n",
       "PMC3585962  10.1016/j.biochi.2012.05.024           Biochimie  0.220156   \n",
       "PMC3866385      10.3389/fnhum.2013.00880  Front_Hum_Neurosci  0.161030   \n",
       "PMC3893193  10.1371/journal.pone.0085203            PLoS_One  0.058200   \n",
       "PMC3894166  10.1371/journal.pcbi.1003433    PLoS_Comput_Biol -0.236055   \n",
       "PMC3906208  10.1371/journal.pone.0087782            PLoS_One  0.228022   \n",
       "\n",
       "              feat_1    feat_2    feat_3    feat_4    feat_5    feat_6  \\\n",
       "document                                                                 \n",
       "PMC3585962  0.284728 -0.581323 -0.315159  0.008347 -0.420825 -0.521352   \n",
       "PMC3866385  0.306958 -0.196593  0.647551  0.073000 -0.300168 -0.305422   \n",
       "PMC3893193 -0.225367 -0.240519  0.571543  0.070398 -0.363880 -0.382983   \n",
       "PMC3894166  0.063280 -0.656233  0.057372  0.012260 -0.446150 -0.379104   \n",
       "PMC3906208  0.247925 -0.112387 -0.113850 -0.276683 -0.306004  0.112382   \n",
       "\n",
       "              feat_7  ...  feat_290  feat_291  feat_292  feat_293  feat_294  \\\n",
       "document              ...                                                     \n",
       "PMC3585962  0.069432  ...  0.487716 -0.037816  0.342601 -0.379607 -0.725068   \n",
       "PMC3866385 -0.555379  ... -0.030222 -0.176580  0.246142  0.103570 -0.813839   \n",
       "PMC3893193 -0.101755  ...  0.052293  0.058206  0.538863  0.029956 -0.498946   \n",
       "PMC3894166  0.377741  ...  0.486227  0.140960  0.279597  0.048827 -0.684606   \n",
       "PMC3906208  0.264172  ...  0.342549  0.356622 -0.296086  0.022951 -0.735118   \n",
       "\n",
       "            feat_295  feat_296  feat_297  feat_298  feat_299  \n",
       "document                                                      \n",
       "PMC3585962 -0.697136  0.237096  0.455677 -0.640347 -0.126101  \n",
       "PMC3866385 -0.068543  0.636505  0.643648 -0.465060  0.032802  \n",
       "PMC3893193 -0.518483  0.302252  0.854689 -0.695230 -0.024849  \n",
       "PMC3894166 -0.582842  0.125215  0.774958 -0.218518  0.014177  \n",
       "PMC3906208 -0.027911  0.610006  0.606699 -0.155839  0.127950  \n",
       "\n",
       "[5 rows x 302 columns]"
      ]
     },
     "execution_count": 9,
     "metadata": {},
     "output_type": "execute_result"
    }
   ],
   "source": [
    "PMC_published = (\n",
    "    pmc_journal_mapped_df.query(f\"document in {biorxiv_published.index.tolist()}\")\n",
    "    .sort_values(\"document\", ascending=True)\n",
    "    .set_index(\"document\")\n",
    ")\n",
    "PMC_published.head()"
   ]
  },
  {
   "cell_type": "code",
   "execution_count": 10,
   "metadata": {
    "ExecuteTime": {
     "end_time": "2021-04-21T02:54:04.636237Z",
     "start_time": "2021-04-21T02:53:03.320515Z"
    }
   },
   "outputs": [
    {
     "data": {
      "text/plain": [
       "(17254, 17254)"
      ]
     },
     "execution_count": 10,
     "metadata": {},
     "output_type": "execute_result"
    }
   ],
   "source": [
    "article_distances = cdist(\n",
    "    biorxiv_published.loc[PMC_published.index.tolist()].drop(\n",
    "        [\"document\", \"published_doi\", \"pmcoa\"], axis=1\n",
    "    ),\n",
    "    PMC_published.drop([\"doi\", \"journal\"], axis=1),\n",
    "    \"euclidean\",\n",
    ")\n",
    "article_distances.shape"
   ]
  },
  {
   "cell_type": "code",
   "execution_count": 11,
   "metadata": {
    "ExecuteTime": {
     "end_time": "2021-04-21T02:54:04.682334Z",
     "start_time": "2021-04-21T02:54:04.637585Z"
    }
   },
   "outputs": [
    {
     "data": {
      "text/html": [
       "<div>\n",
       "<style scoped>\n",
       "    .dataframe tbody tr th:only-of-type {\n",
       "        vertical-align: middle;\n",
       "    }\n",
       "\n",
       "    .dataframe tbody tr th {\n",
       "        vertical-align: top;\n",
       "    }\n",
       "\n",
       "    .dataframe thead th {\n",
       "        text-align: right;\n",
       "    }\n",
       "</style>\n",
       "<table border=\"1\" class=\"dataframe\">\n",
       "  <thead>\n",
       "    <tr style=\"text-align: right;\">\n",
       "      <th></th>\n",
       "      <th>document</th>\n",
       "      <th>pmcid</th>\n",
       "      <th>distance</th>\n",
       "      <th>journal</th>\n",
       "    </tr>\n",
       "  </thead>\n",
       "  <tbody>\n",
       "    <tr>\n",
       "      <th>0</th>\n",
       "      <td>000380_v1.xml</td>\n",
       "      <td>PMC3585962</td>\n",
       "      <td>0.799252</td>\n",
       "      <td>Biochimie</td>\n",
       "    </tr>\n",
       "    <tr>\n",
       "      <th>1</th>\n",
       "      <td>000968_v1.xml</td>\n",
       "      <td>PMC3866385</td>\n",
       "      <td>0.218622</td>\n",
       "      <td>Front_Hum_Neurosci</td>\n",
       "    </tr>\n",
       "    <tr>\n",
       "      <th>2</th>\n",
       "      <td>001297_v2.xml</td>\n",
       "      <td>PMC3893193</td>\n",
       "      <td>0.429524</td>\n",
       "      <td>PLoS_One</td>\n",
       "    </tr>\n",
       "    <tr>\n",
       "      <th>3</th>\n",
       "      <td>000141_v1.xml</td>\n",
       "      <td>PMC3894166</td>\n",
       "      <td>0.646077</td>\n",
       "      <td>PLoS_Comput_Biol</td>\n",
       "    </tr>\n",
       "    <tr>\n",
       "      <th>4</th>\n",
       "      <td>000315_v1.xml</td>\n",
       "      <td>PMC3906208</td>\n",
       "      <td>0.563227</td>\n",
       "      <td>PLoS_One</td>\n",
       "    </tr>\n",
       "  </tbody>\n",
       "</table>\n",
       "</div>"
      ],
      "text/plain": [
       "        document       pmcid  distance             journal\n",
       "0  000380_v1.xml  PMC3585962  0.799252           Biochimie\n",
       "1  000968_v1.xml  PMC3866385  0.218622  Front_Hum_Neurosci\n",
       "2  001297_v2.xml  PMC3893193  0.429524            PLoS_One\n",
       "3  000141_v1.xml  PMC3894166  0.646077    PLoS_Comput_Biol\n",
       "4  000315_v1.xml  PMC3906208  0.563227            PLoS_One"
      ]
     },
     "execution_count": 11,
     "metadata": {},
     "output_type": "execute_result"
    }
   ],
   "source": [
    "articles_distance_df = (\n",
    "    biorxiv_published.loc[PMC_published.index.tolist()]\n",
    "    .reset_index()[[\"document\", \"pmcid\"]]\n",
    "    .assign(\n",
    "        distance=np.diag(article_distances, k=0), journal=PMC_published.journal.tolist()\n",
    "    )\n",
    ")\n",
    "articles_distance_df.head()"
   ]
  },
  {
   "cell_type": "markdown",
   "metadata": {},
   "source": [
    "## biorxiv -> random paper same journal"
   ]
  },
  {
   "cell_type": "code",
   "execution_count": 12,
   "metadata": {
    "ExecuteTime": {
     "end_time": "2021-04-21T02:54:09.368991Z",
     "start_time": "2021-04-21T02:54:04.683584Z"
    }
   },
   "outputs": [
    {
     "data": {
      "text/html": [
       "<div>\n",
       "<style scoped>\n",
       "    .dataframe tbody tr th:only-of-type {\n",
       "        vertical-align: middle;\n",
       "    }\n",
       "\n",
       "    .dataframe tbody tr th {\n",
       "        vertical-align: top;\n",
       "    }\n",
       "\n",
       "    .dataframe thead th {\n",
       "        text-align: right;\n",
       "    }\n",
       "</style>\n",
       "<table border=\"1\" class=\"dataframe\">\n",
       "  <thead>\n",
       "    <tr style=\"text-align: right;\">\n",
       "      <th></th>\n",
       "      <th>journal</th>\n",
       "      <th>document</th>\n",
       "      <th>feat_0</th>\n",
       "      <th>feat_1</th>\n",
       "      <th>feat_2</th>\n",
       "      <th>feat_3</th>\n",
       "      <th>feat_4</th>\n",
       "      <th>feat_5</th>\n",
       "      <th>feat_6</th>\n",
       "      <th>feat_7</th>\n",
       "      <th>...</th>\n",
       "      <th>feat_290</th>\n",
       "      <th>feat_291</th>\n",
       "      <th>feat_292</th>\n",
       "      <th>feat_293</th>\n",
       "      <th>feat_294</th>\n",
       "      <th>feat_295</th>\n",
       "      <th>feat_296</th>\n",
       "      <th>feat_297</th>\n",
       "      <th>feat_298</th>\n",
       "      <th>feat_299</th>\n",
       "    </tr>\n",
       "  </thead>\n",
       "  <tbody>\n",
       "    <tr>\n",
       "      <th>1836891</th>\n",
       "      <td>ACS_Cent_Sci</td>\n",
       "      <td>PMC5571463</td>\n",
       "      <td>-0.340186</td>\n",
       "      <td>-0.306968</td>\n",
       "      <td>-0.702596</td>\n",
       "      <td>0.536491</td>\n",
       "      <td>0.140621</td>\n",
       "      <td>-0.360033</td>\n",
       "      <td>-0.576916</td>\n",
       "      <td>-0.076982</td>\n",
       "      <td>...</td>\n",
       "      <td>0.087754</td>\n",
       "      <td>-0.291686</td>\n",
       "      <td>0.446443</td>\n",
       "      <td>-0.035112</td>\n",
       "      <td>-0.523124</td>\n",
       "      <td>-0.059395</td>\n",
       "      <td>0.356345</td>\n",
       "      <td>0.739903</td>\n",
       "      <td>-0.627210</td>\n",
       "      <td>0.219610</td>\n",
       "    </tr>\n",
       "    <tr>\n",
       "      <th>1118534</th>\n",
       "      <td>ACS_Chem_Biol</td>\n",
       "      <td>PMC4301073</td>\n",
       "      <td>0.011656</td>\n",
       "      <td>-0.063791</td>\n",
       "      <td>-0.607758</td>\n",
       "      <td>-0.137784</td>\n",
       "      <td>-0.074870</td>\n",
       "      <td>-0.564718</td>\n",
       "      <td>-0.257861</td>\n",
       "      <td>0.105837</td>\n",
       "      <td>...</td>\n",
       "      <td>0.600360</td>\n",
       "      <td>-0.149413</td>\n",
       "      <td>0.341450</td>\n",
       "      <td>-0.360946</td>\n",
       "      <td>-0.422807</td>\n",
       "      <td>-0.311016</td>\n",
       "      <td>0.129340</td>\n",
       "      <td>0.432051</td>\n",
       "      <td>-0.725161</td>\n",
       "      <td>0.520676</td>\n",
       "    </tr>\n",
       "    <tr>\n",
       "      <th>1879014</th>\n",
       "      <td>ACS_Nano</td>\n",
       "      <td>PMC4790916</td>\n",
       "      <td>-0.060922</td>\n",
       "      <td>-0.174731</td>\n",
       "      <td>-0.632826</td>\n",
       "      <td>0.139746</td>\n",
       "      <td>-0.078651</td>\n",
       "      <td>-0.359373</td>\n",
       "      <td>-0.326040</td>\n",
       "      <td>0.094426</td>\n",
       "      <td>...</td>\n",
       "      <td>0.361489</td>\n",
       "      <td>-0.221194</td>\n",
       "      <td>0.393188</td>\n",
       "      <td>-0.345324</td>\n",
       "      <td>-0.282609</td>\n",
       "      <td>-0.171653</td>\n",
       "      <td>0.217328</td>\n",
       "      <td>0.461840</td>\n",
       "      <td>-0.806810</td>\n",
       "      <td>0.266496</td>\n",
       "    </tr>\n",
       "    <tr>\n",
       "      <th>1597269</th>\n",
       "      <td>ACS_Omega</td>\n",
       "      <td>PMC6868605</td>\n",
       "      <td>0.020424</td>\n",
       "      <td>-0.232566</td>\n",
       "      <td>-0.535191</td>\n",
       "      <td>0.286804</td>\n",
       "      <td>-0.134559</td>\n",
       "      <td>-0.365845</td>\n",
       "      <td>-0.240750</td>\n",
       "      <td>0.008937</td>\n",
       "      <td>...</td>\n",
       "      <td>0.278665</td>\n",
       "      <td>-0.425945</td>\n",
       "      <td>0.280616</td>\n",
       "      <td>-0.442982</td>\n",
       "      <td>-0.226565</td>\n",
       "      <td>-0.363241</td>\n",
       "      <td>0.163908</td>\n",
       "      <td>0.461276</td>\n",
       "      <td>-0.805770</td>\n",
       "      <td>0.222521</td>\n",
       "    </tr>\n",
       "    <tr>\n",
       "      <th>498652</th>\n",
       "      <td>ACS_Synth_Biol</td>\n",
       "      <td>PMC4161666</td>\n",
       "      <td>0.075996</td>\n",
       "      <td>-0.107891</td>\n",
       "      <td>-0.693902</td>\n",
       "      <td>-0.279629</td>\n",
       "      <td>0.255383</td>\n",
       "      <td>-0.552281</td>\n",
       "      <td>-0.283330</td>\n",
       "      <td>0.324518</td>\n",
       "      <td>...</td>\n",
       "      <td>0.310023</td>\n",
       "      <td>0.049912</td>\n",
       "      <td>0.252315</td>\n",
       "      <td>-0.166630</td>\n",
       "      <td>-0.503675</td>\n",
       "      <td>0.140086</td>\n",
       "      <td>0.352067</td>\n",
       "      <td>0.436831</td>\n",
       "      <td>-0.451523</td>\n",
       "      <td>0.830000</td>\n",
       "    </tr>\n",
       "  </tbody>\n",
       "</table>\n",
       "<p>5 rows × 302 columns</p>\n",
       "</div>"
      ],
      "text/plain": [
       "                journal    document    feat_0    feat_1    feat_2    feat_3  \\\n",
       "1836891    ACS_Cent_Sci  PMC5571463 -0.340186 -0.306968 -0.702596  0.536491   \n",
       "1118534   ACS_Chem_Biol  PMC4301073  0.011656 -0.063791 -0.607758 -0.137784   \n",
       "1879014        ACS_Nano  PMC4790916 -0.060922 -0.174731 -0.632826  0.139746   \n",
       "1597269       ACS_Omega  PMC6868605  0.020424 -0.232566 -0.535191  0.286804   \n",
       "498652   ACS_Synth_Biol  PMC4161666  0.075996 -0.107891 -0.693902 -0.279629   \n",
       "\n",
       "           feat_4    feat_5    feat_6    feat_7  ...  feat_290  feat_291  \\\n",
       "1836891  0.140621 -0.360033 -0.576916 -0.076982  ...  0.087754 -0.291686   \n",
       "1118534 -0.074870 -0.564718 -0.257861  0.105837  ...  0.600360 -0.149413   \n",
       "1879014 -0.078651 -0.359373 -0.326040  0.094426  ...  0.361489 -0.221194   \n",
       "1597269 -0.134559 -0.365845 -0.240750  0.008937  ...  0.278665 -0.425945   \n",
       "498652   0.255383 -0.552281 -0.283330  0.324518  ...  0.310023  0.049912   \n",
       "\n",
       "         feat_292  feat_293  feat_294  feat_295  feat_296  feat_297  feat_298  \\\n",
       "1836891  0.446443 -0.035112 -0.523124 -0.059395  0.356345  0.739903 -0.627210   \n",
       "1118534  0.341450 -0.360946 -0.422807 -0.311016  0.129340  0.432051 -0.725161   \n",
       "1879014  0.393188 -0.345324 -0.282609 -0.171653  0.217328  0.461840 -0.806810   \n",
       "1597269  0.280616 -0.442982 -0.226565 -0.363241  0.163908  0.461276 -0.805770   \n",
       "498652   0.252315 -0.166630 -0.503675  0.140086  0.352067  0.436831 -0.451523   \n",
       "\n",
       "         feat_299  \n",
       "1836891  0.219610  \n",
       "1118534  0.520676  \n",
       "1879014  0.266496  \n",
       "1597269  0.222521  \n",
       "498652   0.830000  \n",
       "\n",
       "[5 rows x 302 columns]"
      ]
     },
     "execution_count": 12,
     "metadata": {},
     "output_type": "execute_result"
    }
   ],
   "source": [
    "PMC_off_published = (\n",
    "    pmc_journal_mapped_df.drop(\"doi\", axis=1)\n",
    "    .query(f\"document not in {biorxiv_published.index.tolist()}\")\n",
    "    .query(f\"journal in {articles_distance_df.journal.unique().tolist()}\")\n",
    "    .groupby(\"journal\", group_keys=False)\n",
    "    .apply(lambda x: x.sample(1, random_state=100))\n",
    ")\n",
    "PMC_off_published.head()"
   ]
  },
  {
   "cell_type": "code",
   "execution_count": 13,
   "metadata": {
    "ExecuteTime": {
     "end_time": "2021-04-21T02:54:09.374692Z",
     "start_time": "2021-04-21T02:54:09.370330Z"
    }
   },
   "outputs": [
    {
     "data": {
      "text/plain": [
       "[('ACS_Cent_Sci', 0),\n",
       " ('ACS_Chem_Biol', 1),\n",
       " ('ACS_Nano', 2),\n",
       " ('ACS_Omega', 3),\n",
       " ('ACS_Synth_Biol', 4),\n",
       " ('AIDS', 5),\n",
       " ('AIDS_Res_Hum_Retroviruses', 6),\n",
       " ('AIMS_Genet', 7),\n",
       " ('AMB_Express', 8),\n",
       " ('APL_Bioeng', 9)]"
      ]
     },
     "execution_count": 13,
     "metadata": {},
     "output_type": "execute_result"
    }
   ],
   "source": [
    "journal_mapper = {\n",
    "    journal: col for col, journal in enumerate(PMC_off_published.journal.tolist())\n",
    "}\n",
    "list(journal_mapper.items())[0:10]"
   ]
  },
  {
   "cell_type": "code",
   "execution_count": 14,
   "metadata": {
    "ExecuteTime": {
     "end_time": "2021-04-21T02:54:11.951521Z",
     "start_time": "2021-04-21T02:54:09.375831Z"
    }
   },
   "outputs": [
    {
     "data": {
      "text/plain": [
       "(17254, 911)"
      ]
     },
     "execution_count": 14,
     "metadata": {},
     "output_type": "execute_result"
    }
   ],
   "source": [
    "off_article_dist = cdist(\n",
    "    biorxiv_published.loc[PMC_published.index.tolist()]\n",
    "    .drop([\"document\", \"published_doi\", \"pmcoa\"], axis=1)\n",
    "    .values,\n",
    "    PMC_off_published.drop([\"document\", \"journal\"], axis=1).values,\n",
    "    \"euclidean\",\n",
    ")\n",
    "off_article_dist.shape"
   ]
  },
  {
   "cell_type": "code",
   "execution_count": 15,
   "metadata": {
    "ExecuteTime": {
     "end_time": "2021-04-21T02:55:50.207062Z",
     "start_time": "2021-04-21T02:54:11.952922Z"
    }
   },
   "outputs": [
    {
     "name": "stderr",
     "output_type": "stream",
     "text": [
      "17254it [01:38, 175.62it/s]\n"
     ]
    }
   ],
   "source": [
    "data = []\n",
    "for idx, row in tqdm.tqdm(articles_distance_df.iterrows()):\n",
    "    if row[\"journal\"] in journal_mapper:\n",
    "        data.append(\n",
    "            {\n",
    "                \"document\": row[\"document\"],\n",
    "                \"pmcid\": (\n",
    "                    PMC_off_published.query(f\"journal=='{row['journal']}'\")\n",
    "                    .reset_index()\n",
    "                    .document.values[0]\n",
    "                ),\n",
    "                \"journal\": row[\"journal\"],\n",
    "                \"distance\": off_article_dist[idx, journal_mapper[row[\"journal\"]]],\n",
    "            }\n",
    "        )"
   ]
  },
  {
   "cell_type": "code",
   "execution_count": 16,
   "metadata": {
    "ExecuteTime": {
     "end_time": "2021-04-21T02:55:50.239979Z",
     "start_time": "2021-04-21T02:55:50.208369Z"
    }
   },
   "outputs": [
    {
     "data": {
      "text/html": [
       "<div>\n",
       "<style scoped>\n",
       "    .dataframe tbody tr th:only-of-type {\n",
       "        vertical-align: middle;\n",
       "    }\n",
       "\n",
       "    .dataframe tbody tr th {\n",
       "        vertical-align: top;\n",
       "    }\n",
       "\n",
       "    .dataframe thead th {\n",
       "        text-align: right;\n",
       "    }\n",
       "</style>\n",
       "<table border=\"1\" class=\"dataframe\">\n",
       "  <thead>\n",
       "    <tr style=\"text-align: right;\">\n",
       "      <th></th>\n",
       "      <th>document</th>\n",
       "      <th>pmcid</th>\n",
       "      <th>distance</th>\n",
       "      <th>journal</th>\n",
       "      <th>label</th>\n",
       "    </tr>\n",
       "  </thead>\n",
       "  <tbody>\n",
       "    <tr>\n",
       "      <th>0</th>\n",
       "      <td>000380_v1.xml</td>\n",
       "      <td>PMC3585962</td>\n",
       "      <td>0.799252</td>\n",
       "      <td>Biochimie</td>\n",
       "      <td>pre_vs_published</td>\n",
       "    </tr>\n",
       "    <tr>\n",
       "      <th>1</th>\n",
       "      <td>000968_v1.xml</td>\n",
       "      <td>PMC3866385</td>\n",
       "      <td>0.218622</td>\n",
       "      <td>Front_Hum_Neurosci</td>\n",
       "      <td>pre_vs_published</td>\n",
       "    </tr>\n",
       "    <tr>\n",
       "      <th>2</th>\n",
       "      <td>001297_v2.xml</td>\n",
       "      <td>PMC3893193</td>\n",
       "      <td>0.429524</td>\n",
       "      <td>PLoS_One</td>\n",
       "      <td>pre_vs_published</td>\n",
       "    </tr>\n",
       "    <tr>\n",
       "      <th>3</th>\n",
       "      <td>000141_v1.xml</td>\n",
       "      <td>PMC3894166</td>\n",
       "      <td>0.646077</td>\n",
       "      <td>PLoS_Comput_Biol</td>\n",
       "      <td>pre_vs_published</td>\n",
       "    </tr>\n",
       "    <tr>\n",
       "      <th>4</th>\n",
       "      <td>000315_v1.xml</td>\n",
       "      <td>PMC3906208</td>\n",
       "      <td>0.563227</td>\n",
       "      <td>PLoS_One</td>\n",
       "      <td>pre_vs_published</td>\n",
       "    </tr>\n",
       "  </tbody>\n",
       "</table>\n",
       "</div>"
      ],
      "text/plain": [
       "        document       pmcid  distance             journal             label\n",
       "0  000380_v1.xml  PMC3585962  0.799252           Biochimie  pre_vs_published\n",
       "1  000968_v1.xml  PMC3866385  0.218622  Front_Hum_Neurosci  pre_vs_published\n",
       "2  001297_v2.xml  PMC3893193  0.429524            PLoS_One  pre_vs_published\n",
       "3  000141_v1.xml  PMC3894166  0.646077    PLoS_Comput_Biol  pre_vs_published\n",
       "4  000315_v1.xml  PMC3906208  0.563227            PLoS_One  pre_vs_published"
      ]
     },
     "execution_count": 16,
     "metadata": {},
     "output_type": "execute_result"
    }
   ],
   "source": [
    "final_df = articles_distance_df.assign(label=\"pre_vs_published\").append(\n",
    "    pd.DataFrame.from_records(data).assign(label=\"pre_vs_random\")\n",
    ")\n",
    "final_df.head()"
   ]
  },
  {
   "cell_type": "code",
   "execution_count": 17,
   "metadata": {
    "ExecuteTime": {
     "end_time": "2021-04-21T02:55:50.464716Z",
     "start_time": "2021-04-21T02:55:50.241018Z"
    }
   },
   "outputs": [
    {
     "data": {
      "text/html": [
       "<div>\n",
       "<style scoped>\n",
       "    .dataframe tbody tr th:only-of-type {\n",
       "        vertical-align: middle;\n",
       "    }\n",
       "\n",
       "    .dataframe tbody tr th {\n",
       "        vertical-align: top;\n",
       "    }\n",
       "\n",
       "    .dataframe thead th {\n",
       "        text-align: right;\n",
       "    }\n",
       "</style>\n",
       "<table border=\"1\" class=\"dataframe\">\n",
       "  <thead>\n",
       "    <tr style=\"text-align: right;\">\n",
       "      <th></th>\n",
       "      <th>document</th>\n",
       "      <th>preprint_doi</th>\n",
       "      <th>pmcid</th>\n",
       "      <th>distance</th>\n",
       "      <th>journal</th>\n",
       "      <th>label</th>\n",
       "    </tr>\n",
       "  </thead>\n",
       "  <tbody>\n",
       "    <tr>\n",
       "      <th>0</th>\n",
       "      <td>000026_v1.xml</td>\n",
       "      <td>10.1101/000026</td>\n",
       "      <td>PMC4125079</td>\n",
       "      <td>1.360377</td>\n",
       "      <td>PLoS_Genet</td>\n",
       "      <td>pre_vs_published</td>\n",
       "    </tr>\n",
       "    <tr>\n",
       "      <th>1</th>\n",
       "      <td>000026_v1.xml</td>\n",
       "      <td>10.1101/000026</td>\n",
       "      <td>PMC4473527</td>\n",
       "      <td>5.396874</td>\n",
       "      <td>PLoS_Genet</td>\n",
       "      <td>pre_vs_random</td>\n",
       "    </tr>\n",
       "    <tr>\n",
       "      <th>2</th>\n",
       "      <td>000067_v1.xml</td>\n",
       "      <td>10.1101/000067</td>\n",
       "      <td>PMC4285441</td>\n",
       "      <td>0.470905</td>\n",
       "      <td>Nature</td>\n",
       "      <td>pre_vs_published</td>\n",
       "    </tr>\n",
       "    <tr>\n",
       "      <th>3</th>\n",
       "      <td>000067_v1.xml</td>\n",
       "      <td>10.1101/000067</td>\n",
       "      <td>PMC6175059</td>\n",
       "      <td>6.073076</td>\n",
       "      <td>Nature</td>\n",
       "      <td>pre_vs_random</td>\n",
       "    </tr>\n",
       "    <tr>\n",
       "      <th>4</th>\n",
       "      <td>000109_v1.xml</td>\n",
       "      <td>10.1101/000109</td>\n",
       "      <td>PMC4072524</td>\n",
       "      <td>0.533702</td>\n",
       "      <td>PLoS_Genet</td>\n",
       "      <td>pre_vs_published</td>\n",
       "    </tr>\n",
       "  </tbody>\n",
       "</table>\n",
       "</div>"
      ],
      "text/plain": [
       "        document    preprint_doi       pmcid  distance     journal  \\\n",
       "0  000026_v1.xml  10.1101/000026  PMC4125079  1.360377  PLoS_Genet   \n",
       "1  000026_v1.xml  10.1101/000026  PMC4473527  5.396874  PLoS_Genet   \n",
       "2  000067_v1.xml  10.1101/000067  PMC4285441  0.470905      Nature   \n",
       "3  000067_v1.xml  10.1101/000067  PMC6175059  6.073076      Nature   \n",
       "4  000109_v1.xml  10.1101/000109  PMC4072524  0.533702  PLoS_Genet   \n",
       "\n",
       "              label  \n",
       "0  pre_vs_published  \n",
       "1     pre_vs_random  \n",
       "2  pre_vs_published  \n",
       "3     pre_vs_random  \n",
       "4  pre_vs_published  "
      ]
     },
     "execution_count": 17,
     "metadata": {},
     "output_type": "execute_result"
    }
   ],
   "source": [
    "final_df = biorxiv_journal_df[[\"document\", \"preprint_doi\"]].merge(final_df)\n",
    "final_df.to_csv(\n",
    "    \"output/annotated_links/article_distances_rerun.tsv\", sep=\"\\t\", index=False\n",
    ")\n",
    "final_df.head()"
   ]
  },
  {
   "cell_type": "markdown",
   "metadata": {
    "ExecuteTime": {
     "end_time": "2020-06-23T18:33:46.540866Z",
     "start_time": "2020-06-23T18:33:46.532754Z"
    }
   },
   "source": [
    "# Distribution plot"
   ]
  },
  {
   "cell_type": "code",
   "execution_count": 18,
   "metadata": {
    "ExecuteTime": {
     "end_time": "2021-04-21T02:56:23.114718Z",
     "start_time": "2021-04-21T02:55:50.465876Z"
    }
   },
   "outputs": [
    {
     "name": "stderr",
     "output_type": "stream",
     "text": [
      "/home/danich1/anaconda3/envs/annorxiver/lib/python3.7/site-packages/plotnine/ggplot.py:729: PlotnineWarning: Saving 6.4 x 4.8 in image.\n",
      "/home/danich1/anaconda3/envs/annorxiver/lib/python3.7/site-packages/plotnine/ggplot.py:730: PlotnineWarning: Filename: output/figures/biorxiv_article_distance_rerun.svg\n",
      "/home/danich1/anaconda3/envs/annorxiver/lib/python3.7/site-packages/plotnine/ggplot.py:729: PlotnineWarning: Saving 6.4 x 4.8 in image.\n",
      "/home/danich1/anaconda3/envs/annorxiver/lib/python3.7/site-packages/plotnine/ggplot.py:730: PlotnineWarning: Filename: output/figures/biorxiv_article_distance_rerun.png\n"
     ]
    },
    {
     "data": {
      "image/png": "[encoded data removed]",
      "text/plain": [
       "<Figure size 640x480 with 1 Axes>"
      ]
     },
     "metadata": {},
     "output_type": "display_data"
    },
    {
     "name": "stdout",
     "output_type": "stream",
     "text": [
      "<ggplot: (8792118796878)>\n"
     ]
    }
   ],
   "source": [
    "g = (\n",
    "    p9.ggplot(\n",
    "        final_df.replace(\n",
    "            {\n",
    "                \"pre_vs_published\": \"preprint-published\",\n",
    "                \"pre_vs_random\": \"preprint-random\",\n",
    "            }\n",
    "        )\n",
    "    )\n",
    "    + p9.aes(x=\"label\", y=\"distance\")\n",
    "    + p9.geom_violin(fill=\"#a6cee3\")\n",
    "    + p9.labs(x=\"Document Pair Groups\", y=\"Euclidean Distance\")\n",
    "    + p9.theme_seaborn(context=\"paper\", style=\"ticks\", font=\"Arial\", font_scale=2)\n",
    ")\n",
    "g.save(\"output/figures/biorxiv_article_distance.svg\")\n",
    "g.save(\"output/figures/biorxiv_article_distance.png\")\n",
    "print(g)"
   ]
  },
  {
   "cell_type": "markdown",
   "metadata": {},
   "source": [
    "# Logistic Regression bioRxiv preprints -> published PMC articles"
   ]
  },
  {
   "cell_type": "code",
   "execution_count": 19,
   "metadata": {
    "ExecuteTime": {
     "end_time": "2021-04-21T02:56:23.118500Z",
     "start_time": "2021-04-21T02:56:23.116000Z"
    }
   },
   "outputs": [],
   "source": [
    "model = LogisticRegressionCV(\n",
    "    Cs=5,\n",
    "    cv=10,\n",
    "    random_state=100,\n",
    "    penalty=\"elasticnet\",\n",
    "    solver=\"saga\",\n",
    "    l1_ratios=[0.1, 0.5, 0.8],\n",
    "    verbose=1,\n",
    ")"
   ]
  },
  {
   "cell_type": "code",
   "execution_count": 20,
   "metadata": {
    "ExecuteTime": {
     "end_time": "2021-04-21T02:56:23.192675Z",
     "start_time": "2021-04-21T02:56:23.119936Z"
    }
   },
   "outputs": [],
   "source": [
    "retained_ids = list(\n",
    "    set(PMC_published.index.tolist()) & set(biorxiv_published.index.tolist())\n",
    ")"
   ]
  },
  {
   "cell_type": "code",
   "execution_count": 21,
   "metadata": {
    "ExecuteTime": {
     "end_time": "2021-04-21T02:56:23.450401Z",
     "start_time": "2021-04-21T02:56:23.194122Z"
    }
   },
   "outputs": [
    {
     "data": {
      "text/html": [
       "<div>\n",
       "<style scoped>\n",
       "    .dataframe tbody tr th:only-of-type {\n",
       "        vertical-align: middle;\n",
       "    }\n",
       "\n",
       "    .dataframe tbody tr th {\n",
       "        vertical-align: top;\n",
       "    }\n",
       "\n",
       "    .dataframe thead th {\n",
       "        text-align: right;\n",
       "    }\n",
       "</style>\n",
       "<table border=\"1\" class=\"dataframe\">\n",
       "  <thead>\n",
       "    <tr style=\"text-align: right;\">\n",
       "      <th></th>\n",
       "      <th>feat_0</th>\n",
       "      <th>feat_1</th>\n",
       "      <th>feat_2</th>\n",
       "      <th>feat_3</th>\n",
       "      <th>feat_4</th>\n",
       "      <th>feat_5</th>\n",
       "      <th>feat_6</th>\n",
       "      <th>feat_7</th>\n",
       "      <th>feat_8</th>\n",
       "      <th>feat_9</th>\n",
       "      <th>...</th>\n",
       "      <th>feat_292</th>\n",
       "      <th>feat_293</th>\n",
       "      <th>feat_294</th>\n",
       "      <th>feat_295</th>\n",
       "      <th>feat_296</th>\n",
       "      <th>feat_297</th>\n",
       "      <th>feat_298</th>\n",
       "      <th>feat_299</th>\n",
       "      <th>biorxiv_document</th>\n",
       "      <th>true_link</th>\n",
       "    </tr>\n",
       "    <tr>\n",
       "      <th>pmcid</th>\n",
       "      <th></th>\n",
       "      <th></th>\n",
       "      <th></th>\n",
       "      <th></th>\n",
       "      <th></th>\n",
       "      <th></th>\n",
       "      <th></th>\n",
       "      <th></th>\n",
       "      <th></th>\n",
       "      <th></th>\n",
       "      <th></th>\n",
       "      <th></th>\n",
       "      <th></th>\n",
       "      <th></th>\n",
       "      <th></th>\n",
       "      <th></th>\n",
       "      <th></th>\n",
       "      <th></th>\n",
       "      <th></th>\n",
       "      <th></th>\n",
       "      <th></th>\n",
       "    </tr>\n",
       "  </thead>\n",
       "  <tbody>\n",
       "    <tr>\n",
       "      <th>PMC6440972</th>\n",
       "      <td>-0.062344</td>\n",
       "      <td>-0.040440</td>\n",
       "      <td>-0.012551</td>\n",
       "      <td>-0.011989</td>\n",
       "      <td>0.027631</td>\n",
       "      <td>0.046804</td>\n",
       "      <td>0.015424</td>\n",
       "      <td>-0.013870</td>\n",
       "      <td>0.007868</td>\n",
       "      <td>-0.016947</td>\n",
       "      <td>...</td>\n",
       "      <td>-0.023963</td>\n",
       "      <td>-0.011633</td>\n",
       "      <td>-0.019742</td>\n",
       "      <td>0.003171</td>\n",
       "      <td>0.003928</td>\n",
       "      <td>-0.027142</td>\n",
       "      <td>0.013841</td>\n",
       "      <td>0.013521</td>\n",
       "      <td>491894_v1.xml</td>\n",
       "      <td>1</td>\n",
       "    </tr>\n",
       "    <tr>\n",
       "      <th>PMC6853891</th>\n",
       "      <td>-0.008050</td>\n",
       "      <td>-0.000412</td>\n",
       "      <td>-0.034198</td>\n",
       "      <td>0.013235</td>\n",
       "      <td>-0.006817</td>\n",
       "      <td>0.014641</td>\n",
       "      <td>0.022394</td>\n",
       "      <td>-0.016107</td>\n",
       "      <td>0.009814</td>\n",
       "      <td>0.018810</td>\n",
       "      <td>...</td>\n",
       "      <td>-0.010383</td>\n",
       "      <td>0.031649</td>\n",
       "      <td>-0.053087</td>\n",
       "      <td>0.006611</td>\n",
       "      <td>-0.013132</td>\n",
       "      <td>0.008452</td>\n",
       "      <td>-0.022189</td>\n",
       "      <td>-0.007484</td>\n",
       "      <td>776732_v1.xml</td>\n",
       "      <td>1</td>\n",
       "    </tr>\n",
       "    <tr>\n",
       "      <th>PMC5674756</th>\n",
       "      <td>0.036540</td>\n",
       "      <td>-0.002605</td>\n",
       "      <td>0.032920</td>\n",
       "      <td>-0.165682</td>\n",
       "      <td>0.064750</td>\n",
       "      <td>-0.023302</td>\n",
       "      <td>0.030987</td>\n",
       "      <td>0.020110</td>\n",
       "      <td>-0.098536</td>\n",
       "      <td>0.032745</td>\n",
       "      <td>...</td>\n",
       "      <td>-0.016515</td>\n",
       "      <td>0.121043</td>\n",
       "      <td>-0.087976</td>\n",
       "      <td>0.028152</td>\n",
       "      <td>0.101607</td>\n",
       "      <td>-0.026265</td>\n",
       "      <td>0.167324</td>\n",
       "      <td>-0.021506</td>\n",
       "      <td>087775_v1.xml</td>\n",
       "      <td>1</td>\n",
       "    </tr>\n",
       "    <tr>\n",
       "      <th>PMC6959356</th>\n",
       "      <td>-0.023638</td>\n",
       "      <td>0.116159</td>\n",
       "      <td>-0.088119</td>\n",
       "      <td>-0.172646</td>\n",
       "      <td>0.109414</td>\n",
       "      <td>0.006080</td>\n",
       "      <td>-0.068100</td>\n",
       "      <td>0.043459</td>\n",
       "      <td>-0.004420</td>\n",
       "      <td>-0.076926</td>\n",
       "      <td>...</td>\n",
       "      <td>-0.003855</td>\n",
       "      <td>0.142526</td>\n",
       "      <td>-0.139690</td>\n",
       "      <td>0.042965</td>\n",
       "      <td>0.178414</td>\n",
       "      <td>0.032840</td>\n",
       "      <td>0.186940</td>\n",
       "      <td>0.024983</td>\n",
       "      <td>403527_v2.xml</td>\n",
       "      <td>1</td>\n",
       "    </tr>\n",
       "    <tr>\n",
       "      <th>PMC5663985</th>\n",
       "      <td>-0.011048</td>\n",
       "      <td>0.001895</td>\n",
       "      <td>-0.073110</td>\n",
       "      <td>-0.024940</td>\n",
       "      <td>0.018035</td>\n",
       "      <td>0.015996</td>\n",
       "      <td>0.014427</td>\n",
       "      <td>-0.002551</td>\n",
       "      <td>0.000753</td>\n",
       "      <td>-0.037400</td>\n",
       "      <td>...</td>\n",
       "      <td>0.019581</td>\n",
       "      <td>-0.017504</td>\n",
       "      <td>-0.004655</td>\n",
       "      <td>-0.026730</td>\n",
       "      <td>-0.000567</td>\n",
       "      <td>-0.029126</td>\n",
       "      <td>-0.023003</td>\n",
       "      <td>0.046198</td>\n",
       "      <td>196931_v1.xml</td>\n",
       "      <td>1</td>\n",
       "    </tr>\n",
       "  </tbody>\n",
       "</table>\n",
       "<p>5 rows × 302 columns</p>\n",
       "</div>"
      ],
      "text/plain": [
       "              feat_0    feat_1    feat_2    feat_3    feat_4    feat_5  \\\n",
       "pmcid                                                                    \n",
       "PMC6440972 -0.062344 -0.040440 -0.012551 -0.011989  0.027631  0.046804   \n",
       "PMC6853891 -0.008050 -0.000412 -0.034198  0.013235 -0.006817  0.014641   \n",
       "PMC5674756  0.036540 -0.002605  0.032920 -0.165682  0.064750 -0.023302   \n",
       "PMC6959356 -0.023638  0.116159 -0.088119 -0.172646  0.109414  0.006080   \n",
       "PMC5663985 -0.011048  0.001895 -0.073110 -0.024940  0.018035  0.015996   \n",
       "\n",
       "              feat_6    feat_7    feat_8    feat_9  ...  feat_292  feat_293  \\\n",
       "pmcid                                               ...                       \n",
       "PMC6440972  0.015424 -0.013870  0.007868 -0.016947  ... -0.023963 -0.011633   \n",
       "PMC6853891  0.022394 -0.016107  0.009814  0.018810  ... -0.010383  0.031649   \n",
       "PMC5674756  0.030987  0.020110 -0.098536  0.032745  ... -0.016515  0.121043   \n",
       "PMC6959356 -0.068100  0.043459 -0.004420 -0.076926  ... -0.003855  0.142526   \n",
       "PMC5663985  0.014427 -0.002551  0.000753 -0.037400  ...  0.019581 -0.017504   \n",
       "\n",
       "            feat_294  feat_295  feat_296  feat_297  feat_298  feat_299  \\\n",
       "pmcid                                                                    \n",
       "PMC6440972 -0.019742  0.003171  0.003928 -0.027142  0.013841  0.013521   \n",
       "PMC6853891 -0.053087  0.006611 -0.013132  0.008452 -0.022189 -0.007484   \n",
       "PMC5674756 -0.087976  0.028152  0.101607 -0.026265  0.167324 -0.021506   \n",
       "PMC6959356 -0.139690  0.042965  0.178414  0.032840  0.186940  0.024983   \n",
       "PMC5663985 -0.004655 -0.026730 -0.000567 -0.029126 -0.023003  0.046198   \n",
       "\n",
       "            biorxiv_document  true_link  \n",
       "pmcid                                    \n",
       "PMC6440972     491894_v1.xml          1  \n",
       "PMC6853891     776732_v1.xml          1  \n",
       "PMC5674756     087775_v1.xml          1  \n",
       "PMC6959356     403527_v2.xml          1  \n",
       "PMC5663985     196931_v1.xml          1  \n",
       "\n",
       "[5 rows x 302 columns]"
      ]
     },
     "execution_count": 21,
     "metadata": {},
     "output_type": "execute_result"
    }
   ],
   "source": [
    "training_dataset = (\n",
    "    biorxiv_published.dropna()\n",
    "    .drop([\"document\", \"published_doi\", \"pmcoa\"], axis=1)\n",
    "    .loc[retained_ids]\n",
    "    - PMC_published.loc[retained_ids].dropna().drop([\"journal\", \"doi\"], axis=1)\n",
    ").assign(\n",
    "    biorxiv_document=biorxiv_published.loc[retained_ids].document.values, true_link=1\n",
    ")\n",
    "training_dataset.head()"
   ]
  },
  {
   "cell_type": "code",
   "execution_count": 22,
   "metadata": {
    "ExecuteTime": {
     "end_time": "2021-04-21T02:56:23.532686Z",
     "start_time": "2021-04-21T02:56:23.451659Z"
    }
   },
   "outputs": [],
   "source": [
    "journals = (\n",
    "    PMC_published.loc[retained_ids]\n",
    "    .query(f\"journal in {PMC_off_published.journal.tolist()}\")\n",
    "    .journal.values.tolist()\n",
    ")"
   ]
  },
  {
   "cell_type": "code",
   "execution_count": 23,
   "metadata": {
    "ExecuteTime": {
     "end_time": "2021-04-21T02:56:23.619412Z",
     "start_time": "2021-04-21T02:56:23.535195Z"
    }
   },
   "outputs": [],
   "source": [
    "off_documents = (\n",
    "    PMC_published.loc[retained_ids]\n",
    "    .query(f\"journal in {PMC_off_published.journal.tolist()}\")\n",
    "    .index.tolist()\n",
    ")"
   ]
  },
  {
   "cell_type": "code",
   "execution_count": 24,
   "metadata": {
    "ExecuteTime": {
     "end_time": "2021-04-21T02:56:23.759653Z",
     "start_time": "2021-04-21T02:56:23.621006Z"
    }
   },
   "outputs": [
    {
     "data": {
      "text/html": [
       "<div>\n",
       "<style scoped>\n",
       "    .dataframe tbody tr th:only-of-type {\n",
       "        vertical-align: middle;\n",
       "    }\n",
       "\n",
       "    .dataframe tbody tr th {\n",
       "        vertical-align: top;\n",
       "    }\n",
       "\n",
       "    .dataframe thead th {\n",
       "        text-align: right;\n",
       "    }\n",
       "</style>\n",
       "<table border=\"1\" class=\"dataframe\">\n",
       "  <thead>\n",
       "    <tr style=\"text-align: right;\">\n",
       "      <th></th>\n",
       "      <th>feat_0</th>\n",
       "      <th>feat_1</th>\n",
       "      <th>feat_2</th>\n",
       "      <th>feat_3</th>\n",
       "      <th>feat_4</th>\n",
       "      <th>feat_5</th>\n",
       "      <th>feat_6</th>\n",
       "      <th>feat_7</th>\n",
       "      <th>feat_8</th>\n",
       "      <th>feat_9</th>\n",
       "      <th>...</th>\n",
       "      <th>feat_291</th>\n",
       "      <th>feat_292</th>\n",
       "      <th>feat_293</th>\n",
       "      <th>feat_294</th>\n",
       "      <th>feat_295</th>\n",
       "      <th>feat_296</th>\n",
       "      <th>feat_297</th>\n",
       "      <th>feat_298</th>\n",
       "      <th>feat_299</th>\n",
       "      <th>true_link</th>\n",
       "    </tr>\n",
       "  </thead>\n",
       "  <tbody>\n",
       "    <tr>\n",
       "      <th>0</th>\n",
       "      <td>-0.062344</td>\n",
       "      <td>-0.040440</td>\n",
       "      <td>-0.012551</td>\n",
       "      <td>-0.011989</td>\n",
       "      <td>0.027631</td>\n",
       "      <td>0.046804</td>\n",
       "      <td>0.015424</td>\n",
       "      <td>-0.013870</td>\n",
       "      <td>0.007868</td>\n",
       "      <td>-0.016947</td>\n",
       "      <td>...</td>\n",
       "      <td>-0.000829</td>\n",
       "      <td>-0.023963</td>\n",
       "      <td>-0.011633</td>\n",
       "      <td>-0.019742</td>\n",
       "      <td>0.003171</td>\n",
       "      <td>0.003928</td>\n",
       "      <td>-0.027142</td>\n",
       "      <td>0.013841</td>\n",
       "      <td>0.013521</td>\n",
       "      <td>1</td>\n",
       "    </tr>\n",
       "    <tr>\n",
       "      <th>1</th>\n",
       "      <td>-0.008050</td>\n",
       "      <td>-0.000412</td>\n",
       "      <td>-0.034198</td>\n",
       "      <td>0.013235</td>\n",
       "      <td>-0.006817</td>\n",
       "      <td>0.014641</td>\n",
       "      <td>0.022394</td>\n",
       "      <td>-0.016107</td>\n",
       "      <td>0.009814</td>\n",
       "      <td>0.018810</td>\n",
       "      <td>...</td>\n",
       "      <td>0.010266</td>\n",
       "      <td>-0.010383</td>\n",
       "      <td>0.031649</td>\n",
       "      <td>-0.053087</td>\n",
       "      <td>0.006611</td>\n",
       "      <td>-0.013132</td>\n",
       "      <td>0.008452</td>\n",
       "      <td>-0.022189</td>\n",
       "      <td>-0.007484</td>\n",
       "      <td>1</td>\n",
       "    </tr>\n",
       "    <tr>\n",
       "      <th>2</th>\n",
       "      <td>0.036540</td>\n",
       "      <td>-0.002605</td>\n",
       "      <td>0.032920</td>\n",
       "      <td>-0.165682</td>\n",
       "      <td>0.064750</td>\n",
       "      <td>-0.023302</td>\n",
       "      <td>0.030987</td>\n",
       "      <td>0.020110</td>\n",
       "      <td>-0.098536</td>\n",
       "      <td>0.032745</td>\n",
       "      <td>...</td>\n",
       "      <td>0.096541</td>\n",
       "      <td>-0.016515</td>\n",
       "      <td>0.121043</td>\n",
       "      <td>-0.087976</td>\n",
       "      <td>0.028152</td>\n",
       "      <td>0.101607</td>\n",
       "      <td>-0.026265</td>\n",
       "      <td>0.167324</td>\n",
       "      <td>-0.021506</td>\n",
       "      <td>1</td>\n",
       "    </tr>\n",
       "    <tr>\n",
       "      <th>3</th>\n",
       "      <td>-0.023638</td>\n",
       "      <td>0.116159</td>\n",
       "      <td>-0.088119</td>\n",
       "      <td>-0.172646</td>\n",
       "      <td>0.109414</td>\n",
       "      <td>0.006080</td>\n",
       "      <td>-0.068100</td>\n",
       "      <td>0.043459</td>\n",
       "      <td>-0.004420</td>\n",
       "      <td>-0.076926</td>\n",
       "      <td>...</td>\n",
       "      <td>0.248154</td>\n",
       "      <td>-0.003855</td>\n",
       "      <td>0.142526</td>\n",
       "      <td>-0.139690</td>\n",
       "      <td>0.042965</td>\n",
       "      <td>0.178414</td>\n",
       "      <td>0.032840</td>\n",
       "      <td>0.186940</td>\n",
       "      <td>0.024983</td>\n",
       "      <td>1</td>\n",
       "    </tr>\n",
       "    <tr>\n",
       "      <th>4</th>\n",
       "      <td>-0.011048</td>\n",
       "      <td>0.001895</td>\n",
       "      <td>-0.073110</td>\n",
       "      <td>-0.024940</td>\n",
       "      <td>0.018035</td>\n",
       "      <td>0.015996</td>\n",
       "      <td>0.014427</td>\n",
       "      <td>-0.002551</td>\n",
       "      <td>0.000753</td>\n",
       "      <td>-0.037400</td>\n",
       "      <td>...</td>\n",
       "      <td>0.007140</td>\n",
       "      <td>0.019581</td>\n",
       "      <td>-0.017504</td>\n",
       "      <td>-0.004655</td>\n",
       "      <td>-0.026730</td>\n",
       "      <td>-0.000567</td>\n",
       "      <td>-0.029126</td>\n",
       "      <td>-0.023003</td>\n",
       "      <td>0.046198</td>\n",
       "      <td>1</td>\n",
       "    </tr>\n",
       "  </tbody>\n",
       "</table>\n",
       "<p>5 rows × 301 columns</p>\n",
       "</div>"
      ],
      "text/plain": [
       "     feat_0    feat_1    feat_2    feat_3    feat_4    feat_5    feat_6  \\\n",
       "0 -0.062344 -0.040440 -0.012551 -0.011989  0.027631  0.046804  0.015424   \n",
       "1 -0.008050 -0.000412 -0.034198  0.013235 -0.006817  0.014641  0.022394   \n",
       "2  0.036540 -0.002605  0.032920 -0.165682  0.064750 -0.023302  0.030987   \n",
       "3 -0.023638  0.116159 -0.088119 -0.172646  0.109414  0.006080 -0.068100   \n",
       "4 -0.011048  0.001895 -0.073110 -0.024940  0.018035  0.015996  0.014427   \n",
       "\n",
       "     feat_7    feat_8    feat_9  ...  feat_291  feat_292  feat_293  feat_294  \\\n",
       "0 -0.013870  0.007868 -0.016947  ... -0.000829 -0.023963 -0.011633 -0.019742   \n",
       "1 -0.016107  0.009814  0.018810  ...  0.010266 -0.010383  0.031649 -0.053087   \n",
       "2  0.020110 -0.098536  0.032745  ...  0.096541 -0.016515  0.121043 -0.087976   \n",
       "3  0.043459 -0.004420 -0.076926  ...  0.248154 -0.003855  0.142526 -0.139690   \n",
       "4 -0.002551  0.000753 -0.037400  ...  0.007140  0.019581 -0.017504 -0.004655   \n",
       "\n",
       "   feat_295  feat_296  feat_297  feat_298  feat_299  true_link  \n",
       "0  0.003171  0.003928 -0.027142  0.013841  0.013521          1  \n",
       "1  0.006611 -0.013132  0.008452 -0.022189 -0.007484          1  \n",
       "2  0.028152  0.101607 -0.026265  0.167324 -0.021506          1  \n",
       "3  0.042965  0.178414  0.032840  0.186940  0.024983          1  \n",
       "4 -0.026730 -0.000567 -0.029126 -0.023003  0.046198          1  \n",
       "\n",
       "[5 rows x 301 columns]"
      ]
     },
     "execution_count": 24,
     "metadata": {},
     "output_type": "execute_result"
    }
   ],
   "source": [
    "training_dataset = (\n",
    "    training_dataset.append(\n",
    "        pd.DataFrame(\n",
    "            biorxiv_published.loc[off_documents]\n",
    "            .drop([\"document\", \"published_doi\", \"pmcoa\"], axis=1)\n",
    "            .values\n",
    "            - PMC_off_published.iloc[list(map(lambda x: journal_mapper[x], journals))]\n",
    "            .set_index(\"journal\")\n",
    "            .drop(\"document\", axis=1)\n",
    "            .values,\n",
    "            columns=[f\"feat_{idx}\" for idx in range(300)],\n",
    "        ).assign(true_link=-1)\n",
    "    )\n",
    "    .reset_index(drop=True)\n",
    "    .drop(\"biorxiv_document\", axis=1)\n",
    "    .dropna()\n",
    ")\n",
    "training_dataset.head()"
   ]
  },
  {
   "cell_type": "code",
   "execution_count": 25,
   "metadata": {
    "ExecuteTime": {
     "end_time": "2021-04-21T03:16:41.008349Z",
     "start_time": "2021-04-21T02:56:23.760866Z"
    },
    "scrolled": true
   },
   "outputs": [
    {
     "name": "stderr",
     "output_type": "stream",
     "text": [
      "[Parallel(n_jobs=1)]: Using backend SequentialBackend with 1 concurrent workers.\n"
     ]
    },
    {
     "name": "stdout",
     "output_type": "stream",
     "text": [
      "rescaling...\n",
      "rescaling...\n",
      "rescaling...\n",
      "rescaling...\n",
      "rescaling...\n",
      "rescaling...\n",
      "rescaling...\n",
      "rescaling...\n",
      "rescaling...\n",
      "rescaling...\n",
      "rescaling...\n",
      "rescaling...\n",
      "rescaling...\n",
      "rescaling...\n",
      "rescaling...\n",
      "rescaling...\n",
      "rescaling...\n",
      "rescaling...\n",
      "rescaling...\n",
      "rescaling...\n",
      "rescaling...\n",
      "rescaling...\n",
      "rescaling...\n",
      "rescaling...\n",
      "rescaling...\n",
      "rescaling...\n",
      "rescaling...\n",
      "rescaling...\n",
      "rescaling...\n",
      "rescaling...\n",
      "rescaling...\n",
      "rescaling...\n",
      "rescaling...\n",
      "rescaling...\n",
      "rescaling...\n",
      "rescaling...\n",
      "rescaling...\n",
      "rescaling...\n",
      "rescaling...\n",
      "rescaling...\n",
      "rescaling...\n",
      "rescaling...\n",
      "rescaling...\n",
      "rescaling...\n",
      "rescaling...\n",
      "rescaling...\n",
      "rescaling...\n",
      "rescaling...\n",
      "rescaling...\n",
      "rescaling...\n",
      "rescaling...\n",
      "rescaling...\n",
      "rescaling...\n",
      "rescaling...\n",
      "rescaling...\n",
      "rescaling...\n",
      "rescaling...\n",
      "rescaling...\n",
      "rescaling...\n",
      "rescaling...\n",
      "rescaling...\n",
      "rescaling...\n",
      "rescaling...\n",
      "rescaling...\n",
      "rescaling...\n",
      "rescaling...\n",
      "rescaling...\n",
      "rescaling...\n",
      "rescaling...\n",
      "rescaling...\n",
      "rescaling...\n",
      "rescaling...\n",
      "rescaling...\n",
      "rescaling...\n",
      "rescaling...\n",
      "rescaling...\n",
      "rescaling...\n",
      "rescaling...\n",
      "rescaling...\n",
      "rescaling...\n",
      "rescaling...\n",
      "rescaling...\n",
      "rescaling...\n",
      "rescaling...\n",
      "convergence after 14 epochs took 2 seconds\n",
      "convergence after 15 epochs took 2 seconds\n",
      "max_iter reached after 13 seconds\n"
     ]
    },
    {
     "name": "stderr",
     "output_type": "stream",
     "text": [
      "/home/danich1/anaconda3/envs/annorxiver/lib/python3.7/site-packages/sklearn/linear_model/_sag.py:329: ConvergenceWarning: The max_iter was reached which means the coef_ did not converge\n"
     ]
    },
    {
     "name": "stdout",
     "output_type": "stream",
     "text": [
      "max_iter reached after 12 seconds\n"
     ]
    },
    {
     "name": "stderr",
     "output_type": "stream",
     "text": [
      "/home/danich1/anaconda3/envs/annorxiver/lib/python3.7/site-packages/sklearn/linear_model/_sag.py:329: ConvergenceWarning: The max_iter was reached which means the coef_ did not converge\n"
     ]
    },
    {
     "name": "stdout",
     "output_type": "stream",
     "text": [
      "max_iter reached after 13 seconds\n",
      "rescaling...\n",
      "rescaling...\n",
      "rescaling...\n"
     ]
    },
    {
     "name": "stderr",
     "output_type": "stream",
     "text": [
      "/home/danich1/anaconda3/envs/annorxiver/lib/python3.7/site-packages/sklearn/linear_model/_sag.py:329: ConvergenceWarning: The max_iter was reached which means the coef_ did not converge\n"
     ]
    },
    {
     "name": "stdout",
     "output_type": "stream",
     "text": [
      "rescaling...\n",
      "rescaling...\n",
      "rescaling...\n",
      "rescaling...\n",
      "rescaling...\n",
      "rescaling...\n",
      "convergence after 3 epochs took 0 seconds\n",
      "convergence after 14 epochs took 2 seconds\n",
      "max_iter reached after 12 seconds\n"
     ]
    },
    {
     "name": "stderr",
     "output_type": "stream",
     "text": [
      "/home/danich1/anaconda3/envs/annorxiver/lib/python3.7/site-packages/sklearn/linear_model/_sag.py:329: ConvergenceWarning: The max_iter was reached which means the coef_ did not converge\n"
     ]
    },
    {
     "name": "stdout",
     "output_type": "stream",
     "text": [
      "max_iter reached after 12 seconds\n"
     ]
    },
    {
     "name": "stderr",
     "output_type": "stream",
     "text": [
      "/home/danich1/anaconda3/envs/annorxiver/lib/python3.7/site-packages/sklearn/linear_model/_sag.py:329: ConvergenceWarning: The max_iter was reached which means the coef_ did not converge\n"
     ]
    },
    {
     "name": "stdout",
     "output_type": "stream",
     "text": [
      "max_iter reached after 13 seconds\n",
      "rescaling...\n"
     ]
    },
    {
     "name": "stderr",
     "output_type": "stream",
     "text": [
      "/home/danich1/anaconda3/envs/annorxiver/lib/python3.7/site-packages/sklearn/linear_model/_sag.py:329: ConvergenceWarning: The max_iter was reached which means the coef_ did not converge\n"
     ]
    },
    {
     "name": "stdout",
     "output_type": "stream",
     "text": [
      "rescaling...\n",
      "rescaling...\n",
      "convergence after 3 epochs took 1 seconds\n",
      "convergence after 15 epochs took 1 seconds\n",
      "max_iter reached after 12 seconds\n"
     ]
    },
    {
     "name": "stderr",
     "output_type": "stream",
     "text": [
      "/home/danich1/anaconda3/envs/annorxiver/lib/python3.7/site-packages/sklearn/linear_model/_sag.py:329: ConvergenceWarning: The max_iter was reached which means the coef_ did not converge\n"
     ]
    },
    {
     "name": "stdout",
     "output_type": "stream",
     "text": [
      "max_iter reached after 13 seconds\n"
     ]
    },
    {
     "name": "stderr",
     "output_type": "stream",
     "text": [
      "/home/danich1/anaconda3/envs/annorxiver/lib/python3.7/site-packages/sklearn/linear_model/_sag.py:329: ConvergenceWarning: The max_iter was reached which means the coef_ did not converge\n"
     ]
    },
    {
     "name": "stdout",
     "output_type": "stream",
     "text": [
      "max_iter reached after 13 seconds\n",
      "rescaling...\n",
      "rescaling...\n",
      "rescaling...\n",
      "rescaling...\n",
      "rescaling...\n",
      "rescaling...\n"
     ]
    },
    {
     "name": "stderr",
     "output_type": "stream",
     "text": [
      "/home/danich1/anaconda3/envs/annorxiver/lib/python3.7/site-packages/sklearn/linear_model/_sag.py:329: ConvergenceWarning: The max_iter was reached which means the coef_ did not converge\n"
     ]
    },
    {
     "name": "stdout",
     "output_type": "stream",
     "text": [
      "rescaling...\n",
      "rescaling...\n",
      "rescaling...\n",
      "rescaling...\n",
      "rescaling...\n",
      "rescaling...\n",
      "rescaling...\n",
      "rescaling...\n",
      "rescaling...\n",
      "rescaling...\n",
      "rescaling...\n",
      "rescaling...\n",
      "rescaling...\n",
      "rescaling...\n",
      "rescaling...\n",
      "rescaling...\n",
      "rescaling...\n",
      "rescaling...\n",
      "rescaling...\n",
      "rescaling...\n",
      "rescaling...\n",
      "rescaling...\n",
      "rescaling...\n",
      "rescaling...\n",
      "rescaling...\n",
      "rescaling...\n",
      "rescaling...\n",
      "rescaling...\n",
      "rescaling...\n",
      "rescaling...\n",
      "rescaling...\n",
      "rescaling...\n",
      "rescaling...\n",
      "rescaling...\n",
      "rescaling...\n",
      "rescaling...\n",
      "rescaling...\n",
      "rescaling...\n",
      "rescaling...\n",
      "rescaling...\n",
      "rescaling...\n",
      "rescaling...\n",
      "rescaling...\n",
      "rescaling...\n",
      "rescaling...\n",
      "rescaling...\n",
      "rescaling...\n",
      "rescaling...\n",
      "rescaling...\n",
      "rescaling...\n",
      "rescaling...\n",
      "rescaling...\n",
      "rescaling...\n",
      "rescaling...\n",
      "rescaling...\n",
      "rescaling...\n",
      "rescaling...\n",
      "rescaling...\n",
      "rescaling...\n",
      "rescaling...\n",
      "rescaling...\n",
      "rescaling...\n",
      "rescaling...\n",
      "rescaling...\n",
      "rescaling...\n",
      "rescaling...\n",
      "rescaling...\n",
      "rescaling...\n",
      "rescaling...\n",
      "rescaling...\n",
      "rescaling...\n",
      "rescaling...\n",
      "rescaling...\n",
      "rescaling...\n",
      "rescaling...\n",
      "rescaling...\n",
      "rescaling...\n",
      "rescaling...\n",
      "convergence after 14 epochs took 1 seconds\n",
      "convergence after 14 epochs took 2 seconds\n",
      "max_iter reached after 13 seconds\n"
     ]
    },
    {
     "name": "stderr",
     "output_type": "stream",
     "text": [
      "/home/danich1/anaconda3/envs/annorxiver/lib/python3.7/site-packages/sklearn/linear_model/_sag.py:329: ConvergenceWarning: The max_iter was reached which means the coef_ did not converge\n"
     ]
    },
    {
     "name": "stdout",
     "output_type": "stream",
     "text": [
      "max_iter reached after 13 seconds\n"
     ]
    },
    {
     "name": "stderr",
     "output_type": "stream",
     "text": [
      "/home/danich1/anaconda3/envs/annorxiver/lib/python3.7/site-packages/sklearn/linear_model/_sag.py:329: ConvergenceWarning: The max_iter was reached which means the coef_ did not converge\n"
     ]
    },
    {
     "name": "stdout",
     "output_type": "stream",
     "text": [
      "max_iter reached after 12 seconds\n",
      "rescaling...\n",
      "rescaling...\n",
      "rescaling...\n",
      "rescaling...\n",
      "rescaling...\n"
     ]
    },
    {
     "name": "stderr",
     "output_type": "stream",
     "text": [
      "/home/danich1/anaconda3/envs/annorxiver/lib/python3.7/site-packages/sklearn/linear_model/_sag.py:329: ConvergenceWarning: The max_iter was reached which means the coef_ did not converge\n"
     ]
    },
    {
     "name": "stdout",
     "output_type": "stream",
     "text": [
      "rescaling...\n",
      "rescaling...\n",
      "rescaling...\n",
      "rescaling...\n",
      "convergence after 3 epochs took 0 seconds\n",
      "convergence after 14 epochs took 2 seconds\n",
      "max_iter reached after 11 seconds\n"
     ]
    },
    {
     "name": "stderr",
     "output_type": "stream",
     "text": [
      "/home/danich1/anaconda3/envs/annorxiver/lib/python3.7/site-packages/sklearn/linear_model/_sag.py:329: ConvergenceWarning: The max_iter was reached which means the coef_ did not converge\n"
     ]
    },
    {
     "name": "stdout",
     "output_type": "stream",
     "text": [
      "max_iter reached after 12 seconds\n"
     ]
    },
    {
     "name": "stderr",
     "output_type": "stream",
     "text": [
      "/home/danich1/anaconda3/envs/annorxiver/lib/python3.7/site-packages/sklearn/linear_model/_sag.py:329: ConvergenceWarning: The max_iter was reached which means the coef_ did not converge\n"
     ]
    },
    {
     "name": "stdout",
     "output_type": "stream",
     "text": [
      "max_iter reached after 13 seconds\n",
      "rescaling...\n",
      "rescaling...\n"
     ]
    },
    {
     "name": "stderr",
     "output_type": "stream",
     "text": [
      "/home/danich1/anaconda3/envs/annorxiver/lib/python3.7/site-packages/sklearn/linear_model/_sag.py:329: ConvergenceWarning: The max_iter was reached which means the coef_ did not converge\n"
     ]
    },
    {
     "name": "stdout",
     "output_type": "stream",
     "text": [
      "rescaling...\n",
      "convergence after 3 epochs took 0 seconds\n",
      "convergence after 15 epochs took 2 seconds\n",
      "max_iter reached after 11 seconds\n"
     ]
    },
    {
     "name": "stderr",
     "output_type": "stream",
     "text": [
      "/home/danich1/anaconda3/envs/annorxiver/lib/python3.7/site-packages/sklearn/linear_model/_sag.py:329: ConvergenceWarning: The max_iter was reached which means the coef_ did not converge\n"
     ]
    },
    {
     "name": "stdout",
     "output_type": "stream",
     "text": [
      "max_iter reached after 12 seconds\n"
     ]
    },
    {
     "name": "stderr",
     "output_type": "stream",
     "text": [
      "/home/danich1/anaconda3/envs/annorxiver/lib/python3.7/site-packages/sklearn/linear_model/_sag.py:329: ConvergenceWarning: The max_iter was reached which means the coef_ did not converge\n"
     ]
    },
    {
     "name": "stdout",
     "output_type": "stream",
     "text": [
      "max_iter reached after 12 seconds\n",
      "rescaling...\n",
      "rescaling...\n",
      "rescaling...\n",
      "rescaling...\n",
      "rescaling...\n",
      "rescaling...\n"
     ]
    },
    {
     "name": "stderr",
     "output_type": "stream",
     "text": [
      "/home/danich1/anaconda3/envs/annorxiver/lib/python3.7/site-packages/sklearn/linear_model/_sag.py:329: ConvergenceWarning: The max_iter was reached which means the coef_ did not converge\n"
     ]
    },
    {
     "name": "stdout",
     "output_type": "stream",
     "text": [
      "rescaling...\n",
      "rescaling...\n",
      "rescaling...\n",
      "rescaling...\n",
      "rescaling...\n",
      "rescaling...\n",
      "rescaling...\n",
      "rescaling...\n",
      "rescaling...\n",
      "rescaling...\n",
      "rescaling...\n",
      "rescaling...\n",
      "rescaling...\n",
      "rescaling...\n",
      "rescaling...\n",
      "rescaling...\n",
      "rescaling...\n",
      "rescaling...\n",
      "rescaling...\n",
      "rescaling...\n",
      "rescaling...\n",
      "rescaling...\n",
      "rescaling...\n",
      "rescaling...\n",
      "rescaling...\n",
      "rescaling...\n",
      "rescaling...\n",
      "rescaling...\n",
      "rescaling...\n",
      "rescaling...\n",
      "rescaling...\n",
      "rescaling...\n",
      "rescaling...\n",
      "rescaling...\n",
      "rescaling...\n",
      "rescaling...\n",
      "rescaling...\n",
      "rescaling...\n",
      "rescaling...\n",
      "rescaling...\n",
      "rescaling...\n",
      "rescaling...\n",
      "rescaling...\n",
      "rescaling...\n",
      "rescaling...\n",
      "rescaling...\n",
      "rescaling...\n",
      "rescaling...\n",
      "rescaling...\n",
      "rescaling...\n",
      "rescaling...\n",
      "rescaling...\n",
      "rescaling...\n",
      "rescaling...\n",
      "rescaling...\n",
      "rescaling...\n",
      "rescaling...\n",
      "rescaling...\n",
      "rescaling...\n",
      "rescaling...\n",
      "rescaling...\n",
      "rescaling...\n",
      "rescaling...\n",
      "rescaling...\n",
      "rescaling...\n",
      "rescaling...\n",
      "rescaling...\n",
      "rescaling...\n",
      "rescaling...\n",
      "rescaling...\n",
      "rescaling...\n",
      "rescaling...\n",
      "rescaling...\n",
      "rescaling...\n",
      "rescaling...\n",
      "rescaling...\n",
      "rescaling...\n",
      "rescaling...\n",
      "convergence after 14 epochs took 2 seconds\n",
      "convergence after 14 epochs took 2 seconds\n",
      "max_iter reached after 12 seconds\n"
     ]
    },
    {
     "name": "stderr",
     "output_type": "stream",
     "text": [
      "/home/danich1/anaconda3/envs/annorxiver/lib/python3.7/site-packages/sklearn/linear_model/_sag.py:329: ConvergenceWarning: The max_iter was reached which means the coef_ did not converge\n"
     ]
    },
    {
     "name": "stdout",
     "output_type": "stream",
     "text": [
      "max_iter reached after 12 seconds\n"
     ]
    },
    {
     "name": "stderr",
     "output_type": "stream",
     "text": [
      "/home/danich1/anaconda3/envs/annorxiver/lib/python3.7/site-packages/sklearn/linear_model/_sag.py:329: ConvergenceWarning: The max_iter was reached which means the coef_ did not converge\n"
     ]
    },
    {
     "name": "stdout",
     "output_type": "stream",
     "text": [
      "max_iter reached after 13 seconds\n",
      "rescaling...\n",
      "rescaling...\n",
      "rescaling...\n",
      "rescaling...\n",
      "rescaling...\n"
     ]
    },
    {
     "name": "stderr",
     "output_type": "stream",
     "text": [
      "/home/danich1/anaconda3/envs/annorxiver/lib/python3.7/site-packages/sklearn/linear_model/_sag.py:329: ConvergenceWarning: The max_iter was reached which means the coef_ did not converge\n"
     ]
    },
    {
     "name": "stdout",
     "output_type": "stream",
     "text": [
      "rescaling...\n",
      "rescaling...\n",
      "rescaling...\n",
      "rescaling...\n",
      "convergence after 3 epochs took 0 seconds\n",
      "convergence after 14 epochs took 2 seconds\n",
      "max_iter reached after 11 seconds\n"
     ]
    },
    {
     "name": "stderr",
     "output_type": "stream",
     "text": [
      "/home/danich1/anaconda3/envs/annorxiver/lib/python3.7/site-packages/sklearn/linear_model/_sag.py:329: ConvergenceWarning: The max_iter was reached which means the coef_ did not converge\n"
     ]
    },
    {
     "name": "stdout",
     "output_type": "stream",
     "text": [
      "max_iter reached after 12 seconds\n"
     ]
    },
    {
     "name": "stderr",
     "output_type": "stream",
     "text": [
      "/home/danich1/anaconda3/envs/annorxiver/lib/python3.7/site-packages/sklearn/linear_model/_sag.py:329: ConvergenceWarning: The max_iter was reached which means the coef_ did not converge\n"
     ]
    },
    {
     "name": "stdout",
     "output_type": "stream",
     "text": [
      "max_iter reached after 13 seconds\n",
      "rescaling...\n",
      "rescaling...\n"
     ]
    },
    {
     "name": "stderr",
     "output_type": "stream",
     "text": [
      "/home/danich1/anaconda3/envs/annorxiver/lib/python3.7/site-packages/sklearn/linear_model/_sag.py:329: ConvergenceWarning: The max_iter was reached which means the coef_ did not converge\n"
     ]
    },
    {
     "name": "stdout",
     "output_type": "stream",
     "text": [
      "rescaling...\n",
      "convergence after 3 epochs took 0 seconds\n",
      "convergence after 15 epochs took 2 seconds\n",
      "max_iter reached after 11 seconds\n"
     ]
    },
    {
     "name": "stderr",
     "output_type": "stream",
     "text": [
      "/home/danich1/anaconda3/envs/annorxiver/lib/python3.7/site-packages/sklearn/linear_model/_sag.py:329: ConvergenceWarning: The max_iter was reached which means the coef_ did not converge\n"
     ]
    },
    {
     "name": "stdout",
     "output_type": "stream",
     "text": [
      "max_iter reached after 12 seconds\n"
     ]
    },
    {
     "name": "stderr",
     "output_type": "stream",
     "text": [
      "/home/danich1/anaconda3/envs/annorxiver/lib/python3.7/site-packages/sklearn/linear_model/_sag.py:329: ConvergenceWarning: The max_iter was reached which means the coef_ did not converge\n"
     ]
    },
    {
     "name": "stdout",
     "output_type": "stream",
     "text": [
      "max_iter reached after 12 seconds\n",
      "rescaling...\n",
      "rescaling...\n",
      "rescaling...\n",
      "rescaling...\n",
      "rescaling...\n",
      "rescaling...\n",
      "rescaling...\n"
     ]
    },
    {
     "name": "stderr",
     "output_type": "stream",
     "text": [
      "/home/danich1/anaconda3/envs/annorxiver/lib/python3.7/site-packages/sklearn/linear_model/_sag.py:329: ConvergenceWarning: The max_iter was reached which means the coef_ did not converge\n"
     ]
    },
    {
     "name": "stdout",
     "output_type": "stream",
     "text": [
      "rescaling...\n",
      "rescaling...\n",
      "rescaling...\n",
      "rescaling...\n",
      "rescaling...\n",
      "rescaling...\n",
      "rescaling...\n",
      "rescaling...\n",
      "rescaling...\n",
      "rescaling...\n",
      "rescaling...\n",
      "rescaling...\n",
      "rescaling...\n",
      "rescaling...\n",
      "rescaling...\n",
      "rescaling...\n",
      "rescaling...\n",
      "rescaling...\n",
      "rescaling...\n",
      "rescaling...\n",
      "rescaling...\n",
      "rescaling...\n",
      "rescaling...\n",
      "rescaling...\n",
      "rescaling...\n",
      "rescaling...\n",
      "rescaling...\n",
      "rescaling...\n",
      "rescaling...\n",
      "rescaling...\n",
      "rescaling...\n",
      "rescaling...\n",
      "rescaling...\n",
      "rescaling...\n",
      "rescaling...\n",
      "rescaling...\n",
      "rescaling...\n",
      "rescaling...\n",
      "rescaling...\n",
      "rescaling...\n",
      "rescaling...\n",
      "rescaling...\n",
      "rescaling...\n",
      "rescaling...\n",
      "rescaling...\n",
      "rescaling...\n",
      "rescaling...\n",
      "rescaling...\n",
      "rescaling...\n",
      "rescaling...\n",
      "rescaling...\n",
      "rescaling...\n",
      "rescaling...\n",
      "rescaling...\n",
      "rescaling...\n",
      "rescaling...\n",
      "rescaling...\n",
      "rescaling...\n",
      "rescaling...\n",
      "rescaling...\n",
      "rescaling...\n",
      "rescaling...\n",
      "rescaling...\n",
      "rescaling...\n",
      "rescaling...\n",
      "rescaling...\n",
      "rescaling...\n",
      "rescaling...\n",
      "rescaling...\n",
      "rescaling...\n",
      "rescaling...\n",
      "convergence after 13 epochs took 2 seconds\n",
      "convergence after 15 epochs took 1 seconds\n",
      "max_iter reached after 13 seconds\n"
     ]
    },
    {
     "name": "stderr",
     "output_type": "stream",
     "text": [
      "/home/danich1/anaconda3/envs/annorxiver/lib/python3.7/site-packages/sklearn/linear_model/_sag.py:329: ConvergenceWarning: The max_iter was reached which means the coef_ did not converge\n"
     ]
    },
    {
     "name": "stdout",
     "output_type": "stream",
     "text": [
      "max_iter reached after 12 seconds\n"
     ]
    },
    {
     "name": "stderr",
     "output_type": "stream",
     "text": [
      "/home/danich1/anaconda3/envs/annorxiver/lib/python3.7/site-packages/sklearn/linear_model/_sag.py:329: ConvergenceWarning: The max_iter was reached which means the coef_ did not converge\n"
     ]
    },
    {
     "name": "stdout",
     "output_type": "stream",
     "text": [
      "max_iter reached after 12 seconds\n",
      "rescaling...\n",
      "rescaling...\n",
      "rescaling...\n",
      "convergence after 1 epochs took 1 seconds\n"
     ]
    },
    {
     "name": "stderr",
     "output_type": "stream",
     "text": [
      "/home/danich1/anaconda3/envs/annorxiver/lib/python3.7/site-packages/sklearn/linear_model/_sag.py:329: ConvergenceWarning: The max_iter was reached which means the coef_ did not converge\n"
     ]
    },
    {
     "name": "stdout",
     "output_type": "stream",
     "text": [
      "convergence after 15 epochs took 1 seconds\n",
      "max_iter reached after 12 seconds\n"
     ]
    },
    {
     "name": "stderr",
     "output_type": "stream",
     "text": [
      "/home/danich1/anaconda3/envs/annorxiver/lib/python3.7/site-packages/sklearn/linear_model/_sag.py:329: ConvergenceWarning: The max_iter was reached which means the coef_ did not converge\n"
     ]
    },
    {
     "name": "stdout",
     "output_type": "stream",
     "text": [
      "max_iter reached after 12 seconds\n"
     ]
    },
    {
     "name": "stderr",
     "output_type": "stream",
     "text": [
      "/home/danich1/anaconda3/envs/annorxiver/lib/python3.7/site-packages/sklearn/linear_model/_sag.py:329: ConvergenceWarning: The max_iter was reached which means the coef_ did not converge\n"
     ]
    },
    {
     "name": "stdout",
     "output_type": "stream",
     "text": [
      "max_iter reached after 12 seconds\n",
      "rescaling...\n",
      "convergence after 1 epochs took 1 seconds\n"
     ]
    },
    {
     "name": "stderr",
     "output_type": "stream",
     "text": [
      "/home/danich1/anaconda3/envs/annorxiver/lib/python3.7/site-packages/sklearn/linear_model/_sag.py:329: ConvergenceWarning: The max_iter was reached which means the coef_ did not converge\n"
     ]
    },
    {
     "name": "stdout",
     "output_type": "stream",
     "text": [
      "convergence after 15 epochs took 1 seconds\n",
      "max_iter reached after 11 seconds\n"
     ]
    },
    {
     "name": "stderr",
     "output_type": "stream",
     "text": [
      "/home/danich1/anaconda3/envs/annorxiver/lib/python3.7/site-packages/sklearn/linear_model/_sag.py:329: ConvergenceWarning: The max_iter was reached which means the coef_ did not converge\n"
     ]
    },
    {
     "name": "stdout",
     "output_type": "stream",
     "text": [
      "max_iter reached after 12 seconds\n"
     ]
    },
    {
     "name": "stderr",
     "output_type": "stream",
     "text": [
      "/home/danich1/anaconda3/envs/annorxiver/lib/python3.7/site-packages/sklearn/linear_model/_sag.py:329: ConvergenceWarning: The max_iter was reached which means the coef_ did not converge\n"
     ]
    },
    {
     "name": "stdout",
     "output_type": "stream",
     "text": [
      "max_iter reached after 13 seconds\n",
      "rescaling...\n",
      "rescaling...\n",
      "rescaling...\n",
      "rescaling...\n",
      "rescaling...\n",
      "rescaling...\n",
      "rescaling...\n"
     ]
    },
    {
     "name": "stderr",
     "output_type": "stream",
     "text": [
      "/home/danich1/anaconda3/envs/annorxiver/lib/python3.7/site-packages/sklearn/linear_model/_sag.py:329: ConvergenceWarning: The max_iter was reached which means the coef_ did not converge\n"
     ]
    },
    {
     "name": "stdout",
     "output_type": "stream",
     "text": [
      "rescaling...\n",
      "rescaling...\n",
      "rescaling...\n",
      "rescaling...\n",
      "rescaling...\n",
      "rescaling...\n",
      "rescaling...\n",
      "rescaling...\n",
      "rescaling...\n",
      "rescaling...\n",
      "rescaling...\n",
      "rescaling...\n",
      "rescaling...\n",
      "rescaling...\n",
      "rescaling...\n",
      "rescaling...\n",
      "rescaling...\n",
      "rescaling...\n",
      "rescaling...\n",
      "rescaling...\n",
      "rescaling...\n",
      "rescaling...\n",
      "rescaling...\n",
      "rescaling...\n",
      "rescaling...\n",
      "rescaling...\n",
      "rescaling...\n",
      "rescaling...\n",
      "rescaling...\n",
      "rescaling...\n",
      "rescaling...\n",
      "rescaling...\n",
      "rescaling...\n",
      "rescaling...\n",
      "rescaling...\n",
      "rescaling...\n",
      "rescaling...\n",
      "rescaling...\n",
      "rescaling...\n",
      "rescaling...\n",
      "rescaling...\n",
      "rescaling...\n",
      "rescaling...\n",
      "rescaling...\n",
      "rescaling...\n",
      "rescaling...\n",
      "rescaling...\n",
      "rescaling...\n",
      "rescaling...\n",
      "rescaling...\n",
      "rescaling...\n",
      "rescaling...\n",
      "rescaling...\n",
      "rescaling...\n",
      "rescaling...\n",
      "rescaling...\n",
      "rescaling...\n",
      "rescaling...\n",
      "rescaling...\n",
      "rescaling...\n",
      "rescaling...\n",
      "rescaling...\n",
      "rescaling...\n",
      "rescaling...\n",
      "rescaling...\n",
      "rescaling...\n",
      "rescaling...\n",
      "rescaling...\n",
      "rescaling...\n",
      "rescaling...\n",
      "rescaling...\n",
      "convergence after 13 epochs took 1 seconds\n",
      "convergence after 15 epochs took 2 seconds\n",
      "max_iter reached after 12 seconds\n"
     ]
    },
    {
     "name": "stderr",
     "output_type": "stream",
     "text": [
      "/home/danich1/anaconda3/envs/annorxiver/lib/python3.7/site-packages/sklearn/linear_model/_sag.py:329: ConvergenceWarning: The max_iter was reached which means the coef_ did not converge\n"
     ]
    },
    {
     "name": "stdout",
     "output_type": "stream",
     "text": [
      "max_iter reached after 13 seconds\n"
     ]
    },
    {
     "name": "stderr",
     "output_type": "stream",
     "text": [
      "/home/danich1/anaconda3/envs/annorxiver/lib/python3.7/site-packages/sklearn/linear_model/_sag.py:329: ConvergenceWarning: The max_iter was reached which means the coef_ did not converge\n"
     ]
    },
    {
     "name": "stdout",
     "output_type": "stream",
     "text": [
      "max_iter reached after 13 seconds\n",
      "rescaling...\n",
      "rescaling...\n",
      "rescaling...\n",
      "convergence after 1 epochs took 0 seconds\n"
     ]
    },
    {
     "name": "stderr",
     "output_type": "stream",
     "text": [
      "/home/danich1/anaconda3/envs/annorxiver/lib/python3.7/site-packages/sklearn/linear_model/_sag.py:329: ConvergenceWarning: The max_iter was reached which means the coef_ did not converge\n"
     ]
    },
    {
     "name": "stdout",
     "output_type": "stream",
     "text": [
      "convergence after 15 epochs took 2 seconds\n",
      "max_iter reached after 12 seconds\n"
     ]
    },
    {
     "name": "stderr",
     "output_type": "stream",
     "text": [
      "/home/danich1/anaconda3/envs/annorxiver/lib/python3.7/site-packages/sklearn/linear_model/_sag.py:329: ConvergenceWarning: The max_iter was reached which means the coef_ did not converge\n"
     ]
    },
    {
     "name": "stdout",
     "output_type": "stream",
     "text": [
      "max_iter reached after 13 seconds\n"
     ]
    },
    {
     "name": "stderr",
     "output_type": "stream",
     "text": [
      "/home/danich1/anaconda3/envs/annorxiver/lib/python3.7/site-packages/sklearn/linear_model/_sag.py:329: ConvergenceWarning: The max_iter was reached which means the coef_ did not converge\n"
     ]
    },
    {
     "name": "stdout",
     "output_type": "stream",
     "text": [
      "max_iter reached after 13 seconds\n",
      "rescaling...\n",
      "convergence after 1 epochs took 0 seconds\n"
     ]
    },
    {
     "name": "stderr",
     "output_type": "stream",
     "text": [
      "/home/danich1/anaconda3/envs/annorxiver/lib/python3.7/site-packages/sklearn/linear_model/_sag.py:329: ConvergenceWarning: The max_iter was reached which means the coef_ did not converge\n"
     ]
    },
    {
     "name": "stdout",
     "output_type": "stream",
     "text": [
      "convergence after 15 epochs took 2 seconds\n",
      "max_iter reached after 11 seconds\n"
     ]
    },
    {
     "name": "stderr",
     "output_type": "stream",
     "text": [
      "/home/danich1/anaconda3/envs/annorxiver/lib/python3.7/site-packages/sklearn/linear_model/_sag.py:329: ConvergenceWarning: The max_iter was reached which means the coef_ did not converge\n"
     ]
    },
    {
     "name": "stdout",
     "output_type": "stream",
     "text": [
      "max_iter reached after 13 seconds\n"
     ]
    },
    {
     "name": "stderr",
     "output_type": "stream",
     "text": [
      "/home/danich1/anaconda3/envs/annorxiver/lib/python3.7/site-packages/sklearn/linear_model/_sag.py:329: ConvergenceWarning: The max_iter was reached which means the coef_ did not converge\n"
     ]
    },
    {
     "name": "stdout",
     "output_type": "stream",
     "text": [
      "max_iter reached after 12 seconds\n",
      "rescaling...\n",
      "rescaling...\n",
      "rescaling...\n",
      "rescaling...\n",
      "rescaling...\n",
      "rescaling...\n"
     ]
    },
    {
     "name": "stderr",
     "output_type": "stream",
     "text": [
      "/home/danich1/anaconda3/envs/annorxiver/lib/python3.7/site-packages/sklearn/linear_model/_sag.py:329: ConvergenceWarning: The max_iter was reached which means the coef_ did not converge\n"
     ]
    },
    {
     "name": "stdout",
     "output_type": "stream",
     "text": [
      "rescaling...\n",
      "rescaling...\n",
      "rescaling...\n",
      "rescaling...\n",
      "rescaling...\n",
      "rescaling...\n",
      "rescaling...\n",
      "rescaling...\n",
      "rescaling...\n",
      "rescaling...\n",
      "rescaling...\n",
      "rescaling...\n",
      "rescaling...\n",
      "rescaling...\n",
      "rescaling...\n",
      "rescaling...\n",
      "rescaling...\n",
      "rescaling...\n",
      "rescaling...\n",
      "rescaling...\n",
      "rescaling...\n",
      "rescaling...\n",
      "rescaling...\n",
      "rescaling...\n",
      "rescaling...\n",
      "rescaling...\n",
      "rescaling...\n",
      "rescaling...\n",
      "rescaling...\n",
      "rescaling...\n",
      "rescaling...\n",
      "rescaling...\n",
      "rescaling...\n",
      "rescaling...\n",
      "rescaling...\n",
      "rescaling...\n",
      "rescaling...\n",
      "rescaling...\n",
      "rescaling...\n",
      "rescaling...\n",
      "rescaling...\n",
      "rescaling...\n",
      "rescaling...\n",
      "rescaling...\n",
      "rescaling...\n",
      "rescaling...\n",
      "rescaling...\n",
      "rescaling...\n",
      "rescaling...\n",
      "rescaling...\n",
      "rescaling...\n",
      "rescaling...\n",
      "rescaling...\n",
      "rescaling...\n",
      "rescaling...\n",
      "rescaling...\n",
      "rescaling...\n",
      "rescaling...\n",
      "rescaling...\n",
      "rescaling...\n",
      "rescaling...\n",
      "rescaling...\n",
      "rescaling...\n",
      "rescaling...\n",
      "rescaling...\n",
      "rescaling...\n",
      "rescaling...\n",
      "rescaling...\n",
      "rescaling...\n",
      "rescaling...\n",
      "rescaling...\n",
      "rescaling...\n",
      "convergence after 13 epochs took 2 seconds\n",
      "convergence after 15 epochs took 2 seconds\n",
      "max_iter reached after 13 seconds\n"
     ]
    },
    {
     "name": "stderr",
     "output_type": "stream",
     "text": [
      "/home/danich1/anaconda3/envs/annorxiver/lib/python3.7/site-packages/sklearn/linear_model/_sag.py:329: ConvergenceWarning: The max_iter was reached which means the coef_ did not converge\n"
     ]
    },
    {
     "name": "stdout",
     "output_type": "stream",
     "text": [
      "max_iter reached after 12 seconds\n"
     ]
    },
    {
     "name": "stderr",
     "output_type": "stream",
     "text": [
      "/home/danich1/anaconda3/envs/annorxiver/lib/python3.7/site-packages/sklearn/linear_model/_sag.py:329: ConvergenceWarning: The max_iter was reached which means the coef_ did not converge\n"
     ]
    },
    {
     "name": "stdout",
     "output_type": "stream",
     "text": [
      "max_iter reached after 13 seconds\n",
      "rescaling...\n",
      "rescaling...\n",
      "rescaling...\n",
      "convergence after 1 epochs took 0 seconds\n"
     ]
    },
    {
     "name": "stderr",
     "output_type": "stream",
     "text": [
      "/home/danich1/anaconda3/envs/annorxiver/lib/python3.7/site-packages/sklearn/linear_model/_sag.py:329: ConvergenceWarning: The max_iter was reached which means the coef_ did not converge\n"
     ]
    },
    {
     "name": "stdout",
     "output_type": "stream",
     "text": [
      "convergence after 14 epochs took 2 seconds\n",
      "max_iter reached after 12 seconds\n"
     ]
    },
    {
     "name": "stderr",
     "output_type": "stream",
     "text": [
      "/home/danich1/anaconda3/envs/annorxiver/lib/python3.7/site-packages/sklearn/linear_model/_sag.py:329: ConvergenceWarning: The max_iter was reached which means the coef_ did not converge\n"
     ]
    },
    {
     "name": "stdout",
     "output_type": "stream",
     "text": [
      "max_iter reached after 12 seconds\n"
     ]
    },
    {
     "name": "stderr",
     "output_type": "stream",
     "text": [
      "/home/danich1/anaconda3/envs/annorxiver/lib/python3.7/site-packages/sklearn/linear_model/_sag.py:329: ConvergenceWarning: The max_iter was reached which means the coef_ did not converge\n"
     ]
    },
    {
     "name": "stdout",
     "output_type": "stream",
     "text": [
      "max_iter reached after 13 seconds\n",
      "rescaling...\n",
      "convergence after 1 epochs took 0 seconds\n"
     ]
    },
    {
     "name": "stderr",
     "output_type": "stream",
     "text": [
      "/home/danich1/anaconda3/envs/annorxiver/lib/python3.7/site-packages/sklearn/linear_model/_sag.py:329: ConvergenceWarning: The max_iter was reached which means the coef_ did not converge\n"
     ]
    },
    {
     "name": "stdout",
     "output_type": "stream",
     "text": [
      "convergence after 15 epochs took 2 seconds\n",
      "max_iter reached after 12 seconds\n"
     ]
    },
    {
     "name": "stderr",
     "output_type": "stream",
     "text": [
      "/home/danich1/anaconda3/envs/annorxiver/lib/python3.7/site-packages/sklearn/linear_model/_sag.py:329: ConvergenceWarning: The max_iter was reached which means the coef_ did not converge\n"
     ]
    },
    {
     "name": "stdout",
     "output_type": "stream",
     "text": [
      "max_iter reached after 12 seconds\n"
     ]
    },
    {
     "name": "stderr",
     "output_type": "stream",
     "text": [
      "/home/danich1/anaconda3/envs/annorxiver/lib/python3.7/site-packages/sklearn/linear_model/_sag.py:329: ConvergenceWarning: The max_iter was reached which means the coef_ did not converge\n"
     ]
    },
    {
     "name": "stdout",
     "output_type": "stream",
     "text": [
      "max_iter reached after 13 seconds\n",
      "rescaling...\n",
      "rescaling...\n",
      "rescaling...\n",
      "rescaling...\n",
      "rescaling...\n",
      "rescaling...\n"
     ]
    },
    {
     "name": "stderr",
     "output_type": "stream",
     "text": [
      "/home/danich1/anaconda3/envs/annorxiver/lib/python3.7/site-packages/sklearn/linear_model/_sag.py:329: ConvergenceWarning: The max_iter was reached which means the coef_ did not converge\n"
     ]
    },
    {
     "name": "stdout",
     "output_type": "stream",
     "text": [
      "rescaling...\n",
      "rescaling...\n",
      "rescaling...\n",
      "rescaling...\n",
      "rescaling...\n",
      "rescaling...\n",
      "rescaling...\n",
      "rescaling...\n",
      "rescaling...\n",
      "rescaling...\n",
      "rescaling...\n",
      "rescaling...\n",
      "rescaling...\n",
      "rescaling...\n",
      "rescaling...\n",
      "rescaling...\n",
      "rescaling...\n",
      "rescaling...\n",
      "rescaling...\n",
      "rescaling...\n",
      "rescaling...\n",
      "rescaling...\n",
      "rescaling...\n",
      "rescaling...\n",
      "rescaling...\n",
      "rescaling...\n",
      "rescaling...\n",
      "rescaling...\n",
      "rescaling...\n",
      "rescaling...\n",
      "rescaling...\n",
      "rescaling...\n",
      "rescaling...\n",
      "rescaling...\n",
      "rescaling...\n",
      "rescaling...\n",
      "rescaling...\n",
      "rescaling...\n",
      "rescaling...\n",
      "rescaling...\n",
      "rescaling...\n",
      "rescaling...\n",
      "rescaling...\n",
      "rescaling...\n",
      "rescaling...\n",
      "rescaling...\n",
      "rescaling...\n",
      "rescaling...\n",
      "rescaling...\n",
      "rescaling...\n",
      "rescaling...\n",
      "rescaling...\n",
      "rescaling...\n",
      "rescaling...\n",
      "rescaling...\n",
      "rescaling...\n",
      "rescaling...\n",
      "rescaling...\n",
      "rescaling...\n",
      "rescaling...\n",
      "rescaling...\n",
      "rescaling...\n",
      "rescaling...\n",
      "rescaling...\n",
      "rescaling...\n",
      "rescaling...\n",
      "rescaling...\n",
      "rescaling...\n",
      "rescaling...\n",
      "rescaling...\n",
      "rescaling...\n",
      "rescaling...\n",
      "convergence after 13 epochs took 1 seconds\n",
      "convergence after 15 epochs took 2 seconds\n",
      "max_iter reached after 13 seconds\n"
     ]
    },
    {
     "name": "stderr",
     "output_type": "stream",
     "text": [
      "/home/danich1/anaconda3/envs/annorxiver/lib/python3.7/site-packages/sklearn/linear_model/_sag.py:329: ConvergenceWarning: The max_iter was reached which means the coef_ did not converge\n"
     ]
    },
    {
     "name": "stdout",
     "output_type": "stream",
     "text": [
      "max_iter reached after 13 seconds\n"
     ]
    },
    {
     "name": "stderr",
     "output_type": "stream",
     "text": [
      "/home/danich1/anaconda3/envs/annorxiver/lib/python3.7/site-packages/sklearn/linear_model/_sag.py:329: ConvergenceWarning: The max_iter was reached which means the coef_ did not converge\n"
     ]
    },
    {
     "name": "stdout",
     "output_type": "stream",
     "text": [
      "max_iter reached after 13 seconds\n",
      "rescaling...\n",
      "rescaling...\n",
      "rescaling...\n",
      "convergence after 1 epochs took 0 seconds\n"
     ]
    },
    {
     "name": "stderr",
     "output_type": "stream",
     "text": [
      "/home/danich1/anaconda3/envs/annorxiver/lib/python3.7/site-packages/sklearn/linear_model/_sag.py:329: ConvergenceWarning: The max_iter was reached which means the coef_ did not converge\n"
     ]
    },
    {
     "name": "stdout",
     "output_type": "stream",
     "text": [
      "convergence after 14 epochs took 2 seconds\n",
      "max_iter reached after 11 seconds\n"
     ]
    },
    {
     "name": "stderr",
     "output_type": "stream",
     "text": [
      "/home/danich1/anaconda3/envs/annorxiver/lib/python3.7/site-packages/sklearn/linear_model/_sag.py:329: ConvergenceWarning: The max_iter was reached which means the coef_ did not converge\n"
     ]
    },
    {
     "name": "stdout",
     "output_type": "stream",
     "text": [
      "max_iter reached after 12 seconds\n"
     ]
    },
    {
     "name": "stderr",
     "output_type": "stream",
     "text": [
      "/home/danich1/anaconda3/envs/annorxiver/lib/python3.7/site-packages/sklearn/linear_model/_sag.py:329: ConvergenceWarning: The max_iter was reached which means the coef_ did not converge\n"
     ]
    },
    {
     "name": "stdout",
     "output_type": "stream",
     "text": [
      "max_iter reached after 13 seconds\n",
      "rescaling...\n",
      "convergence after 1 epochs took 0 seconds\n"
     ]
    },
    {
     "name": "stderr",
     "output_type": "stream",
     "text": [
      "/home/danich1/anaconda3/envs/annorxiver/lib/python3.7/site-packages/sklearn/linear_model/_sag.py:329: ConvergenceWarning: The max_iter was reached which means the coef_ did not converge\n"
     ]
    },
    {
     "name": "stdout",
     "output_type": "stream",
     "text": [
      "convergence after 15 epochs took 2 seconds\n",
      "max_iter reached after 11 seconds\n"
     ]
    },
    {
     "name": "stderr",
     "output_type": "stream",
     "text": [
      "/home/danich1/anaconda3/envs/annorxiver/lib/python3.7/site-packages/sklearn/linear_model/_sag.py:329: ConvergenceWarning: The max_iter was reached which means the coef_ did not converge\n"
     ]
    },
    {
     "name": "stdout",
     "output_type": "stream",
     "text": [
      "max_iter reached after 13 seconds\n"
     ]
    },
    {
     "name": "stderr",
     "output_type": "stream",
     "text": [
      "/home/danich1/anaconda3/envs/annorxiver/lib/python3.7/site-packages/sklearn/linear_model/_sag.py:329: ConvergenceWarning: The max_iter was reached which means the coef_ did not converge\n"
     ]
    },
    {
     "name": "stdout",
     "output_type": "stream",
     "text": [
      "max_iter reached after 13 seconds\n",
      "rescaling...\n",
      "rescaling...\n",
      "rescaling...\n",
      "rescaling...\n",
      "rescaling...\n",
      "rescaling...\n"
     ]
    },
    {
     "name": "stderr",
     "output_type": "stream",
     "text": [
      "/home/danich1/anaconda3/envs/annorxiver/lib/python3.7/site-packages/sklearn/linear_model/_sag.py:329: ConvergenceWarning: The max_iter was reached which means the coef_ did not converge\n"
     ]
    },
    {
     "name": "stdout",
     "output_type": "stream",
     "text": [
      "rescaling...\n",
      "rescaling...\n",
      "rescaling...\n",
      "rescaling...\n",
      "rescaling...\n",
      "rescaling...\n",
      "rescaling...\n",
      "rescaling...\n",
      "rescaling...\n",
      "rescaling...\n",
      "rescaling...\n",
      "rescaling...\n",
      "rescaling...\n",
      "rescaling...\n",
      "rescaling...\n",
      "rescaling...\n",
      "rescaling...\n",
      "rescaling...\n",
      "rescaling...\n",
      "rescaling...\n",
      "rescaling...\n",
      "rescaling...\n",
      "rescaling...\n",
      "rescaling...\n",
      "rescaling...\n",
      "rescaling...\n",
      "rescaling...\n",
      "rescaling...\n",
      "rescaling...\n",
      "rescaling...\n",
      "rescaling...\n",
      "rescaling...\n",
      "rescaling...\n",
      "rescaling...\n",
      "rescaling...\n",
      "rescaling...\n",
      "rescaling...\n",
      "rescaling...\n",
      "rescaling...\n",
      "rescaling...\n",
      "rescaling...\n",
      "rescaling...\n",
      "rescaling...\n",
      "rescaling...\n",
      "rescaling...\n",
      "rescaling...\n",
      "rescaling...\n",
      "rescaling...\n",
      "rescaling...\n",
      "rescaling...\n",
      "rescaling...\n",
      "rescaling...\n",
      "rescaling...\n",
      "rescaling...\n",
      "rescaling...\n",
      "rescaling...\n",
      "rescaling...\n",
      "rescaling...\n",
      "rescaling...\n",
      "rescaling...\n",
      "rescaling...\n",
      "rescaling...\n",
      "rescaling...\n",
      "rescaling...\n",
      "rescaling...\n",
      "rescaling...\n",
      "rescaling...\n",
      "rescaling...\n",
      "rescaling...\n",
      "rescaling...\n",
      "rescaling...\n",
      "rescaling...\n",
      "rescaling...\n",
      "rescaling...\n",
      "rescaling...\n",
      "rescaling...\n",
      "rescaling...\n",
      "rescaling...\n",
      "rescaling...\n",
      "rescaling...\n",
      "rescaling...\n",
      "rescaling...\n",
      "rescaling...\n",
      "rescaling...\n",
      "rescaling...\n",
      "rescaling...\n",
      "rescaling...\n",
      "rescaling...\n",
      "rescaling...\n",
      "rescaling...\n",
      "convergence after 16 epochs took 2 seconds\n",
      "convergence after 15 epochs took 2 seconds\n",
      "max_iter reached after 12 seconds\n"
     ]
    },
    {
     "name": "stderr",
     "output_type": "stream",
     "text": [
      "/home/danich1/anaconda3/envs/annorxiver/lib/python3.7/site-packages/sklearn/linear_model/_sag.py:329: ConvergenceWarning: The max_iter was reached which means the coef_ did not converge\n"
     ]
    },
    {
     "name": "stdout",
     "output_type": "stream",
     "text": [
      "max_iter reached after 13 seconds\n"
     ]
    },
    {
     "name": "stderr",
     "output_type": "stream",
     "text": [
      "/home/danich1/anaconda3/envs/annorxiver/lib/python3.7/site-packages/sklearn/linear_model/_sag.py:329: ConvergenceWarning: The max_iter was reached which means the coef_ did not converge\n"
     ]
    },
    {
     "name": "stdout",
     "output_type": "stream",
     "text": [
      "max_iter reached after 12 seconds\n",
      "rescaling...\n",
      "rescaling...\n",
      "rescaling...\n",
      "convergence after 1 epochs took 1 seconds\n"
     ]
    },
    {
     "name": "stderr",
     "output_type": "stream",
     "text": [
      "/home/danich1/anaconda3/envs/annorxiver/lib/python3.7/site-packages/sklearn/linear_model/_sag.py:329: ConvergenceWarning: The max_iter was reached which means the coef_ did not converge\n"
     ]
    },
    {
     "name": "stdout",
     "output_type": "stream",
     "text": [
      "convergence after 15 epochs took 1 seconds\n",
      "max_iter reached after 12 seconds\n"
     ]
    },
    {
     "name": "stderr",
     "output_type": "stream",
     "text": [
      "/home/danich1/anaconda3/envs/annorxiver/lib/python3.7/site-packages/sklearn/linear_model/_sag.py:329: ConvergenceWarning: The max_iter was reached which means the coef_ did not converge\n"
     ]
    },
    {
     "name": "stdout",
     "output_type": "stream",
     "text": [
      "max_iter reached after 13 seconds\n"
     ]
    },
    {
     "name": "stderr",
     "output_type": "stream",
     "text": [
      "/home/danich1/anaconda3/envs/annorxiver/lib/python3.7/site-packages/sklearn/linear_model/_sag.py:329: ConvergenceWarning: The max_iter was reached which means the coef_ did not converge\n"
     ]
    },
    {
     "name": "stdout",
     "output_type": "stream",
     "text": [
      "max_iter reached after 12 seconds\n",
      "rescaling...\n",
      "convergence after 1 epochs took 0 seconds\n"
     ]
    },
    {
     "name": "stderr",
     "output_type": "stream",
     "text": [
      "/home/danich1/anaconda3/envs/annorxiver/lib/python3.7/site-packages/sklearn/linear_model/_sag.py:329: ConvergenceWarning: The max_iter was reached which means the coef_ did not converge\n"
     ]
    },
    {
     "name": "stdout",
     "output_type": "stream",
     "text": [
      "convergence after 15 epochs took 2 seconds\n",
      "max_iter reached after 12 seconds\n"
     ]
    },
    {
     "name": "stderr",
     "output_type": "stream",
     "text": [
      "/home/danich1/anaconda3/envs/annorxiver/lib/python3.7/site-packages/sklearn/linear_model/_sag.py:329: ConvergenceWarning: The max_iter was reached which means the coef_ did not converge\n"
     ]
    },
    {
     "name": "stdout",
     "output_type": "stream",
     "text": [
      "max_iter reached after 12 seconds\n"
     ]
    },
    {
     "name": "stderr",
     "output_type": "stream",
     "text": [
      "/home/danich1/anaconda3/envs/annorxiver/lib/python3.7/site-packages/sklearn/linear_model/_sag.py:329: ConvergenceWarning: The max_iter was reached which means the coef_ did not converge\n"
     ]
    },
    {
     "name": "stdout",
     "output_type": "stream",
     "text": [
      "max_iter reached after 12 seconds\n",
      "rescaling...\n",
      "rescaling...\n",
      "rescaling...\n",
      "rescaling...\n",
      "rescaling...\n",
      "rescaling...\n"
     ]
    },
    {
     "name": "stderr",
     "output_type": "stream",
     "text": [
      "/home/danich1/anaconda3/envs/annorxiver/lib/python3.7/site-packages/sklearn/linear_model/_sag.py:329: ConvergenceWarning: The max_iter was reached which means the coef_ did not converge\n"
     ]
    },
    {
     "name": "stdout",
     "output_type": "stream",
     "text": [
      "rescaling...\n",
      "rescaling...\n",
      "rescaling...\n",
      "rescaling...\n",
      "rescaling...\n",
      "rescaling...\n",
      "rescaling...\n",
      "rescaling...\n",
      "rescaling...\n",
      "rescaling...\n",
      "rescaling...\n",
      "rescaling...\n",
      "rescaling...\n",
      "rescaling...\n",
      "rescaling...\n",
      "rescaling...\n",
      "rescaling...\n",
      "rescaling...\n",
      "rescaling...\n",
      "rescaling...\n",
      "rescaling...\n",
      "rescaling...\n",
      "rescaling...\n",
      "rescaling...\n",
      "rescaling...\n",
      "rescaling...\n",
      "rescaling...\n",
      "rescaling...\n",
      "rescaling...\n",
      "rescaling...\n",
      "rescaling...\n",
      "rescaling...\n",
      "rescaling...\n",
      "rescaling...\n",
      "rescaling...\n",
      "rescaling...\n",
      "rescaling...\n",
      "rescaling...\n",
      "rescaling...\n",
      "rescaling...\n",
      "rescaling...\n",
      "rescaling...\n",
      "rescaling...\n",
      "rescaling...\n",
      "rescaling...\n",
      "rescaling...\n",
      "rescaling...\n",
      "rescaling...\n",
      "rescaling...\n",
      "rescaling...\n",
      "rescaling...\n",
      "rescaling...\n",
      "rescaling...\n",
      "rescaling...\n",
      "rescaling...\n",
      "rescaling...\n",
      "rescaling...\n",
      "rescaling...\n",
      "rescaling...\n",
      "rescaling...\n",
      "rescaling...\n",
      "rescaling...\n",
      "rescaling...\n",
      "rescaling...\n",
      "rescaling...\n",
      "rescaling...\n",
      "rescaling...\n",
      "rescaling...\n",
      "rescaling...\n",
      "rescaling...\n",
      "rescaling...\n",
      "rescaling...\n",
      "rescaling...\n",
      "rescaling...\n",
      "rescaling...\n",
      "rescaling...\n",
      "rescaling...\n",
      "rescaling...\n",
      "rescaling...\n",
      "rescaling...\n",
      "rescaling...\n",
      "rescaling...\n",
      "rescaling...\n",
      "rescaling...\n",
      "rescaling...\n",
      "rescaling...\n",
      "rescaling...\n",
      "rescaling...\n",
      "rescaling...\n",
      "rescaling...\n",
      "convergence after 16 epochs took 1 seconds\n",
      "convergence after 15 epochs took 2 seconds\n",
      "max_iter reached after 13 seconds\n"
     ]
    },
    {
     "name": "stderr",
     "output_type": "stream",
     "text": [
      "/home/danich1/anaconda3/envs/annorxiver/lib/python3.7/site-packages/sklearn/linear_model/_sag.py:329: ConvergenceWarning: The max_iter was reached which means the coef_ did not converge\n"
     ]
    },
    {
     "name": "stdout",
     "output_type": "stream",
     "text": [
      "max_iter reached after 13 seconds\n"
     ]
    },
    {
     "name": "stderr",
     "output_type": "stream",
     "text": [
      "/home/danich1/anaconda3/envs/annorxiver/lib/python3.7/site-packages/sklearn/linear_model/_sag.py:329: ConvergenceWarning: The max_iter was reached which means the coef_ did not converge\n"
     ]
    },
    {
     "name": "stdout",
     "output_type": "stream",
     "text": [
      "max_iter reached after 13 seconds\n",
      "rescaling...\n",
      "rescaling...\n",
      "rescaling...\n",
      "convergence after 1 epochs took 0 seconds\n"
     ]
    },
    {
     "name": "stderr",
     "output_type": "stream",
     "text": [
      "/home/danich1/anaconda3/envs/annorxiver/lib/python3.7/site-packages/sklearn/linear_model/_sag.py:329: ConvergenceWarning: The max_iter was reached which means the coef_ did not converge\n"
     ]
    },
    {
     "name": "stdout",
     "output_type": "stream",
     "text": [
      "convergence after 14 epochs took 2 seconds\n",
      "max_iter reached after 12 seconds\n"
     ]
    },
    {
     "name": "stderr",
     "output_type": "stream",
     "text": [
      "/home/danich1/anaconda3/envs/annorxiver/lib/python3.7/site-packages/sklearn/linear_model/_sag.py:329: ConvergenceWarning: The max_iter was reached which means the coef_ did not converge\n"
     ]
    },
    {
     "name": "stdout",
     "output_type": "stream",
     "text": [
      "max_iter reached after 13 seconds\n"
     ]
    },
    {
     "name": "stderr",
     "output_type": "stream",
     "text": [
      "/home/danich1/anaconda3/envs/annorxiver/lib/python3.7/site-packages/sklearn/linear_model/_sag.py:329: ConvergenceWarning: The max_iter was reached which means the coef_ did not converge\n"
     ]
    },
    {
     "name": "stdout",
     "output_type": "stream",
     "text": [
      "max_iter reached after 13 seconds\n",
      "rescaling...\n",
      "convergence after 1 epochs took 0 seconds\n"
     ]
    },
    {
     "name": "stderr",
     "output_type": "stream",
     "text": [
      "/home/danich1/anaconda3/envs/annorxiver/lib/python3.7/site-packages/sklearn/linear_model/_sag.py:329: ConvergenceWarning: The max_iter was reached which means the coef_ did not converge\n"
     ]
    },
    {
     "name": "stdout",
     "output_type": "stream",
     "text": [
      "convergence after 14 epochs took 2 seconds\n",
      "max_iter reached after 11 seconds\n"
     ]
    },
    {
     "name": "stderr",
     "output_type": "stream",
     "text": [
      "/home/danich1/anaconda3/envs/annorxiver/lib/python3.7/site-packages/sklearn/linear_model/_sag.py:329: ConvergenceWarning: The max_iter was reached which means the coef_ did not converge\n"
     ]
    },
    {
     "name": "stdout",
     "output_type": "stream",
     "text": [
      "max_iter reached after 13 seconds\n"
     ]
    },
    {
     "name": "stderr",
     "output_type": "stream",
     "text": [
      "/home/danich1/anaconda3/envs/annorxiver/lib/python3.7/site-packages/sklearn/linear_model/_sag.py:329: ConvergenceWarning: The max_iter was reached which means the coef_ did not converge\n"
     ]
    },
    {
     "name": "stdout",
     "output_type": "stream",
     "text": [
      "max_iter reached after 13 seconds\n",
      "rescaling...\n",
      "rescaling...\n",
      "rescaling...\n",
      "rescaling...\n",
      "rescaling...\n",
      "rescaling...\n"
     ]
    },
    {
     "name": "stderr",
     "output_type": "stream",
     "text": [
      "/home/danich1/anaconda3/envs/annorxiver/lib/python3.7/site-packages/sklearn/linear_model/_sag.py:329: ConvergenceWarning: The max_iter was reached which means the coef_ did not converge\n"
     ]
    },
    {
     "name": "stdout",
     "output_type": "stream",
     "text": [
      "rescaling...\n",
      "rescaling...\n",
      "rescaling...\n",
      "rescaling...\n",
      "rescaling...\n",
      "rescaling...\n",
      "rescaling...\n",
      "rescaling...\n",
      "rescaling...\n",
      "rescaling...\n",
      "rescaling...\n",
      "rescaling...\n",
      "rescaling...\n",
      "rescaling...\n",
      "rescaling...\n",
      "rescaling...\n",
      "rescaling...\n",
      "rescaling...\n",
      "rescaling...\n",
      "rescaling...\n",
      "rescaling...\n",
      "rescaling...\n",
      "rescaling...\n",
      "rescaling...\n",
      "rescaling...\n",
      "rescaling...\n",
      "rescaling...\n",
      "rescaling...\n",
      "rescaling...\n",
      "rescaling...\n",
      "rescaling...\n",
      "rescaling...\n",
      "rescaling...\n",
      "rescaling...\n",
      "rescaling...\n",
      "rescaling...\n",
      "rescaling...\n",
      "rescaling...\n",
      "rescaling...\n",
      "rescaling...\n",
      "rescaling...\n",
      "rescaling...\n",
      "rescaling...\n",
      "rescaling...\n",
      "rescaling...\n",
      "rescaling...\n",
      "rescaling...\n",
      "rescaling...\n",
      "rescaling...\n",
      "rescaling...\n",
      "rescaling...\n",
      "rescaling...\n",
      "rescaling...\n",
      "rescaling...\n",
      "rescaling...\n",
      "rescaling...\n",
      "rescaling...\n",
      "rescaling...\n",
      "rescaling...\n",
      "rescaling...\n",
      "rescaling...\n",
      "rescaling...\n",
      "rescaling...\n",
      "rescaling...\n",
      "rescaling...\n",
      "rescaling...\n",
      "rescaling...\n",
      "rescaling...\n",
      "rescaling...\n",
      "rescaling...\n",
      "rescaling...\n",
      "rescaling...\n",
      "rescaling...\n",
      "rescaling...\n",
      "rescaling...\n",
      "rescaling...\n",
      "rescaling...\n",
      "rescaling...\n",
      "rescaling...\n",
      "rescaling...\n",
      "rescaling...\n",
      "rescaling...\n",
      "rescaling...\n",
      "rescaling...\n",
      "rescaling...\n",
      "rescaling...\n",
      "rescaling...\n",
      "rescaling...\n",
      "rescaling...\n",
      "rescaling...\n",
      "convergence after 16 epochs took 2 seconds\n",
      "convergence after 15 epochs took 2 seconds\n",
      "max_iter reached after 14 seconds\n"
     ]
    },
    {
     "name": "stderr",
     "output_type": "stream",
     "text": [
      "/home/danich1/anaconda3/envs/annorxiver/lib/python3.7/site-packages/sklearn/linear_model/_sag.py:329: ConvergenceWarning: The max_iter was reached which means the coef_ did not converge\n"
     ]
    },
    {
     "name": "stdout",
     "output_type": "stream",
     "text": [
      "max_iter reached after 16 seconds\n"
     ]
    },
    {
     "name": "stderr",
     "output_type": "stream",
     "text": [
      "/home/danich1/anaconda3/envs/annorxiver/lib/python3.7/site-packages/sklearn/linear_model/_sag.py:329: ConvergenceWarning: The max_iter was reached which means the coef_ did not converge\n"
     ]
    },
    {
     "name": "stdout",
     "output_type": "stream",
     "text": [
      "max_iter reached after 15 seconds\n",
      "rescaling...\n",
      "rescaling...\n",
      "rescaling...\n",
      "convergence after 1 epochs took 0 seconds\n"
     ]
    },
    {
     "name": "stderr",
     "output_type": "stream",
     "text": [
      "/home/danich1/anaconda3/envs/annorxiver/lib/python3.7/site-packages/sklearn/linear_model/_sag.py:329: ConvergenceWarning: The max_iter was reached which means the coef_ did not converge\n"
     ]
    },
    {
     "name": "stdout",
     "output_type": "stream",
     "text": [
      "convergence after 15 epochs took 2 seconds\n",
      "max_iter reached after 14 seconds\n"
     ]
    },
    {
     "name": "stderr",
     "output_type": "stream",
     "text": [
      "/home/danich1/anaconda3/envs/annorxiver/lib/python3.7/site-packages/sklearn/linear_model/_sag.py:329: ConvergenceWarning: The max_iter was reached which means the coef_ did not converge\n"
     ]
    },
    {
     "name": "stdout",
     "output_type": "stream",
     "text": [
      "max_iter reached after 15 seconds\n"
     ]
    },
    {
     "name": "stderr",
     "output_type": "stream",
     "text": [
      "/home/danich1/anaconda3/envs/annorxiver/lib/python3.7/site-packages/sklearn/linear_model/_sag.py:329: ConvergenceWarning: The max_iter was reached which means the coef_ did not converge\n"
     ]
    },
    {
     "name": "stdout",
     "output_type": "stream",
     "text": [
      "max_iter reached after 15 seconds\n"
     ]
    },
    {
     "name": "stderr",
     "output_type": "stream",
     "text": [
      "/home/danich1/anaconda3/envs/annorxiver/lib/python3.7/site-packages/sklearn/linear_model/_sag.py:329: ConvergenceWarning: The max_iter was reached which means the coef_ did not converge\n"
     ]
    },
    {
     "name": "stdout",
     "output_type": "stream",
     "text": [
      "rescaling...\n",
      "convergence after 1 epochs took 0 seconds\n",
      "convergence after 15 epochs took 2 seconds\n",
      "max_iter reached after 14 seconds\n"
     ]
    },
    {
     "name": "stderr",
     "output_type": "stream",
     "text": [
      "/home/danich1/anaconda3/envs/annorxiver/lib/python3.7/site-packages/sklearn/linear_model/_sag.py:329: ConvergenceWarning: The max_iter was reached which means the coef_ did not converge\n"
     ]
    },
    {
     "name": "stdout",
     "output_type": "stream",
     "text": [
      "max_iter reached after 14 seconds\n"
     ]
    },
    {
     "name": "stderr",
     "output_type": "stream",
     "text": [
      "/home/danich1/anaconda3/envs/annorxiver/lib/python3.7/site-packages/sklearn/linear_model/_sag.py:329: ConvergenceWarning: The max_iter was reached which means the coef_ did not converge\n"
     ]
    },
    {
     "name": "stdout",
     "output_type": "stream",
     "text": [
      "max_iter reached after 15 seconds\n"
     ]
    },
    {
     "name": "stderr",
     "output_type": "stream",
     "text": [
      "/home/danich1/anaconda3/envs/annorxiver/lib/python3.7/site-packages/sklearn/linear_model/_sag.py:329: ConvergenceWarning: The max_iter was reached which means the coef_ did not converge\n",
      "[Parallel(n_jobs=1)]: Done  30 out of  30 | elapsed: 20.1min finished\n"
     ]
    }
   ],
   "source": [
    "fit_model = model.fit(\n",
    "    training_dataset.sample(frac=1, random_state=100).drop(\"true_link\", axis=1),\n",
    "    training_dataset.sample(frac=1, random_state=100).true_link,\n",
    ")"
   ]
  },
  {
   "cell_type": "code",
   "execution_count": 26,
   "metadata": {
    "ExecuteTime": {
     "end_time": "2021-04-21T03:16:41.015085Z",
     "start_time": "2021-04-21T03:16:41.009703Z"
    }
   },
   "outputs": [
    {
     "data": {
      "text/plain": [
       "{1: array([[[0.77919444, 0.50014489, 0.50014489],\n",
       "         [0.88351203, 0.86554622, 0.85627354],\n",
       "         [0.92031295, 0.92089249, 0.92234135],\n",
       "         [0.92263112, 0.92234135, 0.92234135],\n",
       "         [0.92234135, 0.92234135, 0.92263112]],\n",
       " \n",
       "        [[0.77832512, 0.50014489, 0.50014489],\n",
       "         [0.87684729, 0.86641553, 0.85830194],\n",
       "         [0.92205158, 0.92263112, 0.92263112],\n",
       "         [0.92263112, 0.92234135, 0.92234135],\n",
       "         [0.92321066, 0.92321066, 0.92321066]],\n",
       " \n",
       "        [[0.78585917, 0.50014489, 0.50014489],\n",
       "         [0.88061431, 0.8707621 , 0.86380759],\n",
       "         [0.9168357 , 0.91625616, 0.91654593],\n",
       "         [0.9188641 , 0.9188641 , 0.9188641 ],\n",
       "         [0.9188641 , 0.9188641 , 0.9188641 ]],\n",
       " \n",
       "        [[0.7715942 , 0.50028986, 0.50028986],\n",
       "         [0.88637681, 0.87391304, 0.86550725],\n",
       "         [0.92492754, 0.92463768, 0.92550725],\n",
       "         [0.92405797, 0.92434783, 0.92405797],\n",
       "         [0.92463768, 0.92463768, 0.92463768]],\n",
       " \n",
       "        [[0.77623188, 0.5       , 0.5       ],\n",
       "         [0.88463768, 0.8715942 , 0.86550725],\n",
       "         [0.92492754, 0.92724638, 0.92695652],\n",
       "         [0.92405797, 0.92405797, 0.92376812],\n",
       "         [0.92289855, 0.92289855, 0.92289855]],\n",
       " \n",
       "        [[0.77246377, 0.5       , 0.5       ],\n",
       "         [0.87942029, 0.86637681, 0.85913043],\n",
       "         [0.92898551, 0.92753623, 0.92637681],\n",
       "         [0.92376812, 0.92376812, 0.92347826],\n",
       "         [0.92434783, 0.92434783, 0.92434783]],\n",
       " \n",
       "        [[0.77942029, 0.5       , 0.5       ],\n",
       "         [0.87623188, 0.86492754, 0.85623188],\n",
       "         [0.92637681, 0.92666667, 0.92666667],\n",
       "         [0.92869565, 0.92811594, 0.92782609],\n",
       "         [0.92753623, 0.92753623, 0.92753623]],\n",
       " \n",
       "        [[0.76927536, 0.5       , 0.5       ],\n",
       "         [0.87826087, 0.86608696, 0.85913043],\n",
       "         [0.9226087 , 0.92202899, 0.92231884],\n",
       "         [0.92086957, 0.92086957, 0.92057971],\n",
       "         [0.92028986, 0.92057971, 0.92057971]],\n",
       " \n",
       "        [[0.77072464, 0.5       , 0.5       ],\n",
       "         [0.88376812, 0.87014493, 0.86463768],\n",
       "         [0.92811594, 0.9284058 , 0.92811594],\n",
       "         [0.9284058 , 0.92869565, 0.92869565],\n",
       "         [0.9284058 , 0.92869565, 0.9284058 ]],\n",
       " \n",
       "        [[0.77971014, 0.5       , 0.5       ],\n",
       "         [0.88695652, 0.87333333, 0.86637681],\n",
       "         [0.92347826, 0.9257971 , 0.9257971 ],\n",
       "         [0.92637681, 0.92608696, 0.92608696],\n",
       "         [0.92608696, 0.92608696, 0.9257971 ]]])}"
      ]
     },
     "execution_count": 26,
     "metadata": {},
     "output_type": "execute_result"
    }
   ],
   "source": [
    "fit_model.scores_"
   ]
  },
  {
   "cell_type": "code",
   "execution_count": 27,
   "metadata": {
    "ExecuteTime": {
     "end_time": "2021-04-21T03:16:41.037958Z",
     "start_time": "2021-04-21T03:16:41.016680Z"
    }
   },
   "outputs": [],
   "source": [
    "pickle.dump(fit_model, open(\"output/optimized_model.pkl\", \"wb\"))"
   ]
  },
  {
   "cell_type": "markdown",
   "metadata": {},
   "source": [
    "# Find bioRxiv unpublished ->  published PMC articles"
   ]
  },
  {
   "cell_type": "code",
   "execution_count": 28,
   "metadata": {
    "ExecuteTime": {
     "end_time": "2021-04-21T03:16:41.126196Z",
     "start_time": "2021-04-21T03:16:41.039403Z"
    }
   },
   "outputs": [
    {
     "name": "stdout",
     "output_type": "stream",
     "text": [
      "(39724, 301)\n"
     ]
    },
    {
     "data": {
      "text/html": [
       "<div>\n",
       "<style scoped>\n",
       "    .dataframe tbody tr th:only-of-type {\n",
       "        vertical-align: middle;\n",
       "    }\n",
       "\n",
       "    .dataframe tbody tr th {\n",
       "        vertical-align: top;\n",
       "    }\n",
       "\n",
       "    .dataframe thead th {\n",
       "        text-align: right;\n",
       "    }\n",
       "</style>\n",
       "<table border=\"1\" class=\"dataframe\">\n",
       "  <thead>\n",
       "    <tr style=\"text-align: right;\">\n",
       "      <th></th>\n",
       "      <th>document</th>\n",
       "      <th>feat_0</th>\n",
       "      <th>feat_1</th>\n",
       "      <th>feat_2</th>\n",
       "      <th>feat_3</th>\n",
       "      <th>feat_4</th>\n",
       "      <th>feat_5</th>\n",
       "      <th>feat_6</th>\n",
       "      <th>feat_7</th>\n",
       "      <th>feat_8</th>\n",
       "      <th>...</th>\n",
       "      <th>feat_290</th>\n",
       "      <th>feat_291</th>\n",
       "      <th>feat_292</th>\n",
       "      <th>feat_293</th>\n",
       "      <th>feat_294</th>\n",
       "      <th>feat_295</th>\n",
       "      <th>feat_296</th>\n",
       "      <th>feat_297</th>\n",
       "      <th>feat_298</th>\n",
       "      <th>feat_299</th>\n",
       "    </tr>\n",
       "  </thead>\n",
       "  <tbody>\n",
       "    <tr>\n",
       "      <th>3</th>\n",
       "      <td>000091_v1.xml</td>\n",
       "      <td>-0.132056</td>\n",
       "      <td>0.118364</td>\n",
       "      <td>-0.273165</td>\n",
       "      <td>0.298218</td>\n",
       "      <td>0.292788</td>\n",
       "      <td>-0.637130</td>\n",
       "      <td>-0.468698</td>\n",
       "      <td>0.022352</td>\n",
       "      <td>0.752860</td>\n",
       "      <td>...</td>\n",
       "      <td>0.300299</td>\n",
       "      <td>-0.441953</td>\n",
       "      <td>0.544878</td>\n",
       "      <td>-0.001271</td>\n",
       "      <td>-0.353551</td>\n",
       "      <td>-0.701067</td>\n",
       "      <td>0.296414</td>\n",
       "      <td>0.717840</td>\n",
       "      <td>-0.679277</td>\n",
       "      <td>0.032921</td>\n",
       "    </tr>\n",
       "    <tr>\n",
       "      <th>9</th>\n",
       "      <td>000216_v1.xml</td>\n",
       "      <td>-0.254542</td>\n",
       "      <td>-0.104913</td>\n",
       "      <td>0.152029</td>\n",
       "      <td>0.120537</td>\n",
       "      <td>-0.464280</td>\n",
       "      <td>-0.747288</td>\n",
       "      <td>0.029983</td>\n",
       "      <td>0.422532</td>\n",
       "      <td>0.521797</td>\n",
       "      <td>...</td>\n",
       "      <td>-0.268051</td>\n",
       "      <td>-0.323413</td>\n",
       "      <td>0.011982</td>\n",
       "      <td>-0.273409</td>\n",
       "      <td>-0.454082</td>\n",
       "      <td>-0.092025</td>\n",
       "      <td>0.400583</td>\n",
       "      <td>0.575322</td>\n",
       "      <td>-0.299792</td>\n",
       "      <td>0.379381</td>\n",
       "    </tr>\n",
       "    <tr>\n",
       "      <th>11</th>\n",
       "      <td>000240_v1.xml</td>\n",
       "      <td>-0.016990</td>\n",
       "      <td>0.278347</td>\n",
       "      <td>-0.137840</td>\n",
       "      <td>-0.044657</td>\n",
       "      <td>-0.269439</td>\n",
       "      <td>-0.168711</td>\n",
       "      <td>0.108513</td>\n",
       "      <td>0.099131</td>\n",
       "      <td>0.377821</td>\n",
       "      <td>...</td>\n",
       "      <td>0.216756</td>\n",
       "      <td>0.220975</td>\n",
       "      <td>0.291761</td>\n",
       "      <td>-0.219856</td>\n",
       "      <td>-0.759438</td>\n",
       "      <td>-0.493763</td>\n",
       "      <td>0.189564</td>\n",
       "      <td>0.729620</td>\n",
       "      <td>-0.509454</td>\n",
       "      <td>0.251340</td>\n",
       "    </tr>\n",
       "    <tr>\n",
       "      <th>16</th>\n",
       "      <td>000349_v1.xml</td>\n",
       "      <td>-0.357497</td>\n",
       "      <td>-0.043181</td>\n",
       "      <td>-0.289313</td>\n",
       "      <td>0.093221</td>\n",
       "      <td>0.193509</td>\n",
       "      <td>-0.203038</td>\n",
       "      <td>-0.280233</td>\n",
       "      <td>-0.160483</td>\n",
       "      <td>0.570345</td>\n",
       "      <td>...</td>\n",
       "      <td>0.068700</td>\n",
       "      <td>-0.021469</td>\n",
       "      <td>0.292037</td>\n",
       "      <td>0.214672</td>\n",
       "      <td>-0.753823</td>\n",
       "      <td>-0.404482</td>\n",
       "      <td>0.389089</td>\n",
       "      <td>1.061702</td>\n",
       "      <td>-0.399143</td>\n",
       "      <td>0.060568</td>\n",
       "    </tr>\n",
       "    <tr>\n",
       "      <th>17</th>\n",
       "      <td>000364_v1.xml</td>\n",
       "      <td>-0.363903</td>\n",
       "      <td>-0.183077</td>\n",
       "      <td>-0.371826</td>\n",
       "      <td>0.267140</td>\n",
       "      <td>0.100877</td>\n",
       "      <td>-0.203539</td>\n",
       "      <td>-0.179026</td>\n",
       "      <td>-0.326737</td>\n",
       "      <td>0.369509</td>\n",
       "      <td>...</td>\n",
       "      <td>0.038151</td>\n",
       "      <td>-0.068548</td>\n",
       "      <td>0.384012</td>\n",
       "      <td>-0.178070</td>\n",
       "      <td>-1.055779</td>\n",
       "      <td>-0.868002</td>\n",
       "      <td>0.250909</td>\n",
       "      <td>0.905169</td>\n",
       "      <td>-0.859033</td>\n",
       "      <td>-0.294868</td>\n",
       "    </tr>\n",
       "  </tbody>\n",
       "</table>\n",
       "<p>5 rows × 301 columns</p>\n",
       "</div>"
      ],
      "text/plain": [
       "         document    feat_0    feat_1    feat_2    feat_3    feat_4    feat_5  \\\n",
       "3   000091_v1.xml -0.132056  0.118364 -0.273165  0.298218  0.292788 -0.637130   \n",
       "9   000216_v1.xml -0.254542 -0.104913  0.152029  0.120537 -0.464280 -0.747288   \n",
       "11  000240_v1.xml -0.016990  0.278347 -0.137840 -0.044657 -0.269439 -0.168711   \n",
       "16  000349_v1.xml -0.357497 -0.043181 -0.289313  0.093221  0.193509 -0.203038   \n",
       "17  000364_v1.xml -0.363903 -0.183077 -0.371826  0.267140  0.100877 -0.203539   \n",
       "\n",
       "      feat_6    feat_7    feat_8  ...  feat_290  feat_291  feat_292  feat_293  \\\n",
       "3  -0.468698  0.022352  0.752860  ...  0.300299 -0.441953  0.544878 -0.001271   \n",
       "9   0.029983  0.422532  0.521797  ... -0.268051 -0.323413  0.011982 -0.273409   \n",
       "11  0.108513  0.099131  0.377821  ...  0.216756  0.220975  0.291761 -0.219856   \n",
       "16 -0.280233 -0.160483  0.570345  ...  0.068700 -0.021469  0.292037  0.214672   \n",
       "17 -0.179026 -0.326737  0.369509  ...  0.038151 -0.068548  0.384012 -0.178070   \n",
       "\n",
       "    feat_294  feat_295  feat_296  feat_297  feat_298  feat_299  \n",
       "3  -0.353551 -0.701067  0.296414  0.717840 -0.679277  0.032921  \n",
       "9  -0.454082 -0.092025  0.400583  0.575322 -0.299792  0.379381  \n",
       "11 -0.759438 -0.493763  0.189564  0.729620 -0.509454  0.251340  \n",
       "16 -0.753823 -0.404482  0.389089  1.061702 -0.399143  0.060568  \n",
       "17 -1.055779 -0.868002  0.250909  0.905169 -0.859033 -0.294868  \n",
       "\n",
       "[5 rows x 301 columns]"
      ]
     },
     "execution_count": 28,
     "metadata": {},
     "output_type": "execute_result"
    }
   ],
   "source": [
    "biorxiv_unpublished = biorxiv_journal_mapped_df.query(\"published_doi.isnull()\").drop(\n",
    "    [\"published_doi\", \"pmcid\", \"pmcoa\"], axis=1\n",
    ")\n",
    "print(biorxiv_unpublished.shape)\n",
    "biorxiv_unpublished.head()"
   ]
  },
  {
   "cell_type": "code",
   "execution_count": 29,
   "metadata": {
    "ExecuteTime": {
     "end_time": "2021-04-21T03:16:43.392872Z",
     "start_time": "2021-04-21T03:16:41.127582Z"
    }
   },
   "outputs": [
    {
     "name": "stdout",
     "output_type": "stream",
     "text": [
      "(1903910, 303)\n"
     ]
    },
    {
     "data": {
      "text/html": [
       "<div>\n",
       "<style scoped>\n",
       "    .dataframe tbody tr th:only-of-type {\n",
       "        vertical-align: middle;\n",
       "    }\n",
       "\n",
       "    .dataframe tbody tr th {\n",
       "        vertical-align: top;\n",
       "    }\n",
       "\n",
       "    .dataframe thead th {\n",
       "        text-align: right;\n",
       "    }\n",
       "</style>\n",
       "<table border=\"1\" class=\"dataframe\">\n",
       "  <thead>\n",
       "    <tr style=\"text-align: right;\">\n",
       "      <th></th>\n",
       "      <th>doi</th>\n",
       "      <th>journal</th>\n",
       "      <th>document</th>\n",
       "      <th>feat_0</th>\n",
       "      <th>feat_1</th>\n",
       "      <th>feat_2</th>\n",
       "      <th>feat_3</th>\n",
       "      <th>feat_4</th>\n",
       "      <th>feat_5</th>\n",
       "      <th>feat_6</th>\n",
       "      <th>...</th>\n",
       "      <th>feat_290</th>\n",
       "      <th>feat_291</th>\n",
       "      <th>feat_292</th>\n",
       "      <th>feat_293</th>\n",
       "      <th>feat_294</th>\n",
       "      <th>feat_295</th>\n",
       "      <th>feat_296</th>\n",
       "      <th>feat_297</th>\n",
       "      <th>feat_298</th>\n",
       "      <th>feat_299</th>\n",
       "    </tr>\n",
       "  </thead>\n",
       "  <tbody>\n",
       "    <tr>\n",
       "      <th>0</th>\n",
       "      <td>10.1186/1476-069X-5-22</td>\n",
       "      <td>Environ_Health</td>\n",
       "      <td>PMC1552054</td>\n",
       "      <td>-0.168362</td>\n",
       "      <td>0.044431</td>\n",
       "      <td>-0.068592</td>\n",
       "      <td>-0.025250</td>\n",
       "      <td>-0.638518</td>\n",
       "      <td>-0.302347</td>\n",
       "      <td>0.303967</td>\n",
       "      <td>...</td>\n",
       "      <td>0.012046</td>\n",
       "      <td>-0.156143</td>\n",
       "      <td>0.010454</td>\n",
       "      <td>-0.615891</td>\n",
       "      <td>-0.952055</td>\n",
       "      <td>-0.504918</td>\n",
       "      <td>0.113741</td>\n",
       "      <td>0.763464</td>\n",
       "      <td>-0.789372</td>\n",
       "      <td>0.009379</td>\n",
       "    </tr>\n",
       "    <tr>\n",
       "      <th>1</th>\n",
       "      <td>10.1186/1476-069X-4-12</td>\n",
       "      <td>Environ_Health</td>\n",
       "      <td>PMC1226148</td>\n",
       "      <td>-0.239919</td>\n",
       "      <td>-0.060203</td>\n",
       "      <td>-0.133328</td>\n",
       "      <td>0.360897</td>\n",
       "      <td>-0.517385</td>\n",
       "      <td>-0.249687</td>\n",
       "      <td>0.056513</td>\n",
       "      <td>...</td>\n",
       "      <td>0.321736</td>\n",
       "      <td>-0.251242</td>\n",
       "      <td>0.261475</td>\n",
       "      <td>-0.577342</td>\n",
       "      <td>-0.544784</td>\n",
       "      <td>-0.484138</td>\n",
       "      <td>0.065360</td>\n",
       "      <td>0.530282</td>\n",
       "      <td>-0.828810</td>\n",
       "      <td>-0.012625</td>\n",
       "    </tr>\n",
       "    <tr>\n",
       "      <th>2</th>\n",
       "      <td>10.1186/s12940-017-0316-3</td>\n",
       "      <td>Environ_Health</td>\n",
       "      <td>PMC5635510</td>\n",
       "      <td>0.048672</td>\n",
       "      <td>0.170688</td>\n",
       "      <td>-0.070395</td>\n",
       "      <td>0.236424</td>\n",
       "      <td>-0.039087</td>\n",
       "      <td>-0.381143</td>\n",
       "      <td>0.051673</td>\n",
       "      <td>...</td>\n",
       "      <td>0.097997</td>\n",
       "      <td>-0.170264</td>\n",
       "      <td>0.064343</td>\n",
       "      <td>-0.447883</td>\n",
       "      <td>-0.758610</td>\n",
       "      <td>-0.459414</td>\n",
       "      <td>0.433691</td>\n",
       "      <td>0.676709</td>\n",
       "      <td>-0.573157</td>\n",
       "      <td>-0.104958</td>\n",
       "    </tr>\n",
       "    <tr>\n",
       "      <th>3</th>\n",
       "      <td>10.1186/1476-069X-10-46</td>\n",
       "      <td>Environ_Health</td>\n",
       "      <td>PMC3125232</td>\n",
       "      <td>-0.186567</td>\n",
       "      <td>0.081031</td>\n",
       "      <td>-0.073595</td>\n",
       "      <td>-0.137754</td>\n",
       "      <td>0.068354</td>\n",
       "      <td>-0.406180</td>\n",
       "      <td>-0.219826</td>\n",
       "      <td>...</td>\n",
       "      <td>-0.090546</td>\n",
       "      <td>-0.173788</td>\n",
       "      <td>0.071811</td>\n",
       "      <td>-0.444737</td>\n",
       "      <td>-0.949252</td>\n",
       "      <td>-0.587158</td>\n",
       "      <td>0.341312</td>\n",
       "      <td>0.888989</td>\n",
       "      <td>-0.476960</td>\n",
       "      <td>-0.284114</td>\n",
       "    </tr>\n",
       "    <tr>\n",
       "      <th>4</th>\n",
       "      <td>10.1186/1476-069X-11-91</td>\n",
       "      <td>Environ_Health</td>\n",
       "      <td>PMC3533997</td>\n",
       "      <td>-0.064178</td>\n",
       "      <td>0.173903</td>\n",
       "      <td>-0.051677</td>\n",
       "      <td>0.159768</td>\n",
       "      <td>-0.305409</td>\n",
       "      <td>-0.493326</td>\n",
       "      <td>0.267089</td>\n",
       "      <td>...</td>\n",
       "      <td>-0.075961</td>\n",
       "      <td>-0.404060</td>\n",
       "      <td>-0.012403</td>\n",
       "      <td>-0.567062</td>\n",
       "      <td>-1.054321</td>\n",
       "      <td>-0.372887</td>\n",
       "      <td>0.075409</td>\n",
       "      <td>0.681162</td>\n",
       "      <td>-0.849728</td>\n",
       "      <td>-0.233986</td>\n",
       "    </tr>\n",
       "  </tbody>\n",
       "</table>\n",
       "<p>5 rows × 303 columns</p>\n",
       "</div>"
      ],
      "text/plain": [
       "                         doi         journal    document    feat_0    feat_1  \\\n",
       "0     10.1186/1476-069X-5-22  Environ_Health  PMC1552054 -0.168362  0.044431   \n",
       "1     10.1186/1476-069X-4-12  Environ_Health  PMC1226148 -0.239919 -0.060203   \n",
       "2  10.1186/s12940-017-0316-3  Environ_Health  PMC5635510  0.048672  0.170688   \n",
       "3    10.1186/1476-069X-10-46  Environ_Health  PMC3125232 -0.186567  0.081031   \n",
       "4    10.1186/1476-069X-11-91  Environ_Health  PMC3533997 -0.064178  0.173903   \n",
       "\n",
       "     feat_2    feat_3    feat_4    feat_5    feat_6  ...  feat_290  feat_291  \\\n",
       "0 -0.068592 -0.025250 -0.638518 -0.302347  0.303967  ...  0.012046 -0.156143   \n",
       "1 -0.133328  0.360897 -0.517385 -0.249687  0.056513  ...  0.321736 -0.251242   \n",
       "2 -0.070395  0.236424 -0.039087 -0.381143  0.051673  ...  0.097997 -0.170264   \n",
       "3 -0.073595 -0.137754  0.068354 -0.406180 -0.219826  ... -0.090546 -0.173788   \n",
       "4 -0.051677  0.159768 -0.305409 -0.493326  0.267089  ... -0.075961 -0.404060   \n",
       "\n",
       "   feat_292  feat_293  feat_294  feat_295  feat_296  feat_297  feat_298  \\\n",
       "0  0.010454 -0.615891 -0.952055 -0.504918  0.113741  0.763464 -0.789372   \n",
       "1  0.261475 -0.577342 -0.544784 -0.484138  0.065360  0.530282 -0.828810   \n",
       "2  0.064343 -0.447883 -0.758610 -0.459414  0.433691  0.676709 -0.573157   \n",
       "3  0.071811 -0.444737 -0.949252 -0.587158  0.341312  0.888989 -0.476960   \n",
       "4 -0.012403 -0.567062 -1.054321 -0.372887  0.075409  0.681162 -0.849728   \n",
       "\n",
       "   feat_299  \n",
       "0  0.009379  \n",
       "1 -0.012625  \n",
       "2 -0.104958  \n",
       "3 -0.284114  \n",
       "4 -0.233986  \n",
       "\n",
       "[5 rows x 303 columns]"
      ]
     },
     "execution_count": 29,
     "metadata": {},
     "output_type": "execute_result"
    }
   ],
   "source": [
    "PMC_unlinked = pmc_journal_mapped_df.query(\n",
    "    f\"\"\"\n",
    "        document not in {\n",
    "            biorxiv_published\n",
    "            .reset_index()\n",
    "            .pmcid\n",
    "            .tolist()\n",
    "        }\n",
    "        \"\"\"\n",
    ")\n",
    "print(PMC_unlinked.shape)\n",
    "PMC_unlinked.head()"
   ]
  },
  {
   "cell_type": "code",
   "execution_count": 30,
   "metadata": {
    "ExecuteTime": {
     "end_time": "2021-04-21T03:16:43.402310Z",
     "start_time": "2021-04-21T03:16:43.394306Z"
    }
   },
   "outputs": [
    {
     "data": {
      "text/plain": [
       "1.2532590806261803"
      ]
     },
     "execution_count": 30,
     "metadata": {},
     "output_type": "execute_result"
    }
   ],
   "source": [
    "cutoff_score = final_df.query(\"label=='pre_vs_random'\").distance.min()\n",
    "cutoff_score"
   ]
  },
  {
   "cell_type": "code",
   "execution_count": 31,
   "metadata": {
    "ExecuteTime": {
     "end_time": "2021-04-21T03:16:43.450512Z",
     "start_time": "2021-04-21T03:16:43.403819Z"
    }
   },
   "outputs": [],
   "source": [
    "chunksize = 100\n",
    "chunk_iterator = range(0, biorxiv_unpublished.shape[0], chunksize)"
   ]
  },
  {
   "cell_type": "code",
   "execution_count": 33,
   "metadata": {
    "ExecuteTime": {
     "end_time": "2021-04-21T07:48:37.085271Z",
     "start_time": "2021-04-21T03:18:15.998520Z"
    },
    "lines_to_next_cell": 2
   },
   "outputs": [
    {
     "name": "stderr",
     "output_type": "stream",
     "text": [
      "398it [4:30:21, 40.76s/it]\n"
     ]
    }
   ],
   "source": [
    "for idx, chunk in tqdm.tqdm(enumerate(chunk_iterator)):\n",
    "\n",
    "    # Chunk the documents so memory doesn't break\n",
    "    biorxiv_subset = biorxiv_unpublished.iloc[chunk : chunk + chunksize]\n",
    "\n",
    "    # Calculate distances\n",
    "    paper_distances = cdist(\n",
    "        biorxiv_subset.drop([\"document\"], axis=1),\n",
    "        PMC_unlinked.drop([\"journal\", \"document\", \"doi\"], axis=1),\n",
    "        \"euclidean\",\n",
    "    )\n",
    "\n",
    "    # Get elements less than threshold\n",
    "    sig_indicies = np.where(paper_distances < cutoff_score)\n",
    "    results = zip(\n",
    "        sig_indicies[0],\n",
    "        sig_indicies[1],\n",
    "        paper_distances[paper_distances < cutoff_score],\n",
    "    )\n",
    "\n",
    "    # Map the results into records for pandas to parse\n",
    "    results = list(\n",
    "        map(\n",
    "            lambda x: dict(\n",
    "                document=biorxiv_subset.iloc[x[0]].document,\n",
    "                pmcid=PMC_unlinked.iloc[x[1]].document,\n",
    "                distance=x[2],\n",
    "            ),\n",
    "            results,\n",
    "        )\n",
    "    )\n",
    "\n",
    "    # There may be cases where there are no matches\n",
    "    if len(results) > 0:\n",
    "        # Generate pandas dataframe\n",
    "        potential_matches_df = (\n",
    "            biorxiv_journal_df[[\"document\", \"preprint_doi\"]]\n",
    "            .merge(pd.DataFrame.from_records(results))\n",
    "            .sort_values(\"distance\")\n",
    "        )\n",
    "\n",
    "        # Write to file\n",
    "        if idx == 0:\n",
    "            potential_matches_df.to_csv(\n",
    "                \"output/potential_biorxiv_pmc_links_rerun.tsv\", sep=\"\\t\", index=False\n",
    "            )\n",
    "\n",
    "        else:\n",
    "            potential_matches_df.to_csv(\n",
    "                \"output/potential_biorxiv_pmc_links_rerun.tsv\",\n",
    "                sep=\"\\t\",\n",
    "                index=False,\n",
    "                mode=\"a\",\n",
    "                header=False,\n",
    "            )"
   ]
  },
  {
   "cell_type": "markdown",
   "metadata": {},
   "source": [
    "# Bin Potential Matches"
   ]
  },
  {
   "cell_type": "code",
   "execution_count": 34,
   "metadata": {
    "ExecuteTime": {
     "end_time": "2021-04-21T07:48:37.132566Z",
     "start_time": "2021-04-21T07:48:37.086472Z"
    }
   },
   "outputs": [
    {
     "data": {
      "text/html": [
       "<div>\n",
       "<style scoped>\n",
       "    .dataframe tbody tr th:only-of-type {\n",
       "        vertical-align: middle;\n",
       "    }\n",
       "\n",
       "    .dataframe tbody tr th {\n",
       "        vertical-align: top;\n",
       "    }\n",
       "\n",
       "    .dataframe thead th {\n",
       "        text-align: right;\n",
       "    }\n",
       "</style>\n",
       "<table border=\"1\" class=\"dataframe\">\n",
       "  <thead>\n",
       "    <tr style=\"text-align: right;\">\n",
       "      <th></th>\n",
       "      <th>document</th>\n",
       "      <th>preprint_doi</th>\n",
       "      <th>pmcid</th>\n",
       "      <th>distance</th>\n",
       "    </tr>\n",
       "  </thead>\n",
       "  <tbody>\n",
       "    <tr>\n",
       "      <th>0</th>\n",
       "      <td>000836_v1.xml</td>\n",
       "      <td>10.1101/000836</td>\n",
       "      <td>PMC4592070</td>\n",
       "      <td>0.543471</td>\n",
       "    </tr>\n",
       "    <tr>\n",
       "      <th>1</th>\n",
       "      <td>003129_v1.xml</td>\n",
       "      <td>10.1101/003129</td>\n",
       "      <td>PMC4866720</td>\n",
       "      <td>0.625801</td>\n",
       "    </tr>\n",
       "    <tr>\n",
       "      <th>2</th>\n",
       "      <td>002261_v1.xml</td>\n",
       "      <td>10.1101/002261</td>\n",
       "      <td>PMC4071332</td>\n",
       "      <td>0.737247</td>\n",
       "    </tr>\n",
       "    <tr>\n",
       "      <th>3</th>\n",
       "      <td>001719_v1.xml</td>\n",
       "      <td>10.1101/001719</td>\n",
       "      <td>PMC4832266</td>\n",
       "      <td>0.885355</td>\n",
       "    </tr>\n",
       "    <tr>\n",
       "      <th>4</th>\n",
       "      <td>004291_v1.xml</td>\n",
       "      <td>10.1101/004291</td>\n",
       "      <td>PMC4650676</td>\n",
       "      <td>0.916877</td>\n",
       "    </tr>\n",
       "  </tbody>\n",
       "</table>\n",
       "</div>"
      ],
      "text/plain": [
       "        document    preprint_doi       pmcid  distance\n",
       "0  000836_v1.xml  10.1101/000836  PMC4592070  0.543471\n",
       "1  003129_v1.xml  10.1101/003129  PMC4866720  0.625801\n",
       "2  002261_v1.xml  10.1101/002261  PMC4071332  0.737247\n",
       "3  001719_v1.xml  10.1101/001719  PMC4832266  0.885355\n",
       "4  004291_v1.xml  10.1101/004291  PMC4650676  0.916877"
      ]
     },
     "execution_count": 34,
     "metadata": {},
     "output_type": "execute_result"
    }
   ],
   "source": [
    "potential_matches_df = pd.read_csv(\n",
    "    \"output/potential_biorxiv_pmc_links_rerun.tsv\", sep=\"\\t\"\n",
    ")\n",
    "potential_matches_df.head()"
   ]
  },
  {
   "cell_type": "code",
   "execution_count": 35,
   "metadata": {
    "ExecuteTime": {
     "end_time": "2021-04-21T07:48:37.222114Z",
     "start_time": "2021-04-21T07:48:37.133833Z"
    }
   },
   "outputs": [
    {
     "data": {
      "text/html": [
       "<div>\n",
       "<style scoped>\n",
       "    .dataframe tbody tr th:only-of-type {\n",
       "        vertical-align: middle;\n",
       "    }\n",
       "\n",
       "    .dataframe tbody tr th {\n",
       "        vertical-align: top;\n",
       "    }\n",
       "\n",
       "    .dataframe thead th {\n",
       "        text-align: right;\n",
       "    }\n",
       "</style>\n",
       "<table border=\"1\" class=\"dataframe\">\n",
       "  <thead>\n",
       "    <tr style=\"text-align: right;\">\n",
       "      <th></th>\n",
       "      <th>document</th>\n",
       "      <th>biorxiv_doi</th>\n",
       "      <th>pmcid</th>\n",
       "      <th>distance</th>\n",
       "      <th>pmcid_url</th>\n",
       "      <th>biorxiv_doi_url</th>\n",
       "    </tr>\n",
       "  </thead>\n",
       "  <tbody>\n",
       "    <tr>\n",
       "      <th>0</th>\n",
       "      <td>000836_v1.xml</td>\n",
       "      <td>10.1101/000836</td>\n",
       "      <td>PMC4592070</td>\n",
       "      <td>0.543471</td>\n",
       "      <td>https://www.ncbi.nlm.nih.gov/pmc/PMC4592070</td>\n",
       "      <td>https://doi.org/10.1101/000836</td>\n",
       "    </tr>\n",
       "    <tr>\n",
       "      <th>1</th>\n",
       "      <td>003129_v1.xml</td>\n",
       "      <td>10.1101/003129</td>\n",
       "      <td>PMC4866720</td>\n",
       "      <td>0.625801</td>\n",
       "      <td>https://www.ncbi.nlm.nih.gov/pmc/PMC4866720</td>\n",
       "      <td>https://doi.org/10.1101/003129</td>\n",
       "    </tr>\n",
       "    <tr>\n",
       "      <th>2</th>\n",
       "      <td>002261_v1.xml</td>\n",
       "      <td>10.1101/002261</td>\n",
       "      <td>PMC4071332</td>\n",
       "      <td>0.737247</td>\n",
       "      <td>https://www.ncbi.nlm.nih.gov/pmc/PMC4071332</td>\n",
       "      <td>https://doi.org/10.1101/002261</td>\n",
       "    </tr>\n",
       "    <tr>\n",
       "      <th>3</th>\n",
       "      <td>001719_v1.xml</td>\n",
       "      <td>10.1101/001719</td>\n",
       "      <td>PMC4832266</td>\n",
       "      <td>0.885355</td>\n",
       "      <td>https://www.ncbi.nlm.nih.gov/pmc/PMC4832266</td>\n",
       "      <td>https://doi.org/10.1101/001719</td>\n",
       "    </tr>\n",
       "    <tr>\n",
       "      <th>4</th>\n",
       "      <td>004291_v1.xml</td>\n",
       "      <td>10.1101/004291</td>\n",
       "      <td>PMC4650676</td>\n",
       "      <td>0.916877</td>\n",
       "      <td>https://www.ncbi.nlm.nih.gov/pmc/PMC4650676</td>\n",
       "      <td>https://doi.org/10.1101/004291</td>\n",
       "    </tr>\n",
       "  </tbody>\n",
       "</table>\n",
       "</div>"
      ],
      "text/plain": [
       "        document     biorxiv_doi       pmcid  distance  \\\n",
       "0  000836_v1.xml  10.1101/000836  PMC4592070  0.543471   \n",
       "1  003129_v1.xml  10.1101/003129  PMC4866720  0.625801   \n",
       "2  002261_v1.xml  10.1101/002261  PMC4071332  0.737247   \n",
       "3  001719_v1.xml  10.1101/001719  PMC4832266  0.885355   \n",
       "4  004291_v1.xml  10.1101/004291  PMC4650676  0.916877   \n",
       "\n",
       "                                     pmcid_url                 biorxiv_doi_url  \n",
       "0  https://www.ncbi.nlm.nih.gov/pmc/PMC4592070  https://doi.org/10.1101/000836  \n",
       "1  https://www.ncbi.nlm.nih.gov/pmc/PMC4866720  https://doi.org/10.1101/003129  \n",
       "2  https://www.ncbi.nlm.nih.gov/pmc/PMC4071332  https://doi.org/10.1101/002261  \n",
       "3  https://www.ncbi.nlm.nih.gov/pmc/PMC4832266  https://doi.org/10.1101/001719  \n",
       "4  https://www.ncbi.nlm.nih.gov/pmc/PMC4650676  https://doi.org/10.1101/004291  "
      ]
     },
     "execution_count": 35,
     "metadata": {},
     "output_type": "execute_result"
    }
   ],
   "source": [
    "potential_matches_df = (\n",
    "    potential_matches_df.rename(index=str, columns={\"preprint_doi\": \"biorxiv_doi\"})\n",
    "    .drop_duplicates([\"document\", \"biorxiv_doi\", \"pmcid\"])\n",
    "    .assign(\n",
    "        pmcid_url=lambda x: (\n",
    "            x.pmcid.apply(lambda paper: f\"https://www.ncbi.nlm.nih.gov/pmc/{paper}\")\n",
    "        ),\n",
    "        biorxiv_doi_url=lambda x: (\n",
    "            x.biorxiv_doi.apply(lambda paper: f\"https://doi.org/{paper}\")\n",
    "        ),\n",
    "    )\n",
    ")\n",
    "potential_matches_df.head()"
   ]
  },
  {
   "cell_type": "code",
   "execution_count": 36,
   "metadata": {
    "ExecuteTime": {
     "end_time": "2021-04-21T07:48:37.242815Z",
     "start_time": "2021-04-21T07:48:37.223719Z"
    }
   },
   "outputs": [
    {
     "data": {
      "text/plain": [
       "array([0.        , 0.48376778, 0.74189217, 1.15104806, 1.25325908])"
      ]
     },
     "execution_count": 36,
     "metadata": {},
     "output_type": "execute_result"
    }
   ],
   "source": [
    "distance_bins = np.squeeze(\n",
    "    final_df.query(\"label=='pre_vs_published'\")\n",
    "    .describe()\n",
    "    .loc[[\"25%\", \"50%\", \"75%\"]]\n",
    "    .values\n",
    ")\n",
    "\n",
    "distance_bins = np.append(\n",
    "    [0.0],\n",
    "    distance_bins,\n",
    ")\n",
    "\n",
    "distance_bins = np.append(\n",
    "    distance_bins, (final_df.query(\"label=='pre_vs_random'\").distance.min())\n",
    ")\n",
    "\n",
    "distance_bins"
   ]
  },
  {
   "cell_type": "code",
   "execution_count": 37,
   "metadata": {
    "ExecuteTime": {
     "end_time": "2021-04-21T07:48:37.329036Z",
     "start_time": "2021-04-21T07:48:37.243826Z"
    }
   },
   "outputs": [
    {
     "data": {
      "text/html": [
       "<div>\n",
       "<style scoped>\n",
       "    .dataframe tbody tr th:only-of-type {\n",
       "        vertical-align: middle;\n",
       "    }\n",
       "\n",
       "    .dataframe tbody tr th {\n",
       "        vertical-align: top;\n",
       "    }\n",
       "\n",
       "    .dataframe thead th {\n",
       "        text-align: right;\n",
       "    }\n",
       "</style>\n",
       "<table border=\"1\" class=\"dataframe\">\n",
       "  <thead>\n",
       "    <tr style=\"text-align: right;\">\n",
       "      <th></th>\n",
       "      <th>document</th>\n",
       "      <th>biorxiv_doi</th>\n",
       "      <th>biorxiv_doi_url</th>\n",
       "      <th>pmcid</th>\n",
       "      <th>pmcid_url</th>\n",
       "      <th>distance</th>\n",
       "      <th>distance_bin</th>\n",
       "    </tr>\n",
       "  </thead>\n",
       "  <tbody>\n",
       "    <tr>\n",
       "      <th>0</th>\n",
       "      <td>000836_v1.xml</td>\n",
       "      <td>10.1101/000836</td>\n",
       "      <td>https://doi.org/10.1101/000836</td>\n",
       "      <td>PMC4592070</td>\n",
       "      <td>https://www.ncbi.nlm.nih.gov/pmc/PMC4592070</td>\n",
       "      <td>0.543471</td>\n",
       "      <td>[25%ile, 50%ile)</td>\n",
       "    </tr>\n",
       "    <tr>\n",
       "      <th>1</th>\n",
       "      <td>003129_v1.xml</td>\n",
       "      <td>10.1101/003129</td>\n",
       "      <td>https://doi.org/10.1101/003129</td>\n",
       "      <td>PMC4866720</td>\n",
       "      <td>https://www.ncbi.nlm.nih.gov/pmc/PMC4866720</td>\n",
       "      <td>0.625801</td>\n",
       "      <td>[25%ile, 50%ile)</td>\n",
       "    </tr>\n",
       "    <tr>\n",
       "      <th>2</th>\n",
       "      <td>002261_v1.xml</td>\n",
       "      <td>10.1101/002261</td>\n",
       "      <td>https://doi.org/10.1101/002261</td>\n",
       "      <td>PMC4071332</td>\n",
       "      <td>https://www.ncbi.nlm.nih.gov/pmc/PMC4071332</td>\n",
       "      <td>0.737247</td>\n",
       "      <td>[25%ile, 50%ile)</td>\n",
       "    </tr>\n",
       "    <tr>\n",
       "      <th>3</th>\n",
       "      <td>001719_v1.xml</td>\n",
       "      <td>10.1101/001719</td>\n",
       "      <td>https://doi.org/10.1101/001719</td>\n",
       "      <td>PMC4832266</td>\n",
       "      <td>https://www.ncbi.nlm.nih.gov/pmc/PMC4832266</td>\n",
       "      <td>0.885355</td>\n",
       "      <td>[50%ile, 75%ile)</td>\n",
       "    </tr>\n",
       "    <tr>\n",
       "      <th>4</th>\n",
       "      <td>004291_v1.xml</td>\n",
       "      <td>10.1101/004291</td>\n",
       "      <td>https://doi.org/10.1101/004291</td>\n",
       "      <td>PMC4650676</td>\n",
       "      <td>https://www.ncbi.nlm.nih.gov/pmc/PMC4650676</td>\n",
       "      <td>0.916877</td>\n",
       "      <td>[50%ile, 75%ile)</td>\n",
       "    </tr>\n",
       "  </tbody>\n",
       "</table>\n",
       "</div>"
      ],
      "text/plain": [
       "        document     biorxiv_doi                 biorxiv_doi_url       pmcid  \\\n",
       "0  000836_v1.xml  10.1101/000836  https://doi.org/10.1101/000836  PMC4592070   \n",
       "1  003129_v1.xml  10.1101/003129  https://doi.org/10.1101/003129  PMC4866720   \n",
       "2  002261_v1.xml  10.1101/002261  https://doi.org/10.1101/002261  PMC4071332   \n",
       "3  001719_v1.xml  10.1101/001719  https://doi.org/10.1101/001719  PMC4832266   \n",
       "4  004291_v1.xml  10.1101/004291  https://doi.org/10.1101/004291  PMC4650676   \n",
       "\n",
       "                                     pmcid_url  distance      distance_bin  \n",
       "0  https://www.ncbi.nlm.nih.gov/pmc/PMC4592070  0.543471  [25%ile, 50%ile)  \n",
       "1  https://www.ncbi.nlm.nih.gov/pmc/PMC4866720  0.625801  [25%ile, 50%ile)  \n",
       "2  https://www.ncbi.nlm.nih.gov/pmc/PMC4071332  0.737247  [25%ile, 50%ile)  \n",
       "3  https://www.ncbi.nlm.nih.gov/pmc/PMC4832266  0.885355  [50%ile, 75%ile)  \n",
       "4  https://www.ncbi.nlm.nih.gov/pmc/PMC4650676  0.916877  [50%ile, 75%ile)  "
      ]
     },
     "execution_count": 37,
     "metadata": {},
     "output_type": "execute_result"
    }
   ],
   "source": [
    "potential_matches_df = potential_matches_df.assign(\n",
    "    distance_bin=(\n",
    "        pd.cut(\n",
    "            potential_matches_df.distance,\n",
    "            distance_bins,\n",
    "            right=False,\n",
    "            labels=[\n",
    "                \"[0, 25%ile)\",\n",
    "                \"[25%ile, 50%ile)\",\n",
    "                \"[50%ile, 75%ile)\",\n",
    "                \"[75%, min(same-journal-no-known-link))\",\n",
    "            ],\n",
    "        )\n",
    "    )\n",
    ")[\n",
    "    [\n",
    "        \"document\",\n",
    "        \"biorxiv_doi\",\n",
    "        \"biorxiv_doi_url\",\n",
    "        \"pmcid\",\n",
    "        \"pmcid_url\",\n",
    "        \"distance\",\n",
    "        \"distance_bin\",\n",
    "    ]\n",
    "]\n",
    "\n",
    "potential_matches_df.to_csv(\n",
    "    \"output/potential_biorxiv_pmc_links_rerun.tsv\", sep=\"\\t\", index=False\n",
    ")\n",
    "\n",
    "potential_matches_df.head()"
   ]
  }
 ],
 "metadata": {
  "jupytext": {
   "formats": "ipynb,py:light"
  },
  "kernelspec": {
   "display_name": "Python [conda env:annorxiver]",
   "language": "python",
   "name": "conda-env-annorxiver-py"
  },
  "language_info": {
   "codemirror_mode": {
    "name": "ipython",
    "version": 3
   },
   "file_extension": ".py",
   "mimetype": "text/x-python",
   "name": "python",
   "nbconvert_exporter": "python",
   "pygments_lexer": "ipython3",
   "version": "3.7.2"
  },
  "toc": {
   "base_numbering": 1,
   "nav_menu": {
    "height": "228px",
    "width": "494px"
   },
   "number_sections": true,
   "sideBar": true,
   "skip_h1_title": false,
   "title_cell": "Table of Contents",
   "title_sidebar": "Contents",
   "toc_cell": false,
   "toc_position": {},
   "toc_section_display": true,
   "toc_window_display": false
  }
 },
 "nbformat": 4,
 "nbformat_minor": 2
}
