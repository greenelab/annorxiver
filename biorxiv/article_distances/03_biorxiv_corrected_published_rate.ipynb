{
 "cells": [
  {
   "cell_type": "markdown",
   "metadata": {},
   "source": [
    "# Estimate the Correct Number of Published Preprints"
   ]
  },
  {
   "cell_type": "code",
   "execution_count": 1,
   "metadata": {
    "ExecuteTime": {
     "end_time": "2021-09-29T15:22:09.492413Z",
     "start_time": "2021-09-29T15:22:08.607743Z"
    }
   },
   "outputs": [],
   "source": [
    "from pathlib import Path\n",
    "\n",
    "import lxml.etree as ET\n",
    "import numpy as np\n",
    "import pandas as pd\n",
    "import plotnine as p9\n",
    "from tqdm import tqdm"
   ]
  },
  {
   "cell_type": "markdown",
   "metadata": {},
   "source": [
    "# Load Abdil et al. Score"
   ]
  },
  {
   "cell_type": "code",
   "execution_count": 2,
   "metadata": {
    "ExecuteTime": {
     "end_time": "2021-09-29T15:22:09.500952Z",
     "start_time": "2021-09-29T15:22:09.495997Z"
    }
   },
   "outputs": [],
   "source": [
    "file_path = \"https://elifesciences.org/download/aHR0cHM6Ly9jZG4uZWxpZmVzY2llbmNlcy5vcmcvYXJ0aWNsZXMvNDUxMzMvZWxpZmUtNDUxMzMtZmlnMy1kYXRhMS12Mi5jc3Y-/elife-45133-fig3-data1-v2.csv?_hash=6d5MoXPaQXFZiifDTRaKXoZ29OnVUJq%2FuoHlyuh%2Bg04%3D\""
   ]
  },
  {
   "cell_type": "code",
   "execution_count": 3,
   "metadata": {
    "ExecuteTime": {
     "end_time": "2021-09-29T15:22:09.796419Z",
     "start_time": "2021-09-29T15:22:09.503454Z"
    }
   },
   "outputs": [
    {
     "data": {
      "text/html": [
       "<div>\n",
       "<style scoped>\n",
       "    .dataframe tbody tr th:only-of-type {\n",
       "        vertical-align: middle;\n",
       "    }\n",
       "\n",
       "    .dataframe tbody tr th {\n",
       "        vertical-align: top;\n",
       "    }\n",
       "\n",
       "    .dataframe thead th {\n",
       "        text-align: right;\n",
       "    }\n",
       "</style>\n",
       "<table border=\"1\" class=\"dataframe\">\n",
       "  <thead>\n",
       "    <tr style=\"text-align: right;\">\n",
       "      <th></th>\n",
       "      <th>month</th>\n",
       "      <th>posted</th>\n",
       "      <th>published</th>\n",
       "      <th>rate</th>\n",
       "    </tr>\n",
       "  </thead>\n",
       "  <tbody>\n",
       "    <tr>\n",
       "      <th>0</th>\n",
       "      <td>2013-11</td>\n",
       "      <td>60</td>\n",
       "      <td>35</td>\n",
       "      <td>0.583333</td>\n",
       "    </tr>\n",
       "    <tr>\n",
       "      <th>1</th>\n",
       "      <td>2013-12</td>\n",
       "      <td>49</td>\n",
       "      <td>36</td>\n",
       "      <td>0.734694</td>\n",
       "    </tr>\n",
       "    <tr>\n",
       "      <th>2</th>\n",
       "      <td>2014-01</td>\n",
       "      <td>54</td>\n",
       "      <td>32</td>\n",
       "      <td>0.592593</td>\n",
       "    </tr>\n",
       "    <tr>\n",
       "      <th>3</th>\n",
       "      <td>2014-02</td>\n",
       "      <td>66</td>\n",
       "      <td>45</td>\n",
       "      <td>0.681818</td>\n",
       "    </tr>\n",
       "    <tr>\n",
       "      <th>4</th>\n",
       "      <td>2014-03</td>\n",
       "      <td>43</td>\n",
       "      <td>34</td>\n",
       "      <td>0.790698</td>\n",
       "    </tr>\n",
       "    <tr>\n",
       "      <th>5</th>\n",
       "      <td>2014-04</td>\n",
       "      <td>66</td>\n",
       "      <td>40</td>\n",
       "      <td>0.606061</td>\n",
       "    </tr>\n",
       "    <tr>\n",
       "      <th>6</th>\n",
       "      <td>2014-05</td>\n",
       "      <td>81</td>\n",
       "      <td>54</td>\n",
       "      <td>0.666667</td>\n",
       "    </tr>\n",
       "    <tr>\n",
       "      <th>7</th>\n",
       "      <td>2014-06</td>\n",
       "      <td>72</td>\n",
       "      <td>46</td>\n",
       "      <td>0.638889</td>\n",
       "    </tr>\n",
       "    <tr>\n",
       "      <th>8</th>\n",
       "      <td>2014-07</td>\n",
       "      <td>67</td>\n",
       "      <td>46</td>\n",
       "      <td>0.686567</td>\n",
       "    </tr>\n",
       "    <tr>\n",
       "      <th>9</th>\n",
       "      <td>2014-08</td>\n",
       "      <td>80</td>\n",
       "      <td>55</td>\n",
       "      <td>0.687500</td>\n",
       "    </tr>\n",
       "  </tbody>\n",
       "</table>\n",
       "</div>"
      ],
      "text/plain": [
       "     month  posted  published      rate\n",
       "0  2013-11      60         35  0.583333\n",
       "1  2013-12      49         36  0.734694\n",
       "2  2014-01      54         32  0.592593\n",
       "3  2014-02      66         45  0.681818\n",
       "4  2014-03      43         34  0.790698\n",
       "5  2014-04      66         40  0.606061\n",
       "6  2014-05      81         54  0.666667\n",
       "7  2014-06      72         46  0.638889\n",
       "8  2014-07      67         46  0.686567\n",
       "9  2014-08      80         55  0.687500"
      ]
     },
     "execution_count": 3,
     "metadata": {},
     "output_type": "execute_result"
    }
   ],
   "source": [
    "abdill_df = pd.read_csv(file_path)\n",
    "abdill_df.head(10)"
   ]
  },
  {
   "cell_type": "markdown",
   "metadata": {},
   "source": [
    "# Current Estimated Published Fraction"
   ]
  },
  {
   "cell_type": "markdown",
   "metadata": {},
   "source": [
    "## Gather all published preprints"
   ]
  },
  {
   "cell_type": "code",
   "execution_count": 4,
   "metadata": {
    "ExecuteTime": {
     "end_time": "2021-09-29T15:22:10.133275Z",
     "start_time": "2021-09-29T15:22:09.799123Z"
    }
   },
   "outputs": [
    {
     "name": "stdout",
     "output_type": "stream",
     "text": [
      "(71118, 7)\n"
     ]
    },
    {
     "data": {
      "text/html": [
       "<div>\n",
       "<style scoped>\n",
       "    .dataframe tbody tr th:only-of-type {\n",
       "        vertical-align: middle;\n",
       "    }\n",
       "\n",
       "    .dataframe tbody tr th {\n",
       "        vertical-align: top;\n",
       "    }\n",
       "\n",
       "    .dataframe thead th {\n",
       "        text-align: right;\n",
       "    }\n",
       "</style>\n",
       "<table border=\"1\" class=\"dataframe\">\n",
       "  <thead>\n",
       "    <tr style=\"text-align: right;\">\n",
       "      <th></th>\n",
       "      <th>document</th>\n",
       "      <th>category</th>\n",
       "      <th>preprint_doi</th>\n",
       "      <th>published_doi</th>\n",
       "      <th>pmcid</th>\n",
       "      <th>pmcoa</th>\n",
       "      <th>published</th>\n",
       "    </tr>\n",
       "  </thead>\n",
       "  <tbody>\n",
       "    <tr>\n",
       "      <th>0</th>\n",
       "      <td>000026_v1.xml</td>\n",
       "      <td>genetics</td>\n",
       "      <td>10.1101/000026</td>\n",
       "      <td>10.1371/journal.pgen.1004412</td>\n",
       "      <td>PMC4125079</td>\n",
       "      <td>True</td>\n",
       "      <td>True</td>\n",
       "    </tr>\n",
       "    <tr>\n",
       "      <th>1</th>\n",
       "      <td>000042_v1.xml</td>\n",
       "      <td>genomics</td>\n",
       "      <td>10.1101/000042</td>\n",
       "      <td>10.1038/nrg3723</td>\n",
       "      <td>PMC4151119</td>\n",
       "      <td>False</td>\n",
       "      <td>True</td>\n",
       "    </tr>\n",
       "    <tr>\n",
       "      <th>2</th>\n",
       "      <td>000067_v1.xml</td>\n",
       "      <td>genomics</td>\n",
       "      <td>10.1101/000067</td>\n",
       "      <td>10.1038/nature12904</td>\n",
       "      <td>PMC4285441</td>\n",
       "      <td>True</td>\n",
       "      <td>True</td>\n",
       "    </tr>\n",
       "    <tr>\n",
       "      <th>3</th>\n",
       "      <td>000091_v1.xml</td>\n",
       "      <td>synthetic biology</td>\n",
       "      <td>10.1101/000091</td>\n",
       "      <td>NaN</td>\n",
       "      <td>NaN</td>\n",
       "      <td>False</td>\n",
       "      <td>False</td>\n",
       "    </tr>\n",
       "    <tr>\n",
       "      <th>4</th>\n",
       "      <td>000109_v1.xml</td>\n",
       "      <td>evolutionary biology</td>\n",
       "      <td>10.1101/000109</td>\n",
       "      <td>10.1371/journal.pgen.1004410</td>\n",
       "      <td>PMC4072524</td>\n",
       "      <td>True</td>\n",
       "      <td>True</td>\n",
       "    </tr>\n",
       "  </tbody>\n",
       "</table>\n",
       "</div>"
      ],
      "text/plain": [
       "        document              category    preprint_doi  \\\n",
       "0  000026_v1.xml              genetics  10.1101/000026   \n",
       "1  000042_v1.xml              genomics  10.1101/000042   \n",
       "2  000067_v1.xml              genomics  10.1101/000067   \n",
       "3  000091_v1.xml     synthetic biology  10.1101/000091   \n",
       "4  000109_v1.xml  evolutionary biology  10.1101/000109   \n",
       "\n",
       "                  published_doi       pmcid  pmcoa  published  \n",
       "0  10.1371/journal.pgen.1004412  PMC4125079   True       True  \n",
       "1               10.1038/nrg3723  PMC4151119  False       True  \n",
       "2           10.1038/nature12904  PMC4285441   True       True  \n",
       "3                           NaN         NaN  False      False  \n",
       "4  10.1371/journal.pgen.1004410  PMC4072524   True       True  "
      ]
     },
     "execution_count": 4,
     "metadata": {},
     "output_type": "execute_result"
    }
   ],
   "source": [
    "biorxiv_journal_df = (\n",
    "    pd.read_csv(\n",
    "        Path(\"../journal_tracker\")\n",
    "        / Path(\"output/mapped_published_doi_before_update.tsv\"),\n",
    "        sep=\"\\t\",\n",
    "    )\n",
    "    .rename(index=str, columns={\"doi\": \"preprint_doi\"})\n",
    "    .groupby(\"preprint_doi\")\n",
    "    .agg(\n",
    "        {\n",
    "            \"document\": \"first\",\n",
    "            \"category\": \"first\",\n",
    "            \"preprint_doi\": \"last\",\n",
    "            \"published_doi\": \"first\",\n",
    "            \"pmcid\": \"first\",\n",
    "            \"pmcoa\": \"first\",\n",
    "        }\n",
    "    )\n",
    "    .reset_index(drop=True)\n",
    "    .assign(published=lambda x: x.published_doi.apply(lambda y: \"/\" in str(y)))\n",
    ")\n",
    "print(biorxiv_journal_df.shape)\n",
    "biorxiv_journal_df.head()"
   ]
  },
  {
   "cell_type": "code",
   "execution_count": 5,
   "metadata": {
    "ExecuteTime": {
     "end_time": "2021-09-29T15:22:10.137536Z",
     "start_time": "2021-09-29T15:22:10.134312Z"
    }
   },
   "outputs": [
    {
     "name": "stdout",
     "output_type": "stream",
     "text": [
      "Total Published: 31385\n",
      "Total Published in PMCOA: 17952\n"
     ]
    }
   ],
   "source": [
    "print(f\"Total Published: {biorxiv_journal_df.published.sum()}\")\n",
    "print(f\"Total Published in PMCOA: {biorxiv_journal_df.pmcoa.sum()}\")"
   ]
  },
  {
   "cell_type": "code",
   "execution_count": 6,
   "metadata": {
    "ExecuteTime": {
     "end_time": "2021-09-29T15:22:10.172558Z",
     "start_time": "2021-09-29T15:22:10.138685Z"
    }
   },
   "outputs": [
    {
     "name": "stdout",
     "output_type": "stream",
     "text": [
      "(7213, 4)\n"
     ]
    },
    {
     "data": {
      "text/html": [
       "<div>\n",
       "<style scoped>\n",
       "    .dataframe tbody tr th:only-of-type {\n",
       "        vertical-align: middle;\n",
       "    }\n",
       "\n",
       "    .dataframe tbody tr th {\n",
       "        vertical-align: top;\n",
       "    }\n",
       "\n",
       "    .dataframe thead th {\n",
       "        text-align: right;\n",
       "    }\n",
       "</style>\n",
       "<table border=\"1\" class=\"dataframe\">\n",
       "  <thead>\n",
       "    <tr style=\"text-align: right;\">\n",
       "      <th></th>\n",
       "      <th>document</th>\n",
       "      <th>preprint_doi</th>\n",
       "      <th>published</th>\n",
       "      <th>distance_bin</th>\n",
       "    </tr>\n",
       "  </thead>\n",
       "  <tbody>\n",
       "    <tr>\n",
       "      <th>0</th>\n",
       "      <td>000836_v1.xml</td>\n",
       "      <td>10.1101/000836</td>\n",
       "      <td>True</td>\n",
       "      <td>[25%ile, 50%ile)</td>\n",
       "    </tr>\n",
       "    <tr>\n",
       "      <th>1</th>\n",
       "      <td>003129_v1.xml</td>\n",
       "      <td>10.1101/003129</td>\n",
       "      <td>True</td>\n",
       "      <td>[25%ile, 50%ile)</td>\n",
       "    </tr>\n",
       "    <tr>\n",
       "      <th>2</th>\n",
       "      <td>002261_v1.xml</td>\n",
       "      <td>10.1101/002261</td>\n",
       "      <td>True</td>\n",
       "      <td>[25%ile, 50%ile)</td>\n",
       "    </tr>\n",
       "    <tr>\n",
       "      <th>3</th>\n",
       "      <td>001719_v1.xml</td>\n",
       "      <td>10.1101/001719</td>\n",
       "      <td>True</td>\n",
       "      <td>[50%ile, 75%ile)</td>\n",
       "    </tr>\n",
       "    <tr>\n",
       "      <th>4</th>\n",
       "      <td>004291_v1.xml</td>\n",
       "      <td>10.1101/004291</td>\n",
       "      <td>True</td>\n",
       "      <td>[50%ile, 75%ile)</td>\n",
       "    </tr>\n",
       "  </tbody>\n",
       "</table>\n",
       "</div>"
      ],
      "text/plain": [
       "        document    preprint_doi  published      distance_bin\n",
       "0  000836_v1.xml  10.1101/000836       True  [25%ile, 50%ile)\n",
       "1  003129_v1.xml  10.1101/003129       True  [25%ile, 50%ile)\n",
       "2  002261_v1.xml  10.1101/002261       True  [25%ile, 50%ile)\n",
       "3  001719_v1.xml  10.1101/001719       True  [50%ile, 75%ile)\n",
       "4  004291_v1.xml  10.1101/004291       True  [50%ile, 75%ile)"
      ]
     },
     "execution_count": 6,
     "metadata": {},
     "output_type": "execute_result"
    }
   ],
   "source": [
    "annotated_links_df = (\n",
    "    pd.read_csv(\n",
    "        Path(\"output\") / Path(\"potential_biorxiv_pmc_links_rerun.tsv\"), sep=\"\\t\"\n",
    "    )\n",
    "    .assign(published=True)\n",
    "    .rename(index=str, columns={\"biorxiv_doi\": \"preprint_doi\"})[\n",
    "        [\"document\", \"preprint_doi\", \"published\", \"distance_bin\"]\n",
    "    ]\n",
    ")\n",
    "print(annotated_links_df.shape)\n",
    "annotated_links_df.head()"
   ]
  },
  {
   "cell_type": "code",
   "execution_count": 7,
   "metadata": {
    "ExecuteTime": {
     "end_time": "2021-09-29T15:22:10.185119Z",
     "start_time": "2021-09-29T15:22:10.174094Z"
    }
   },
   "outputs": [
    {
     "name": "stdout",
     "output_type": "stream",
     "text": [
      "Novel links filled: 1542\n"
     ]
    }
   ],
   "source": [
    "missing_link_mapper = {\n",
    "    row[\"preprint_doi\"]: [row[\"published\"], True]\n",
    "    for row in (\n",
    "        annotated_links_df.query(\"distance_bin in ['[0, 25%ile)', '[25%ile, 50%ile)']\")[\n",
    "            [\"preprint_doi\", \"published\"]\n",
    "        ].to_dict(orient=\"records\")\n",
    "    )\n",
    "}\n",
    "new_link_count = len(missing_link_mapper)\n",
    "print(f\"Novel links filled: {new_link_count}\")"
   ]
  },
  {
   "cell_type": "code",
   "execution_count": 8,
   "metadata": {
    "ExecuteTime": {
     "end_time": "2021-09-29T15:22:10.486954Z",
     "start_time": "2021-09-29T15:22:10.187062Z"
    }
   },
   "outputs": [
    {
     "name": "stdout",
     "output_type": "stream",
     "text": [
      "69576\n"
     ]
    }
   ],
   "source": [
    "remaining_links = {\n",
    "    row[\"preprint_doi\"]: [row[\"published\"], row[\"pmcoa\"]]\n",
    "    for row in (\n",
    "        biorxiv_journal_df[[\"preprint_doi\", \"published\", \"pmcoa\"]].to_dict(\n",
    "            orient=\"records\"\n",
    "        )\n",
    "    )\n",
    "    if row[\"preprint_doi\"] not in missing_link_mapper\n",
    "}\n",
    "print(len(remaining_links))"
   ]
  },
  {
   "cell_type": "code",
   "execution_count": 9,
   "metadata": {
    "ExecuteTime": {
     "end_time": "2021-09-29T15:22:10.494977Z",
     "start_time": "2021-09-29T15:22:10.488491Z"
    }
   },
   "outputs": [
    {
     "name": "stdout",
     "output_type": "stream",
     "text": [
      "71118\n"
     ]
    }
   ],
   "source": [
    "missing_link_mapper.update(remaining_links)\n",
    "print(len(missing_link_mapper))"
   ]
  },
  {
   "cell_type": "code",
   "execution_count": 10,
   "metadata": {
    "ExecuteTime": {
     "end_time": "2021-09-29T15:22:10.715448Z",
     "start_time": "2021-09-29T15:22:10.496208Z"
    }
   },
   "outputs": [
    {
     "name": "stdout",
     "output_type": "stream",
     "text": [
      "(71118, 7)\n"
     ]
    },
    {
     "data": {
      "text/html": [
       "<div>\n",
       "<style scoped>\n",
       "    .dataframe tbody tr th:only-of-type {\n",
       "        vertical-align: middle;\n",
       "    }\n",
       "\n",
       "    .dataframe tbody tr th {\n",
       "        vertical-align: top;\n",
       "    }\n",
       "\n",
       "    .dataframe thead th {\n",
       "        text-align: right;\n",
       "    }\n",
       "</style>\n",
       "<table border=\"1\" class=\"dataframe\">\n",
       "  <thead>\n",
       "    <tr style=\"text-align: right;\">\n",
       "      <th></th>\n",
       "      <th>preprint_doi</th>\n",
       "      <th>published</th>\n",
       "      <th>pmcoa</th>\n",
       "      <th>document</th>\n",
       "      <th>category</th>\n",
       "      <th>published_doi</th>\n",
       "      <th>pmcid</th>\n",
       "    </tr>\n",
       "  </thead>\n",
       "  <tbody>\n",
       "    <tr>\n",
       "      <th>0</th>\n",
       "      <td>10.1101/000836</td>\n",
       "      <td>True</td>\n",
       "      <td>True</td>\n",
       "      <td>000836_v1.xml</td>\n",
       "      <td>cell biology</td>\n",
       "      <td>NaN</td>\n",
       "      <td>NaN</td>\n",
       "    </tr>\n",
       "    <tr>\n",
       "      <th>1</th>\n",
       "      <td>10.1101/003129</td>\n",
       "      <td>True</td>\n",
       "      <td>True</td>\n",
       "      <td>003129_v1.xml</td>\n",
       "      <td>plant biology</td>\n",
       "      <td>NaN</td>\n",
       "      <td>NaN</td>\n",
       "    </tr>\n",
       "    <tr>\n",
       "      <th>2</th>\n",
       "      <td>10.1101/002261</td>\n",
       "      <td>True</td>\n",
       "      <td>True</td>\n",
       "      <td>002261_v1.xml</td>\n",
       "      <td>genomics</td>\n",
       "      <td>NaN</td>\n",
       "      <td>NaN</td>\n",
       "    </tr>\n",
       "    <tr>\n",
       "      <th>3</th>\n",
       "      <td>10.1101/004960</td>\n",
       "      <td>True</td>\n",
       "      <td>True</td>\n",
       "      <td>004960_v1.xml</td>\n",
       "      <td>systems biology</td>\n",
       "      <td>NaN</td>\n",
       "      <td>NaN</td>\n",
       "    </tr>\n",
       "    <tr>\n",
       "      <th>4</th>\n",
       "      <td>10.1101/007765</td>\n",
       "      <td>True</td>\n",
       "      <td>True</td>\n",
       "      <td>007765_v1.xml</td>\n",
       "      <td>evolutionary biology</td>\n",
       "      <td>NaN</td>\n",
       "      <td>NaN</td>\n",
       "    </tr>\n",
       "  </tbody>\n",
       "</table>\n",
       "</div>"
      ],
      "text/plain": [
       "     preprint_doi  published  pmcoa       document              category  \\\n",
       "0  10.1101/000836       True   True  000836_v1.xml          cell biology   \n",
       "1  10.1101/003129       True   True  003129_v1.xml         plant biology   \n",
       "2  10.1101/002261       True   True  002261_v1.xml              genomics   \n",
       "3  10.1101/004960       True   True  004960_v1.xml       systems biology   \n",
       "4  10.1101/007765       True   True  007765_v1.xml  evolutionary biology   \n",
       "\n",
       "  published_doi pmcid  \n",
       "0           NaN   NaN  \n",
       "1           NaN   NaN  \n",
       "2           NaN   NaN  \n",
       "3           NaN   NaN  \n",
       "4           NaN   NaN  "
      ]
     },
     "execution_count": 10,
     "metadata": {},
     "output_type": "execute_result"
    }
   ],
   "source": [
    "updated_biorxiv_journal_df = pd.DataFrame.from_records(\n",
    "    [\n",
    "        {\"preprint_doi\": row[0], \"published\": row[1][0], \"pmcoa\": row[1][1]}\n",
    "        for row in list(missing_link_mapper.items())\n",
    "    ]\n",
    ").merge(biorxiv_journal_df.drop([\"published\", \"pmcoa\"], axis=1), on=\"preprint_doi\")\n",
    "print(updated_biorxiv_journal_df.shape)\n",
    "updated_biorxiv_journal_df.head()"
   ]
  },
  {
   "cell_type": "markdown",
   "metadata": {},
   "source": [
    "## Gather date published for each document"
   ]
  },
  {
   "cell_type": "code",
   "execution_count": 11,
   "metadata": {
    "ExecuteTime": {
     "end_time": "2021-09-29T15:22:10.718561Z",
     "start_time": "2021-09-29T15:22:10.716626Z"
    }
   },
   "outputs": [],
   "source": [
    "file_path = Path(\"output/biorxiv_articles_published_date.tsv\")"
   ]
  },
  {
   "cell_type": "code",
   "execution_count": 12,
   "metadata": {
    "ExecuteTime": {
     "end_time": "2021-09-29T15:22:10.740065Z",
     "start_time": "2021-09-29T15:22:10.720095Z"
    }
   },
   "outputs": [],
   "source": [
    "if not file_path.exists():\n",
    "    data_records = []\n",
    "    xml_parser = ET.XMLParser(encoding=\"UTF-8\", recover=True)\n",
    "    for document in tqdm(updated_biorxiv_journal_df.document.tolist()):\n",
    "        root = ET.parse(f\"../biorxiv_articles/{document}\", parser=xml_parser).getroot()\n",
    "\n",
    "        date_node = root.xpath(\"//front/article-meta/history/date\")\n",
    "\n",
    "        if len(date_node) == 0:\n",
    "            print(\"Error in xml:\")\n",
    "            print(document)\n",
    "            continue\n",
    "\n",
    "        elif len(date_node) < 2:\n",
    "            date_node = date_node[0]\n",
    "\n",
    "        else:\n",
    "            date_node = date_node[1]\n",
    "\n",
    "        data_row = dict(map(lambda x: (x.tag, x.text), date_node.getchildren()))\n",
    "\n",
    "        data_records.append(\n",
    "            {\n",
    "                \"month\": f\"{data_row['year']}-{int(data_row['month']):02d}\",\n",
    "                \"document\": document,\n",
    "            }\n",
    "        )"
   ]
  },
  {
   "cell_type": "code",
   "execution_count": 13,
   "metadata": {
    "ExecuteTime": {
     "end_time": "2021-09-29T15:22:10.909298Z",
     "start_time": "2021-09-29T15:22:10.744790Z"
    }
   },
   "outputs": [
    {
     "name": "stdout",
     "output_type": "stream",
     "text": [
      "(71118, 9)\n"
     ]
    },
    {
     "data": {
      "text/html": [
       "<div>\n",
       "<style scoped>\n",
       "    .dataframe tbody tr th:only-of-type {\n",
       "        vertical-align: middle;\n",
       "    }\n",
       "\n",
       "    .dataframe tbody tr th {\n",
       "        vertical-align: top;\n",
       "    }\n",
       "\n",
       "    .dataframe thead th {\n",
       "        text-align: right;\n",
       "    }\n",
       "</style>\n",
       "<table border=\"1\" class=\"dataframe\">\n",
       "  <thead>\n",
       "    <tr style=\"text-align: right;\">\n",
       "      <th></th>\n",
       "      <th>pub_month</th>\n",
       "      <th>document</th>\n",
       "      <th>doi</th>\n",
       "      <th>published</th>\n",
       "      <th>pmcoa</th>\n",
       "      <th>category</th>\n",
       "      <th>journal</th>\n",
       "      <th>published_doi</th>\n",
       "      <th>pmcid</th>\n",
       "    </tr>\n",
       "  </thead>\n",
       "  <tbody>\n",
       "    <tr>\n",
       "      <th>0</th>\n",
       "      <td>2014-01</td>\n",
       "      <td>002097_v1.xml</td>\n",
       "      <td>10.1101/002097</td>\n",
       "      <td>True</td>\n",
       "      <td>True</td>\n",
       "      <td>bioinformatics</td>\n",
       "      <td>NaN</td>\n",
       "      <td>NaN</td>\n",
       "      <td>NaN</td>\n",
       "    </tr>\n",
       "    <tr>\n",
       "      <th>1</th>\n",
       "      <td>2019-03</td>\n",
       "      <td>568642_v1.xml</td>\n",
       "      <td>10.1101/568642</td>\n",
       "      <td>True</td>\n",
       "      <td>True</td>\n",
       "      <td>developmental biology</td>\n",
       "      <td>NaN</td>\n",
       "      <td>NaN</td>\n",
       "      <td>NaN</td>\n",
       "    </tr>\n",
       "    <tr>\n",
       "      <th>2</th>\n",
       "      <td>2019-03</td>\n",
       "      <td>567537_v1.xml</td>\n",
       "      <td>10.1101/567537</td>\n",
       "      <td>True</td>\n",
       "      <td>True</td>\n",
       "      <td>epidemiology</td>\n",
       "      <td>NaN</td>\n",
       "      <td>NaN</td>\n",
       "      <td>NaN</td>\n",
       "    </tr>\n",
       "    <tr>\n",
       "      <th>3</th>\n",
       "      <td>2019-03</td>\n",
       "      <td>568477_v1.xml</td>\n",
       "      <td>10.1101/568477</td>\n",
       "      <td>True</td>\n",
       "      <td>True</td>\n",
       "      <td>microbiology</td>\n",
       "      <td>NaN</td>\n",
       "      <td>NaN</td>\n",
       "      <td>NaN</td>\n",
       "    </tr>\n",
       "    <tr>\n",
       "      <th>4</th>\n",
       "      <td>2018-12</td>\n",
       "      <td>490409_v1.xml</td>\n",
       "      <td>10.1101/490409</td>\n",
       "      <td>True</td>\n",
       "      <td>True</td>\n",
       "      <td>neuroscience</td>\n",
       "      <td>NaN</td>\n",
       "      <td>NaN</td>\n",
       "      <td>NaN</td>\n",
       "    </tr>\n",
       "  </tbody>\n",
       "</table>\n",
       "</div>"
      ],
      "text/plain": [
       "  pub_month       document             doi  published  pmcoa  \\\n",
       "0   2014-01  002097_v1.xml  10.1101/002097       True   True   \n",
       "1   2019-03  568642_v1.xml  10.1101/568642       True   True   \n",
       "2   2019-03  567537_v1.xml  10.1101/567537       True   True   \n",
       "3   2019-03  568477_v1.xml  10.1101/568477       True   True   \n",
       "4   2018-12  490409_v1.xml  10.1101/490409       True   True   \n",
       "\n",
       "                category journal published_doi pmcid  \n",
       "0         bioinformatics     NaN           NaN   NaN  \n",
       "1  developmental biology     NaN           NaN   NaN  \n",
       "2           epidemiology     NaN           NaN   NaN  \n",
       "3           microbiology     NaN           NaN   NaN  \n",
       "4           neuroscience     NaN           NaN   NaN  "
      ]
     },
     "execution_count": 13,
     "metadata": {},
     "output_type": "execute_result"
    }
   ],
   "source": [
    "if not file_path.exists():\n",
    "    published_preprint_df = pd.DataFrame.from_records(\n",
    "        data_records\n",
    "        + [\n",
    "            {\"month\": \"2018-09\", \"document\": \"423517_v1.xml\"},\n",
    "            {\"month\": \"2019-01\", \"document\": \"528299_v1.xml\"},\n",
    "        ]\n",
    "    )\n",
    "else:\n",
    "    published_preprint_df = pd.read_csv(file_path, sep=\"\\t\")\n",
    "print(published_preprint_df.shape)\n",
    "published_preprint_df.head()"
   ]
  },
  {
   "cell_type": "code",
   "execution_count": 14,
   "metadata": {
    "ExecuteTime": {
     "end_time": "2021-09-29T15:22:11.016994Z",
     "start_time": "2021-09-29T15:22:10.910324Z"
    }
   },
   "outputs": [
    {
     "name": "stdout",
     "output_type": "stream",
     "text": [
      "(71118, 8)\n"
     ]
    },
    {
     "data": {
      "text/html": [
       "<div>\n",
       "<style scoped>\n",
       "    .dataframe tbody tr th:only-of-type {\n",
       "        vertical-align: middle;\n",
       "    }\n",
       "\n",
       "    .dataframe tbody tr th {\n",
       "        vertical-align: top;\n",
       "    }\n",
       "\n",
       "    .dataframe thead th {\n",
       "        text-align: right;\n",
       "    }\n",
       "</style>\n",
       "<table border=\"1\" class=\"dataframe\">\n",
       "  <thead>\n",
       "    <tr style=\"text-align: right;\">\n",
       "      <th></th>\n",
       "      <th>document</th>\n",
       "      <th>pub_month</th>\n",
       "      <th>preprint_doi</th>\n",
       "      <th>published</th>\n",
       "      <th>pmcoa</th>\n",
       "      <th>category</th>\n",
       "      <th>published_doi</th>\n",
       "      <th>pmcid</th>\n",
       "    </tr>\n",
       "  </thead>\n",
       "  <tbody>\n",
       "    <tr>\n",
       "      <th>0</th>\n",
       "      <td>002097_v1.xml</td>\n",
       "      <td>2014-01</td>\n",
       "      <td>10.1101/002097</td>\n",
       "      <td>False</td>\n",
       "      <td>False</td>\n",
       "      <td>bioinformatics</td>\n",
       "      <td>NaN</td>\n",
       "      <td>NaN</td>\n",
       "    </tr>\n",
       "    <tr>\n",
       "      <th>1</th>\n",
       "      <td>568642_v1.xml</td>\n",
       "      <td>2019-03</td>\n",
       "      <td>10.1101/568642</td>\n",
       "      <td>True</td>\n",
       "      <td>True</td>\n",
       "      <td>developmental biology</td>\n",
       "      <td>NaN</td>\n",
       "      <td>NaN</td>\n",
       "    </tr>\n",
       "    <tr>\n",
       "      <th>2</th>\n",
       "      <td>567537_v1.xml</td>\n",
       "      <td>2019-03</td>\n",
       "      <td>10.1101/567537</td>\n",
       "      <td>True</td>\n",
       "      <td>True</td>\n",
       "      <td>epidemiology</td>\n",
       "      <td>NaN</td>\n",
       "      <td>NaN</td>\n",
       "    </tr>\n",
       "    <tr>\n",
       "      <th>3</th>\n",
       "      <td>568477_v1.xml</td>\n",
       "      <td>2019-03</td>\n",
       "      <td>10.1101/568477</td>\n",
       "      <td>True</td>\n",
       "      <td>True</td>\n",
       "      <td>microbiology</td>\n",
       "      <td>NaN</td>\n",
       "      <td>NaN</td>\n",
       "    </tr>\n",
       "    <tr>\n",
       "      <th>4</th>\n",
       "      <td>490409_v1.xml</td>\n",
       "      <td>2018-12</td>\n",
       "      <td>10.1101/490409</td>\n",
       "      <td>True</td>\n",
       "      <td>True</td>\n",
       "      <td>neuroscience</td>\n",
       "      <td>NaN</td>\n",
       "      <td>NaN</td>\n",
       "    </tr>\n",
       "    <tr>\n",
       "      <th>...</th>\n",
       "      <td>...</td>\n",
       "      <td>...</td>\n",
       "      <td>...</td>\n",
       "      <td>...</td>\n",
       "      <td>...</td>\n",
       "      <td>...</td>\n",
       "      <td>...</td>\n",
       "      <td>...</td>\n",
       "    </tr>\n",
       "    <tr>\n",
       "      <th>71113</th>\n",
       "      <td>872952_v1.xml</td>\n",
       "      <td>2019-12</td>\n",
       "      <td>10.1101/872952</td>\n",
       "      <td>False</td>\n",
       "      <td>False</td>\n",
       "      <td>cell biology</td>\n",
       "      <td>NaN</td>\n",
       "      <td>NaN</td>\n",
       "    </tr>\n",
       "    <tr>\n",
       "      <th>71114</th>\n",
       "      <td>873109_v1.xml</td>\n",
       "      <td>2019-12</td>\n",
       "      <td>10.1101/873109</td>\n",
       "      <td>False</td>\n",
       "      <td>False</td>\n",
       "      <td>developmental biology</td>\n",
       "      <td>NaN</td>\n",
       "      <td>NaN</td>\n",
       "    </tr>\n",
       "    <tr>\n",
       "      <th>71115</th>\n",
       "      <td>873232_v1.xml</td>\n",
       "      <td>2019-12</td>\n",
       "      <td>10.1101/873232</td>\n",
       "      <td>False</td>\n",
       "      <td>False</td>\n",
       "      <td>developmental biology</td>\n",
       "      <td>NaN</td>\n",
       "      <td>NaN</td>\n",
       "    </tr>\n",
       "    <tr>\n",
       "      <th>71116</th>\n",
       "      <td>423517_v1.xml</td>\n",
       "      <td>2018-09</td>\n",
       "      <td>10.1101/423517</td>\n",
       "      <td>False</td>\n",
       "      <td>False</td>\n",
       "      <td>epidemiology</td>\n",
       "      <td>NaN</td>\n",
       "      <td>NaN</td>\n",
       "    </tr>\n",
       "    <tr>\n",
       "      <th>71117</th>\n",
       "      <td>528299_v1.xml</td>\n",
       "      <td>2019-01</td>\n",
       "      <td>10.1101/528299</td>\n",
       "      <td>False</td>\n",
       "      <td>False</td>\n",
       "      <td>cancer biology</td>\n",
       "      <td>NaN</td>\n",
       "      <td>NaN</td>\n",
       "    </tr>\n",
       "  </tbody>\n",
       "</table>\n",
       "<p>71118 rows × 8 columns</p>\n",
       "</div>"
      ],
      "text/plain": [
       "            document pub_month    preprint_doi  published  pmcoa  \\\n",
       "0      002097_v1.xml   2014-01  10.1101/002097      False  False   \n",
       "1      568642_v1.xml   2019-03  10.1101/568642       True   True   \n",
       "2      567537_v1.xml   2019-03  10.1101/567537       True   True   \n",
       "3      568477_v1.xml   2019-03  10.1101/568477       True   True   \n",
       "4      490409_v1.xml   2018-12  10.1101/490409       True   True   \n",
       "...              ...       ...             ...        ...    ...   \n",
       "71113  872952_v1.xml   2019-12  10.1101/872952      False  False   \n",
       "71114  873109_v1.xml   2019-12  10.1101/873109      False  False   \n",
       "71115  873232_v1.xml   2019-12  10.1101/873232      False  False   \n",
       "71116  423517_v1.xml   2018-09  10.1101/423517      False  False   \n",
       "71117  528299_v1.xml   2019-01  10.1101/528299      False  False   \n",
       "\n",
       "                    category published_doi pmcid  \n",
       "0             bioinformatics           NaN   NaN  \n",
       "1      developmental biology           NaN   NaN  \n",
       "2               epidemiology           NaN   NaN  \n",
       "3               microbiology           NaN   NaN  \n",
       "4               neuroscience           NaN   NaN  \n",
       "...                      ...           ...   ...  \n",
       "71113           cell biology           NaN   NaN  \n",
       "71114  developmental biology           NaN   NaN  \n",
       "71115  developmental biology           NaN   NaN  \n",
       "71116           epidemiology           NaN   NaN  \n",
       "71117         cancer biology           NaN   NaN  \n",
       "\n",
       "[71118 rows x 8 columns]"
      ]
     },
     "execution_count": 14,
     "metadata": {},
     "output_type": "execute_result"
    }
   ],
   "source": [
    "if not file_path.exists():\n",
    "    final_mapped_df = published_preprint_df.merge(\n",
    "        updated_biorxiv_journal_df, on=\"document\"\n",
    "    ).rename(index=str, columns={\"month\": \"pub_month\"})\n",
    "    print(final_mapped_df.shape)\n",
    "else:\n",
    "    final_mapped_df = (\n",
    "        published_preprint_df[[\"document\", \"pub_month\"]]\n",
    "        .merge(updated_biorxiv_journal_df, on=\"document\", how=\"left\")\n",
    "        .rename(index=str, columns={\"month\": \"pub_month\"})\n",
    "    )\n",
    "    print(final_mapped_df.shape)\n",
    "\n",
    "final_mapped_df"
   ]
  },
  {
   "cell_type": "code",
   "execution_count": 15,
   "metadata": {
    "ExecuteTime": {
     "end_time": "2021-09-29T15:22:11.020523Z",
     "start_time": "2021-09-29T15:22:11.018198Z"
    }
   },
   "outputs": [],
   "source": [
    "if not file_path.exists():\n",
    "    (\n",
    "        final_mapped_df.to_csv(\n",
    "            \"output/biorxiv_articles_published_date.tsv\", sep=\"\\t\", index=False\n",
    "        )\n",
    "    )"
   ]
  },
  {
   "cell_type": "code",
   "execution_count": 16,
   "metadata": {
    "ExecuteTime": {
     "end_time": "2021-09-29T15:22:11.255069Z",
     "start_time": "2021-09-29T15:22:11.021751Z"
    }
   },
   "outputs": [
    {
     "data": {
      "text/html": [
       "<div>\n",
       "<style scoped>\n",
       "    .dataframe tbody tr th:only-of-type {\n",
       "        vertical-align: middle;\n",
       "    }\n",
       "\n",
       "    .dataframe tbody tr th {\n",
       "        vertical-align: top;\n",
       "    }\n",
       "\n",
       "    .dataframe thead th {\n",
       "        text-align: right;\n",
       "    }\n",
       "</style>\n",
       "<table border=\"1\" class=\"dataframe\">\n",
       "  <thead>\n",
       "    <tr style=\"text-align: right;\">\n",
       "      <th></th>\n",
       "      <th>pub_month</th>\n",
       "      <th>published</th>\n",
       "      <th>posted</th>\n",
       "      <th>published_closed</th>\n",
       "      <th>label</th>\n",
       "      <th>rate</th>\n",
       "    </tr>\n",
       "  </thead>\n",
       "  <tbody>\n",
       "    <tr>\n",
       "      <th>0</th>\n",
       "      <td>2013-11</td>\n",
       "      <td>27</td>\n",
       "      <td>49</td>\n",
       "      <td>12</td>\n",
       "      <td>2020 Snapshot</td>\n",
       "      <td>0.551020</td>\n",
       "    </tr>\n",
       "    <tr>\n",
       "      <th>1</th>\n",
       "      <td>2013-12</td>\n",
       "      <td>33</td>\n",
       "      <td>42</td>\n",
       "      <td>12</td>\n",
       "      <td>2020 Snapshot</td>\n",
       "      <td>0.785714</td>\n",
       "    </tr>\n",
       "    <tr>\n",
       "      <th>2</th>\n",
       "      <td>2014-01</td>\n",
       "      <td>31</td>\n",
       "      <td>50</td>\n",
       "      <td>14</td>\n",
       "      <td>2020 Snapshot</td>\n",
       "      <td>0.620000</td>\n",
       "    </tr>\n",
       "    <tr>\n",
       "      <th>3</th>\n",
       "      <td>2014-02</td>\n",
       "      <td>40</td>\n",
       "      <td>60</td>\n",
       "      <td>15</td>\n",
       "      <td>2020 Snapshot</td>\n",
       "      <td>0.666667</td>\n",
       "    </tr>\n",
       "    <tr>\n",
       "      <th>4</th>\n",
       "      <td>2014-03</td>\n",
       "      <td>32</td>\n",
       "      <td>43</td>\n",
       "      <td>13</td>\n",
       "      <td>2020 Snapshot</td>\n",
       "      <td>0.744186</td>\n",
       "    </tr>\n",
       "  </tbody>\n",
       "</table>\n",
       "</div>"
      ],
      "text/plain": [
       "  pub_month  published  posted  published_closed          label      rate\n",
       "0   2013-11         27      49                12  2020 Snapshot  0.551020\n",
       "1   2013-12         33      42                12  2020 Snapshot  0.785714\n",
       "2   2014-01         31      50                14  2020 Snapshot  0.620000\n",
       "3   2014-02         40      60                15  2020 Snapshot  0.666667\n",
       "4   2014-03         32      43                13  2020 Snapshot  0.744186"
      ]
     },
     "execution_count": 16,
     "metadata": {},
     "output_type": "execute_result"
    }
   ],
   "source": [
    "# replacing 2013-10 with 2013-11 as bioRxiv officially started in nov 2013\n",
    "snapshot_wo_links_df = (\n",
    "    biorxiv_journal_df.assign(published_closed=lambda x: (x.pmcoa != x.published))\n",
    "    .merge(final_mapped_df[[\"document\", \"pub_month\"]], on=\"document\")\n",
    "    .replace({\"2013-10\": \"2013-11\"})\n",
    "    .groupby(\"pub_month\")\n",
    "    .agg(\n",
    "        {\n",
    "            \"published\": lambda x: x.sum(),\n",
    "            \"pub_month\": \"count\",\n",
    "            \"published_closed\": lambda x: x.sum(),\n",
    "        }\n",
    "    )\n",
    "    .rename(index=str, columns={\"pub_month\": \"posted\"})\n",
    "    .reset_index()\n",
    "    .assign(label=\"2020 Snapshot\", rate=lambda x: x.published / x.posted)\n",
    ")\n",
    "snapshot_wo_links_df.head()"
   ]
  },
  {
   "cell_type": "code",
   "execution_count": 17,
   "metadata": {
    "ExecuteTime": {
     "end_time": "2021-09-29T15:22:11.343536Z",
     "start_time": "2021-09-29T15:22:11.256326Z"
    }
   },
   "outputs": [
    {
     "data": {
      "text/html": [
       "<div>\n",
       "<style scoped>\n",
       "    .dataframe tbody tr th:only-of-type {\n",
       "        vertical-align: middle;\n",
       "    }\n",
       "\n",
       "    .dataframe tbody tr th {\n",
       "        vertical-align: top;\n",
       "    }\n",
       "\n",
       "    .dataframe thead th {\n",
       "        text-align: right;\n",
       "    }\n",
       "</style>\n",
       "<table border=\"1\" class=\"dataframe\">\n",
       "  <thead>\n",
       "    <tr style=\"text-align: right;\">\n",
       "      <th></th>\n",
       "      <th>pub_month</th>\n",
       "      <th>published</th>\n",
       "      <th>posted</th>\n",
       "      <th>rate</th>\n",
       "      <th>label</th>\n",
       "    </tr>\n",
       "  </thead>\n",
       "  <tbody>\n",
       "    <tr>\n",
       "      <th>0</th>\n",
       "      <td>2013-11</td>\n",
       "      <td>28</td>\n",
       "      <td>49</td>\n",
       "      <td>0.571429</td>\n",
       "      <td>2020 Snapshot+Missing Links</td>\n",
       "    </tr>\n",
       "    <tr>\n",
       "      <th>1</th>\n",
       "      <td>2013-12</td>\n",
       "      <td>33</td>\n",
       "      <td>42</td>\n",
       "      <td>0.785714</td>\n",
       "      <td>2020 Snapshot+Missing Links</td>\n",
       "    </tr>\n",
       "    <tr>\n",
       "      <th>2</th>\n",
       "      <td>2014-01</td>\n",
       "      <td>32</td>\n",
       "      <td>50</td>\n",
       "      <td>0.640000</td>\n",
       "      <td>2020 Snapshot+Missing Links</td>\n",
       "    </tr>\n",
       "    <tr>\n",
       "      <th>3</th>\n",
       "      <td>2014-02</td>\n",
       "      <td>41</td>\n",
       "      <td>60</td>\n",
       "      <td>0.683333</td>\n",
       "      <td>2020 Snapshot+Missing Links</td>\n",
       "    </tr>\n",
       "    <tr>\n",
       "      <th>4</th>\n",
       "      <td>2014-03</td>\n",
       "      <td>32</td>\n",
       "      <td>43</td>\n",
       "      <td>0.744186</td>\n",
       "      <td>2020 Snapshot+Missing Links</td>\n",
       "    </tr>\n",
       "  </tbody>\n",
       "</table>\n",
       "</div>"
      ],
      "text/plain": [
       "  pub_month  published  posted      rate                        label\n",
       "0   2013-11         28      49  0.571429  2020 Snapshot+Missing Links\n",
       "1   2013-12         33      42  0.785714  2020 Snapshot+Missing Links\n",
       "2   2014-01         32      50  0.640000  2020 Snapshot+Missing Links\n",
       "3   2014-02         41      60  0.683333  2020 Snapshot+Missing Links\n",
       "4   2014-03         32      43  0.744186  2020 Snapshot+Missing Links"
      ]
     },
     "execution_count": 17,
     "metadata": {},
     "output_type": "execute_result"
    }
   ],
   "source": [
    "snapshot_w_links_df = (\n",
    "    final_mapped_df.replace({\"2013-10\": \"2013-11\"})\n",
    "    .groupby(\"pub_month\")\n",
    "    .agg({\"published\": lambda x: x.sum(), \"pub_month\": \"count\"})\n",
    "    .rename(index=str, columns={\"pub_month\": \"posted\"})\n",
    "    .reset_index()\n",
    "    .assign(rate=lambda x: x.published / x.posted, label=\"2020 Snapshot+Missing Links\")\n",
    ")\n",
    "snapshot_w_links_df.head()"
   ]
  },
  {
   "cell_type": "markdown",
   "metadata": {},
   "source": [
    "## Calculate the publication rate"
   ]
  },
  {
   "cell_type": "code",
   "execution_count": 18,
   "metadata": {
    "ExecuteTime": {
     "end_time": "2021-09-29T15:22:11.358756Z",
     "start_time": "2021-09-29T15:22:11.344710Z"
    }
   },
   "outputs": [
    {
     "data": {
      "text/html": [
       "<div>\n",
       "<style scoped>\n",
       "    .dataframe tbody tr th:only-of-type {\n",
       "        vertical-align: middle;\n",
       "    }\n",
       "\n",
       "    .dataframe tbody tr th {\n",
       "        vertical-align: top;\n",
       "    }\n",
       "\n",
       "    .dataframe thead th {\n",
       "        text-align: right;\n",
       "    }\n",
       "</style>\n",
       "<table border=\"1\" class=\"dataframe\">\n",
       "  <thead>\n",
       "    <tr style=\"text-align: right;\">\n",
       "      <th></th>\n",
       "      <th>pub_month</th>\n",
       "      <th>published</th>\n",
       "      <th>posted</th>\n",
       "      <th>rate</th>\n",
       "      <th>label</th>\n",
       "    </tr>\n",
       "  </thead>\n",
       "  <tbody>\n",
       "    <tr>\n",
       "      <th>115</th>\n",
       "      <td>2017-03</td>\n",
       "      <td>560</td>\n",
       "      <td>812</td>\n",
       "      <td>0.689655</td>\n",
       "      <td>Abdill et al. (2018)</td>\n",
       "    </tr>\n",
       "    <tr>\n",
       "      <th>41</th>\n",
       "      <td>2017-04</td>\n",
       "      <td>515</td>\n",
       "      <td>715</td>\n",
       "      <td>0.720280</td>\n",
       "      <td>2020 Snapshot+Missing Links</td>\n",
       "    </tr>\n",
       "    <tr>\n",
       "      <th>173</th>\n",
       "      <td>2016-12</td>\n",
       "      <td>358</td>\n",
       "      <td>527</td>\n",
       "      <td>0.679317</td>\n",
       "      <td>2020 Snapshot</td>\n",
       "    </tr>\n",
       "    <tr>\n",
       "      <th>83</th>\n",
       "      <td>2014-07</td>\n",
       "      <td>46</td>\n",
       "      <td>67</td>\n",
       "      <td>0.686567</td>\n",
       "      <td>Abdill et al. (2018)</td>\n",
       "    </tr>\n",
       "    <tr>\n",
       "      <th>111</th>\n",
       "      <td>2016-11</td>\n",
       "      <td>316</td>\n",
       "      <td>463</td>\n",
       "      <td>0.682505</td>\n",
       "      <td>Abdill et al. (2018)</td>\n",
       "    </tr>\n",
       "    <tr>\n",
       "      <th>65</th>\n",
       "      <td>2019-04</td>\n",
       "      <td>951</td>\n",
       "      <td>2283</td>\n",
       "      <td>0.416557</td>\n",
       "      <td>2020 Snapshot+Missing Links</td>\n",
       "    </tr>\n",
       "    <tr>\n",
       "      <th>165</th>\n",
       "      <td>2016-04</td>\n",
       "      <td>204</td>\n",
       "      <td>318</td>\n",
       "      <td>0.641509</td>\n",
       "      <td>2020 Snapshot</td>\n",
       "    </tr>\n",
       "    <tr>\n",
       "      <th>110</th>\n",
       "      <td>2016-10</td>\n",
       "      <td>311</td>\n",
       "      <td>455</td>\n",
       "      <td>0.683516</td>\n",
       "      <td>Abdill et al. (2018)</td>\n",
       "    </tr>\n",
       "    <tr>\n",
       "      <th>178</th>\n",
       "      <td>2017-05</td>\n",
       "      <td>628</td>\n",
       "      <td>904</td>\n",
       "      <td>0.694690</td>\n",
       "      <td>2020 Snapshot</td>\n",
       "    </tr>\n",
       "    <tr>\n",
       "      <th>160</th>\n",
       "      <td>2015-11</td>\n",
       "      <td>146</td>\n",
       "      <td>217</td>\n",
       "      <td>0.672811</td>\n",
       "      <td>2020 Snapshot</td>\n",
       "    </tr>\n",
       "  </tbody>\n",
       "</table>\n",
       "</div>"
      ],
      "text/plain": [
       "    pub_month  published  posted      rate                        label\n",
       "115   2017-03        560     812  0.689655         Abdill et al. (2018)\n",
       "41    2017-04        515     715  0.720280  2020 Snapshot+Missing Links\n",
       "173   2016-12        358     527  0.679317                2020 Snapshot\n",
       "83    2014-07         46      67  0.686567         Abdill et al. (2018)\n",
       "111   2016-11        316     463  0.682505         Abdill et al. (2018)\n",
       "65    2019-04        951    2283  0.416557  2020 Snapshot+Missing Links\n",
       "165   2016-04        204     318  0.641509                2020 Snapshot\n",
       "110   2016-10        311     455  0.683516         Abdill et al. (2018)\n",
       "178   2017-05        628     904  0.694690                2020 Snapshot\n",
       "160   2015-11        146     217  0.672811                2020 Snapshot"
      ]
     },
     "execution_count": 18,
     "metadata": {},
     "output_type": "execute_result"
    }
   ],
   "source": [
    "publish_rate_df = (\n",
    "    snapshot_w_links_df.append(\n",
    "        abdill_df.assign(label=\"Abdill et al. (2018)\").rename(\n",
    "            index=str, columns={\"month\": \"pub_month\"}\n",
    "        ),\n",
    "        sort=False,\n",
    "    )\n",
    "    .append(snapshot_wo_links_df.drop(\"published_closed\", axis=1))\n",
    "    .reset_index(drop=True)\n",
    ")\n",
    "publish_rate_df.sample(10, random_state=100)"
   ]
  },
  {
   "cell_type": "code",
   "execution_count": 19,
   "metadata": {
    "ExecuteTime": {
     "end_time": "2021-09-29T15:22:11.373592Z",
     "start_time": "2021-09-29T15:22:11.359861Z"
    }
   },
   "outputs": [
    {
     "name": "stdout",
     "output_type": "stream",
     "text": [
      "Published: 32927\n",
      "Posted: 71118\n",
      "Overall proportion published: 0.4630\n"
     ]
    }
   ],
   "source": [
    "publish_rate_df[\"pub_month\"] = pd.Categorical(\n",
    "    publish_rate_df.pub_month.values.tolist(), ordered=True\n",
    ")\n",
    "\n",
    "posted = publish_rate_df.query(\"label=='2020 Snapshot+Missing Links'\").posted.sum()\n",
    "\n",
    "published = publish_rate_df.query(\n",
    "    \"label=='2020 Snapshot+Missing Links'\"\n",
    ").published.sum()\n",
    "print(f\"Published: {published}\")\n",
    "print(f\"Posted: {posted}\")\n",
    "print(f\"Overall proportion published: {published/posted:.4f}\")"
   ]
  },
  {
   "cell_type": "markdown",
   "metadata": {},
   "source": [
    "# Plot Publication Rate"
   ]
  },
  {
   "cell_type": "code",
   "execution_count": 20,
   "metadata": {
    "ExecuteTime": {
     "end_time": "2021-09-29T15:22:11.402146Z",
     "start_time": "2021-09-29T15:22:11.374843Z"
    }
   },
   "outputs": [],
   "source": [
    "color_mapper = {\n",
    "    \"2018\": \"#a6cee3\",\n",
    "    \"2020ML\": \"#33a02c\",\n",
    "    \"2020\": \"#1f78b4\",\n",
    "}"
   ]
  },
  {
   "cell_type": "code",
   "execution_count": 21,
   "metadata": {
    "ExecuteTime": {
     "end_time": "2021-09-29T15:22:19.908464Z",
     "start_time": "2021-09-29T15:22:11.403828Z"
    },
    "scrolled": false
   },
   "outputs": [
    {
     "name": "stderr",
     "output_type": "stream",
     "text": [
      "/home/danich1/anaconda3/envs/annorxiver/lib/python3.7/site-packages/plotnine/ggplot.py:729: PlotnineWarning: Saving 11 x 6.5 in image.\n",
      "/home/danich1/anaconda3/envs/annorxiver/lib/python3.7/site-packages/plotnine/ggplot.py:730: PlotnineWarning: Filename: output/figures/publication_rate.svg\n",
      "/home/danich1/anaconda3/envs/annorxiver/lib/python3.7/site-packages/plotnine/ggplot.py:729: PlotnineWarning: Saving 11 x 6.5 in image.\n",
      "/home/danich1/anaconda3/envs/annorxiver/lib/python3.7/site-packages/plotnine/ggplot.py:730: PlotnineWarning: Filename: output/figures/publication_rate.png\n"
     ]
    },
    {
     "data": {
      "image/png": "[encoded data removed]",
      "text/plain": [
       "<Figure size 1100x650 with 1 Axes>"
      ]
     },
     "metadata": {},
     "output_type": "display_data"
    },
    {
     "name": "stdout",
     "output_type": "stream",
     "text": [
      "<ggplot: (-9223363284798056213)>\n"
     ]
    }
   ],
   "source": [
    "g = (\n",
    "    p9.ggplot(publish_rate_df.rename(index=str, columns={\"label\": \"Label\"}))\n",
    "    + p9.aes(\n",
    "        x=\"pub_month\",\n",
    "        y=\"rate\",\n",
    "        fill=\"Label\",\n",
    "        group=\"Label\",\n",
    "        color=\"Label\",\n",
    "        linetype=\"Label\",\n",
    "        shape=\"Label\",\n",
    "    )\n",
    "    + p9.geom_point(size=2)\n",
    "    + p9.geom_line()\n",
    "    + p9.scale_linetype_manual([\"solid\", \"solid\", \"solid\"])\n",
    "    + p9.scale_color_manual(\n",
    "        [color_mapper[\"2020\"], color_mapper[\"2020ML\"], color_mapper[\"2018\"]]\n",
    "    )\n",
    "    + p9.scale_fill_manual(\n",
    "        [color_mapper[\"2020\"], color_mapper[\"2020ML\"], color_mapper[\"2018\"]]\n",
    "    )\n",
    "    + p9.scale_shape_manual([\"o\", \"o\", \"o\"])\n",
    "    # plot the x axis titles\n",
    "    + p9.geom_vline(xintercept=[2.5, 14.5, 26.5, 38.5, 50.5, 62.5, 74.5])\n",
    "    + p9.geom_text(label=\"2014\", x=8.5, y=0, color=\"black\", size=13)\n",
    "    + p9.geom_text(label=\"2015\", x=20.5, y=0, color=\"black\", size=13)\n",
    "    + p9.geom_text(label=\"2016\", x=32.5, y=0, color=\"black\", size=13)\n",
    "    + p9.geom_text(label=\"2017\", x=44.5, y=0, color=\"black\", size=13)\n",
    "    + p9.geom_text(label=\"2018\", x=56.5, y=0, color=\"black\", size=13)\n",
    "    + p9.geom_text(label=\"2019\", x=68.5, y=0, color=\"black\", size=13)\n",
    "    # Plot the overall proportion published\n",
    "    + p9.geom_hline(yintercept=0.4196, linetype=\"solid\", color=color_mapper[\"2018\"])\n",
    "    + p9.geom_hline(\n",
    "        yintercept=published / posted, linetype=\"solid\", color=color_mapper[\"2020ML\"]\n",
    "    )\n",
    "    + p9.annotate(\"text\", x=8.5, y=0.395, label=\"overall: 0.4196\", size=14)\n",
    "    + p9.annotate(\n",
    "        \"text\", x=8.5, y=0.48, label=f\"overall: {published/posted:.4f}\", size=14\n",
    "    )\n",
    "    + p9.theme_seaborn(style=\"ticks\", context=\"paper\", font=\"Arial\", font_scale=2)\n",
    "    + p9.theme(\n",
    "        figure_size=(11, 6.5),\n",
    "        axis_text_x=p9.element_blank(),\n",
    "        axis_title_x=p9.element_text(margin={\"t\": 15}),\n",
    "    )\n",
    "    + p9.labs(y=\"Proportion Published\", x=\"Month\")\n",
    ")\n",
    "g.save(\"output/figures/publication_rate.svg\")\n",
    "g.save(\"output/figures/publication_rate.png\", dpi=250)\n",
    "print(g)"
   ]
  },
  {
   "cell_type": "markdown",
   "metadata": {},
   "source": [
    "# Plot Publication Rate"
   ]
  },
  {
   "cell_type": "code",
   "execution_count": 22,
   "metadata": {
    "ExecuteTime": {
     "end_time": "2021-09-29T15:22:19.924584Z",
     "start_time": "2021-09-29T15:22:19.909536Z"
    }
   },
   "outputs": [
    {
     "name": "stdout",
     "output_type": "stream",
     "text": [
      "Published: 32927\n",
      "Posted: 71118\n",
      "Overall proportion published: 0.4630\n"
     ]
    }
   ],
   "source": [
    "publish_rate_df[\"pub_month\"] = pd.Categorical(\n",
    "    publish_rate_df.pub_month.values.tolist(), ordered=True\n",
    ")\n",
    "\n",
    "posted_recency_adj = (\n",
    "    publish_rate_df.query(\"label=='2020 Snapshot+Missing Links'\")\n",
    "    .query(\"pub_month < '2019-01'\")\n",
    "    .posted.sum()\n",
    ")\n",
    "\n",
    "published_recency_adj = (\n",
    "    publish_rate_df.query(\"label=='2020 Snapshot+Missing Links'\")\n",
    "    .query(\"pub_month < '2019-01'\")\n",
    "    .published.sum()\n",
    ")\n",
    "\n",
    "posted = publish_rate_df.query(\"label=='2020 Snapshot+Missing Links'\").posted.sum()\n",
    "\n",
    "published = publish_rate_df.query(\n",
    "    \"label=='2020 Snapshot+Missing Links'\"\n",
    ").published.sum()\n",
    "\n",
    "\n",
    "print(f\"Published: {published}\")\n",
    "print(f\"Posted: {posted}\")\n",
    "print(f\"Overall proportion published: {published/posted:.4f}\")"
   ]
  },
  {
   "cell_type": "code",
   "execution_count": 23,
   "metadata": {
    "ExecuteTime": {
     "end_time": "2021-09-29T15:22:19.945554Z",
     "start_time": "2021-09-29T15:22:19.926655Z"
    }
   },
   "outputs": [],
   "source": [
    "color_mapper = {\n",
    "    \"2018\": \"#a6cee3\",\n",
    "    \"2020ML\": \"#33a02c\",\n",
    "    \"2020\": \"#1f78b4\",\n",
    "}"
   ]
  },
  {
   "cell_type": "code",
   "execution_count": 29,
   "metadata": {
    "ExecuteTime": {
     "end_time": "2021-09-29T15:28:21.850685Z",
     "start_time": "2021-09-29T15:28:12.875660Z"
    },
    "scrolled": false
   },
   "outputs": [
    {
     "name": "stderr",
     "output_type": "stream",
     "text": [
      "/home/danich1/anaconda3/envs/annorxiver/lib/python3.7/site-packages/plotnine/ggplot.py:729: PlotnineWarning: Saving 11 x 8.5 in image.\n",
      "/home/danich1/anaconda3/envs/annorxiver/lib/python3.7/site-packages/plotnine/ggplot.py:730: PlotnineWarning: Filename: output/figures/publication_rate_reviewer_request.svg\n",
      "/home/danich1/anaconda3/envs/annorxiver/lib/python3.7/site-packages/plotnine/ggplot.py:729: PlotnineWarning: Saving 11 x 8.5 in image.\n",
      "/home/danich1/anaconda3/envs/annorxiver/lib/python3.7/site-packages/plotnine/ggplot.py:730: PlotnineWarning: Filename: output/figures/publication_rate_reviewer_request.png\n"
     ]
    },
    {
     "data": {
      "image/png": "[encoded data removed]",
      "text/plain": [
       "<Figure size 1100x850 with 1 Axes>"
      ]
     },
     "metadata": {},
     "output_type": "display_data"
    },
    {
     "name": "stdout",
     "output_type": "stream",
     "text": [
      "<ggplot: (8752056618970)>\n"
     ]
    }
   ],
   "source": [
    "g = (\n",
    "    p9.ggplot(publish_rate_df.rename(index=str, columns={\"label\": \"Label\"}))\n",
    "    + p9.aes(\n",
    "        x=\"pub_month\",\n",
    "        y=\"rate\",\n",
    "        fill=\"Label\",\n",
    "        group=\"Label\",\n",
    "        color=\"Label\",\n",
    "        linetype=\"Label\",\n",
    "        shape=\"Label\",\n",
    "    )\n",
    "    + p9.geom_point(size=2)\n",
    "    + p9.geom_line()\n",
    "    + p9.scale_linetype_manual([\"solid\", \"solid\", \"solid\"])\n",
    "    + p9.scale_color_manual(\n",
    "        [color_mapper[\"2020\"], color_mapper[\"2020ML\"], color_mapper[\"2018\"]]\n",
    "    )\n",
    "    + p9.scale_fill_manual(\n",
    "        [color_mapper[\"2020\"], color_mapper[\"2020ML\"], color_mapper[\"2018\"]]\n",
    "    )\n",
    "    + p9.scale_shape_manual([\"o\", \"o\", \"o\"])\n",
    "    # plot the x axis titles\n",
    "    + p9.geom_vline(xintercept=[2.5, 14.5, 26.5, 38.5, 50.5, 62.5, 74.5])\n",
    "    + p9.geom_text(label=\"2014\", x=8.5, y=0, color=\"black\", size=13)\n",
    "    + p9.geom_text(label=\"2015\", x=20.5, y=0, color=\"black\", size=13)\n",
    "    + p9.geom_text(label=\"2016\", x=32.5, y=0, color=\"black\", size=13)\n",
    "    + p9.geom_text(label=\"2017\", x=44.5, y=0, color=\"black\", size=13)\n",
    "    + p9.geom_text(label=\"2018\", x=56.5, y=0, color=\"black\", size=13)\n",
    "    + p9.geom_text(label=\"2019\", x=68.5, y=0, color=\"black\", size=13)\n",
    "    # Plot the overall proportion published\n",
    "    + p9.geom_hline(yintercept=0.4196, linetype=\"solid\", color=color_mapper[\"2018\"])\n",
    "    + p9.geom_hline(\n",
    "        yintercept=published / posted, linetype=\"solid\", color=color_mapper[\"2020ML\"]\n",
    "    )\n",
    "    + p9.geom_hline(\n",
    "        yintercept=published_recency_adj / posted_recency_adj,\n",
    "        linetype=\"dashed\",\n",
    "        color=color_mapper[\"2020ML\"],\n",
    "    )\n",
    "    + p9.annotate(\"text\", x=8.5, y=0.395, label=\"overall: 0.4196\", size=14)\n",
    "    + p9.annotate(\n",
    "        \"text\", x=8.5, y=0.48, label=f\"overall: {published/posted:.4f}\", size=14\n",
    "    )\n",
    "    + p9.annotate(\n",
    "        \"text\",\n",
    "        x=68.5,\n",
    "        y=0.66,\n",
    "        label=f\"overall: {published_recency_adj/posted_recency_adj:.4f}\",\n",
    "        size=14,\n",
    "    )\n",
    "    + p9.theme_seaborn(style=\"ticks\", context=\"paper\", font=\"Arial\", font_scale=2)\n",
    "    + p9.theme(\n",
    "        figure_size=(11, 8.5),\n",
    "        axis_text_x=p9.element_blank(),\n",
    "        axis_title_x=p9.element_text(margin={\"t\": 15}),\n",
    "    )\n",
    "    + p9.labs(y=\"Proportion Published\", x=\"Month\")\n",
    ")\n",
    "g.save(\"output/figures/publication_rate_reviewer_request.svg\")\n",
    "g.save(\"output/figures/publication_rate_reviewer_request.png\", dpi=250)\n",
    "print(g)"
   ]
  }
 ],
 "metadata": {
  "jupytext": {
   "formats": "ipynb,py:light"
  },
  "kernelspec": {
   "display_name": "Python [conda env:annorxiver]",
   "language": "python",
   "name": "conda-env-annorxiver-py"
  },
  "language_info": {
   "codemirror_mode": {
    "name": "ipython",
    "version": 3
   },
   "file_extension": ".py",
   "mimetype": "text/x-python",
   "name": "python",
   "nbconvert_exporter": "python",
   "pygments_lexer": "ipython3",
   "version": "3.7.2"
  },
  "toc": {
   "base_numbering": 1,
   "nav_menu": {},
   "number_sections": true,
   "sideBar": true,
   "skip_h1_title": false,
   "title_cell": "Table of Contents",
   "title_sidebar": "Contents",
   "toc_cell": false,
   "toc_position": {},
   "toc_section_display": true,
   "toc_window_display": false
  }
 },
 "nbformat": 4,
 "nbformat_minor": 2
}
