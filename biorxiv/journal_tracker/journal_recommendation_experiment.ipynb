{
 "cells": [
  {
   "cell_type": "markdown",
   "metadata": {},
   "source": [
    "# Journal Recommendation for Preprints"
   ]
  },
  {
   "cell_type": "markdown",
   "metadata": {},
   "source": [
    "The goal of this notebook is to help users know which journal would be most appropriate for their preprint. The central idea is to use euclidean distance between documents to gauge which journal similar works have been sent."
   ]
  },
  {
   "cell_type": "code",
   "execution_count": 1,
   "metadata": {
    "ExecuteTime": {
     "end_time": "2020-06-05T03:38:44.695222Z",
     "start_time": "2020-06-05T03:38:44.240548Z"
    }
   },
   "outputs": [],
   "source": [
    "%load_ext autoreload\n",
    "%autoreload 2\n",
    "\n",
    "from collections import Counter, defaultdict\n",
    "from pathlib import Path\n",
    "\n",
    "import numpy as np\n",
    "import pandas as pd\n",
    "from sklearn.dummy import DummyClassifier\n",
    "from sklearn.model_selection import GridSearchCV, KFold\n",
    "from sklearn.neighbors import KNeighborsClassifier\n",
    "\n",
    "from tqdm import tqdm_notebook"
   ]
  },
  {
   "cell_type": "code",
   "execution_count": 2,
   "metadata": {
    "ExecuteTime": {
     "end_time": "2020-06-05T03:38:46.102103Z",
     "start_time": "2020-06-05T03:38:46.086889Z"
    }
   },
   "outputs": [],
   "source": [
    "cluster = not True"
   ]
  },
  {
   "cell_type": "markdown",
   "metadata": {},
   "source": [
    "# Load bioRxiv Document Vectors"
   ]
  },
  {
   "cell_type": "code",
   "execution_count": 3,
   "metadata": {
    "ExecuteTime": {
     "end_time": "2020-06-05T03:38:58.358917Z",
     "start_time": "2020-06-05T03:38:58.009720Z"
    }
   },
   "outputs": [
    {
     "data": {
      "text/html": [
       "<div>\n",
       "<style scoped>\n",
       "    .dataframe tbody tr th:only-of-type {\n",
       "        vertical-align: middle;\n",
       "    }\n",
       "\n",
       "    .dataframe tbody tr th {\n",
       "        vertical-align: top;\n",
       "    }\n",
       "\n",
       "    .dataframe thead th {\n",
       "        text-align: right;\n",
       "    }\n",
       "</style>\n",
       "<table border=\"1\" class=\"dataframe\">\n",
       "  <thead>\n",
       "    <tr style=\"text-align: right;\">\n",
       "      <th></th>\n",
       "      <th>document</th>\n",
       "      <th>category</th>\n",
       "      <th>journal</th>\n",
       "      <th>doi</th>\n",
       "      <th>published_doi</th>\n",
       "      <th>pmcid</th>\n",
       "    </tr>\n",
       "  </thead>\n",
       "  <tbody>\n",
       "    <tr>\n",
       "      <td>0</td>\n",
       "      <td>000026_v1.xml</td>\n",
       "      <td>genetics</td>\n",
       "      <td>PLoS Genetics</td>\n",
       "      <td>10.1101/000026</td>\n",
       "      <td>10.1371/journal.pgen.1004412</td>\n",
       "      <td>PMC4125079</td>\n",
       "    </tr>\n",
       "    <tr>\n",
       "      <td>1</td>\n",
       "      <td>000042_v2.xml</td>\n",
       "      <td>genomics</td>\n",
       "      <td>Nature Reviews Genetics</td>\n",
       "      <td>10.1101/000042</td>\n",
       "      <td>10.1038/nrg3723</td>\n",
       "      <td>NaN</td>\n",
       "    </tr>\n",
       "    <tr>\n",
       "      <td>2</td>\n",
       "      <td>000067_v1.xml</td>\n",
       "      <td>genomics</td>\n",
       "      <td>Nature</td>\n",
       "      <td>10.1101/000067</td>\n",
       "      <td>10.1038/nature12904</td>\n",
       "      <td>PMC4285441</td>\n",
       "    </tr>\n",
       "    <tr>\n",
       "      <td>3</td>\n",
       "      <td>000091_v1.xml</td>\n",
       "      <td>synthetic biology</td>\n",
       "      <td>NaN</td>\n",
       "      <td>10.1101/000091</td>\n",
       "      <td>NaN</td>\n",
       "      <td>NaN</td>\n",
       "    </tr>\n",
       "    <tr>\n",
       "      <td>4</td>\n",
       "      <td>000109_v1.xml</td>\n",
       "      <td>evolutionary biology</td>\n",
       "      <td>PLoS Genetics</td>\n",
       "      <td>10.1101/000109</td>\n",
       "      <td>10.1371/journal.pgen.1004410</td>\n",
       "      <td>PMC4072524</td>\n",
       "    </tr>\n",
       "  </tbody>\n",
       "</table>\n",
       "</div>"
      ],
      "text/plain": [
       "        document              category                  journal  \\\n",
       "0  000026_v1.xml              genetics            PLoS Genetics   \n",
       "1  000042_v2.xml              genomics  Nature Reviews Genetics   \n",
       "2  000067_v1.xml              genomics                   Nature   \n",
       "3  000091_v1.xml     synthetic biology                      NaN   \n",
       "4  000109_v1.xml  evolutionary biology            PLoS Genetics   \n",
       "\n",
       "              doi                 published_doi       pmcid  \n",
       "0  10.1101/000026  10.1371/journal.pgen.1004412  PMC4125079  \n",
       "1  10.1101/000042               10.1038/nrg3723         NaN  \n",
       "2  10.1101/000067           10.1038/nature12904  PMC4285441  \n",
       "3  10.1101/000091                           NaN         NaN  \n",
       "4  10.1101/000109  10.1371/journal.pgen.1004410  PMC4072524  "
      ]
     },
     "execution_count": 3,
     "metadata": {},
     "output_type": "execute_result"
    }
   ],
   "source": [
    "if cluster:\n",
    "    biorxiv_journal_df = (\n",
    "        pd.read_csv(\"mapped_published_doi.tsv\", sep=\"\\t\")\n",
    "        .groupby(\"doi\")\n",
    "        .agg({\n",
    "            \"document\":\"last\",\n",
    "            \"category\":\"first\",\n",
    "            \"journal\":\"first\",\n",
    "            \"doi\":\"last\",\n",
    "            \"published_doi\":\"first\",  \n",
    "            \"pmcid\":\"first\", \n",
    "        })\n",
    "        .reset_index(drop=True)\n",
    "    )\n",
    "else:\n",
    "    biorxiv_journal_df = (\n",
    "        pd.read_csv(\"output/mapped_published_doi.tsv\", sep=\"\\t\")\n",
    "        .groupby(\"doi\")\n",
    "        .agg({\n",
    "            \"document\":\"last\",\n",
    "            \"category\":\"first\",\n",
    "            \"journal\":\"first\",\n",
    "            \"doi\":\"last\",\n",
    "            \"published_doi\":\"first\",  \n",
    "            \"pmcid\":\"first\", \n",
    "        })\n",
    "        .reset_index(drop=True)\n",
    "    )\n",
    "biorxiv_journal_df.head()"
   ]
  },
  {
   "cell_type": "code",
   "execution_count": 4,
   "metadata": {
    "ExecuteTime": {
     "end_time": "2020-06-05T03:38:58.375391Z",
     "start_time": "2020-06-05T03:38:58.360136Z"
    }
   },
   "outputs": [
    {
     "name": "stdout",
     "output_type": "stream",
     "text": [
      "Number of Non-NaN entries: 17120\n",
      "Total number of entries: 71118\n",
      "Percent Covered: 0.24\n"
     ]
    }
   ],
   "source": [
    "# Count number of Non-NaN elements\n",
    "print(f\"Number of Non-NaN entries: {biorxiv_journal_df.pmcid.count()}\")\n",
    "print(f\"Total number of entries: {biorxiv_journal_df.shape[0]}\")\n",
    "print(f\"Percent Covered: {biorxiv_journal_df.pmcid.count()/biorxiv_journal_df.shape[0]:.2f}\")"
   ]
  },
  {
   "cell_type": "code",
   "execution_count": 5,
   "metadata": {
    "ExecuteTime": {
     "end_time": "2020-06-05T03:38:58.398632Z",
     "start_time": "2020-06-05T03:38:58.376816Z"
    }
   },
   "outputs": [
    {
     "data": {
      "text/html": [
       "<div>\n",
       "<style scoped>\n",
       "    .dataframe tbody tr th:only-of-type {\n",
       "        vertical-align: middle;\n",
       "    }\n",
       "\n",
       "    .dataframe tbody tr th {\n",
       "        vertical-align: top;\n",
       "    }\n",
       "\n",
       "    .dataframe thead th {\n",
       "        text-align: right;\n",
       "    }\n",
       "</style>\n",
       "<table border=\"1\" class=\"dataframe\">\n",
       "  <thead>\n",
       "    <tr style=\"text-align: right;\">\n",
       "      <th></th>\n",
       "      <th>document</th>\n",
       "      <th>category</th>\n",
       "      <th>journal</th>\n",
       "      <th>doi</th>\n",
       "      <th>published_doi</th>\n",
       "      <th>pmcid</th>\n",
       "    </tr>\n",
       "  </thead>\n",
       "  <tbody>\n",
       "    <tr>\n",
       "      <td>0</td>\n",
       "      <td>000026_v1.xml</td>\n",
       "      <td>genetics</td>\n",
       "      <td>PLoS Genetics</td>\n",
       "      <td>10.1101/000026</td>\n",
       "      <td>10.1371/journal.pgen.1004412</td>\n",
       "      <td>PMC4125079</td>\n",
       "    </tr>\n",
       "    <tr>\n",
       "      <td>2</td>\n",
       "      <td>000067_v1.xml</td>\n",
       "      <td>genomics</td>\n",
       "      <td>Nature</td>\n",
       "      <td>10.1101/000067</td>\n",
       "      <td>10.1038/nature12904</td>\n",
       "      <td>PMC4285441</td>\n",
       "    </tr>\n",
       "    <tr>\n",
       "      <td>4</td>\n",
       "      <td>000109_v1.xml</td>\n",
       "      <td>evolutionary biology</td>\n",
       "      <td>PLoS Genetics</td>\n",
       "      <td>10.1101/000109</td>\n",
       "      <td>10.1371/journal.pgen.1004410</td>\n",
       "      <td>PMC4072524</td>\n",
       "    </tr>\n",
       "    <tr>\n",
       "      <td>6</td>\n",
       "      <td>000141_v1.xml</td>\n",
       "      <td>cancer biology</td>\n",
       "      <td>PLoS Computational Biology</td>\n",
       "      <td>10.1101/000141</td>\n",
       "      <td>10.1371/journal.pcbi.1003433</td>\n",
       "      <td>PMC3894166</td>\n",
       "    </tr>\n",
       "    <tr>\n",
       "      <td>7</td>\n",
       "      <td>000158_v1.xml</td>\n",
       "      <td>bioinformatics</td>\n",
       "      <td>BMC Genomics</td>\n",
       "      <td>10.1101/000158</td>\n",
       "      <td>10.1186/1471-2164-15-398</td>\n",
       "      <td>PMC4041996</td>\n",
       "    </tr>\n",
       "  </tbody>\n",
       "</table>\n",
       "</div>"
      ],
      "text/plain": [
       "        document              category                     journal  \\\n",
       "0  000026_v1.xml              genetics               PLoS Genetics   \n",
       "2  000067_v1.xml              genomics                      Nature   \n",
       "4  000109_v1.xml  evolutionary biology               PLoS Genetics   \n",
       "6  000141_v1.xml        cancer biology  PLoS Computational Biology   \n",
       "7  000158_v1.xml        bioinformatics                BMC Genomics   \n",
       "\n",
       "              doi                 published_doi       pmcid  \n",
       "0  10.1101/000026  10.1371/journal.pgen.1004412  PMC4125079  \n",
       "2  10.1101/000067           10.1038/nature12904  PMC4285441  \n",
       "4  10.1101/000109  10.1371/journal.pgen.1004410  PMC4072524  \n",
       "6  10.1101/000141  10.1371/journal.pcbi.1003433  PMC3894166  \n",
       "7  10.1101/000158      10.1186/1471-2164-15-398  PMC4041996  "
      ]
     },
     "execution_count": 5,
     "metadata": {},
     "output_type": "execute_result"
    }
   ],
   "source": [
    "golden_set_df = biorxiv_journal_df.query(\"pmcid.notnull()\")\n",
    "golden_set_df.head()"
   ]
  },
  {
   "cell_type": "markdown",
   "metadata": {},
   "source": [
    "# Load Pubmed Central Document Vectors"
   ]
  },
  {
   "cell_type": "code",
   "execution_count": 6,
   "metadata": {
    "ExecuteTime": {
     "end_time": "2020-06-05T03:39:02.616262Z",
     "start_time": "2020-06-05T03:38:58.399980Z"
    }
   },
   "outputs": [
    {
     "name": "stdout",
     "output_type": "stream",
     "text": [
      "          journal      article_type                        doi       pmcid\n",
      "0  Environ_Health  research-article     10.1186/1476-069X-5-22  PMC1552054\n",
      "1  Environ_Health  research-article     10.1186/1476-069X-4-12  PMC1226148\n",
      "3  Environ_Health  research-article  10.1186/s12940-017-0316-3  PMC5635510\n",
      "4  Environ_Health  research-article    10.1186/1476-069X-10-46  PMC3125232\n",
      "5  Environ_Health  research-article    10.1186/1476-069X-11-91  PMC3533997\n"
     ]
    }
   ],
   "source": [
    "if cluster:\n",
    "    pmc_articles_df = (\n",
    "        pd.read_csv(\n",
    "            \"pubmed_central_journal_paper_map.tsv.xz\", \n",
    "            sep=\"\\t\"\n",
    "        )\n",
    "        .query(\"article_type=='research-article'\")\n",
    "    )\n",
    "else:\n",
    "    pmc_articles_df = (\n",
    "        pd.read_csv(\n",
    "            \"../../pmc/exploratory_data_analysis/output/pubmed_central_journal_paper_map.tsv.xz\", \n",
    "            sep=\"\\t\"\n",
    "        )\n",
    "        .query(\"article_type=='research-article'\")\n",
    "    )\n",
    "print(pmc_articles_df.head())"
   ]
  },
  {
   "cell_type": "code",
   "execution_count": 7,
   "metadata": {
    "ExecuteTime": {
     "end_time": "2020-06-05T03:39:02.835788Z",
     "start_time": "2020-06-05T03:39:02.617493Z"
    }
   },
   "outputs": [
    {
     "name": "stdout",
     "output_type": "stream",
     "text": [
      "(9112,)\n"
     ]
    },
    {
     "data": {
      "text/plain": [
       "PLoS_One                                     218509\n",
       "Sci_Rep                                      101554\n",
       "Nat_Commun                                    23812\n",
       "Acta_Crystallogr_Sect_E_Struct_Rep_Online     23537\n",
       "J_Exp_Med                                     22687\n",
       "                                              ...  \n",
       "Restor_Ecol                                       1\n",
       "J_Micro_Nanolithogr_MEMS_MOEMS                    1\n",
       "J_Neurosci_Neuropharmacol                         1\n",
       "Flavour_Fragr_J                                   1\n",
       "J_Aggress_Maltreat_Trauma                         1\n",
       "Name: journal, Length: 9112, dtype: int64"
      ]
     },
     "execution_count": 7,
     "metadata": {},
     "output_type": "execute_result"
    }
   ],
   "source": [
    "print(pmc_articles_df.journal.value_counts().shape)\n",
    "journals = pmc_articles_df.journal.value_counts()\n",
    "journals"
   ]
  },
  {
   "cell_type": "code",
   "execution_count": 8,
   "metadata": {
    "ExecuteTime": {
     "end_time": "2020-06-05T03:39:03.052543Z",
     "start_time": "2020-06-05T03:39:02.836851Z"
    }
   },
   "outputs": [
    {
     "name": "stdout",
     "output_type": "stream",
     "text": [
      "(1865604, 4)\n"
     ]
    },
    {
     "data": {
      "text/html": [
       "<div>\n",
       "<style scoped>\n",
       "    .dataframe tbody tr th:only-of-type {\n",
       "        vertical-align: middle;\n",
       "    }\n",
       "\n",
       "    .dataframe tbody tr th {\n",
       "        vertical-align: top;\n",
       "    }\n",
       "\n",
       "    .dataframe thead th {\n",
       "        text-align: right;\n",
       "    }\n",
       "</style>\n",
       "<table border=\"1\" class=\"dataframe\">\n",
       "  <thead>\n",
       "    <tr style=\"text-align: right;\">\n",
       "      <th></th>\n",
       "      <th>journal</th>\n",
       "      <th>article_type</th>\n",
       "      <th>doi</th>\n",
       "      <th>pmcid</th>\n",
       "    </tr>\n",
       "  </thead>\n",
       "  <tbody>\n",
       "    <tr>\n",
       "      <td>0</td>\n",
       "      <td>Environ_Health</td>\n",
       "      <td>research-article</td>\n",
       "      <td>10.1186/1476-069X-5-22</td>\n",
       "      <td>PMC1552054</td>\n",
       "    </tr>\n",
       "    <tr>\n",
       "      <td>1</td>\n",
       "      <td>Environ_Health</td>\n",
       "      <td>research-article</td>\n",
       "      <td>10.1186/1476-069X-4-12</td>\n",
       "      <td>PMC1226148</td>\n",
       "    </tr>\n",
       "    <tr>\n",
       "      <td>3</td>\n",
       "      <td>Environ_Health</td>\n",
       "      <td>research-article</td>\n",
       "      <td>10.1186/s12940-017-0316-3</td>\n",
       "      <td>PMC5635510</td>\n",
       "    </tr>\n",
       "    <tr>\n",
       "      <td>4</td>\n",
       "      <td>Environ_Health</td>\n",
       "      <td>research-article</td>\n",
       "      <td>10.1186/1476-069X-10-46</td>\n",
       "      <td>PMC3125232</td>\n",
       "    </tr>\n",
       "    <tr>\n",
       "      <td>5</td>\n",
       "      <td>Environ_Health</td>\n",
       "      <td>research-article</td>\n",
       "      <td>10.1186/1476-069X-11-91</td>\n",
       "      <td>PMC3533997</td>\n",
       "    </tr>\n",
       "  </tbody>\n",
       "</table>\n",
       "</div>"
      ],
      "text/plain": [
       "          journal      article_type                        doi       pmcid\n",
       "0  Environ_Health  research-article     10.1186/1476-069X-5-22  PMC1552054\n",
       "1  Environ_Health  research-article     10.1186/1476-069X-4-12  PMC1226148\n",
       "3  Environ_Health  research-article  10.1186/s12940-017-0316-3  PMC5635510\n",
       "4  Environ_Health  research-article    10.1186/1476-069X-10-46  PMC3125232\n",
       "5  Environ_Health  research-article    10.1186/1476-069X-11-91  PMC3533997"
      ]
     },
     "execution_count": 8,
     "metadata": {},
     "output_type": "execute_result"
    }
   ],
   "source": [
    "# Filter out low count journals\n",
    "pmc_articles_df = pmc_articles_df.query(f\"journal in {journals[journals > 100].index.tolist()}\")\n",
    "print(pmc_articles_df.shape)\n",
    "pmc_articles_df.head()"
   ]
  },
  {
   "cell_type": "code",
   "execution_count": 9,
   "metadata": {
    "ExecuteTime": {
     "end_time": "2020-06-05T03:51:03.866743Z",
     "start_time": "2020-06-05T03:39:03.053497Z"
    },
    "scrolled": true
   },
   "outputs": [
    {
     "data": {
      "text/html": [
       "<div>\n",
       "<style scoped>\n",
       "    .dataframe tbody tr th:only-of-type {\n",
       "        vertical-align: middle;\n",
       "    }\n",
       "\n",
       "    .dataframe tbody tr th {\n",
       "        vertical-align: top;\n",
       "    }\n",
       "\n",
       "    .dataframe thead th {\n",
       "        text-align: right;\n",
       "    }\n",
       "</style>\n",
       "<table border=\"1\" class=\"dataframe\">\n",
       "  <thead>\n",
       "    <tr style=\"text-align: right;\">\n",
       "      <th></th>\n",
       "      <th>document</th>\n",
       "      <th>feat_0</th>\n",
       "      <th>feat_1</th>\n",
       "      <th>feat_2</th>\n",
       "      <th>feat_3</th>\n",
       "      <th>feat_4</th>\n",
       "      <th>feat_5</th>\n",
       "      <th>feat_6</th>\n",
       "      <th>feat_7</th>\n",
       "      <th>feat_8</th>\n",
       "      <th>...</th>\n",
       "      <th>feat_290</th>\n",
       "      <th>feat_291</th>\n",
       "      <th>feat_292</th>\n",
       "      <th>feat_293</th>\n",
       "      <th>feat_294</th>\n",
       "      <th>feat_295</th>\n",
       "      <th>feat_296</th>\n",
       "      <th>feat_297</th>\n",
       "      <th>feat_298</th>\n",
       "      <th>feat_299</th>\n",
       "    </tr>\n",
       "  </thead>\n",
       "  <tbody>\n",
       "    <tr>\n",
       "      <td>0</td>\n",
       "      <td>PMC1552054</td>\n",
       "      <td>-0.428596</td>\n",
       "      <td>0.004477</td>\n",
       "      <td>-0.153677</td>\n",
       "      <td>0.059131</td>\n",
       "      <td>-0.394598</td>\n",
       "      <td>-0.066383</td>\n",
       "      <td>0.358798</td>\n",
       "      <td>-0.245809</td>\n",
       "      <td>0.431974</td>\n",
       "      <td>...</td>\n",
       "      <td>-0.067994</td>\n",
       "      <td>0.033121</td>\n",
       "      <td>-0.077121</td>\n",
       "      <td>-0.433617</td>\n",
       "      <td>-1.111247</td>\n",
       "      <td>-0.405260</td>\n",
       "      <td>0.293903</td>\n",
       "      <td>0.613155</td>\n",
       "      <td>-0.500204</td>\n",
       "      <td>-0.214057</td>\n",
       "    </tr>\n",
       "    <tr>\n",
       "      <td>1</td>\n",
       "      <td>PMC1226148</td>\n",
       "      <td>-0.434013</td>\n",
       "      <td>-0.185516</td>\n",
       "      <td>-0.070654</td>\n",
       "      <td>0.488759</td>\n",
       "      <td>-0.280275</td>\n",
       "      <td>0.042681</td>\n",
       "      <td>0.116685</td>\n",
       "      <td>0.037062</td>\n",
       "      <td>0.530896</td>\n",
       "      <td>...</td>\n",
       "      <td>0.318905</td>\n",
       "      <td>-0.065244</td>\n",
       "      <td>0.159258</td>\n",
       "      <td>-0.380412</td>\n",
       "      <td>-0.665559</td>\n",
       "      <td>-0.485417</td>\n",
       "      <td>0.180982</td>\n",
       "      <td>0.523053</td>\n",
       "      <td>-0.485158</td>\n",
       "      <td>-0.251244</td>\n",
       "    </tr>\n",
       "    <tr>\n",
       "      <td>2</td>\n",
       "      <td>PMC5635510</td>\n",
       "      <td>-0.248388</td>\n",
       "      <td>0.118660</td>\n",
       "      <td>-0.103008</td>\n",
       "      <td>0.267721</td>\n",
       "      <td>0.278939</td>\n",
       "      <td>-0.220584</td>\n",
       "      <td>0.089593</td>\n",
       "      <td>-0.159638</td>\n",
       "      <td>0.866190</td>\n",
       "      <td>...</td>\n",
       "      <td>0.081127</td>\n",
       "      <td>-0.110091</td>\n",
       "      <td>-0.031617</td>\n",
       "      <td>-0.188741</td>\n",
       "      <td>-0.936947</td>\n",
       "      <td>-0.461118</td>\n",
       "      <td>0.618781</td>\n",
       "      <td>0.647195</td>\n",
       "      <td>-0.270240</td>\n",
       "      <td>-0.409643</td>\n",
       "    </tr>\n",
       "    <tr>\n",
       "      <td>3</td>\n",
       "      <td>PMC3125232</td>\n",
       "      <td>-0.507224</td>\n",
       "      <td>0.024099</td>\n",
       "      <td>-0.039696</td>\n",
       "      <td>-0.171992</td>\n",
       "      <td>0.371326</td>\n",
       "      <td>-0.137797</td>\n",
       "      <td>-0.202616</td>\n",
       "      <td>-0.156994</td>\n",
       "      <td>0.695519</td>\n",
       "      <td>...</td>\n",
       "      <td>-0.218274</td>\n",
       "      <td>-0.022597</td>\n",
       "      <td>-0.028885</td>\n",
       "      <td>-0.250560</td>\n",
       "      <td>-1.140730</td>\n",
       "      <td>-0.568136</td>\n",
       "      <td>0.482088</td>\n",
       "      <td>0.899122</td>\n",
       "      <td>-0.250971</td>\n",
       "      <td>-0.592976</td>\n",
       "    </tr>\n",
       "    <tr>\n",
       "      <td>4</td>\n",
       "      <td>PMC3533997</td>\n",
       "      <td>-0.424435</td>\n",
       "      <td>0.175519</td>\n",
       "      <td>-0.048797</td>\n",
       "      <td>0.178023</td>\n",
       "      <td>-0.042913</td>\n",
       "      <td>-0.282377</td>\n",
       "      <td>0.317917</td>\n",
       "      <td>-0.007002</td>\n",
       "      <td>0.586774</td>\n",
       "      <td>...</td>\n",
       "      <td>-0.111805</td>\n",
       "      <td>-0.262620</td>\n",
       "      <td>-0.187817</td>\n",
       "      <td>-0.463804</td>\n",
       "      <td>-1.308874</td>\n",
       "      <td>-0.352892</td>\n",
       "      <td>0.251982</td>\n",
       "      <td>0.550853</td>\n",
       "      <td>-0.659678</td>\n",
       "      <td>-0.614042</td>\n",
       "    </tr>\n",
       "  </tbody>\n",
       "</table>\n",
       "<p>5 rows × 301 columns</p>\n",
       "</div>"
      ],
      "text/plain": [
       "     document    feat_0    feat_1    feat_2    feat_3    feat_4    feat_5  \\\n",
       "0  PMC1552054 -0.428596  0.004477 -0.153677  0.059131 -0.394598 -0.066383   \n",
       "1  PMC1226148 -0.434013 -0.185516 -0.070654  0.488759 -0.280275  0.042681   \n",
       "2  PMC5635510 -0.248388  0.118660 -0.103008  0.267721  0.278939 -0.220584   \n",
       "3  PMC3125232 -0.507224  0.024099 -0.039696 -0.171992  0.371326 -0.137797   \n",
       "4  PMC3533997 -0.424435  0.175519 -0.048797  0.178023 -0.042913 -0.282377   \n",
       "\n",
       "     feat_6    feat_7    feat_8  ...  feat_290  feat_291  feat_292  feat_293  \\\n",
       "0  0.358798 -0.245809  0.431974  ... -0.067994  0.033121 -0.077121 -0.433617   \n",
       "1  0.116685  0.037062  0.530896  ...  0.318905 -0.065244  0.159258 -0.380412   \n",
       "2  0.089593 -0.159638  0.866190  ...  0.081127 -0.110091 -0.031617 -0.188741   \n",
       "3 -0.202616 -0.156994  0.695519  ... -0.218274 -0.022597 -0.028885 -0.250560   \n",
       "4  0.317917 -0.007002  0.586774  ... -0.111805 -0.262620 -0.187817 -0.463804   \n",
       "\n",
       "   feat_294  feat_295  feat_296  feat_297  feat_298  feat_299  \n",
       "0 -1.111247 -0.405260  0.293903  0.613155 -0.500204 -0.214057  \n",
       "1 -0.665559 -0.485417  0.180982  0.523053 -0.485158 -0.251244  \n",
       "2 -0.936947 -0.461118  0.618781  0.647195 -0.270240 -0.409643  \n",
       "3 -1.140730 -0.568136  0.482088  0.899122 -0.250971 -0.592976  \n",
       "4 -1.308874 -0.352892  0.251982  0.550853 -0.659678 -0.614042  \n",
       "\n",
       "[5 rows x 301 columns]"
      ]
     },
     "execution_count": 9,
     "metadata": {},
     "output_type": "execute_result"
    }
   ],
   "source": [
    "if cluster:\n",
    "    pmc_embedding_dict = {\n",
    "        int(path.stem[-7:-4]):pd.read_csv(\n",
    "            str(path), \n",
    "            sep=\"\\t\"\n",
    "        )\n",
    "        for path in Path(\"pmc_vectors/\").rglob(\"*tsv.xz\")\n",
    "    }\n",
    "else:\n",
    "    pmc_embedding_dict = {\n",
    "        int(path.stem[-7:-4]):pd.read_csv(\n",
    "            str(path), \n",
    "            sep=\"\\t\"\n",
    "        )\n",
    "        for path in Path(\"../../pmc/word_vector_experiment/output/\").rglob(\"*tsv.xz\")\n",
    "    }\n",
    "pmc_embedding_dict[300].head()"
   ]
  },
  {
   "cell_type": "code",
   "execution_count": 10,
   "metadata": {
    "ExecuteTime": {
     "end_time": "2020-06-05T03:51:15.065303Z",
     "start_time": "2020-06-05T03:51:03.867857Z"
    }
   },
   "outputs": [],
   "source": [
    "full_training_dataset = {\n",
    "    dim : (\n",
    "        pmc_articles_df\n",
    "        .query(f\"pmcid not in {golden_set_df.pmcid.tolist()}\")\n",
    "        [[\"pmcid\", \"journal\"]]\n",
    "        .merge(pmc_embedding_dict[dim], left_on=\"pmcid\", right_on=\"document\")\n",
    "        .drop(\"pmcid\", axis=1)\n",
    "        .set_index(\"document\")\n",
    "    )\n",
    "    for dim in pmc_embedding_dict\n",
    "}"
   ]
  },
  {
   "cell_type": "code",
   "execution_count": 11,
   "metadata": {
    "ExecuteTime": {
     "end_time": "2020-06-05T03:51:30.804510Z",
     "start_time": "2020-06-05T03:51:15.066924Z"
    }
   },
   "outputs": [],
   "source": [
    "subsampled_training_dataset = {\n",
    "    dim : (\n",
    "        pmc_articles_df\n",
    "        .query(f\"pmcid not in {golden_set_df.pmcid.tolist()}\")\n",
    "        [[\"pmcid\", \"journal\"]]\n",
    "        .merge(pmc_embedding_dict[dim], left_on=\"pmcid\", right_on=\"document\")\n",
    "        .drop(\"pmcid\", axis=1)\n",
    "        .groupby(\"journal\", group_keys=False)\n",
    "        .apply(lambda x: x.sample(min(len(x), 100), random_state=100))\n",
    "        .set_index(\"document\")\n",
    "    )\n",
    "    for dim in pmc_embedding_dict\n",
    "}"
   ]
  },
  {
   "cell_type": "markdown",
   "metadata": {},
   "source": [
    "# Train Recommendation System"
   ]
  },
  {
   "cell_type": "code",
   "execution_count": 12,
   "metadata": {
    "ExecuteTime": {
     "end_time": "2020-06-05T03:51:30.818125Z",
     "start_time": "2020-06-05T03:51:30.805757Z"
    }
   },
   "outputs": [],
   "source": [
    "def cross_validation(model, dataset, evaluate, cv=10, random_state=100, **kwargs):\n",
    "    \n",
    "    folds = KFold(n_splits=cv, random_state = random_state, shuffle=True)\n",
    "    cv_fold_accs = []\n",
    "    \n",
    "    fold_predictions = []\n",
    "    for train, val in folds.split(dataset):\n",
    "        \n",
    "        prediction, true_labels = evaluate(\n",
    "            model, dataset.iloc[train], \n",
    "            dataset.iloc[val], **kwargs\n",
    "        )\n",
    "\n",
    "        accs = [\n",
    "                 (\n",
    "                     1 if true_labels[data_idx] in prediction_row \n",
    "                     else 0 \n",
    "                 )\n",
    "                 for data_idx, prediction_row in enumerate(prediction)\n",
    "        ]\n",
    "        \n",
    "        cv_fold_accs.append(np.sum(accs)/len(accs))\n",
    "        print(f\"{np.sum(accs)} out of {len(accs)}\")\n",
    "        \n",
    "        fold_predictions.append(prediction)\n",
    "        \n",
    "    print(f\"Total Accuracy: {np.mean(cv_fold_accs)*100:.3f}%\")\n",
    "    return fold_predictions"
   ]
  },
  {
   "cell_type": "markdown",
   "metadata": {},
   "source": [
    "## Random Journal Prediction"
   ]
  },
  {
   "cell_type": "markdown",
   "metadata": {},
   "source": [
    "The central idea here is to answer the question what is the accuracy when journals are recommended at random?"
   ]
  },
  {
   "cell_type": "code",
   "execution_count": 13,
   "metadata": {
    "ExecuteTime": {
     "end_time": "2020-06-05T03:51:30.840364Z",
     "start_time": "2020-06-05T03:51:30.819271Z"
    }
   },
   "outputs": [],
   "source": [
    "def dummy_evaluate(model, training_data, validation_data, **kwargs):\n",
    "    top_X = kwargs.get(\"top_predictions\", 10)\n",
    "    random_states = kwargs.get(\"dummy_seed\", [100,200,300,400,500,600,700,800,900,1000])\n",
    "    \n",
    "    X_train = (\n",
    "        training_data\n",
    "        .drop(\"journal\", axis=1)\n",
    "        .values\n",
    "        .astype('float32')\n",
    "    )\n",
    "    \n",
    "    Y_train = (\n",
    "        training_data\n",
    "        .journal\n",
    "        .values\n",
    "    )\n",
    "    \n",
    "    X_val = (\n",
    "        validation_data\n",
    "        .drop(\"journal\", axis=1)\n",
    "        .values\n",
    "        .astype('float32')\n",
    "    )\n",
    "    Y_val = (\n",
    "        validation_data\n",
    "        .journal\n",
    "        .values\n",
    "    )\n",
    "    \n",
    "    predictions = []\n",
    "    for i, seed in zip(range(top_X), random_states):\n",
    "        model.random_state = seed\n",
    "        model.fit(X_train, Y_train)\n",
    "        predictions.append(model.predict(X_val))\n",
    "\n",
    "    return np.stack(predictions).transpose(), Y_val"
   ]
  },
  {
   "cell_type": "code",
   "execution_count": 16,
   "metadata": {
    "ExecuteTime": {
     "end_time": "2020-06-03T17:54:37.517753Z",
     "start_time": "2020-06-03T17:54:37.455406Z"
    }
   },
   "outputs": [],
   "source": [
    "model = DummyClassifier(strategy='uniform')"
   ]
  },
  {
   "cell_type": "code",
   "execution_count": 17,
   "metadata": {
    "ExecuteTime": {
     "end_time": "2020-06-03T17:54:46.548682Z",
     "start_time": "2020-06-03T17:54:37.521981Z"
    }
   },
   "outputs": [
    {
     "name": "stdout",
     "output_type": "stream",
     "text": [
      "114 out of 20232\n",
      "112 out of 20232\n",
      "116 out of 20232\n",
      "121 out of 20232\n",
      "94 out of 20232\n",
      "83 out of 20232\n",
      "91 out of 20232\n",
      "98 out of 20232\n",
      "110 out of 20231\n",
      "106 out of 20231\n",
      "Total Accuracy: 0.517%\n"
     ]
    }
   ],
   "source": [
    "_ = cross_validation(\n",
    "    model, subsampled_training_dataset[300], \n",
    "    dummy_evaluate, cv=10, \n",
    "    random_state=100, top_predictions=10\n",
    ")"
   ]
  },
  {
   "cell_type": "markdown",
   "metadata": {},
   "source": [
    "## KNearestNeighbors Paper by Paper Comparison - Full Dataset"
   ]
  },
  {
   "cell_type": "markdown",
   "metadata": {},
   "source": [
    "Assuming I didn't take mega-journal influence into account, what would the initial recommendation accuracy be?"
   ]
  },
  {
   "cell_type": "code",
   "execution_count": 14,
   "metadata": {
    "ExecuteTime": {
     "end_time": "2020-06-05T03:51:30.853601Z",
     "start_time": "2020-06-05T03:51:30.841658Z"
    }
   },
   "outputs": [],
   "source": [
    "def knn_evaluate(model, training_data, validation_data, **kwargs):\n",
    "    \n",
    "    X_train = (\n",
    "        training_data\n",
    "        .drop(\"journal\", axis=1)\n",
    "        .values\n",
    "        .astype('float32')\n",
    "    )\n",
    "    \n",
    "    Y_train = (\n",
    "        training_data\n",
    "        .journal\n",
    "        .values\n",
    "    )\n",
    "    \n",
    "    X_val = (\n",
    "        validation_data\n",
    "        .drop(\"journal\", axis=1)\n",
    "        .values\n",
    "        .astype('float32')\n",
    "    )\n",
    "    \n",
    "    Y_val = (\n",
    "        validation_data\n",
    "        .journal\n",
    "        .values\n",
    "    )\n",
    "    \n",
    "    model.fit(X_train, Y_train)\n",
    "    distance, neighbors = model.kneighbors(X_val)\n",
    "    \n",
    "    predictions = [\n",
    "        Y_train[neighbor_predict]\n",
    "        for neighbor_predict in neighbors \n",
    "    ]\n",
    "\n",
    "    return np.stack(predictions), Y_val"
   ]
  },
  {
   "cell_type": "code",
   "execution_count": 18,
   "metadata": {
    "ExecuteTime": {
     "end_time": "2020-06-03T17:54:46.559719Z",
     "start_time": "2020-06-03T17:54:46.549808Z"
    }
   },
   "outputs": [],
   "source": [
    "knn_model = KNeighborsClassifier(n_neighbors=10)"
   ]
  },
  {
   "cell_type": "code",
   "execution_count": null,
   "metadata": {
    "ExecuteTime": {
     "start_time": "2020-06-03T17:41:55.174Z"
    }
   },
   "outputs": [
    {
     "name": "stdout",
     "output_type": "stream",
     "text": [
      "106786 out of 172616\n",
      "106776 out of 172616\n"
     ]
    }
   ],
   "source": [
    "_ = cross_validation(\n",
    "    knn_model, full_training_dataset[300], \n",
    "    knn_evaluate, cv=10,\n",
    "    random_state=100\n",
    ")"
   ]
  },
  {
   "cell_type": "markdown",
   "metadata": {},
   "source": [
    "## KNearestNeighbors Paper by Paper Comparison Subsampled"
   ]
  },
  {
   "cell_type": "markdown",
   "metadata": {},
   "source": [
    "The first idea for a classifier is to compare which papers are similar to other papers. Due to the overflow of PLOS One papers I sub-sampled each journal to have only 100 papers for representation. Then trained a KNearestNeighbors to determine how often does the correct journal appear in the top ten neighbors as well as top twenty neighbors."
   ]
  },
  {
   "cell_type": "code",
   "execution_count": 16,
   "metadata": {
    "ExecuteTime": {
     "end_time": "2020-06-05T03:52:51.688134Z",
     "start_time": "2020-06-05T03:52:51.673230Z"
    }
   },
   "outputs": [],
   "source": [
    "knn_model = KNeighborsClassifier(n_neighbors=10)"
   ]
  },
  {
   "cell_type": "code",
   "execution_count": 17,
   "metadata": {
    "ExecuteTime": {
     "end_time": "2020-06-05T13:04:22.213341Z",
     "start_time": "2020-06-05T03:52:51.689347Z"
    }
   },
   "outputs": [
    {
     "name": "stdout",
     "output_type": "stream",
     "text": [
      "250\n",
      "8116 out of 20232\n",
      "8033 out of 20232\n",
      "8049 out of 20232\n",
      "7963 out of 20232\n",
      "8045 out of 20232\n",
      "7970 out of 20232\n",
      "8127 out of 20232\n",
      "7990 out of 20232\n",
      "8145 out of 20231\n",
      "8081 out of 20231\n",
      "Total Accuracy: 39.798%\n",
      "\n",
      "300\n",
      "8142 out of 20232\n",
      "8090 out of 20232\n",
      "8115 out of 20232\n",
      "8019 out of 20232\n",
      "8075 out of 20232\n",
      "8023 out of 20232\n",
      "8155 out of 20232\n",
      "7993 out of 20232\n",
      "8164 out of 20231\n",
      "8115 out of 20231\n",
      "Total Accuracy: 39.982%\n",
      "\n",
      "150\n",
      "7952 out of 20232\n",
      "7840 out of 20232\n",
      "7889 out of 20232\n",
      "7883 out of 20232\n",
      "7945 out of 20232\n",
      "7825 out of 20232\n",
      "7954 out of 20232\n",
      "7906 out of 20232\n",
      "8037 out of 20231\n",
      "7936 out of 20231\n",
      "Total Accuracy: 39.130%\n",
      "\n"
     ]
    }
   ],
   "source": [
    "result_dict = {}\n",
    "for dim in subsampled_training_dataset:\n",
    "    print(dim)\n",
    "    \n",
    "    fold_predictions = cross_validation(\n",
    "        knn_model, subsampled_training_dataset[dim], \n",
    "        knn_evaluate, cv=10, \n",
    "        random_state=100\n",
    "    )\n",
    "    \n",
    "    print()\n",
    "    \n",
    "    result_dict[dim] = fold_predictions"
   ]
  },
  {
   "cell_type": "markdown",
   "metadata": {},
   "source": [
    "## KNearestNeighbors Centroid analysis"
   ]
  },
  {
   "cell_type": "markdown",
   "metadata": {},
   "source": [
    "Following up on the original idea, I thought a helpful experiment would be to perform a centroid analysis (i.e. take the average of all papers within each journal). Similar to above I trained a KNearestNeighbors classifier to see if the correct journal will appear in the top 10 neighbors."
   ]
  },
  {
   "cell_type": "code",
   "execution_count": 15,
   "metadata": {
    "ExecuteTime": {
     "end_time": "2020-06-05T03:51:30.878808Z",
     "start_time": "2020-06-05T03:51:30.854645Z"
    }
   },
   "outputs": [],
   "source": [
    "def knn_centroid_evaluate(model, training_data, validation_data, **kwargs):\n",
    "    \n",
    "    train_centroid_df = (\n",
    "        training_data\n",
    "        .groupby(\"journal\")\n",
    "        .agg(\"mean\")\n",
    "        .reset_index()\n",
    "    )\n",
    "            \n",
    "    X_train_centroid = (\n",
    "        train_centroid_df\n",
    "        .drop(\"journal\", axis=1)\n",
    "        .values\n",
    "        .astype('float32')\n",
    "    )\n",
    "\n",
    "    Y_train_centroid = (\n",
    "        train_centroid_df\n",
    "        .journal\n",
    "        .values\n",
    "    )\n",
    "    \n",
    "    \n",
    "    X_val = (\n",
    "        validation_data\n",
    "        .drop(\"journal\", axis=1)\n",
    "        .values\n",
    "        .astype('float32')\n",
    "    )\n",
    "    \n",
    "    Y_val = (\n",
    "        validation_data\n",
    "        .journal\n",
    "        .values\n",
    "    )\n",
    "    \n",
    "    knn_model.fit(X_train_centroid, Y_train_centroid)\n",
    "    distance, neighbors = knn_model.kneighbors(X_val)\n",
    "    \n",
    "    predictions = [\n",
    "        Y_train_centroid[neighbor_predict]\n",
    "        for neighbor_predict in neighbors \n",
    "    ]\n",
    "\n",
    "    return np.stack(predictions), Y_val"
   ]
  },
  {
   "cell_type": "code",
   "execution_count": 18,
   "metadata": {
    "ExecuteTime": {
     "end_time": "2020-06-05T13:04:22.224742Z",
     "start_time": "2020-06-05T13:04:22.214757Z"
    }
   },
   "outputs": [],
   "source": [
    "knn_model = KNeighborsClassifier(n_neighbors=10)"
   ]
  },
  {
   "cell_type": "code",
   "execution_count": 19,
   "metadata": {
    "ExecuteTime": {
     "end_time": "2020-06-05T13:07:24.953416Z",
     "start_time": "2020-06-05T13:04:22.226188Z"
    }
   },
   "outputs": [
    {
     "name": "stdout",
     "output_type": "stream",
     "text": [
      "7277 out of 20232\n",
      "7238 out of 20232\n",
      "7327 out of 20232\n",
      "7349 out of 20232\n",
      "7376 out of 20232\n",
      "7195 out of 20232\n",
      "7340 out of 20232\n",
      "7286 out of 20232\n",
      "7400 out of 20231\n",
      "7298 out of 20231\n",
      "Total Accuracy: 36.124%\n"
     ]
    }
   ],
   "source": [
    "_ = cross_validation(\n",
    "    knn_model, subsampled_training_dataset[300], \n",
    "    knn_centroid_evaluate, cv=10, \n",
    "    random_state=100\n",
    ")"
   ]
  },
  {
   "cell_type": "markdown",
   "metadata": {},
   "source": [
    "## KNearestNeighbors Centroid Analysis - Full dataset"
   ]
  },
  {
   "cell_type": "markdown",
   "metadata": {},
   "source": [
    "This section I'm using the entire dataset to calculate journal centroids and then evaluate performance on the sub-sampled dataset."
   ]
  },
  {
   "cell_type": "code",
   "execution_count": 20,
   "metadata": {
    "ExecuteTime": {
     "end_time": "2020-06-05T13:07:24.966747Z",
     "start_time": "2020-06-05T13:07:24.954607Z"
    }
   },
   "outputs": [],
   "source": [
    "def knn_centroid_full_evaluate(model, training_data, validation_data, **kwargs):\n",
    "    \n",
    "    train_centroid_df = (\n",
    "        kwargs.get(\"full_dataset\")\n",
    "        .groupby(\"journal\")\n",
    "        .agg(\"mean\")\n",
    "        .reset_index()\n",
    "    )\n",
    "            \n",
    "    X_train_centroid = (\n",
    "        train_centroid_df\n",
    "        .drop(\"journal\", axis=1)\n",
    "        .values\n",
    "        .astype('float32')\n",
    "    )\n",
    "\n",
    "    Y_train_centroid = (\n",
    "        train_centroid_df\n",
    "        .journal\n",
    "        .values\n",
    "    )\n",
    "    \n",
    "    \n",
    "    X_val = (\n",
    "        validation_data\n",
    "        .drop(\"journal\", axis=1)\n",
    "        .values\n",
    "        .astype('float32')\n",
    "    )\n",
    "    \n",
    "    Y_val = (\n",
    "        validation_data\n",
    "        .journal\n",
    "        .values\n",
    "    )\n",
    "    \n",
    "    knn_model.fit(X_train_centroid, Y_train_centroid)\n",
    "    distance, neighbors = knn_model.kneighbors(X_val)\n",
    "    \n",
    "    predictions = [\n",
    "        Y_train_centroid[neighbor_predict]\n",
    "        for neighbor_predict in neighbors \n",
    "    ]\n",
    "\n",
    "    return np.stack(predictions), Y_val"
   ]
  },
  {
   "cell_type": "code",
   "execution_count": 21,
   "metadata": {
    "ExecuteTime": {
     "end_time": "2020-06-05T13:07:24.984990Z",
     "start_time": "2020-06-05T13:07:24.967849Z"
    }
   },
   "outputs": [],
   "source": [
    "knn_model = KNeighborsClassifier(n_neighbors=10)"
   ]
  },
  {
   "cell_type": "code",
   "execution_count": 23,
   "metadata": {
    "ExecuteTime": {
     "end_time": "2020-06-05T13:17:53.053074Z",
     "start_time": "2020-06-05T13:14:37.172279Z"
    }
   },
   "outputs": [
    {
     "name": "stdout",
     "output_type": "stream",
     "text": [
      "7518 out of 20232\n",
      "7502 out of 20232\n",
      "7546 out of 20232\n",
      "7568 out of 20232\n",
      "7617 out of 20232\n",
      "7487 out of 20232\n",
      "7612 out of 20232\n",
      "7536 out of 20232\n",
      "7665 out of 20231\n",
      "7496 out of 20231\n",
      "Total Accuracy: 37.341%\n"
     ]
    }
   ],
   "source": [
    "_ = cross_validation(\n",
    "    knn_model, subsampled_training_dataset[300], \n",
    "    knn_centroid_full_evaluate, cv=10, \n",
    "    random_state=100, full_dataset=full_training_dataset[300]\n",
    ")"
   ]
  },
  {
   "cell_type": "markdown",
   "metadata": {},
   "source": [
    "# Golden Set Analysis"
   ]
  },
  {
   "cell_type": "code",
   "execution_count": 25,
   "metadata": {
    "ExecuteTime": {
     "end_time": "2020-06-05T13:37:21.679810Z",
     "start_time": "2020-06-05T13:37:04.935931Z"
    }
   },
   "outputs": [
    {
     "data": {
      "text/html": [
       "<div>\n",
       "<style scoped>\n",
       "    .dataframe tbody tr th:only-of-type {\n",
       "        vertical-align: middle;\n",
       "    }\n",
       "\n",
       "    .dataframe tbody tr th {\n",
       "        vertical-align: top;\n",
       "    }\n",
       "\n",
       "    .dataframe thead th {\n",
       "        text-align: right;\n",
       "    }\n",
       "</style>\n",
       "<table border=\"1\" class=\"dataframe\">\n",
       "  <thead>\n",
       "    <tr style=\"text-align: right;\">\n",
       "      <th></th>\n",
       "      <th>document</th>\n",
       "      <th>feat_0</th>\n",
       "      <th>feat_1</th>\n",
       "      <th>feat_2</th>\n",
       "      <th>feat_3</th>\n",
       "      <th>feat_4</th>\n",
       "      <th>feat_5</th>\n",
       "      <th>feat_6</th>\n",
       "      <th>feat_7</th>\n",
       "      <th>feat_8</th>\n",
       "      <th>...</th>\n",
       "      <th>feat_290</th>\n",
       "      <th>feat_291</th>\n",
       "      <th>feat_292</th>\n",
       "      <th>feat_293</th>\n",
       "      <th>feat_294</th>\n",
       "      <th>feat_295</th>\n",
       "      <th>feat_296</th>\n",
       "      <th>feat_297</th>\n",
       "      <th>feat_298</th>\n",
       "      <th>feat_299</th>\n",
       "    </tr>\n",
       "  </thead>\n",
       "  <tbody>\n",
       "    <tr>\n",
       "      <td>0</td>\n",
       "      <td>440735_v1.xml</td>\n",
       "      <td>-0.185549</td>\n",
       "      <td>-0.028703</td>\n",
       "      <td>-0.148555</td>\n",
       "      <td>-0.133172</td>\n",
       "      <td>0.353365</td>\n",
       "      <td>-0.114964</td>\n",
       "      <td>-0.028663</td>\n",
       "      <td>-0.215159</td>\n",
       "      <td>0.551382</td>\n",
       "      <td>...</td>\n",
       "      <td>-0.286513</td>\n",
       "      <td>0.082141</td>\n",
       "      <td>-0.197929</td>\n",
       "      <td>-0.163326</td>\n",
       "      <td>-0.867377</td>\n",
       "      <td>-0.383934</td>\n",
       "      <td>0.684275</td>\n",
       "      <td>0.673811</td>\n",
       "      <td>0.332528</td>\n",
       "      <td>-0.252338</td>\n",
       "    </tr>\n",
       "    <tr>\n",
       "      <td>1</td>\n",
       "      <td>775270_v1.xml</td>\n",
       "      <td>-0.532040</td>\n",
       "      <td>-0.065809</td>\n",
       "      <td>-0.313654</td>\n",
       "      <td>-0.117575</td>\n",
       "      <td>0.372866</td>\n",
       "      <td>-0.318956</td>\n",
       "      <td>-0.368010</td>\n",
       "      <td>0.325850</td>\n",
       "      <td>0.808698</td>\n",
       "      <td>...</td>\n",
       "      <td>-0.199805</td>\n",
       "      <td>-0.083095</td>\n",
       "      <td>0.184185</td>\n",
       "      <td>-0.157145</td>\n",
       "      <td>-0.895367</td>\n",
       "      <td>-0.611417</td>\n",
       "      <td>0.224433</td>\n",
       "      <td>0.857584</td>\n",
       "      <td>-0.442240</td>\n",
       "      <td>-0.229249</td>\n",
       "    </tr>\n",
       "    <tr>\n",
       "      <td>2</td>\n",
       "      <td>242404_v1.xml</td>\n",
       "      <td>-0.511104</td>\n",
       "      <td>-0.203790</td>\n",
       "      <td>-0.171574</td>\n",
       "      <td>0.244052</td>\n",
       "      <td>0.235567</td>\n",
       "      <td>-0.269997</td>\n",
       "      <td>-0.222966</td>\n",
       "      <td>-0.247174</td>\n",
       "      <td>0.385497</td>\n",
       "      <td>...</td>\n",
       "      <td>-0.351890</td>\n",
       "      <td>-0.155088</td>\n",
       "      <td>-0.222041</td>\n",
       "      <td>-0.258185</td>\n",
       "      <td>-0.866121</td>\n",
       "      <td>-0.568663</td>\n",
       "      <td>0.553375</td>\n",
       "      <td>0.890001</td>\n",
       "      <td>0.025051</td>\n",
       "      <td>-0.347382</td>\n",
       "    </tr>\n",
       "    <tr>\n",
       "      <td>3</td>\n",
       "      <td>872994_v1.xml</td>\n",
       "      <td>-0.595936</td>\n",
       "      <td>-0.147790</td>\n",
       "      <td>-0.277296</td>\n",
       "      <td>0.522433</td>\n",
       "      <td>0.574653</td>\n",
       "      <td>-0.046103</td>\n",
       "      <td>-0.586993</td>\n",
       "      <td>-0.312505</td>\n",
       "      <td>0.382142</td>\n",
       "      <td>...</td>\n",
       "      <td>0.074240</td>\n",
       "      <td>0.042758</td>\n",
       "      <td>0.174565</td>\n",
       "      <td>0.155595</td>\n",
       "      <td>-0.557984</td>\n",
       "      <td>-0.445246</td>\n",
       "      <td>0.386596</td>\n",
       "      <td>0.512007</td>\n",
       "      <td>-0.510197</td>\n",
       "      <td>-0.295844</td>\n",
       "    </tr>\n",
       "    <tr>\n",
       "      <td>4</td>\n",
       "      <td>080853_v2.xml</td>\n",
       "      <td>-0.076522</td>\n",
       "      <td>0.039275</td>\n",
       "      <td>-0.928818</td>\n",
       "      <td>0.226103</td>\n",
       "      <td>0.035823</td>\n",
       "      <td>-0.075580</td>\n",
       "      <td>-0.189354</td>\n",
       "      <td>0.243075</td>\n",
       "      <td>0.240977</td>\n",
       "      <td>...</td>\n",
       "      <td>0.524121</td>\n",
       "      <td>0.560223</td>\n",
       "      <td>0.246179</td>\n",
       "      <td>0.242929</td>\n",
       "      <td>-0.810809</td>\n",
       "      <td>-0.118951</td>\n",
       "      <td>0.052647</td>\n",
       "      <td>0.184235</td>\n",
       "      <td>-0.154029</td>\n",
       "      <td>0.469902</td>\n",
       "    </tr>\n",
       "  </tbody>\n",
       "</table>\n",
       "<p>5 rows × 301 columns</p>\n",
       "</div>"
      ],
      "text/plain": [
       "        document    feat_0    feat_1    feat_2    feat_3    feat_4    feat_5  \\\n",
       "0  440735_v1.xml -0.185549 -0.028703 -0.148555 -0.133172  0.353365 -0.114964   \n",
       "1  775270_v1.xml -0.532040 -0.065809 -0.313654 -0.117575  0.372866 -0.318956   \n",
       "2  242404_v1.xml -0.511104 -0.203790 -0.171574  0.244052  0.235567 -0.269997   \n",
       "3  872994_v1.xml -0.595936 -0.147790 -0.277296  0.522433  0.574653 -0.046103   \n",
       "4  080853_v2.xml -0.076522  0.039275 -0.928818  0.226103  0.035823 -0.075580   \n",
       "\n",
       "     feat_6    feat_7    feat_8  ...  feat_290  feat_291  feat_292  feat_293  \\\n",
       "0 -0.028663 -0.215159  0.551382  ... -0.286513  0.082141 -0.197929 -0.163326   \n",
       "1 -0.368010  0.325850  0.808698  ... -0.199805 -0.083095  0.184185 -0.157145   \n",
       "2 -0.222966 -0.247174  0.385497  ... -0.351890 -0.155088 -0.222041 -0.258185   \n",
       "3 -0.586993 -0.312505  0.382142  ...  0.074240  0.042758  0.174565  0.155595   \n",
       "4 -0.189354  0.243075  0.240977  ...  0.524121  0.560223  0.246179  0.242929   \n",
       "\n",
       "   feat_294  feat_295  feat_296  feat_297  feat_298  feat_299  \n",
       "0 -0.867377 -0.383934  0.684275  0.673811  0.332528 -0.252338  \n",
       "1 -0.895367 -0.611417  0.224433  0.857584 -0.442240 -0.229249  \n",
       "2 -0.866121 -0.568663  0.553375  0.890001  0.025051 -0.347382  \n",
       "3 -0.557984 -0.445246  0.386596  0.512007 -0.510197 -0.295844  \n",
       "4 -0.810809 -0.118951  0.052647  0.184235 -0.154029  0.469902  \n",
       "\n",
       "[5 rows x 301 columns]"
      ]
     },
     "execution_count": 25,
     "metadata": {},
     "output_type": "execute_result"
    }
   ],
   "source": [
    "biorxiv_embeddings_df = pd.read_csv(\n",
    "    Path(\"../word_vector_experiment/output/word2vec_output/biorxiv_all_articles_300.tsv.xz\")\n",
    "    .resolve(),\n",
    "    sep=\"\\t\"\n",
    ")\n",
    "\n",
    "biorxiv_embeddings_df.head()"
   ]
  },
  {
   "cell_type": "code",
   "execution_count": 35,
   "metadata": {
    "ExecuteTime": {
     "end_time": "2020-06-05T13:41:44.101878Z",
     "start_time": "2020-06-05T13:41:43.216907Z"
    }
   },
   "outputs": [
    {
     "data": {
      "text/html": [
       "<div>\n",
       "<style scoped>\n",
       "    .dataframe tbody tr th:only-of-type {\n",
       "        vertical-align: middle;\n",
       "    }\n",
       "\n",
       "    .dataframe tbody tr th {\n",
       "        vertical-align: top;\n",
       "    }\n",
       "\n",
       "    .dataframe thead th {\n",
       "        text-align: right;\n",
       "    }\n",
       "</style>\n",
       "<table border=\"1\" class=\"dataframe\">\n",
       "  <thead>\n",
       "    <tr style=\"text-align: right;\">\n",
       "      <th></th>\n",
       "      <th>document</th>\n",
       "      <th>pmcid</th>\n",
       "      <th>journal</th>\n",
       "      <th>feat_0</th>\n",
       "      <th>feat_1</th>\n",
       "      <th>feat_2</th>\n",
       "      <th>feat_3</th>\n",
       "      <th>feat_4</th>\n",
       "      <th>feat_5</th>\n",
       "      <th>feat_6</th>\n",
       "      <th>...</th>\n",
       "      <th>feat_290</th>\n",
       "      <th>feat_291</th>\n",
       "      <th>feat_292</th>\n",
       "      <th>feat_293</th>\n",
       "      <th>feat_294</th>\n",
       "      <th>feat_295</th>\n",
       "      <th>feat_296</th>\n",
       "      <th>feat_297</th>\n",
       "      <th>feat_298</th>\n",
       "      <th>feat_299</th>\n",
       "    </tr>\n",
       "  </thead>\n",
       "  <tbody>\n",
       "    <tr>\n",
       "      <td>0</td>\n",
       "      <td>000026_v1.xml</td>\n",
       "      <td>PMC4125079</td>\n",
       "      <td>PLoS_Genet</td>\n",
       "      <td>-0.354588</td>\n",
       "      <td>-0.039688</td>\n",
       "      <td>-0.264044</td>\n",
       "      <td>0.061171</td>\n",
       "      <td>0.445177</td>\n",
       "      <td>-0.094280</td>\n",
       "      <td>-0.207811</td>\n",
       "      <td>...</td>\n",
       "      <td>0.077113</td>\n",
       "      <td>0.009006</td>\n",
       "      <td>-0.128140</td>\n",
       "      <td>0.107098</td>\n",
       "      <td>-0.896259</td>\n",
       "      <td>-0.591504</td>\n",
       "      <td>0.451696</td>\n",
       "      <td>1.010107</td>\n",
       "      <td>0.155138</td>\n",
       "      <td>-0.141590</td>\n",
       "    </tr>\n",
       "    <tr>\n",
       "      <td>1</td>\n",
       "      <td>000067_v1.xml</td>\n",
       "      <td>PMC4285441</td>\n",
       "      <td>Nature</td>\n",
       "      <td>-0.223833</td>\n",
       "      <td>0.104426</td>\n",
       "      <td>-0.187421</td>\n",
       "      <td>-0.097920</td>\n",
       "      <td>0.118555</td>\n",
       "      <td>-0.162342</td>\n",
       "      <td>-0.065943</td>\n",
       "      <td>...</td>\n",
       "      <td>0.110930</td>\n",
       "      <td>0.144949</td>\n",
       "      <td>0.003651</td>\n",
       "      <td>-0.035206</td>\n",
       "      <td>-0.887362</td>\n",
       "      <td>-0.582829</td>\n",
       "      <td>0.407179</td>\n",
       "      <td>0.400775</td>\n",
       "      <td>0.030982</td>\n",
       "      <td>0.238798</td>\n",
       "    </tr>\n",
       "    <tr>\n",
       "      <td>2</td>\n",
       "      <td>000109_v1.xml</td>\n",
       "      <td>PMC4072524</td>\n",
       "      <td>PLoS_Genet</td>\n",
       "      <td>-0.359770</td>\n",
       "      <td>-0.034423</td>\n",
       "      <td>-0.211397</td>\n",
       "      <td>0.142895</td>\n",
       "      <td>0.257640</td>\n",
       "      <td>0.214825</td>\n",
       "      <td>0.053788</td>\n",
       "      <td>...</td>\n",
       "      <td>0.131452</td>\n",
       "      <td>0.034245</td>\n",
       "      <td>0.119621</td>\n",
       "      <td>-0.075230</td>\n",
       "      <td>-0.786596</td>\n",
       "      <td>-0.557854</td>\n",
       "      <td>0.163636</td>\n",
       "      <td>0.867464</td>\n",
       "      <td>0.000889</td>\n",
       "      <td>0.181491</td>\n",
       "    </tr>\n",
       "    <tr>\n",
       "      <td>3</td>\n",
       "      <td>000141_v1.xml</td>\n",
       "      <td>PMC3894166</td>\n",
       "      <td>PLoS_Comput_Biol</td>\n",
       "      <td>-0.489331</td>\n",
       "      <td>0.029247</td>\n",
       "      <td>-0.766819</td>\n",
       "      <td>0.126920</td>\n",
       "      <td>0.228847</td>\n",
       "      <td>-0.231903</td>\n",
       "      <td>-0.362439</td>\n",
       "      <td>...</td>\n",
       "      <td>0.390265</td>\n",
       "      <td>0.303159</td>\n",
       "      <td>0.268525</td>\n",
       "      <td>0.173529</td>\n",
       "      <td>-0.685519</td>\n",
       "      <td>-0.613437</td>\n",
       "      <td>0.188164</td>\n",
       "      <td>0.561036</td>\n",
       "      <td>0.024270</td>\n",
       "      <td>-0.074251</td>\n",
       "    </tr>\n",
       "    <tr>\n",
       "      <td>4</td>\n",
       "      <td>000158_v1.xml</td>\n",
       "      <td>PMC4041996</td>\n",
       "      <td>BMC_Genomics</td>\n",
       "      <td>-0.184118</td>\n",
       "      <td>0.065338</td>\n",
       "      <td>-0.151212</td>\n",
       "      <td>0.281209</td>\n",
       "      <td>0.096208</td>\n",
       "      <td>-0.315909</td>\n",
       "      <td>-0.313868</td>\n",
       "      <td>...</td>\n",
       "      <td>-0.040810</td>\n",
       "      <td>-0.056940</td>\n",
       "      <td>-0.258915</td>\n",
       "      <td>-0.034394</td>\n",
       "      <td>-0.636722</td>\n",
       "      <td>-0.097607</td>\n",
       "      <td>0.717791</td>\n",
       "      <td>0.791196</td>\n",
       "      <td>0.074980</td>\n",
       "      <td>-0.112038</td>\n",
       "    </tr>\n",
       "  </tbody>\n",
       "</table>\n",
       "<p>5 rows × 303 columns</p>\n",
       "</div>"
      ],
      "text/plain": [
       "        document       pmcid           journal    feat_0    feat_1    feat_2  \\\n",
       "0  000026_v1.xml  PMC4125079        PLoS_Genet -0.354588 -0.039688 -0.264044   \n",
       "1  000067_v1.xml  PMC4285441            Nature -0.223833  0.104426 -0.187421   \n",
       "2  000109_v1.xml  PMC4072524        PLoS_Genet -0.359770 -0.034423 -0.211397   \n",
       "3  000141_v1.xml  PMC3894166  PLoS_Comput_Biol -0.489331  0.029247 -0.766819   \n",
       "4  000158_v1.xml  PMC4041996      BMC_Genomics -0.184118  0.065338 -0.151212   \n",
       "\n",
       "     feat_3    feat_4    feat_5    feat_6  ...  feat_290  feat_291  feat_292  \\\n",
       "0  0.061171  0.445177 -0.094280 -0.207811  ...  0.077113  0.009006 -0.128140   \n",
       "1 -0.097920  0.118555 -0.162342 -0.065943  ...  0.110930  0.144949  0.003651   \n",
       "2  0.142895  0.257640  0.214825  0.053788  ...  0.131452  0.034245  0.119621   \n",
       "3  0.126920  0.228847 -0.231903 -0.362439  ...  0.390265  0.303159  0.268525   \n",
       "4  0.281209  0.096208 -0.315909 -0.313868  ... -0.040810 -0.056940 -0.258915   \n",
       "\n",
       "   feat_293  feat_294  feat_295  feat_296  feat_297  feat_298  feat_299  \n",
       "0  0.107098 -0.896259 -0.591504  0.451696  1.010107  0.155138 -0.141590  \n",
       "1 -0.035206 -0.887362 -0.582829  0.407179  0.400775  0.030982  0.238798  \n",
       "2 -0.075230 -0.786596 -0.557854  0.163636  0.867464  0.000889  0.181491  \n",
       "3  0.173529 -0.685519 -0.613437  0.188164  0.561036  0.024270 -0.074251  \n",
       "4 -0.034394 -0.636722 -0.097607  0.717791  0.791196  0.074980 -0.112038  \n",
       "\n",
       "[5 rows x 303 columns]"
      ]
     },
     "execution_count": 35,
     "metadata": {},
     "output_type": "execute_result"
    }
   ],
   "source": [
    "golden_dataset = (\n",
    "    golden_set_df[[\"document\", \"pmcid\"]]\n",
    "    .merge(pmc_articles_df[[\"journal\", \"pmcid\"]], on=\"pmcid\")\n",
    "    .merge(biorxiv_embeddings_df, on=\"document\")\n",
    ")\n",
    "golden_dataset.head()"
   ]
  },
  {
   "cell_type": "markdown",
   "metadata": {},
   "source": [
    "## Centroid Analysis"
   ]
  },
  {
   "cell_type": "code",
   "execution_count": 37,
   "metadata": {
    "ExecuteTime": {
     "end_time": "2020-06-05T13:44:58.617377Z",
     "start_time": "2020-06-05T13:44:56.946963Z"
    }
   },
   "outputs": [
    {
     "data": {
      "text/plain": [
       "KNeighborsClassifier(algorithm='auto', leaf_size=30, metric='minkowski',\n",
       "                     metric_params=None, n_jobs=None, n_neighbors=10, p=2,\n",
       "                     weights='uniform')"
      ]
     },
     "execution_count": 37,
     "metadata": {},
     "output_type": "execute_result"
    }
   ],
   "source": [
    "train_centroid_df = (\n",
    "    full_training_dataset[300]\n",
    "    .groupby(\"journal\")\n",
    "    .agg(\"mean\")\n",
    "    .reset_index()\n",
    ")\n",
    "\n",
    "X_train_centroid = (\n",
    "    train_centroid_df\n",
    "    .drop(\"journal\", axis=1)\n",
    "    .values\n",
    "    .astype('float32')\n",
    ")\n",
    "\n",
    "Y_train_centroid = (\n",
    "    train_centroid_df\n",
    "    .journal\n",
    "    .values\n",
    ")\n",
    "knn_model = KNeighborsClassifier(n_neighbors=10)\n",
    "knn_model.fit(X_train_centroid, Y_train_centroid)"
   ]
  },
  {
   "cell_type": "code",
   "execution_count": 38,
   "metadata": {
    "ExecuteTime": {
     "end_time": "2020-06-05T13:45:14.644441Z",
     "start_time": "2020-06-05T13:45:01.264663Z"
    }
   },
   "outputs": [],
   "source": [
    "distance, neighbors = knn_model.kneighbors(\n",
    "    golden_dataset\n",
    "    .drop([\"document\", \"pmcid\", \"journal\"], axis=1)\n",
    "    .values\n",
    ")"
   ]
  },
  {
   "cell_type": "code",
   "execution_count": 40,
   "metadata": {
    "ExecuteTime": {
     "end_time": "2020-06-05T13:52:19.483800Z",
     "start_time": "2020-06-05T13:52:19.143599Z"
    }
   },
   "outputs": [],
   "source": [
    "accs = [\n",
    "    (\n",
    "         1 if golden_dataset.journal[data_idx] in prediction_row \n",
    "         else 0 \n",
    "     )\n",
    "     for data_idx, prediction_row in enumerate(\n",
    "         [\n",
    "             Y_train_centroid[neighbor_predict]\n",
    "             for neighbor_predict in neighbors \n",
    "         ]\n",
    "     )\n",
    "]"
   ]
  },
  {
   "cell_type": "code",
   "execution_count": 43,
   "metadata": {
    "ExecuteTime": {
     "end_time": "2020-06-05T13:53:20.035202Z",
     "start_time": "2020-06-05T13:53:20.017630Z"
    }
   },
   "outputs": [
    {
     "name": "stdout",
     "output_type": "stream",
     "text": [
      "3445 out of 15922\n",
      "0.21636729054138928% correct\n"
     ]
    }
   ],
   "source": [
    "print(f\"{np.sum(accs)} out of {len(accs)}\")\n",
    "print(f\"{np.mean(accs)}% correct\")"
   ]
  },
  {
   "cell_type": "markdown",
   "metadata": {},
   "source": [
    "## Subsampled Paper Analysis"
   ]
  },
  {
   "cell_type": "code",
   "execution_count": 44,
   "metadata": {
    "ExecuteTime": {
     "end_time": "2020-06-05T13:56:15.503631Z",
     "start_time": "2020-06-05T13:56:06.179907Z"
    }
   },
   "outputs": [
    {
     "data": {
      "text/plain": [
       "KNeighborsClassifier(algorithm='auto', leaf_size=30, metric='minkowski',\n",
       "                     metric_params=None, n_jobs=None, n_neighbors=10, p=2,\n",
       "                     weights='uniform')"
      ]
     },
     "execution_count": 44,
     "metadata": {},
     "output_type": "execute_result"
    }
   ],
   "source": [
    "X_train = (\n",
    "    subsampled_training_dataset[300]\n",
    "    .drop(\"journal\", axis=1)\n",
    "    .values\n",
    "    .astype('float32')\n",
    ")\n",
    "    \n",
    "Y_train = (\n",
    "    subsampled_training_dataset[300]\n",
    "    .journal\n",
    "    .values\n",
    ")\n",
    "knn_model = KNeighborsClassifier(n_neighbors=10)\n",
    "knn_model.fit(X_train, Y_train)"
   ]
  },
  {
   "cell_type": "code",
   "execution_count": 45,
   "metadata": {
    "ExecuteTime": {
     "end_time": "2020-06-05T14:15:27.870529Z",
     "start_time": "2020-06-05T13:56:15.505002Z"
    }
   },
   "outputs": [],
   "source": [
    "distance, neighbors = knn_model.kneighbors(\n",
    "    golden_dataset\n",
    "    .drop([\"document\", \"pmcid\", \"journal\"], axis=1)\n",
    "    .values\n",
    ")"
   ]
  },
  {
   "cell_type": "code",
   "execution_count": 46,
   "metadata": {
    "ExecuteTime": {
     "end_time": "2020-06-05T14:15:28.207852Z",
     "start_time": "2020-06-05T14:15:27.871822Z"
    }
   },
   "outputs": [],
   "source": [
    "accs = [\n",
    "    (\n",
    "         1 if golden_dataset.journal[data_idx] in prediction_row \n",
    "         else 0 \n",
    "     )\n",
    "     for data_idx, prediction_row in enumerate(\n",
    "         [\n",
    "             Y_train[neighbor_predict]\n",
    "             for neighbor_predict in neighbors \n",
    "         ]\n",
    "     )\n",
    "]"
   ]
  },
  {
   "cell_type": "code",
   "execution_count": 47,
   "metadata": {
    "ExecuteTime": {
     "end_time": "2020-06-05T14:15:28.221257Z",
     "start_time": "2020-06-05T14:15:28.208956Z"
    }
   },
   "outputs": [
    {
     "name": "stdout",
     "output_type": "stream",
     "text": [
      "3286 out of 15922\n",
      "0.20638110790101746% correct\n"
     ]
    }
   ],
   "source": [
    "print(f\"{np.sum(accs)} out of {len(accs)}\")\n",
    "print(f\"{np.mean(accs)}% correct\")"
   ]
  },
  {
   "cell_type": "markdown",
   "metadata": {},
   "source": [
    "Conclusions for this notebook:\n",
    "1. Mega-journals cover a wide range of research topics.\n",
    "2. The correct journal only appears in the top ten about 37-39 percent of the time.\n",
    "3. 300 dimensions gives the best performance compared to the other dimensions.\n",
    "4. Reporting a combination of centroid analysis and individual paper predictions will be needed to go forward."
   ]
  }
 ],
 "metadata": {
  "kernelspec": {
   "display_name": "Python [conda env:annorxiver]",
   "language": "python",
   "name": "conda-env-annorxiver-py"
  },
  "language_info": {
   "codemirror_mode": {
    "name": "ipython",
    "version": 3
   },
   "file_extension": ".py",
   "mimetype": "text/x-python",
   "name": "python",
   "nbconvert_exporter": "python",
   "pygments_lexer": "ipython3",
   "version": "3.7.2"
  },
  "toc": {
   "base_numbering": 1,
   "nav_menu": {},
   "number_sections": true,
   "sideBar": true,
   "skip_h1_title": false,
   "title_cell": "Table of Contents",
   "title_sidebar": "Contents",
   "toc_cell": false,
   "toc_position": {},
   "toc_section_display": true,
   "toc_window_display": false
  },
  "varInspector": {
   "cols": {
    "lenName": 16,
    "lenType": 16,
    "lenVar": 40
   },
   "kernels_config": {
    "python": {
     "delete_cmd_postfix": "",
     "delete_cmd_prefix": "del ",
     "library": "var_list.py",
     "varRefreshCmd": "print(var_dic_list())"
    },
    "r": {
     "delete_cmd_postfix": ") ",
     "delete_cmd_prefix": "rm(",
     "library": "var_list.r",
     "varRefreshCmd": "cat(var_dic_list()) "
    }
   },
   "types_to_exclude": [
    "module",
    "function",
    "builtin_function_or_method",
    "instance",
    "_Feature"
   ],
   "window_display": false
  }
 },
 "nbformat": 4,
 "nbformat_minor": 2
}
