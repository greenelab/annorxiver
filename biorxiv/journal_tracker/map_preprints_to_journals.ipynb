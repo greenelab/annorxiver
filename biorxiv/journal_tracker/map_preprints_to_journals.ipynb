{
 "cells": [
  {
   "cell_type": "markdown",
   "metadata": {},
   "source": [
    "# Following the Preprint to Published Path"
   ]
  },
  {
   "cell_type": "markdown",
   "metadata": {},
   "source": [
    "The goal of this notebook is to map preprint dois to published dois and published dois to Pubmed Central articles."
   ]
  },
  {
   "cell_type": "code",
   "execution_count": 1,
   "metadata": {
    "ExecuteTime": {
     "end_time": "2020-06-26T16:32:04.776170Z",
     "start_time": "2020-06-26T16:32:04.212454Z"
    }
   },
   "outputs": [],
   "source": [
    "import json\n",
    "\n",
    "from habanero import Crossref\n",
    "import pandas as pd\n",
    "from ratelimit import limits, sleep_and_retry\n",
    "import requests\n",
    "import tqdm\n",
    "from urllib.error import HTTPError"
   ]
  },
  {
   "cell_type": "code",
   "execution_count": 2,
   "metadata": {
    "ExecuteTime": {
     "end_time": "2020-06-26T16:32:04.946793Z",
     "start_time": "2020-06-26T16:32:04.777506Z"
    }
   },
   "outputs": [
    {
     "data": {
      "text/html": [
       "<div>\n",
       "<style scoped>\n",
       "    .dataframe tbody tr th:only-of-type {\n",
       "        vertical-align: middle;\n",
       "    }\n",
       "\n",
       "    .dataframe tbody tr th {\n",
       "        vertical-align: top;\n",
       "    }\n",
       "\n",
       "    .dataframe thead th {\n",
       "        text-align: right;\n",
       "    }\n",
       "</style>\n",
       "<table border=\"1\" class=\"dataframe\">\n",
       "  <thead>\n",
       "    <tr style=\"text-align: right;\">\n",
       "      <th></th>\n",
       "      <th>author_type</th>\n",
       "      <th>heading</th>\n",
       "      <th>category</th>\n",
       "      <th>document</th>\n",
       "      <th>doi</th>\n",
       "    </tr>\n",
       "  </thead>\n",
       "  <tbody>\n",
       "    <tr>\n",
       "      <td>0</td>\n",
       "      <td>regular article</td>\n",
       "      <td>new results</td>\n",
       "      <td>genetics</td>\n",
       "      <td>440735_v1.xml</td>\n",
       "      <td>10.1101/440735</td>\n",
       "    </tr>\n",
       "    <tr>\n",
       "      <td>1</td>\n",
       "      <td>regular article</td>\n",
       "      <td>new results</td>\n",
       "      <td>systems biology</td>\n",
       "      <td>775270_v1.xml</td>\n",
       "      <td>10.1101/775270</td>\n",
       "    </tr>\n",
       "    <tr>\n",
       "      <td>2</td>\n",
       "      <td>regular article</td>\n",
       "      <td>new results</td>\n",
       "      <td>genetics</td>\n",
       "      <td>242404_v1.xml</td>\n",
       "      <td>10.1101/242404</td>\n",
       "    </tr>\n",
       "    <tr>\n",
       "      <td>3</td>\n",
       "      <td>regular article</td>\n",
       "      <td>new results</td>\n",
       "      <td>neuroscience</td>\n",
       "      <td>872994_v1.xml</td>\n",
       "      <td>10.1101/2019.12.11.872994</td>\n",
       "    </tr>\n",
       "    <tr>\n",
       "      <td>4</td>\n",
       "      <td>regular article</td>\n",
       "      <td>new results</td>\n",
       "      <td>developmental biology</td>\n",
       "      <td>080853_v2.xml</td>\n",
       "      <td>10.1101/080853</td>\n",
       "    </tr>\n",
       "  </tbody>\n",
       "</table>\n",
       "</div>"
      ],
      "text/plain": [
       "       author_type      heading               category       document  \\\n",
       "0  regular article  new results               genetics  440735_v1.xml   \n",
       "1  regular article  new results        systems biology  775270_v1.xml   \n",
       "2  regular article  new results               genetics  242404_v1.xml   \n",
       "3  regular article  new results           neuroscience  872994_v1.xml   \n",
       "4  regular article  new results  developmental biology  080853_v2.xml   \n",
       "\n",
       "                         doi  \n",
       "0             10.1101/440735  \n",
       "1             10.1101/775270  \n",
       "2             10.1101/242404  \n",
       "3  10.1101/2019.12.11.872994  \n",
       "4             10.1101/080853  "
      ]
     },
     "execution_count": 2,
     "metadata": {},
     "output_type": "execute_result"
    }
   ],
   "source": [
    "preprints_df = pd.read_csv(\"../exploratory_data_analysis/output/biorxiv_article_metadata.tsv\", sep=\"\\t\")\n",
    "preprints_df.head()"
   ]
  },
  {
   "cell_type": "code",
   "execution_count": 3,
   "metadata": {
    "ExecuteTime": {
     "end_time": "2020-06-26T16:32:04.990007Z",
     "start_time": "2020-06-26T16:32:04.949766Z"
    }
   },
   "outputs": [
    {
     "name": "stdout",
     "output_type": "stream",
     "text": [
      "71118\n"
     ]
    }
   ],
   "source": [
    "dois = (\n",
    "    preprints_df\n",
    "    .doi\n",
    "    .unique()\n",
    ")\n",
    "print(len(dois))"
   ]
  },
  {
   "cell_type": "code",
   "execution_count": 4,
   "metadata": {
    "ExecuteTime": {
     "end_time": "2020-06-26T16:32:04.998614Z",
     "start_time": "2020-06-26T16:32:04.992453Z"
    }
   },
   "outputs": [],
   "source": [
    "credentials = json.load(open(\"credentials.json\", \"r\"))\n",
    "\n",
    "if \"@\" not in credentials['email']:\n",
    "    raise Exception(\"Please input a valid email address.\")\n",
    "    \n",
    "if credentials['tool_name'] == 'insert tool name here':\n",
    "    raise Exception(\"Please input a name for the tool you are using.\")\n",
    "    \n",
    "cf = Crossref(mailto=credentials['email'])"
   ]
  },
  {
   "cell_type": "code",
   "execution_count": 5,
   "metadata": {
    "ExecuteTime": {
     "end_time": "2020-06-26T16:32:05.038484Z",
     "start_time": "2020-06-26T16:32:05.001486Z"
    }
   },
   "outputs": [],
   "source": [
    "TEN_MINUTES = 600\n",
    "\n",
    "@sleep_and_retry\n",
    "@limits(calls=10, period=TEN_MINUTES)\n",
    "def call_crossref(doi_ids):\n",
    "    responses = []\n",
    "    for doi in doi_ids:\n",
    "        try:\n",
    "            response = cf.works(ids=doi)\n",
    "            responses.append(response)\n",
    "        except:\n",
    "            responses.append({\n",
    "                \"message\":{\n",
    "                    \"relation\":{\"none\":\"none\"}, \n",
    "                    \"DOI\":doi\n",
    "                }\n",
    "            })\n",
    "        \n",
    "    return responses"
   ]
  },
  {
   "cell_type": "code",
   "execution_count": 6,
   "metadata": {
    "ExecuteTime": {
     "end_time": "2020-06-26T16:32:05.067878Z",
     "start_time": "2020-06-26T16:32:05.041335Z"
    }
   },
   "outputs": [],
   "source": [
    "TEN_MINUTES = 600\n",
    "\n",
    "@sleep_and_retry\n",
    "@limits(calls=50, period=TEN_MINUTES)\n",
    "def call_pmc(doi_ids):\n",
    "    query = (\n",
    "        \"https://www.ncbi.nlm.nih.gov/pmc/utils/idconv/v1.0/?\"\n",
    "        f\"ids={','.join(doi_ids)}\"\n",
    "        f\"&tool={credentials['tool_name']}\"\n",
    "        f\"&email={credentials['email']}\"\n",
    "        \"&format=json\"\n",
    "    )\n",
    "    \n",
    "    return requests.get(query)"
   ]
  },
  {
   "cell_type": "markdown",
   "metadata": {},
   "source": [
    "# Map preprint DOIs to Published DOIs"
   ]
  },
  {
   "cell_type": "code",
   "execution_count": 8,
   "metadata": {
    "ExecuteTime": {
     "end_time": "2020-05-09T09:11:46.426122Z",
     "start_time": "2020-05-08T23:00:49.315635Z"
    }
   },
   "outputs": [
    {
     "name": "stderr",
     "output_type": "stream",
     "text": [
      "100%|██████████| 615/615 [10:10:57<00:00, 59.61s/it]   \n"
     ]
    }
   ],
   "source": [
    "batch_limit = 100\n",
    "doi_mapper_records = []\n",
    "\n",
    "for batch in tqdm.tqdm(range(0, len(dois), batch_limit)):\n",
    "    response = call_crossref(dois[batch:batch+batch_limit])\n",
    "    doi_mapper_records += [\n",
    "        {\n",
    "         \"preprint_doi\":result['message']['DOI'],\n",
    "         \"published_doi\":(\n",
    "                 result['message']['relation']['is-preprint-of'][0]['id'] \n",
    "                 if \"is-preprint-of\" in result['message']['relation'] \n",
    "                 else \"\"\n",
    "             )\n",
    "        }\n",
    "        for result in response\n",
    "    ]\n"
   ]
  },
  {
   "cell_type": "code",
   "execution_count": 9,
   "metadata": {
    "ExecuteTime": {
     "end_time": "2020-05-09T09:11:46.564980Z",
     "start_time": "2020-05-09T09:11:46.427740Z"
    }
   },
   "outputs": [],
   "source": [
    "published_doi_df = (\n",
    "    pd.DataFrame.from_records(doi_mapper_records)\n",
    "    .append(mapped_preprints_df)\n",
    ")\n",
    "published_doi_df.to_csv(\"output/mapped_published_doi.tsv\", sep=\"\\t\", index=False)"
   ]
  },
  {
   "cell_type": "markdown",
   "metadata": {},
   "source": [
    "# Map Journal Titles to DOI"
   ]
  },
  {
   "cell_type": "code",
   "execution_count": 8,
   "metadata": {
    "ExecuteTime": {
     "end_time": "2020-05-11T19:00:38.267225Z",
     "start_time": "2020-05-11T19:00:38.129771Z"
    }
   },
   "outputs": [],
   "source": [
    "published_doi_df = pd.read_csv(\"output/mapped_published_doi.tsv\", sep=\"\\t\")"
   ]
  },
  {
   "cell_type": "code",
   "execution_count": 11,
   "metadata": {
    "ExecuteTime": {
     "end_time": "2020-05-11T19:01:20.981343Z",
     "start_time": "2020-05-11T19:01:20.965663Z"
    }
   },
   "outputs": [],
   "source": [
    "journal_dois = (\n",
    "    published_doi_df\n",
    "    .published_doi\n",
    "    .unique()\n",
    "    .tolist()\n",
    ")"
   ]
  },
  {
   "cell_type": "code",
   "execution_count": 14,
   "metadata": {
    "ExecuteTime": {
     "end_time": "2020-05-11T19:21:57.264915Z",
     "start_time": "2020-05-11T19:01:48.444817Z"
    }
   },
   "outputs": [
    {
     "name": "stderr",
     "output_type": "stream",
     "text": [
      "100%|██████████| 30/30 [20:08<00:00, 40.29s/it] \n"
     ]
    }
   ],
   "source": [
    "batch_limit = 100\n",
    "journal_mapper_records = []\n",
    "\n",
    "for batch in tqdm.tqdm(range(0, len(journal_dois), batch_limit)):\n",
    "    response = call_crossref(journal_dois[batch:batch+batch_limit])\n",
    "    journal_mapper_records += [\n",
    "        {\n",
    "            \"published_doi\": result['message']['DOI'],\n",
    "            \"journal\": (\n",
    "                result['message']['container-title'][0] \n",
    "                if 'container-title' in result['message'] and len(result['message']['container-title']) > 0\n",
    "                else \"fill_me_in\"\n",
    "            ),\n",
    "        }\n",
    "        for result in response\n",
    "    ]"
   ]
  },
  {
   "cell_type": "code",
   "execution_count": 15,
   "metadata": {
    "ExecuteTime": {
     "end_time": "2020-05-11T19:35:53.449475Z",
     "start_time": "2020-05-11T19:35:53.441969Z"
    }
   },
   "outputs": [
    {
     "data": {
      "text/html": [
       "<div>\n",
       "<style scoped>\n",
       "    .dataframe tbody tr th:only-of-type {\n",
       "        vertical-align: middle;\n",
       "    }\n",
       "\n",
       "    .dataframe tbody tr th {\n",
       "        vertical-align: top;\n",
       "    }\n",
       "\n",
       "    .dataframe thead th {\n",
       "        text-align: right;\n",
       "    }\n",
       "</style>\n",
       "<table border=\"1\" class=\"dataframe\">\n",
       "  <thead>\n",
       "    <tr style=\"text-align: right;\">\n",
       "      <th></th>\n",
       "      <th>published_doi</th>\n",
       "      <th>journal</th>\n",
       "    </tr>\n",
       "  </thead>\n",
       "  <tbody>\n",
       "    <tr>\n",
       "      <td>0</td>\n",
       "      <td>10.7554/elife.45779</td>\n",
       "      <td>eLife</td>\n",
       "    </tr>\n",
       "    <tr>\n",
       "      <td>1</td>\n",
       "      <td>10.1113/jp278773</td>\n",
       "      <td>The Journal of Physiology</td>\n",
       "    </tr>\n",
       "    <tr>\n",
       "      <td>2</td>\n",
       "      <td>10.1364/oe.27.019950</td>\n",
       "      <td>Optics Express</td>\n",
       "    </tr>\n",
       "    <tr>\n",
       "      <td>3</td>\n",
       "      <td>10.1364/boe.11.000008</td>\n",
       "      <td>Biomedical Optics Express</td>\n",
       "    </tr>\n",
       "    <tr>\n",
       "      <td>4</td>\n",
       "      <td>10.1128/mbio.01516-16</td>\n",
       "      <td>mBio</td>\n",
       "    </tr>\n",
       "  </tbody>\n",
       "</table>\n",
       "</div>"
      ],
      "text/plain": [
       "           published_doi                    journal\n",
       "0    10.7554/elife.45779                      eLife\n",
       "1       10.1113/jp278773  The Journal of Physiology\n",
       "2   10.1364/oe.27.019950             Optics Express\n",
       "3  10.1364/boe.11.000008  Biomedical Optics Express\n",
       "4  10.1128/mbio.01516-16                       mBio"
      ]
     },
     "execution_count": 15,
     "metadata": {},
     "output_type": "execute_result"
    }
   ],
   "source": [
    "journal_mapper_df = pd.DataFrame.from_records(journal_mapper_records)\n",
    "journal_mapper_df.head()"
   ]
  },
  {
   "cell_type": "code",
   "execution_count": 12,
   "metadata": {
    "ExecuteTime": {
     "end_time": "2020-05-11T18:39:14.461368Z",
     "start_time": "2020-05-11T18:39:14.300856Z"
    }
   },
   "outputs": [
    {
     "data": {
      "text/html": [
       "<div>\n",
       "<style scoped>\n",
       "    .dataframe tbody tr th:only-of-type {\n",
       "        vertical-align: middle;\n",
       "    }\n",
       "\n",
       "    .dataframe tbody tr th {\n",
       "        vertical-align: top;\n",
       "    }\n",
       "\n",
       "    .dataframe thead th {\n",
       "        text-align: right;\n",
       "    }\n",
       "</style>\n",
       "<table border=\"1\" class=\"dataframe\">\n",
       "  <thead>\n",
       "    <tr style=\"text-align: right;\">\n",
       "      <th></th>\n",
       "      <th>author_type</th>\n",
       "      <th>heading</th>\n",
       "      <th>category</th>\n",
       "      <th>document</th>\n",
       "      <th>doi</th>\n",
       "      <th>published_doi</th>\n",
       "      <th>journal</th>\n",
       "    </tr>\n",
       "  </thead>\n",
       "  <tbody>\n",
       "    <tr>\n",
       "      <td>0</td>\n",
       "      <td>regular article</td>\n",
       "      <td>new results</td>\n",
       "      <td>genetics</td>\n",
       "      <td>440735_v1.xml</td>\n",
       "      <td>10.1101/440735</td>\n",
       "      <td>NaN</td>\n",
       "      <td>NaN</td>\n",
       "    </tr>\n",
       "    <tr>\n",
       "      <td>1</td>\n",
       "      <td>regular article</td>\n",
       "      <td>new results</td>\n",
       "      <td>genetics</td>\n",
       "      <td>440735_v3.xml</td>\n",
       "      <td>10.1101/440735</td>\n",
       "      <td>NaN</td>\n",
       "      <td>NaN</td>\n",
       "    </tr>\n",
       "    <tr>\n",
       "      <td>2</td>\n",
       "      <td>regular article</td>\n",
       "      <td>new results</td>\n",
       "      <td>genetics</td>\n",
       "      <td>440735_v2.xml</td>\n",
       "      <td>10.1101/440735</td>\n",
       "      <td>NaN</td>\n",
       "      <td>NaN</td>\n",
       "    </tr>\n",
       "    <tr>\n",
       "      <td>3</td>\n",
       "      <td>regular article</td>\n",
       "      <td>new results</td>\n",
       "      <td>systems biology</td>\n",
       "      <td>775270_v1.xml</td>\n",
       "      <td>10.1101/775270</td>\n",
       "      <td>NaN</td>\n",
       "      <td>NaN</td>\n",
       "    </tr>\n",
       "    <tr>\n",
       "      <td>4</td>\n",
       "      <td>regular article</td>\n",
       "      <td>new results</td>\n",
       "      <td>genetics</td>\n",
       "      <td>242404_v1.xml</td>\n",
       "      <td>10.1101/242404</td>\n",
       "      <td>NaN</td>\n",
       "      <td>NaN</td>\n",
       "    </tr>\n",
       "  </tbody>\n",
       "</table>\n",
       "</div>"
      ],
      "text/plain": [
       "       author_type      heading         category       document  \\\n",
       "0  regular article  new results         genetics  440735_v1.xml   \n",
       "1  regular article  new results         genetics  440735_v3.xml   \n",
       "2  regular article  new results         genetics  440735_v2.xml   \n",
       "3  regular article  new results  systems biology  775270_v1.xml   \n",
       "4  regular article  new results         genetics  242404_v1.xml   \n",
       "\n",
       "              doi published_doi journal  \n",
       "0  10.1101/440735           NaN     NaN  \n",
       "1  10.1101/440735           NaN     NaN  \n",
       "2  10.1101/440735           NaN     NaN  \n",
       "3  10.1101/775270           NaN     NaN  \n",
       "4  10.1101/242404           NaN     NaN  "
      ]
     },
     "execution_count": 12,
     "metadata": {},
     "output_type": "execute_result"
    }
   ],
   "source": [
    "final_df = (\n",
    "    preprints_df\n",
    "    .merge(published_doi_df, left_on=\"doi\", right_on=\"preprint_doi\")\n",
    "    .merge(journal_mapper_df, on=\"published_doi\", how=\"left\")\n",
    "    .drop(\"preprint_doi\", axis=1)\n",
    ")\n",
    "final_df.head()"
   ]
  },
  {
   "cell_type": "code",
   "execution_count": 13,
   "metadata": {
    "ExecuteTime": {
     "end_time": "2020-05-11T18:41:04.727033Z",
     "start_time": "2020-05-11T18:41:04.475927Z"
    }
   },
   "outputs": [],
   "source": [
    "final_df.to_csv(\"output/mapped_published_doi.tsv\", sep=\"\\t\", index=False)"
   ]
  },
  {
   "cell_type": "markdown",
   "metadata": {},
   "source": [
    "# Map Published Articles to PMC"
   ]
  },
  {
   "cell_type": "code",
   "execution_count": 7,
   "metadata": {
    "ExecuteTime": {
     "end_time": "2020-06-26T16:32:34.154656Z",
     "start_time": "2020-06-26T16:32:33.875549Z"
    }
   },
   "outputs": [
    {
     "data": {
      "text/html": [
       "<div>\n",
       "<style scoped>\n",
       "    .dataframe tbody tr th:only-of-type {\n",
       "        vertical-align: middle;\n",
       "    }\n",
       "\n",
       "    .dataframe tbody tr th {\n",
       "        vertical-align: top;\n",
       "    }\n",
       "\n",
       "    .dataframe thead th {\n",
       "        text-align: right;\n",
       "    }\n",
       "</style>\n",
       "<table border=\"1\" class=\"dataframe\">\n",
       "  <thead>\n",
       "    <tr style=\"text-align: right;\">\n",
       "      <th></th>\n",
       "      <th>author_type</th>\n",
       "      <th>heading</th>\n",
       "      <th>category</th>\n",
       "      <th>document</th>\n",
       "      <th>doi</th>\n",
       "      <th>published_doi</th>\n",
       "      <th>journal</th>\n",
       "    </tr>\n",
       "  </thead>\n",
       "  <tbody>\n",
       "    <tr>\n",
       "      <td>0</td>\n",
       "      <td>regular article</td>\n",
       "      <td>new results</td>\n",
       "      <td>genetics</td>\n",
       "      <td>440735_v1.xml</td>\n",
       "      <td>10.1101/440735</td>\n",
       "      <td>NaN</td>\n",
       "      <td>NaN</td>\n",
       "    </tr>\n",
       "    <tr>\n",
       "      <td>1</td>\n",
       "      <td>regular article</td>\n",
       "      <td>new results</td>\n",
       "      <td>genetics</td>\n",
       "      <td>440735_v3.xml</td>\n",
       "      <td>10.1101/440735</td>\n",
       "      <td>NaN</td>\n",
       "      <td>NaN</td>\n",
       "    </tr>\n",
       "    <tr>\n",
       "      <td>2</td>\n",
       "      <td>regular article</td>\n",
       "      <td>new results</td>\n",
       "      <td>genetics</td>\n",
       "      <td>440735_v2.xml</td>\n",
       "      <td>10.1101/440735</td>\n",
       "      <td>NaN</td>\n",
       "      <td>NaN</td>\n",
       "    </tr>\n",
       "    <tr>\n",
       "      <td>3</td>\n",
       "      <td>regular article</td>\n",
       "      <td>new results</td>\n",
       "      <td>systems biology</td>\n",
       "      <td>775270_v1.xml</td>\n",
       "      <td>10.1101/775270</td>\n",
       "      <td>NaN</td>\n",
       "      <td>NaN</td>\n",
       "    </tr>\n",
       "    <tr>\n",
       "      <td>4</td>\n",
       "      <td>regular article</td>\n",
       "      <td>new results</td>\n",
       "      <td>genetics</td>\n",
       "      <td>242404_v1.xml</td>\n",
       "      <td>10.1101/242404</td>\n",
       "      <td>NaN</td>\n",
       "      <td>NaN</td>\n",
       "    </tr>\n",
       "  </tbody>\n",
       "</table>\n",
       "</div>"
      ],
      "text/plain": [
       "       author_type      heading         category       document  \\\n",
       "0  regular article  new results         genetics  440735_v1.xml   \n",
       "1  regular article  new results         genetics  440735_v3.xml   \n",
       "2  regular article  new results         genetics  440735_v2.xml   \n",
       "3  regular article  new results  systems biology  775270_v1.xml   \n",
       "4  regular article  new results         genetics  242404_v1.xml   \n",
       "\n",
       "              doi published_doi journal  \n",
       "0  10.1101/440735           NaN     NaN  \n",
       "1  10.1101/440735           NaN     NaN  \n",
       "2  10.1101/440735           NaN     NaN  \n",
       "3  10.1101/775270           NaN     NaN  \n",
       "4  10.1101/242404           NaN     NaN  "
      ]
     },
     "execution_count": 7,
     "metadata": {},
     "output_type": "execute_result"
    }
   ],
   "source": [
    "preprint_df = pd.read_csv(\"output/mapped_published_doi.tsv\", sep=\"\\t\").drop(\"pmcid\", axis=1)\n",
    "preprint_df.head()"
   ]
  },
  {
   "cell_type": "code",
   "execution_count": 8,
   "metadata": {
    "ExecuteTime": {
     "end_time": "2020-06-26T16:32:40.852154Z",
     "start_time": "2020-06-26T16:32:34.155724Z"
    }
   },
   "outputs": [
    {
     "data": {
      "text/html": [
       "<div>\n",
       "<style scoped>\n",
       "    .dataframe tbody tr th:only-of-type {\n",
       "        vertical-align: middle;\n",
       "    }\n",
       "\n",
       "    .dataframe tbody tr th {\n",
       "        vertical-align: top;\n",
       "    }\n",
       "\n",
       "    .dataframe thead th {\n",
       "        text-align: right;\n",
       "    }\n",
       "</style>\n",
       "<table border=\"1\" class=\"dataframe\">\n",
       "  <thead>\n",
       "    <tr style=\"text-align: right;\">\n",
       "      <th></th>\n",
       "      <th>journal</th>\n",
       "      <th>article_type</th>\n",
       "      <th>doi</th>\n",
       "      <th>pmcid</th>\n",
       "    </tr>\n",
       "  </thead>\n",
       "  <tbody>\n",
       "    <tr>\n",
       "      <td>0</td>\n",
       "      <td>Environ_Health</td>\n",
       "      <td>research-article</td>\n",
       "      <td>10.1186/1476-069X-5-22</td>\n",
       "      <td>PMC1552054</td>\n",
       "    </tr>\n",
       "    <tr>\n",
       "      <td>1</td>\n",
       "      <td>Environ_Health</td>\n",
       "      <td>research-article</td>\n",
       "      <td>10.1186/1476-069X-4-12</td>\n",
       "      <td>PMC1226148</td>\n",
       "    </tr>\n",
       "    <tr>\n",
       "      <td>2</td>\n",
       "      <td>Environ_Health</td>\n",
       "      <td>correction</td>\n",
       "      <td>10.1186/s12940-018-0415-9</td>\n",
       "      <td>PMC6124016</td>\n",
       "    </tr>\n",
       "    <tr>\n",
       "      <td>3</td>\n",
       "      <td>Environ_Health</td>\n",
       "      <td>research-article</td>\n",
       "      <td>10.1186/s12940-017-0316-3</td>\n",
       "      <td>PMC5635510</td>\n",
       "    </tr>\n",
       "    <tr>\n",
       "      <td>4</td>\n",
       "      <td>Environ_Health</td>\n",
       "      <td>research-article</td>\n",
       "      <td>10.1186/1476-069X-10-46</td>\n",
       "      <td>PMC3125232</td>\n",
       "    </tr>\n",
       "  </tbody>\n",
       "</table>\n",
       "</div>"
      ],
      "text/plain": [
       "          journal      article_type                        doi       pmcid\n",
       "0  Environ_Health  research-article     10.1186/1476-069X-5-22  PMC1552054\n",
       "1  Environ_Health  research-article     10.1186/1476-069X-4-12  PMC1226148\n",
       "2  Environ_Health        correction  10.1186/s12940-018-0415-9  PMC6124016\n",
       "3  Environ_Health  research-article  10.1186/s12940-017-0316-3  PMC5635510\n",
       "4  Environ_Health  research-article    10.1186/1476-069X-10-46  PMC3125232"
      ]
     },
     "execution_count": 8,
     "metadata": {},
     "output_type": "execute_result"
    }
   ],
   "source": [
    "pmc_df = pd.read_csv(\n",
    "    \"../../pmc/exploratory_data_analysis/output/pubmed_central_journal_paper_map.tsv.xz\", \n",
    "    sep=\"\\t\"\n",
    ")\n",
    "pmc_df.head()"
   ]
  },
  {
   "cell_type": "code",
   "execution_count": 9,
   "metadata": {
    "ExecuteTime": {
     "end_time": "2020-06-26T16:32:43.620125Z",
     "start_time": "2020-06-26T16:32:40.856609Z"
    }
   },
   "outputs": [
    {
     "data": {
      "text/html": [
       "<div>\n",
       "<style scoped>\n",
       "    .dataframe tbody tr th:only-of-type {\n",
       "        vertical-align: middle;\n",
       "    }\n",
       "\n",
       "    .dataframe tbody tr th {\n",
       "        vertical-align: top;\n",
       "    }\n",
       "\n",
       "    .dataframe thead th {\n",
       "        text-align: right;\n",
       "    }\n",
       "</style>\n",
       "<table border=\"1\" class=\"dataframe\">\n",
       "  <thead>\n",
       "    <tr style=\"text-align: right;\">\n",
       "      <th></th>\n",
       "      <th>author_type</th>\n",
       "      <th>heading</th>\n",
       "      <th>category</th>\n",
       "      <th>document</th>\n",
       "      <th>doi</th>\n",
       "      <th>published_doi</th>\n",
       "      <th>journal</th>\n",
       "      <th>pmcid</th>\n",
       "    </tr>\n",
       "  </thead>\n",
       "  <tbody>\n",
       "    <tr>\n",
       "      <td>0</td>\n",
       "      <td>regular article</td>\n",
       "      <td>new results</td>\n",
       "      <td>genetics</td>\n",
       "      <td>440735_v1.xml</td>\n",
       "      <td>10.1101/440735</td>\n",
       "      <td>NaN</td>\n",
       "      <td>NaN</td>\n",
       "      <td>NaN</td>\n",
       "    </tr>\n",
       "    <tr>\n",
       "      <td>1</td>\n",
       "      <td>regular article</td>\n",
       "      <td>new results</td>\n",
       "      <td>genetics</td>\n",
       "      <td>440735_v3.xml</td>\n",
       "      <td>10.1101/440735</td>\n",
       "      <td>NaN</td>\n",
       "      <td>NaN</td>\n",
       "      <td>NaN</td>\n",
       "    </tr>\n",
       "    <tr>\n",
       "      <td>2</td>\n",
       "      <td>regular article</td>\n",
       "      <td>new results</td>\n",
       "      <td>genetics</td>\n",
       "      <td>440735_v2.xml</td>\n",
       "      <td>10.1101/440735</td>\n",
       "      <td>NaN</td>\n",
       "      <td>NaN</td>\n",
       "      <td>NaN</td>\n",
       "    </tr>\n",
       "    <tr>\n",
       "      <td>3</td>\n",
       "      <td>regular article</td>\n",
       "      <td>new results</td>\n",
       "      <td>systems biology</td>\n",
       "      <td>775270_v1.xml</td>\n",
       "      <td>10.1101/775270</td>\n",
       "      <td>NaN</td>\n",
       "      <td>NaN</td>\n",
       "      <td>NaN</td>\n",
       "    </tr>\n",
       "    <tr>\n",
       "      <td>4</td>\n",
       "      <td>regular article</td>\n",
       "      <td>new results</td>\n",
       "      <td>genetics</td>\n",
       "      <td>242404_v1.xml</td>\n",
       "      <td>10.1101/242404</td>\n",
       "      <td>NaN</td>\n",
       "      <td>NaN</td>\n",
       "      <td>NaN</td>\n",
       "    </tr>\n",
       "  </tbody>\n",
       "</table>\n",
       "</div>"
      ],
      "text/plain": [
       "       author_type      heading         category       document  \\\n",
       "0  regular article  new results         genetics  440735_v1.xml   \n",
       "1  regular article  new results         genetics  440735_v3.xml   \n",
       "2  regular article  new results         genetics  440735_v2.xml   \n",
       "3  regular article  new results  systems biology  775270_v1.xml   \n",
       "4  regular article  new results         genetics  242404_v1.xml   \n",
       "\n",
       "              doi published_doi journal pmcid  \n",
       "0  10.1101/440735           NaN     NaN   NaN  \n",
       "1  10.1101/440735           NaN     NaN   NaN  \n",
       "2  10.1101/440735           NaN     NaN   NaN  \n",
       "3  10.1101/775270           NaN     NaN   NaN  \n",
       "4  10.1101/242404           NaN     NaN   NaN  "
      ]
     },
     "execution_count": 9,
     "metadata": {},
     "output_type": "execute_result"
    }
   ],
   "source": [
    "final_df = (\n",
    "    preprint_df\n",
    "    .assign(published_doi=preprint_df.published_doi.str.lower())\n",
    "    .merge(\n",
    "        pmc_df[[\"doi\", \"pmcid\"]].assign(doi=pmc_df.doi.str.lower()).dropna(), \n",
    "        how=\"left\", left_on=\"published_doi\", \n",
    "        right_on=\"doi\"\n",
    "    )\n",
    "    .drop(\"doi_y\", axis=1)\n",
    "    .rename(index=str, columns={\"doi_x\":\"doi\"})\n",
    ")\n",
    "final_df.head()"
   ]
  },
  {
   "cell_type": "code",
   "execution_count": 10,
   "metadata": {
    "ExecuteTime": {
     "end_time": "2020-06-26T16:32:43.712136Z",
     "start_time": "2020-06-26T16:32:43.624287Z"
    }
   },
   "outputs": [
    {
     "name": "stdout",
     "output_type": "stream",
     "text": [
      "13457\n"
     ]
    }
   ],
   "source": [
    "# Fill in missing links\n",
    "missing_ids = (\n",
    "    final_df\n",
    "    .query(\"published_doi.notnull()&pmcid.isnull()\")\n",
    "    .published_doi\n",
    "    .unique()\n",
    ")\n",
    "print(len(missing_ids))"
   ]
  },
  {
   "cell_type": "code",
   "execution_count": 12,
   "metadata": {
    "ExecuteTime": {
     "end_time": "2020-06-26T16:53:22.316141Z",
     "start_time": "2020-06-26T16:33:02.564808Z"
    }
   },
   "outputs": [
    {
     "name": "stderr",
     "output_type": "stream",
     "text": [
      "100%|██████████| 135/135 [20:19<00:00,  9.03s/it]   \n"
     ]
    }
   ],
   "source": [
    "chunksize=100\n",
    "data = []\n",
    "for chunk in tqdm.tqdm(range(0, len(missing_ids), chunksize)):\n",
    "    query_ids = missing_ids[chunk:chunk+chunksize]\n",
    "    response = call_pmc(query_ids).json()\n",
    "    \n",
    "    for potential_match in response['records']:\n",
    "        if \"pmcid\" not in potential_match:\n",
    "            continue\n",
    "            \n",
    "        final_df.loc[\n",
    "            final_df[\"published_doi\"] == potential_match['doi'], \n",
    "            \"pmcid\"\n",
    "        ] = potential_match[\"pmcid\"]"
   ]
  },
  {
   "cell_type": "code",
   "execution_count": 13,
   "metadata": {
    "ExecuteTime": {
     "end_time": "2020-06-26T16:53:22.330753Z",
     "start_time": "2020-06-26T16:53:22.320428Z"
    }
   },
   "outputs": [
    {
     "data": {
      "text/html": [
       "<div>\n",
       "<style scoped>\n",
       "    .dataframe tbody tr th:only-of-type {\n",
       "        vertical-align: middle;\n",
       "    }\n",
       "\n",
       "    .dataframe tbody tr th {\n",
       "        vertical-align: top;\n",
       "    }\n",
       "\n",
       "    .dataframe thead th {\n",
       "        text-align: right;\n",
       "    }\n",
       "</style>\n",
       "<table border=\"1\" class=\"dataframe\">\n",
       "  <thead>\n",
       "    <tr style=\"text-align: right;\">\n",
       "      <th></th>\n",
       "      <th>author_type</th>\n",
       "      <th>heading</th>\n",
       "      <th>category</th>\n",
       "      <th>document</th>\n",
       "      <th>doi</th>\n",
       "      <th>published_doi</th>\n",
       "      <th>journal</th>\n",
       "      <th>pmcid</th>\n",
       "    </tr>\n",
       "  </thead>\n",
       "  <tbody>\n",
       "    <tr>\n",
       "      <td>0</td>\n",
       "      <td>regular article</td>\n",
       "      <td>new results</td>\n",
       "      <td>genetics</td>\n",
       "      <td>440735_v1.xml</td>\n",
       "      <td>10.1101/440735</td>\n",
       "      <td>NaN</td>\n",
       "      <td>NaN</td>\n",
       "      <td>NaN</td>\n",
       "    </tr>\n",
       "    <tr>\n",
       "      <td>1</td>\n",
       "      <td>regular article</td>\n",
       "      <td>new results</td>\n",
       "      <td>genetics</td>\n",
       "      <td>440735_v3.xml</td>\n",
       "      <td>10.1101/440735</td>\n",
       "      <td>NaN</td>\n",
       "      <td>NaN</td>\n",
       "      <td>NaN</td>\n",
       "    </tr>\n",
       "    <tr>\n",
       "      <td>2</td>\n",
       "      <td>regular article</td>\n",
       "      <td>new results</td>\n",
       "      <td>genetics</td>\n",
       "      <td>440735_v2.xml</td>\n",
       "      <td>10.1101/440735</td>\n",
       "      <td>NaN</td>\n",
       "      <td>NaN</td>\n",
       "      <td>NaN</td>\n",
       "    </tr>\n",
       "    <tr>\n",
       "      <td>3</td>\n",
       "      <td>regular article</td>\n",
       "      <td>new results</td>\n",
       "      <td>systems biology</td>\n",
       "      <td>775270_v1.xml</td>\n",
       "      <td>10.1101/775270</td>\n",
       "      <td>NaN</td>\n",
       "      <td>NaN</td>\n",
       "      <td>NaN</td>\n",
       "    </tr>\n",
       "    <tr>\n",
       "      <td>4</td>\n",
       "      <td>regular article</td>\n",
       "      <td>new results</td>\n",
       "      <td>genetics</td>\n",
       "      <td>242404_v1.xml</td>\n",
       "      <td>10.1101/242404</td>\n",
       "      <td>NaN</td>\n",
       "      <td>NaN</td>\n",
       "      <td>NaN</td>\n",
       "    </tr>\n",
       "  </tbody>\n",
       "</table>\n",
       "</div>"
      ],
      "text/plain": [
       "       author_type      heading         category       document  \\\n",
       "0  regular article  new results         genetics  440735_v1.xml   \n",
       "1  regular article  new results         genetics  440735_v3.xml   \n",
       "2  regular article  new results         genetics  440735_v2.xml   \n",
       "3  regular article  new results  systems biology  775270_v1.xml   \n",
       "4  regular article  new results         genetics  242404_v1.xml   \n",
       "\n",
       "              doi published_doi journal pmcid  \n",
       "0  10.1101/440735           NaN     NaN   NaN  \n",
       "1  10.1101/440735           NaN     NaN   NaN  \n",
       "2  10.1101/440735           NaN     NaN   NaN  \n",
       "3  10.1101/775270           NaN     NaN   NaN  \n",
       "4  10.1101/242404           NaN     NaN   NaN  "
      ]
     },
     "execution_count": 13,
     "metadata": {},
     "output_type": "execute_result"
    }
   ],
   "source": [
    "final_df.head()"
   ]
  },
  {
   "cell_type": "code",
   "execution_count": 17,
   "metadata": {
    "ExecuteTime": {
     "end_time": "2020-06-26T16:58:55.942774Z",
     "start_time": "2020-06-26T16:58:54.396759Z"
    }
   },
   "outputs": [],
   "source": [
    "(\n",
    "    final_df\n",
    "    .assign(\n",
    "        pmcoa=final_df.pmcid.isin(pmc_df.pmcid.values.tolist())\n",
    "    )\n",
    "    .to_csv(\n",
    "        \"output/mapped_published_doi.tsv\",\n",
    "        sep=\"\\t\", index=False\n",
    "    )\n",
    ")"
   ]
  }
 ],
 "metadata": {
  "kernelspec": {
   "display_name": "Python [conda env:annorxiver]",
   "language": "python",
   "name": "conda-env-annorxiver-py"
  },
  "language_info": {
   "codemirror_mode": {
    "name": "ipython",
    "version": 3
   },
   "file_extension": ".py",
   "mimetype": "text/x-python",
   "name": "python",
   "nbconvert_exporter": "python",
   "pygments_lexer": "ipython3",
   "version": "3.7.2"
  },
  "toc": {
   "base_numbering": 1,
   "nav_menu": {},
   "number_sections": true,
   "sideBar": true,
   "skip_h1_title": false,
   "title_cell": "Table of Contents",
   "title_sidebar": "Contents",
   "toc_cell": false,
   "toc_position": {},
   "toc_section_display": true,
   "toc_window_display": false
  },
  "varInspector": {
   "cols": {
    "lenName": 16,
    "lenType": 16,
    "lenVar": 40
   },
   "kernels_config": {
    "python": {
     "delete_cmd_postfix": "",
     "delete_cmd_prefix": "del ",
     "library": "var_list.py",
     "varRefreshCmd": "print(var_dic_list())"
    },
    "r": {
     "delete_cmd_postfix": ") ",
     "delete_cmd_prefix": "rm(",
     "library": "var_list.r",
     "varRefreshCmd": "cat(var_dic_list()) "
    }
   },
   "types_to_exclude": [
    "module",
    "function",
    "builtin_function_or_method",
    "instance",
    "_Feature"
   ],
   "window_display": false
  }
 },
 "nbformat": 4,
 "nbformat_minor": 2
}
