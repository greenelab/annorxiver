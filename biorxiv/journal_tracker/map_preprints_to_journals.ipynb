{
 "cells": [
  {
   "cell_type": "markdown",
   "metadata": {},
   "source": [
    "# Following the Preprint to Published Path"
   ]
  },
  {
   "cell_type": "markdown",
   "metadata": {},
   "source": [
    "The goal of this notebook is to map preprint dois to published dois and published dois to Pubmed Central articles."
   ]
  },
  {
   "cell_type": "code",
   "execution_count": 1,
   "metadata": {
    "ExecuteTime": {
     "end_time": "2020-10-29T02:56:23.552718Z",
     "start_time": "2020-10-29T02:56:23.221746Z"
    }
   },
   "outputs": [],
   "source": [
    "import json\n",
    "import re\n",
    "\n",
    "import numpy as np\n",
    "import pandas as pd\n",
    "from ratelimit import limits, sleep_and_retry\n",
    "import requests\n",
    "import tqdm\n",
    "from urllib.error import HTTPError"
   ]
  },
  {
   "cell_type": "code",
   "execution_count": 2,
   "metadata": {
    "ExecuteTime": {
     "end_time": "2020-10-29T02:56:23.668327Z",
     "start_time": "2020-10-29T02:56:23.554025Z"
    }
   },
   "outputs": [
    {
     "data": {
      "text/html": [
       "<div>\n",
       "<style scoped>\n",
       "    .dataframe tbody tr th:only-of-type {\n",
       "        vertical-align: middle;\n",
       "    }\n",
       "\n",
       "    .dataframe tbody tr th {\n",
       "        vertical-align: top;\n",
       "    }\n",
       "\n",
       "    .dataframe thead th {\n",
       "        text-align: right;\n",
       "    }\n",
       "</style>\n",
       "<table border=\"1\" class=\"dataframe\">\n",
       "  <thead>\n",
       "    <tr style=\"text-align: right;\">\n",
       "      <th></th>\n",
       "      <th>author_type</th>\n",
       "      <th>heading</th>\n",
       "      <th>category</th>\n",
       "      <th>document</th>\n",
       "      <th>doi</th>\n",
       "    </tr>\n",
       "  </thead>\n",
       "  <tbody>\n",
       "    <tr>\n",
       "      <td>0</td>\n",
       "      <td>regular article</td>\n",
       "      <td>new results</td>\n",
       "      <td>genetics</td>\n",
       "      <td>440735_v1.xml</td>\n",
       "      <td>10.1101/440735</td>\n",
       "    </tr>\n",
       "    <tr>\n",
       "      <td>1</td>\n",
       "      <td>regular article</td>\n",
       "      <td>new results</td>\n",
       "      <td>systems biology</td>\n",
       "      <td>775270_v1.xml</td>\n",
       "      <td>10.1101/775270</td>\n",
       "    </tr>\n",
       "    <tr>\n",
       "      <td>2</td>\n",
       "      <td>regular article</td>\n",
       "      <td>new results</td>\n",
       "      <td>genetics</td>\n",
       "      <td>242404_v1.xml</td>\n",
       "      <td>10.1101/242404</td>\n",
       "    </tr>\n",
       "    <tr>\n",
       "      <td>3</td>\n",
       "      <td>regular article</td>\n",
       "      <td>new results</td>\n",
       "      <td>neuroscience</td>\n",
       "      <td>872994_v1.xml</td>\n",
       "      <td>10.1101/2019.12.11.872994</td>\n",
       "    </tr>\n",
       "    <tr>\n",
       "      <td>4</td>\n",
       "      <td>regular article</td>\n",
       "      <td>new results</td>\n",
       "      <td>developmental biology</td>\n",
       "      <td>080853_v2.xml</td>\n",
       "      <td>10.1101/080853</td>\n",
       "    </tr>\n",
       "  </tbody>\n",
       "</table>\n",
       "</div>"
      ],
      "text/plain": [
       "       author_type      heading               category       document  \\\n",
       "0  regular article  new results               genetics  440735_v1.xml   \n",
       "1  regular article  new results        systems biology  775270_v1.xml   \n",
       "2  regular article  new results               genetics  242404_v1.xml   \n",
       "3  regular article  new results           neuroscience  872994_v1.xml   \n",
       "4  regular article  new results  developmental biology  080853_v2.xml   \n",
       "\n",
       "                         doi  \n",
       "0             10.1101/440735  \n",
       "1             10.1101/775270  \n",
       "2             10.1101/242404  \n",
       "3  10.1101/2019.12.11.872994  \n",
       "4             10.1101/080853  "
      ]
     },
     "execution_count": 2,
     "metadata": {},
     "output_type": "execute_result"
    }
   ],
   "source": [
    "preprints_df = pd.read_csv(\n",
    "    \"../exploratory_data_analysis/output/biorxiv_article_metadata.tsv\", \n",
    "    sep=\"\\t\"\n",
    ")\n",
    "preprints_df.head()"
   ]
  },
  {
   "cell_type": "code",
   "execution_count": 3,
   "metadata": {
    "ExecuteTime": {
     "end_time": "2020-10-29T02:56:23.683335Z",
     "start_time": "2020-10-29T02:56:23.669704Z"
    }
   },
   "outputs": [
    {
     "name": "stdout",
     "output_type": "stream",
     "text": [
      "71118\n"
     ]
    }
   ],
   "source": [
    "dois = (\n",
    "    preprints_df\n",
    "    .doi\n",
    "    .unique()\n",
    ")\n",
    "print(len(dois))"
   ]
  },
  {
   "cell_type": "code",
   "execution_count": 4,
   "metadata": {
    "ExecuteTime": {
     "end_time": "2020-10-29T02:56:23.699661Z",
     "start_time": "2020-10-29T02:56:23.684566Z"
    }
   },
   "outputs": [],
   "source": [
    "FIVE_MINUTES = 300\n",
    "\n",
    "@sleep_and_retry\n",
    "@limits(calls=100, period=FIVE_MINUTES)\n",
    "def call_biorxiv(doi_ids):\n",
    "    url = \"https://api.biorxiv.org/details/biorxiv/\"\n",
    "    responses = []\n",
    "    for doi in doi_ids:\n",
    "        try:\n",
    "            response = requests.get(url+doi).json()\n",
    "            responses.append(response)\n",
    "        except:\n",
    "            responses.append({\n",
    "                \"message\":{\n",
    "                    \"relation\":{\"none\":\"none\"}, \n",
    "                    \"DOI\":doi\n",
    "                }\n",
    "            })\n",
    "        \n",
    "    return responses"
   ]
  },
  {
   "cell_type": "code",
   "execution_count": 5,
   "metadata": {
    "ExecuteTime": {
     "end_time": "2020-10-29T02:56:23.711911Z",
     "start_time": "2020-10-29T02:56:23.700859Z"
    }
   },
   "outputs": [],
   "source": [
    "FIVE_MINUTES = 300\n",
    "\n",
    "@sleep_and_retry\n",
    "@limits(calls=300, period=FIVE_MINUTES)\n",
    "def call_pmc(doi_ids, tool_name, email):\n",
    "    query = (\n",
    "        \"https://www.ncbi.nlm.nih.gov/pmc/utils/idconv/v1.0/?\"\n",
    "        f\"ids={','.join(doi_ids)}\"\n",
    "        f\"&tool={tool_name}\"\n",
    "        f\"&email={email}\"\n",
    "        \"&format=json\"\n",
    "    )\n",
    "    \n",
    "    return requests.get(query)"
   ]
  },
  {
   "cell_type": "markdown",
   "metadata": {},
   "source": [
    "# Map preprint DOIs to Published DOIs"
   ]
  },
  {
   "cell_type": "code",
   "execution_count": 6,
   "metadata": {
    "ExecuteTime": {
     "end_time": "2020-10-29T01:22:50.132830Z",
     "start_time": "2020-10-29T00:20:51.874112Z"
    }
   },
   "outputs": [
    {
     "name": "stderr",
     "output_type": "stream",
     "text": [
      "100%|██████████| 712/712 [1:01:58<00:00,  5.22s/it]\n"
     ]
    }
   ],
   "source": [
    "batch_limit = 100\n",
    "doi_mapper_records = []\n",
    "\n",
    "for batch in tqdm.tqdm(range(0, len(dois), batch_limit)):\n",
    "    response = call_biorxiv(dois[batch:batch+batch_limit])\n",
    "    doi_mapper_records += [\n",
    "        {\n",
    "            \"preprint_doi\": collection['doi'],\n",
    "            \"posted_date\": collection['date'],\n",
    "            \"published_doi\": collection['published'],\n",
    "            \"version\": collection['version']\n",
    "        }\n",
    "        for result in response\n",
    "        for collection in result['collection']\n",
    "    ]\n"
   ]
  },
  {
   "cell_type": "code",
   "execution_count": 7,
   "metadata": {
    "ExecuteTime": {
     "end_time": "2020-10-29T01:22:50.410096Z",
     "start_time": "2020-10-29T01:22:50.133819Z"
    }
   },
   "outputs": [],
   "source": [
    "(\n",
    "    pd.DataFrame\n",
    "    .from_records(doi_mapper_records)\n",
    "    .to_csv(\"output/mapped_published_doi_part1.tsv\", sep=\"\\t\", index=False)\n",
    ")"
   ]
  },
  {
   "cell_type": "markdown",
   "metadata": {},
   "source": [
    "# Map Journal Titles to DOI"
   ]
  },
  {
   "cell_type": "code",
   "execution_count": 6,
   "metadata": {
    "ExecuteTime": {
     "end_time": "2020-10-29T02:44:17.891438Z",
     "start_time": "2020-10-29T02:44:17.810109Z"
    }
   },
   "outputs": [
    {
     "name": "stdout",
     "output_type": "stream",
     "text": [
      "(102494, 4)\n"
     ]
    },
    {
     "data": {
      "text/html": [
       "<div>\n",
       "<style scoped>\n",
       "    .dataframe tbody tr th:only-of-type {\n",
       "        vertical-align: middle;\n",
       "    }\n",
       "\n",
       "    .dataframe tbody tr th {\n",
       "        vertical-align: top;\n",
       "    }\n",
       "\n",
       "    .dataframe thead th {\n",
       "        text-align: right;\n",
       "    }\n",
       "</style>\n",
       "<table border=\"1\" class=\"dataframe\">\n",
       "  <thead>\n",
       "    <tr style=\"text-align: right;\">\n",
       "      <th></th>\n",
       "      <th>preprint_doi</th>\n",
       "      <th>posted_date</th>\n",
       "      <th>published_doi</th>\n",
       "      <th>version</th>\n",
       "    </tr>\n",
       "  </thead>\n",
       "  <tbody>\n",
       "    <tr>\n",
       "      <td>0</td>\n",
       "      <td>10.1101/440735</td>\n",
       "      <td>2018-10-11</td>\n",
       "      <td>NaN</td>\n",
       "      <td>1</td>\n",
       "    </tr>\n",
       "    <tr>\n",
       "      <td>1</td>\n",
       "      <td>10.1101/440735</td>\n",
       "      <td>2019-07-02</td>\n",
       "      <td>NaN</td>\n",
       "      <td>2</td>\n",
       "    </tr>\n",
       "    <tr>\n",
       "      <td>2</td>\n",
       "      <td>10.1101/440735</td>\n",
       "      <td>2019-11-04</td>\n",
       "      <td>NaN</td>\n",
       "      <td>3</td>\n",
       "    </tr>\n",
       "    <tr>\n",
       "      <td>3</td>\n",
       "      <td>10.1101/775270</td>\n",
       "      <td>2019-09-23</td>\n",
       "      <td>10.1016/j.vaccine.2020.06.032</td>\n",
       "      <td>1</td>\n",
       "    </tr>\n",
       "    <tr>\n",
       "      <td>4</td>\n",
       "      <td>10.1101/242404</td>\n",
       "      <td>2018-01-04</td>\n",
       "      <td>NaN</td>\n",
       "      <td>1</td>\n",
       "    </tr>\n",
       "  </tbody>\n",
       "</table>\n",
       "</div>"
      ],
      "text/plain": [
       "     preprint_doi posted_date                  published_doi  version\n",
       "0  10.1101/440735  2018-10-11                            NaN        1\n",
       "1  10.1101/440735  2019-07-02                            NaN        2\n",
       "2  10.1101/440735  2019-11-04                            NaN        3\n",
       "3  10.1101/775270  2019-09-23  10.1016/j.vaccine.2020.06.032        1\n",
       "4  10.1101/242404  2018-01-04                            NaN        1"
      ]
     },
     "execution_count": 6,
     "metadata": {},
     "output_type": "execute_result"
    }
   ],
   "source": [
    "published_doi_df = pd.read_csv(\n",
    "    \"output/mapped_published_doi_part1.tsv\", \n",
    "    sep=\"\\t\"\n",
    ")\n",
    "print(published_doi_df.shape)\n",
    "published_doi_df.head()"
   ]
  },
  {
   "cell_type": "code",
   "execution_count": 9,
   "metadata": {
    "ExecuteTime": {
     "end_time": "2020-10-29T02:45:32.971131Z",
     "start_time": "2020-10-29T02:45:32.757733Z"
    }
   },
   "outputs": [
    {
     "name": "stdout",
     "output_type": "stream",
     "text": [
      "(98035, 8)\n"
     ]
    },
    {
     "data": {
      "text/html": [
       "<div>\n",
       "<style scoped>\n",
       "    .dataframe tbody tr th:only-of-type {\n",
       "        vertical-align: middle;\n",
       "    }\n",
       "\n",
       "    .dataframe tbody tr th {\n",
       "        vertical-align: top;\n",
       "    }\n",
       "\n",
       "    .dataframe thead th {\n",
       "        text-align: right;\n",
       "    }\n",
       "</style>\n",
       "<table border=\"1\" class=\"dataframe\">\n",
       "  <thead>\n",
       "    <tr style=\"text-align: right;\">\n",
       "      <th></th>\n",
       "      <th>author_type</th>\n",
       "      <th>heading</th>\n",
       "      <th>category</th>\n",
       "      <th>document</th>\n",
       "      <th>preprint_doi</th>\n",
       "      <th>version</th>\n",
       "      <th>posted_date</th>\n",
       "      <th>published_doi</th>\n",
       "    </tr>\n",
       "  </thead>\n",
       "  <tbody>\n",
       "    <tr>\n",
       "      <td>0</td>\n",
       "      <td>regular article</td>\n",
       "      <td>new results</td>\n",
       "      <td>genetics</td>\n",
       "      <td>440735_v1.xml</td>\n",
       "      <td>10.1101/440735</td>\n",
       "      <td>1</td>\n",
       "      <td>2018-10-11</td>\n",
       "      <td>NaN</td>\n",
       "    </tr>\n",
       "    <tr>\n",
       "      <td>1</td>\n",
       "      <td>regular article</td>\n",
       "      <td>new results</td>\n",
       "      <td>systems biology</td>\n",
       "      <td>775270_v1.xml</td>\n",
       "      <td>10.1101/775270</td>\n",
       "      <td>1</td>\n",
       "      <td>2019-09-23</td>\n",
       "      <td>10.1016/j.vaccine.2020.06.032</td>\n",
       "    </tr>\n",
       "    <tr>\n",
       "      <td>2</td>\n",
       "      <td>regular article</td>\n",
       "      <td>new results</td>\n",
       "      <td>genetics</td>\n",
       "      <td>242404_v1.xml</td>\n",
       "      <td>10.1101/242404</td>\n",
       "      <td>1</td>\n",
       "      <td>2018-01-04</td>\n",
       "      <td>NaN</td>\n",
       "    </tr>\n",
       "    <tr>\n",
       "      <td>3</td>\n",
       "      <td>regular article</td>\n",
       "      <td>new results</td>\n",
       "      <td>neuroscience</td>\n",
       "      <td>872994_v1.xml</td>\n",
       "      <td>10.1101/2019.12.11.872994</td>\n",
       "      <td>1</td>\n",
       "      <td>2019-12-12</td>\n",
       "      <td>10.7554/eLife.54347</td>\n",
       "    </tr>\n",
       "    <tr>\n",
       "      <td>4</td>\n",
       "      <td>regular article</td>\n",
       "      <td>new results</td>\n",
       "      <td>developmental biology</td>\n",
       "      <td>080853_v2.xml</td>\n",
       "      <td>10.1101/080853</td>\n",
       "      <td>2</td>\n",
       "      <td>2017-04-24</td>\n",
       "      <td>10.1242/dev.154971</td>\n",
       "    </tr>\n",
       "  </tbody>\n",
       "</table>\n",
       "</div>"
      ],
      "text/plain": [
       "       author_type      heading               category       document  \\\n",
       "0  regular article  new results               genetics  440735_v1.xml   \n",
       "1  regular article  new results        systems biology  775270_v1.xml   \n",
       "2  regular article  new results               genetics  242404_v1.xml   \n",
       "3  regular article  new results           neuroscience  872994_v1.xml   \n",
       "4  regular article  new results  developmental biology  080853_v2.xml   \n",
       "\n",
       "                preprint_doi  version posted_date  \\\n",
       "0             10.1101/440735        1  2018-10-11   \n",
       "1             10.1101/775270        1  2019-09-23   \n",
       "2             10.1101/242404        1  2018-01-04   \n",
       "3  10.1101/2019.12.11.872994        1  2019-12-12   \n",
       "4             10.1101/080853        2  2017-04-24   \n",
       "\n",
       "                   published_doi  \n",
       "0                            NaN  \n",
       "1  10.1016/j.vaccine.2020.06.032  \n",
       "2                            NaN  \n",
       "3            10.7554/eLife.54347  \n",
       "4             10.1242/dev.154971  "
      ]
     },
     "execution_count": 9,
     "metadata": {},
     "output_type": "execute_result"
    }
   ],
   "source": [
    "mapped_preprints_df = (\n",
    "    preprints_df\n",
    "    .assign(\n",
    "        version=lambda x: x.document.apply(lambda doc: int(doc.split(\".\")[0][-1])),\n",
    "    )\n",
    "    .rename(index=str, columns={\"doi\":\"preprint_doi\"})\n",
    "    .merge(\n",
    "        published_doi_df.assign(\n",
    "            published_doi=lambda x: x.published_doi.apply(\n",
    "                lambda url: re.sub(r\"http(s)?://doi.org/\", '', url) \n",
    "                if type(url) == str else url\n",
    "            )\n",
    "        ), \n",
    "        on=[\"preprint_doi\", \"version\"]\n",
    "    )\n",
    ")\n",
    "print(mapped_preprints_df.shape)\n",
    "mapped_preprints_df.head()"
   ]
  },
  {
   "cell_type": "code",
   "execution_count": 11,
   "metadata": {
    "ExecuteTime": {
     "end_time": "2020-10-29T02:45:56.913602Z",
     "start_time": "2020-10-29T02:45:56.601342Z"
    }
   },
   "outputs": [],
   "source": [
    "mapped_preprints_df.to_csv(\n",
    "    \"output/mapped_published_doi_part2.tsv\", \n",
    "    sep=\"\\t\", index=False\n",
    ")"
   ]
  },
  {
   "cell_type": "markdown",
   "metadata": {},
   "source": [
    "# Map Published Articles to PMC"
   ]
  },
  {
   "cell_type": "code",
   "execution_count": 6,
   "metadata": {
    "ExecuteTime": {
     "end_time": "2020-10-29T02:56:30.960560Z",
     "start_time": "2020-10-29T02:56:30.795622Z"
    }
   },
   "outputs": [
    {
     "name": "stdout",
     "output_type": "stream",
     "text": [
      "(98035, 8)\n"
     ]
    },
    {
     "data": {
      "text/html": [
       "<div>\n",
       "<style scoped>\n",
       "    .dataframe tbody tr th:only-of-type {\n",
       "        vertical-align: middle;\n",
       "    }\n",
       "\n",
       "    .dataframe tbody tr th {\n",
       "        vertical-align: top;\n",
       "    }\n",
       "\n",
       "    .dataframe thead th {\n",
       "        text-align: right;\n",
       "    }\n",
       "</style>\n",
       "<table border=\"1\" class=\"dataframe\">\n",
       "  <thead>\n",
       "    <tr style=\"text-align: right;\">\n",
       "      <th></th>\n",
       "      <th>author_type</th>\n",
       "      <th>heading</th>\n",
       "      <th>category</th>\n",
       "      <th>document</th>\n",
       "      <th>preprint_doi</th>\n",
       "      <th>version</th>\n",
       "      <th>posted_date</th>\n",
       "      <th>published_doi</th>\n",
       "    </tr>\n",
       "  </thead>\n",
       "  <tbody>\n",
       "    <tr>\n",
       "      <td>0</td>\n",
       "      <td>regular article</td>\n",
       "      <td>new results</td>\n",
       "      <td>genetics</td>\n",
       "      <td>440735_v1.xml</td>\n",
       "      <td>10.1101/440735</td>\n",
       "      <td>1</td>\n",
       "      <td>2018-10-11</td>\n",
       "      <td>NaN</td>\n",
       "    </tr>\n",
       "    <tr>\n",
       "      <td>1</td>\n",
       "      <td>regular article</td>\n",
       "      <td>new results</td>\n",
       "      <td>systems biology</td>\n",
       "      <td>775270_v1.xml</td>\n",
       "      <td>10.1101/775270</td>\n",
       "      <td>1</td>\n",
       "      <td>2019-09-23</td>\n",
       "      <td>10.1016/j.vaccine.2020.06.032</td>\n",
       "    </tr>\n",
       "    <tr>\n",
       "      <td>2</td>\n",
       "      <td>regular article</td>\n",
       "      <td>new results</td>\n",
       "      <td>genetics</td>\n",
       "      <td>242404_v1.xml</td>\n",
       "      <td>10.1101/242404</td>\n",
       "      <td>1</td>\n",
       "      <td>2018-01-04</td>\n",
       "      <td>NaN</td>\n",
       "    </tr>\n",
       "    <tr>\n",
       "      <td>3</td>\n",
       "      <td>regular article</td>\n",
       "      <td>new results</td>\n",
       "      <td>neuroscience</td>\n",
       "      <td>872994_v1.xml</td>\n",
       "      <td>10.1101/2019.12.11.872994</td>\n",
       "      <td>1</td>\n",
       "      <td>2019-12-12</td>\n",
       "      <td>10.7554/eLife.54347</td>\n",
       "    </tr>\n",
       "    <tr>\n",
       "      <td>4</td>\n",
       "      <td>regular article</td>\n",
       "      <td>new results</td>\n",
       "      <td>developmental biology</td>\n",
       "      <td>080853_v2.xml</td>\n",
       "      <td>10.1101/080853</td>\n",
       "      <td>2</td>\n",
       "      <td>2017-04-24</td>\n",
       "      <td>10.1242/dev.154971</td>\n",
       "    </tr>\n",
       "  </tbody>\n",
       "</table>\n",
       "</div>"
      ],
      "text/plain": [
       "       author_type      heading               category       document  \\\n",
       "0  regular article  new results               genetics  440735_v1.xml   \n",
       "1  regular article  new results        systems biology  775270_v1.xml   \n",
       "2  regular article  new results               genetics  242404_v1.xml   \n",
       "3  regular article  new results           neuroscience  872994_v1.xml   \n",
       "4  regular article  new results  developmental biology  080853_v2.xml   \n",
       "\n",
       "                preprint_doi  version posted_date  \\\n",
       "0             10.1101/440735        1  2018-10-11   \n",
       "1             10.1101/775270        1  2019-09-23   \n",
       "2             10.1101/242404        1  2018-01-04   \n",
       "3  10.1101/2019.12.11.872994        1  2019-12-12   \n",
       "4             10.1101/080853        2  2017-04-24   \n",
       "\n",
       "                   published_doi  \n",
       "0                            NaN  \n",
       "1  10.1016/j.vaccine.2020.06.032  \n",
       "2                            NaN  \n",
       "3            10.7554/eLife.54347  \n",
       "4             10.1242/dev.154971  "
      ]
     },
     "execution_count": 6,
     "metadata": {},
     "output_type": "execute_result"
    }
   ],
   "source": [
    "preprint_df = pd.read_csv(\"output/mapped_published_doi_part2.tsv\", sep=\"\\t\")\n",
    "print(preprint_df.shape)\n",
    "preprint_df.head()"
   ]
  },
  {
   "cell_type": "code",
   "execution_count": 7,
   "metadata": {
    "ExecuteTime": {
     "end_time": "2020-10-29T02:56:34.994736Z",
     "start_time": "2020-10-29T02:56:30.961739Z"
    }
   },
   "outputs": [
    {
     "data": {
      "text/html": [
       "<div>\n",
       "<style scoped>\n",
       "    .dataframe tbody tr th:only-of-type {\n",
       "        vertical-align: middle;\n",
       "    }\n",
       "\n",
       "    .dataframe tbody tr th {\n",
       "        vertical-align: top;\n",
       "    }\n",
       "\n",
       "    .dataframe thead th {\n",
       "        text-align: right;\n",
       "    }\n",
       "</style>\n",
       "<table border=\"1\" class=\"dataframe\">\n",
       "  <thead>\n",
       "    <tr style=\"text-align: right;\">\n",
       "      <th></th>\n",
       "      <th>journal</th>\n",
       "      <th>article_type</th>\n",
       "      <th>doi</th>\n",
       "      <th>pmcid</th>\n",
       "    </tr>\n",
       "  </thead>\n",
       "  <tbody>\n",
       "    <tr>\n",
       "      <td>0</td>\n",
       "      <td>Environ_Health</td>\n",
       "      <td>research-article</td>\n",
       "      <td>10.1186/1476-069X-5-22</td>\n",
       "      <td>PMC1552054</td>\n",
       "    </tr>\n",
       "    <tr>\n",
       "      <td>1</td>\n",
       "      <td>Environ_Health</td>\n",
       "      <td>research-article</td>\n",
       "      <td>10.1186/1476-069X-4-12</td>\n",
       "      <td>PMC1226148</td>\n",
       "    </tr>\n",
       "    <tr>\n",
       "      <td>2</td>\n",
       "      <td>Environ_Health</td>\n",
       "      <td>correction</td>\n",
       "      <td>10.1186/s12940-018-0415-9</td>\n",
       "      <td>PMC6124016</td>\n",
       "    </tr>\n",
       "    <tr>\n",
       "      <td>3</td>\n",
       "      <td>Environ_Health</td>\n",
       "      <td>research-article</td>\n",
       "      <td>10.1186/s12940-017-0316-3</td>\n",
       "      <td>PMC5635510</td>\n",
       "    </tr>\n",
       "    <tr>\n",
       "      <td>4</td>\n",
       "      <td>Environ_Health</td>\n",
       "      <td>research-article</td>\n",
       "      <td>10.1186/1476-069X-10-46</td>\n",
       "      <td>PMC3125232</td>\n",
       "    </tr>\n",
       "  </tbody>\n",
       "</table>\n",
       "</div>"
      ],
      "text/plain": [
       "          journal      article_type                        doi       pmcid\n",
       "0  Environ_Health  research-article     10.1186/1476-069X-5-22  PMC1552054\n",
       "1  Environ_Health  research-article     10.1186/1476-069X-4-12  PMC1226148\n",
       "2  Environ_Health        correction  10.1186/s12940-018-0415-9  PMC6124016\n",
       "3  Environ_Health  research-article  10.1186/s12940-017-0316-3  PMC5635510\n",
       "4  Environ_Health  research-article    10.1186/1476-069X-10-46  PMC3125232"
      ]
     },
     "execution_count": 7,
     "metadata": {},
     "output_type": "execute_result"
    }
   ],
   "source": [
    "pmc_df = pd.read_csv(\n",
    "    \"../../pmc/exploratory_data_analysis/output/pubmed_central_journal_paper_map.tsv.xz\", \n",
    "    sep=\"\\t\"\n",
    ")\n",
    "pmc_df.head()"
   ]
  },
  {
   "cell_type": "code",
   "execution_count": 8,
   "metadata": {
    "ExecuteTime": {
     "end_time": "2020-10-29T02:56:38.030512Z",
     "start_time": "2020-10-29T02:56:34.996078Z"
    }
   },
   "outputs": [
    {
     "name": "stdout",
     "output_type": "stream",
     "text": [
      "(98035, 9)\n"
     ]
    },
    {
     "data": {
      "text/html": [
       "<div>\n",
       "<style scoped>\n",
       "    .dataframe tbody tr th:only-of-type {\n",
       "        vertical-align: middle;\n",
       "    }\n",
       "\n",
       "    .dataframe tbody tr th {\n",
       "        vertical-align: top;\n",
       "    }\n",
       "\n",
       "    .dataframe thead th {\n",
       "        text-align: right;\n",
       "    }\n",
       "</style>\n",
       "<table border=\"1\" class=\"dataframe\">\n",
       "  <thead>\n",
       "    <tr style=\"text-align: right;\">\n",
       "      <th></th>\n",
       "      <th>author_type</th>\n",
       "      <th>heading</th>\n",
       "      <th>category</th>\n",
       "      <th>document</th>\n",
       "      <th>preprint_doi</th>\n",
       "      <th>version</th>\n",
       "      <th>posted_date</th>\n",
       "      <th>published_doi</th>\n",
       "      <th>pmcid</th>\n",
       "    </tr>\n",
       "  </thead>\n",
       "  <tbody>\n",
       "    <tr>\n",
       "      <td>0</td>\n",
       "      <td>regular article</td>\n",
       "      <td>new results</td>\n",
       "      <td>genetics</td>\n",
       "      <td>440735_v1.xml</td>\n",
       "      <td>10.1101/440735</td>\n",
       "      <td>1</td>\n",
       "      <td>2018-10-11</td>\n",
       "      <td>NaN</td>\n",
       "      <td>NaN</td>\n",
       "    </tr>\n",
       "    <tr>\n",
       "      <td>1</td>\n",
       "      <td>regular article</td>\n",
       "      <td>new results</td>\n",
       "      <td>systems biology</td>\n",
       "      <td>775270_v1.xml</td>\n",
       "      <td>10.1101/775270</td>\n",
       "      <td>1</td>\n",
       "      <td>2019-09-23</td>\n",
       "      <td>10.1016/j.vaccine.2020.06.032</td>\n",
       "      <td>NaN</td>\n",
       "    </tr>\n",
       "    <tr>\n",
       "      <td>2</td>\n",
       "      <td>regular article</td>\n",
       "      <td>new results</td>\n",
       "      <td>genetics</td>\n",
       "      <td>242404_v1.xml</td>\n",
       "      <td>10.1101/242404</td>\n",
       "      <td>1</td>\n",
       "      <td>2018-01-04</td>\n",
       "      <td>NaN</td>\n",
       "      <td>NaN</td>\n",
       "    </tr>\n",
       "    <tr>\n",
       "      <td>3</td>\n",
       "      <td>regular article</td>\n",
       "      <td>new results</td>\n",
       "      <td>neuroscience</td>\n",
       "      <td>872994_v1.xml</td>\n",
       "      <td>10.1101/2019.12.11.872994</td>\n",
       "      <td>1</td>\n",
       "      <td>2019-12-12</td>\n",
       "      <td>10.7554/elife.54347</td>\n",
       "      <td>NaN</td>\n",
       "    </tr>\n",
       "    <tr>\n",
       "      <td>4</td>\n",
       "      <td>regular article</td>\n",
       "      <td>new results</td>\n",
       "      <td>developmental biology</td>\n",
       "      <td>080853_v2.xml</td>\n",
       "      <td>10.1101/080853</td>\n",
       "      <td>2</td>\n",
       "      <td>2017-04-24</td>\n",
       "      <td>10.1242/dev.154971</td>\n",
       "      <td>NaN</td>\n",
       "    </tr>\n",
       "  </tbody>\n",
       "</table>\n",
       "</div>"
      ],
      "text/plain": [
       "       author_type      heading               category       document  \\\n",
       "0  regular article  new results               genetics  440735_v1.xml   \n",
       "1  regular article  new results        systems biology  775270_v1.xml   \n",
       "2  regular article  new results               genetics  242404_v1.xml   \n",
       "3  regular article  new results           neuroscience  872994_v1.xml   \n",
       "4  regular article  new results  developmental biology  080853_v2.xml   \n",
       "\n",
       "                preprint_doi  version posted_date  \\\n",
       "0             10.1101/440735        1  2018-10-11   \n",
       "1             10.1101/775270        1  2019-09-23   \n",
       "2             10.1101/242404        1  2018-01-04   \n",
       "3  10.1101/2019.12.11.872994        1  2019-12-12   \n",
       "4             10.1101/080853        2  2017-04-24   \n",
       "\n",
       "                   published_doi pmcid  \n",
       "0                            NaN   NaN  \n",
       "1  10.1016/j.vaccine.2020.06.032   NaN  \n",
       "2                            NaN   NaN  \n",
       "3            10.7554/elife.54347   NaN  \n",
       "4             10.1242/dev.154971   NaN  "
      ]
     },
     "execution_count": 8,
     "metadata": {},
     "output_type": "execute_result"
    }
   ],
   "source": [
    "final_df = (\n",
    "    preprint_df\n",
    "    .assign(published_doi=preprint_df.published_doi.str.lower())\n",
    "    .merge(\n",
    "        pmc_df[[\"doi\", \"pmcid\"]]\n",
    "        .assign(doi=pmc_df.doi.str.lower())\n",
    "        .dropna()\n",
    "        .rename(index=str, columns={\"doi\":\"published_doi\"}), \n",
    "        how=\"left\", on=\"published_doi\"\n",
    "    )\n",
    ")\n",
    "print(final_df.shape)\n",
    "final_df.head()"
   ]
  },
  {
   "cell_type": "code",
   "execution_count": 9,
   "metadata": {
    "ExecuteTime": {
     "end_time": "2020-10-29T02:56:38.065121Z",
     "start_time": "2020-10-29T02:56:38.031772Z"
    }
   },
   "outputs": [
    {
     "name": "stdout",
     "output_type": "stream",
     "text": [
      "22345\n"
     ]
    }
   ],
   "source": [
    "# Fill in missing links\n",
    "missing_ids = (\n",
    "    final_df\n",
    "    .query(\"published_doi.notnull()&pmcid.isnull()\")\n",
    "    .published_doi\n",
    "    .unique()\n",
    ")\n",
    "print(len(missing_ids))"
   ]
  },
  {
   "cell_type": "code",
   "execution_count": 10,
   "metadata": {
    "ExecuteTime": {
     "end_time": "2020-10-29T02:57:46.677197Z",
     "start_time": "2020-10-29T02:56:38.066271Z"
    },
    "scrolled": false
   },
   "outputs": [
    {
     "name": "stderr",
     "output_type": "stream",
     "text": [
      "100%|██████████| 224/224 [01:08<00:00,  3.27it/s]\n"
     ]
    }
   ],
   "source": [
    "chunksize=100\n",
    "data = []\n",
    "for chunk in tqdm.tqdm(range(0, len(missing_ids), chunksize)):\n",
    "    query_ids = missing_ids[chunk:chunk+chunksize]\n",
    "    response = call_pmc(query_ids, 'model_name', 'email@server.com').json()\n",
    "    \n",
    "    for potential_match in response['records']:\n",
    "        if \"pmcid\" not in potential_match:\n",
    "            continue\n",
    "        \n",
    "        data.append({\n",
    "            \"pmcid\": potential_match[\"pmcid\"], \n",
    "            \"published_doi\": potential_match['doi']\n",
    "        })"
   ]
  },
  {
   "cell_type": "code",
   "execution_count": 11,
   "metadata": {
    "ExecuteTime": {
     "end_time": "2020-10-29T02:57:46.692283Z",
     "start_time": "2020-10-29T02:57:46.679940Z"
    }
   },
   "outputs": [
    {
     "data": {
      "text/html": [
       "<div>\n",
       "<style scoped>\n",
       "    .dataframe tbody tr th:only-of-type {\n",
       "        vertical-align: middle;\n",
       "    }\n",
       "\n",
       "    .dataframe tbody tr th {\n",
       "        vertical-align: top;\n",
       "    }\n",
       "\n",
       "    .dataframe thead th {\n",
       "        text-align: right;\n",
       "    }\n",
       "</style>\n",
       "<table border=\"1\" class=\"dataframe\">\n",
       "  <thead>\n",
       "    <tr style=\"text-align: right;\">\n",
       "      <th></th>\n",
       "      <th>pmcid</th>\n",
       "      <th>published_doi</th>\n",
       "    </tr>\n",
       "  </thead>\n",
       "  <tbody>\n",
       "    <tr>\n",
       "      <td>0</td>\n",
       "      <td>PMC7494356</td>\n",
       "      <td>10.7554/eLife.54347</td>\n",
       "    </tr>\n",
       "    <tr>\n",
       "      <td>1</td>\n",
       "      <td>PMC5665486</td>\n",
       "      <td>10.1242/dev.154971</td>\n",
       "    </tr>\n",
       "    <tr>\n",
       "      <td>2</td>\n",
       "      <td>PMC7293348</td>\n",
       "      <td>10.1038/s41467-020-16846-w</td>\n",
       "    </tr>\n",
       "    <tr>\n",
       "      <td>3</td>\n",
       "      <td>PMC4536314</td>\n",
       "      <td>10.1261/rna.051557.115</td>\n",
       "    </tr>\n",
       "    <tr>\n",
       "      <td>4</td>\n",
       "      <td>PMC6328047</td>\n",
       "      <td>10.1016/j.celrep.2018.11.046</td>\n",
       "    </tr>\n",
       "  </tbody>\n",
       "</table>\n",
       "</div>"
      ],
      "text/plain": [
       "        pmcid                 published_doi\n",
       "0  PMC7494356           10.7554/eLife.54347\n",
       "1  PMC5665486            10.1242/dev.154971\n",
       "2  PMC7293348    10.1038/s41467-020-16846-w\n",
       "3  PMC4536314        10.1261/rna.051557.115\n",
       "4  PMC6328047  10.1016/j.celrep.2018.11.046"
      ]
     },
     "execution_count": 11,
     "metadata": {},
     "output_type": "execute_result"
    }
   ],
   "source": [
    "missing_pmcids = pd.DataFrame.from_records(data)\n",
    "missing_pmcids.head()"
   ]
  },
  {
   "cell_type": "code",
   "execution_count": 28,
   "metadata": {
    "ExecuteTime": {
     "end_time": "2020-10-29T03:05:45.387076Z",
     "start_time": "2020-10-29T03:05:44.331914Z"
    }
   },
   "outputs": [],
   "source": [
    "(\n",
    "    final_df\n",
    "    .merge(\n",
    "        missing_pmcids.assign(published_doi=lambda x:x.published_doi.str.lower()),\n",
    "        on=\"published_doi\", how=\"left\"\n",
    "    )\n",
    "    .assign(\n",
    "        final_pmcid=lambda x: x.pmcid_x.fillna('') + x.pmcid_y.fillna(''),\n",
    "        pmcoa=final_df.pmcid.isin(pmc_df.pmcid.values.tolist())\n",
    "    )\n",
    "    .drop([\"pmcid_x\", \"pmcid_y\"], axis=1)\n",
    "    .rename(index=str, columns={\"final_pmcid\":\"pmcid\"})\n",
    "    .replace('', np.nan)\n",
    "    .to_csv(\n",
    "        \"output/mapped_published_doi.tsv\",\n",
    "        sep=\"\\t\", index=False\n",
    "    )\n",
    ")"
   ]
  }
 ],
 "metadata": {
  "kernelspec": {
   "display_name": "Python [conda env:annorxiver]",
   "language": "python",
   "name": "conda-env-annorxiver-py"
  },
  "language_info": {
   "codemirror_mode": {
    "name": "ipython",
    "version": 3
   },
   "file_extension": ".py",
   "mimetype": "text/x-python",
   "name": "python",
   "nbconvert_exporter": "python",
   "pygments_lexer": "ipython3",
   "version": "3.7.2"
  },
  "toc": {
   "base_numbering": 1,
   "nav_menu": {},
   "number_sections": true,
   "sideBar": true,
   "skip_h1_title": false,
   "title_cell": "Table of Contents",
   "title_sidebar": "Contents",
   "toc_cell": false,
   "toc_position": {},
   "toc_section_display": true,
   "toc_window_display": false
  },
  "varInspector": {
   "cols": {
    "lenName": 16,
    "lenType": 16,
    "lenVar": 40
   },
   "kernels_config": {
    "python": {
     "delete_cmd_postfix": "",
     "delete_cmd_prefix": "del ",
     "library": "var_list.py",
     "varRefreshCmd": "print(var_dic_list())"
    },
    "r": {
     "delete_cmd_postfix": ") ",
     "delete_cmd_prefix": "rm(",
     "library": "var_list.r",
     "varRefreshCmd": "cat(var_dic_list()) "
    }
   },
   "types_to_exclude": [
    "module",
    "function",
    "builtin_function_or_method",
    "instance",
    "_Feature"
   ],
   "window_display": false
  }
 },
 "nbformat": 4,
 "nbformat_minor": 2
}
